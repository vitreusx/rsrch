{
 "cells": [
  {
   "cell_type": "code",
   "execution_count": 18,
   "metadata": {},
   "outputs": [],
   "source": [
    "import json\n",
    "import plotly.express as px\n",
    "import plotly.graph_objects as go\n",
    "from plotly.subplots import make_subplots\n",
    "import pandas as pd\n",
    "from utils import ATARI_100k\n",
    "import numpy as np"
   ]
  },
  {
   "cell_type": "code",
   "execution_count": 56,
   "metadata": {},
   "outputs": [],
   "source": [
    "with open(\"ref_scores/atari-dreamerv2.json\", \"rb\") as f:\n",
    "    scores = json.load(f)\n",
    "\n",
    "with open(\"ref_scores/baselines.json\", \"rb\") as f:\n",
    "    baselines = json.load(f)"
   ]
  },
  {
   "cell_type": "code",
   "execution_count": 61,
   "metadata": {},
   "outputs": [
    {
     "data": {
      "text/html": [
       "<div>\n",
       "<style scoped>\n",
       "    .dataframe tbody tr th:only-of-type {\n",
       "        vertical-align: middle;\n",
       "    }\n",
       "\n",
       "    .dataframe tbody tr th {\n",
       "        vertical-align: top;\n",
       "    }\n",
       "\n",
       "    .dataframe thead th {\n",
       "        text-align: right;\n",
       "    }\n",
       "</style>\n",
       "<table border=\"1\" class=\"dataframe\">\n",
       "  <thead>\n",
       "    <tr style=\"text-align: right;\">\n",
       "      <th></th>\n",
       "      <th>task</th>\n",
       "      <th>random</th>\n",
       "      <th>human_gamer</th>\n",
       "      <th>human_record</th>\n",
       "    </tr>\n",
       "  </thead>\n",
       "  <tbody>\n",
       "    <tr>\n",
       "      <th>0</th>\n",
       "      <td>alien</td>\n",
       "      <td>228.80</td>\n",
       "      <td>7127.7</td>\n",
       "      <td>251916.0</td>\n",
       "    </tr>\n",
       "    <tr>\n",
       "      <th>1</th>\n",
       "      <td>amidar</td>\n",
       "      <td>5.80</td>\n",
       "      <td>1719.5</td>\n",
       "      <td>104159.0</td>\n",
       "    </tr>\n",
       "    <tr>\n",
       "      <th>2</th>\n",
       "      <td>assault</td>\n",
       "      <td>222.40</td>\n",
       "      <td>742.0</td>\n",
       "      <td>8647.0</td>\n",
       "    </tr>\n",
       "    <tr>\n",
       "      <th>3</th>\n",
       "      <td>asterix</td>\n",
       "      <td>210.00</td>\n",
       "      <td>8503.3</td>\n",
       "      <td>1000000.0</td>\n",
       "    </tr>\n",
       "    <tr>\n",
       "      <th>4</th>\n",
       "      <td>asteroids</td>\n",
       "      <td>719.10</td>\n",
       "      <td>47388.7</td>\n",
       "      <td>10506650.0</td>\n",
       "    </tr>\n",
       "    <tr>\n",
       "      <th>...</th>\n",
       "      <td>...</td>\n",
       "      <td>...</td>\n",
       "      <td>...</td>\n",
       "      <td>...</td>\n",
       "    </tr>\n",
       "    <tr>\n",
       "      <th>57</th>\n",
       "      <td>air_raid</td>\n",
       "      <td>579.25</td>\n",
       "      <td>NaN</td>\n",
       "      <td>23050.0</td>\n",
       "    </tr>\n",
       "    <tr>\n",
       "      <th>58</th>\n",
       "      <td>carnival</td>\n",
       "      <td>700.80</td>\n",
       "      <td>NaN</td>\n",
       "      <td>2541440.0</td>\n",
       "    </tr>\n",
       "    <tr>\n",
       "      <th>59</th>\n",
       "      <td>elevator_action</td>\n",
       "      <td>4387.00</td>\n",
       "      <td>NaN</td>\n",
       "      <td>156550.0</td>\n",
       "    </tr>\n",
       "    <tr>\n",
       "      <th>60</th>\n",
       "      <td>journey_escape</td>\n",
       "      <td>-19977.00</td>\n",
       "      <td>NaN</td>\n",
       "      <td>-4317804.0</td>\n",
       "    </tr>\n",
       "    <tr>\n",
       "      <th>61</th>\n",
       "      <td>pooyan</td>\n",
       "      <td>371.20</td>\n",
       "      <td>NaN</td>\n",
       "      <td>13025.0</td>\n",
       "    </tr>\n",
       "  </tbody>\n",
       "</table>\n",
       "<p>62 rows × 4 columns</p>\n",
       "</div>"
      ],
      "text/plain": [
       "               task    random  human_gamer  human_record\n",
       "0             alien    228.80       7127.7      251916.0\n",
       "1            amidar      5.80       1719.5      104159.0\n",
       "2           assault    222.40        742.0        8647.0\n",
       "3           asterix    210.00       8503.3     1000000.0\n",
       "4         asteroids    719.10      47388.7    10506650.0\n",
       "..              ...       ...          ...           ...\n",
       "57         air_raid    579.25          NaN       23050.0\n",
       "58         carnival    700.80          NaN     2541440.0\n",
       "59  elevator_action   4387.00          NaN      156550.0\n",
       "60   journey_escape -19977.00          NaN    -4317804.0\n",
       "61           pooyan    371.20          NaN       13025.0\n",
       "\n",
       "[62 rows x 4 columns]"
      ]
     },
     "execution_count": 61,
     "metadata": {},
     "output_type": "execute_result"
    }
   ],
   "source": [
    "records = []\n",
    "for task in baselines:\n",
    "    records.append(\n",
    "        {\n",
    "            \"task\": task.removeprefix(\"atari_\"),\n",
    "            **{\n",
    "                k: baselines[task].get(k)\n",
    "                for k in (\"random\", \"human_gamer\", \"human_record\")\n",
    "            },\n",
    "        }\n",
    "    )\n",
    "\n",
    "base_df = pd.DataFrame.from_records(records)\n",
    "base_df"
   ]
  },
  {
   "cell_type": "code",
   "execution_count": 68,
   "metadata": {},
   "outputs": [
    {
     "data": {
      "text/html": [
       "<div>\n",
       "<style scoped>\n",
       "    .dataframe tbody tr th:only-of-type {\n",
       "        vertical-align: middle;\n",
       "    }\n",
       "\n",
       "    .dataframe tbody tr th {\n",
       "        vertical-align: top;\n",
       "    }\n",
       "\n",
       "    .dataframe thead th {\n",
       "        text-align: right;\n",
       "    }\n",
       "</style>\n",
       "<table border=\"1\" class=\"dataframe\">\n",
       "  <thead>\n",
       "    <tr style=\"text-align: right;\">\n",
       "      <th></th>\n",
       "      <th>task</th>\n",
       "      <th>seed</th>\n",
       "      <th>time</th>\n",
       "      <th>score</th>\n",
       "    </tr>\n",
       "  </thead>\n",
       "  <tbody>\n",
       "    <tr>\n",
       "      <th>0</th>\n",
       "      <td>alien</td>\n",
       "      <td>10</td>\n",
       "      <td>1000000.0</td>\n",
       "      <td>431.0</td>\n",
       "    </tr>\n",
       "    <tr>\n",
       "      <th>1</th>\n",
       "      <td>alien</td>\n",
       "      <td>10</td>\n",
       "      <td>2000000.0</td>\n",
       "      <td>859.0</td>\n",
       "    </tr>\n",
       "    <tr>\n",
       "      <th>2</th>\n",
       "      <td>alien</td>\n",
       "      <td>10</td>\n",
       "      <td>3000000.0</td>\n",
       "      <td>1575.0</td>\n",
       "    </tr>\n",
       "    <tr>\n",
       "      <th>3</th>\n",
       "      <td>alien</td>\n",
       "      <td>10</td>\n",
       "      <td>4000000.0</td>\n",
       "      <td>1871.0</td>\n",
       "    </tr>\n",
       "    <tr>\n",
       "      <th>4</th>\n",
       "      <td>alien</td>\n",
       "      <td>10</td>\n",
       "      <td>5000000.0</td>\n",
       "      <td>1245.0</td>\n",
       "    </tr>\n",
       "    <tr>\n",
       "      <th>...</th>\n",
       "      <td>...</td>\n",
       "      <td>...</td>\n",
       "      <td>...</td>\n",
       "      <td>...</td>\n",
       "    </tr>\n",
       "    <tr>\n",
       "      <th>116966</th>\n",
       "      <td>zaxxon</td>\n",
       "      <td>2</td>\n",
       "      <td>196000000.0</td>\n",
       "      <td>44730.0</td>\n",
       "    </tr>\n",
       "    <tr>\n",
       "      <th>116967</th>\n",
       "      <td>zaxxon</td>\n",
       "      <td>2</td>\n",
       "      <td>197000000.0</td>\n",
       "      <td>38250.0</td>\n",
       "    </tr>\n",
       "    <tr>\n",
       "      <th>116968</th>\n",
       "      <td>zaxxon</td>\n",
       "      <td>2</td>\n",
       "      <td>198000000.0</td>\n",
       "      <td>43680.0</td>\n",
       "    </tr>\n",
       "    <tr>\n",
       "      <th>116969</th>\n",
       "      <td>zaxxon</td>\n",
       "      <td>2</td>\n",
       "      <td>199000000.0</td>\n",
       "      <td>44140.0</td>\n",
       "    </tr>\n",
       "    <tr>\n",
       "      <th>116970</th>\n",
       "      <td>zaxxon</td>\n",
       "      <td>2</td>\n",
       "      <td>200000000.0</td>\n",
       "      <td>52550.0</td>\n",
       "    </tr>\n",
       "  </tbody>\n",
       "</table>\n",
       "<p>116971 rows × 4 columns</p>\n",
       "</div>"
      ],
      "text/plain": [
       "          task  seed         time    score\n",
       "0        alien    10    1000000.0    431.0\n",
       "1        alien    10    2000000.0    859.0\n",
       "2        alien    10    3000000.0   1575.0\n",
       "3        alien    10    4000000.0   1871.0\n",
       "4        alien    10    5000000.0   1245.0\n",
       "...        ...   ...          ...      ...\n",
       "116966  zaxxon     2  196000000.0  44730.0\n",
       "116967  zaxxon     2  197000000.0  38250.0\n",
       "116968  zaxxon     2  198000000.0  43680.0\n",
       "116969  zaxxon     2  199000000.0  44140.0\n",
       "116970  zaxxon     2  200000000.0  52550.0\n",
       "\n",
       "[116971 rows x 4 columns]"
      ]
     },
     "execution_count": 68,
     "metadata": {},
     "output_type": "execute_result"
    }
   ],
   "source": [
    "records = []\n",
    "for run in scores:\n",
    "    for x, y in zip(run[\"xs\"], run[\"ys\"]):\n",
    "        records.append(\n",
    "            {\n",
    "                \"task\": run[\"task\"].removeprefix(\"atari_\"),\n",
    "                \"seed\": int(run[\"seed\"]),\n",
    "                \"time\": x,\n",
    "                \"score\": y,\n",
    "            }\n",
    "        )\n",
    "\n",
    "df = pd.DataFrame.from_records(records)\n",
    "df"
   ]
  },
  {
   "cell_type": "code",
   "execution_count": 74,
   "metadata": {},
   "outputs": [
    {
     "data": {
      "text/html": [
       "<div>\n",
       "<style scoped>\n",
       "    .dataframe tbody tr th:only-of-type {\n",
       "        vertical-align: middle;\n",
       "    }\n",
       "\n",
       "    .dataframe tbody tr th {\n",
       "        vertical-align: top;\n",
       "    }\n",
       "\n",
       "    .dataframe thead th {\n",
       "        text-align: right;\n",
       "    }\n",
       "</style>\n",
       "<table border=\"1\" class=\"dataframe\">\n",
       "  <thead>\n",
       "    <tr style=\"text-align: right;\">\n",
       "      <th></th>\n",
       "      <th>task</th>\n",
       "      <th>time</th>\n",
       "      <th>score_mean</th>\n",
       "      <th>score_std</th>\n",
       "    </tr>\n",
       "  </thead>\n",
       "  <tbody>\n",
       "    <tr>\n",
       "      <th>0</th>\n",
       "      <td>alien</td>\n",
       "      <td>1000000.0</td>\n",
       "      <td>365.181818</td>\n",
       "      <td>52.001573</td>\n",
       "    </tr>\n",
       "    <tr>\n",
       "      <th>1</th>\n",
       "      <td>alien</td>\n",
       "      <td>2000000.0</td>\n",
       "      <td>894.090909</td>\n",
       "      <td>132.407292</td>\n",
       "    </tr>\n",
       "    <tr>\n",
       "      <th>2</th>\n",
       "      <td>alien</td>\n",
       "      <td>3000000.0</td>\n",
       "      <td>1119.148760</td>\n",
       "      <td>241.020006</td>\n",
       "    </tr>\n",
       "    <tr>\n",
       "      <th>3</th>\n",
       "      <td>alien</td>\n",
       "      <td>4000000.0</td>\n",
       "      <td>1349.272727</td>\n",
       "      <td>356.397556</td>\n",
       "    </tr>\n",
       "    <tr>\n",
       "      <th>4</th>\n",
       "      <td>alien</td>\n",
       "      <td>5000000.0</td>\n",
       "      <td>1284.363636</td>\n",
       "      <td>305.911514</td>\n",
       "    </tr>\n",
       "    <tr>\n",
       "      <th>...</th>\n",
       "      <td>...</td>\n",
       "      <td>...</td>\n",
       "      <td>...</td>\n",
       "      <td>...</td>\n",
       "    </tr>\n",
       "    <tr>\n",
       "      <th>10995</th>\n",
       "      <td>zaxxon</td>\n",
       "      <td>196000000.0</td>\n",
       "      <td>48962.727273</td>\n",
       "      <td>10514.139138</td>\n",
       "    </tr>\n",
       "    <tr>\n",
       "      <th>10996</th>\n",
       "      <td>zaxxon</td>\n",
       "      <td>197000000.0</td>\n",
       "      <td>44340.000000</td>\n",
       "      <td>6915.578067</td>\n",
       "    </tr>\n",
       "    <tr>\n",
       "      <th>10997</th>\n",
       "      <td>zaxxon</td>\n",
       "      <td>198000000.0</td>\n",
       "      <td>45583.636364</td>\n",
       "      <td>8938.096299</td>\n",
       "    </tr>\n",
       "    <tr>\n",
       "      <th>10998</th>\n",
       "      <td>zaxxon</td>\n",
       "      <td>199000000.0</td>\n",
       "      <td>47744.545455</td>\n",
       "      <td>7550.926253</td>\n",
       "    </tr>\n",
       "    <tr>\n",
       "      <th>10999</th>\n",
       "      <td>zaxxon</td>\n",
       "      <td>200000000.0</td>\n",
       "      <td>44976.382576</td>\n",
       "      <td>7614.581302</td>\n",
       "    </tr>\n",
       "  </tbody>\n",
       "</table>\n",
       "<p>11000 rows × 4 columns</p>\n",
       "</div>"
      ],
      "text/plain": [
       "         task         time    score_mean     score_std\n",
       "0       alien    1000000.0    365.181818     52.001573\n",
       "1       alien    2000000.0    894.090909    132.407292\n",
       "2       alien    3000000.0   1119.148760    241.020006\n",
       "3       alien    4000000.0   1349.272727    356.397556\n",
       "4       alien    5000000.0   1284.363636    305.911514\n",
       "...       ...          ...           ...           ...\n",
       "10995  zaxxon  196000000.0  48962.727273  10514.139138\n",
       "10996  zaxxon  197000000.0  44340.000000   6915.578067\n",
       "10997  zaxxon  198000000.0  45583.636364   8938.096299\n",
       "10998  zaxxon  199000000.0  47744.545455   7550.926253\n",
       "10999  zaxxon  200000000.0  44976.382576   7614.581302\n",
       "\n",
       "[11000 rows x 4 columns]"
      ]
     },
     "execution_count": 74,
     "metadata": {},
     "output_type": "execute_result"
    }
   ],
   "source": [
    "g = df.groupby([\"task\", \"time\"])\n",
    "avg_df = pd.DataFrame.from_records(\n",
    "    {\"score_mean\": g[\"score\"].mean(), \"score_std\": g[\"score\"].std()}\n",
    ")\n",
    "avg_df.reset_index(inplace=True)\n",
    "avg_df"
   ]
  },
  {
   "cell_type": "code",
   "execution_count": 78,
   "metadata": {},
   "outputs": [
    {
     "data": {
      "text/html": [
       "<div>\n",
       "<style scoped>\n",
       "    .dataframe tbody tr th:only-of-type {\n",
       "        vertical-align: middle;\n",
       "    }\n",
       "\n",
       "    .dataframe tbody tr th {\n",
       "        vertical-align: top;\n",
       "    }\n",
       "\n",
       "    .dataframe thead th {\n",
       "        text-align: right;\n",
       "    }\n",
       "</style>\n",
       "<table border=\"1\" class=\"dataframe\">\n",
       "  <thead>\n",
       "    <tr style=\"text-align: right;\">\n",
       "      <th></th>\n",
       "      <th>task</th>\n",
       "      <th>time</th>\n",
       "      <th>score_mean</th>\n",
       "      <th>score_std</th>\n",
       "    </tr>\n",
       "  </thead>\n",
       "  <tbody>\n",
       "    <tr>\n",
       "      <th>0</th>\n",
       "      <td>alien</td>\n",
       "      <td>1000000.0</td>\n",
       "      <td>365.181818</td>\n",
       "      <td>52.001573</td>\n",
       "    </tr>\n",
       "    <tr>\n",
       "      <th>1</th>\n",
       "      <td>alien</td>\n",
       "      <td>2000000.0</td>\n",
       "      <td>894.090909</td>\n",
       "      <td>132.407292</td>\n",
       "    </tr>\n",
       "    <tr>\n",
       "      <th>2</th>\n",
       "      <td>alien</td>\n",
       "      <td>3000000.0</td>\n",
       "      <td>1119.148760</td>\n",
       "      <td>241.020006</td>\n",
       "    </tr>\n",
       "    <tr>\n",
       "      <th>3</th>\n",
       "      <td>alien</td>\n",
       "      <td>4000000.0</td>\n",
       "      <td>1349.272727</td>\n",
       "      <td>356.397556</td>\n",
       "    </tr>\n",
       "    <tr>\n",
       "      <th>4</th>\n",
       "      <td>alien</td>\n",
       "      <td>5000000.0</td>\n",
       "      <td>1284.363636</td>\n",
       "      <td>305.911514</td>\n",
       "    </tr>\n",
       "    <tr>\n",
       "      <th>...</th>\n",
       "      <td>...</td>\n",
       "      <td>...</td>\n",
       "      <td>...</td>\n",
       "      <td>...</td>\n",
       "    </tr>\n",
       "    <tr>\n",
       "      <th>10995</th>\n",
       "      <td>zaxxon</td>\n",
       "      <td>196000000.0</td>\n",
       "      <td>48962.727273</td>\n",
       "      <td>10514.139138</td>\n",
       "    </tr>\n",
       "    <tr>\n",
       "      <th>10996</th>\n",
       "      <td>zaxxon</td>\n",
       "      <td>197000000.0</td>\n",
       "      <td>44340.000000</td>\n",
       "      <td>6915.578067</td>\n",
       "    </tr>\n",
       "    <tr>\n",
       "      <th>10997</th>\n",
       "      <td>zaxxon</td>\n",
       "      <td>198000000.0</td>\n",
       "      <td>45583.636364</td>\n",
       "      <td>8938.096299</td>\n",
       "    </tr>\n",
       "    <tr>\n",
       "      <th>10998</th>\n",
       "      <td>zaxxon</td>\n",
       "      <td>199000000.0</td>\n",
       "      <td>47744.545455</td>\n",
       "      <td>7550.926253</td>\n",
       "    </tr>\n",
       "    <tr>\n",
       "      <th>10999</th>\n",
       "      <td>zaxxon</td>\n",
       "      <td>200000000.0</td>\n",
       "      <td>44976.382576</td>\n",
       "      <td>7614.581302</td>\n",
       "    </tr>\n",
       "  </tbody>\n",
       "</table>\n",
       "<p>11000 rows × 4 columns</p>\n",
       "</div>"
      ],
      "text/plain": [
       "         task         time    score_mean     score_std\n",
       "0       alien    1000000.0    365.181818     52.001573\n",
       "1       alien    2000000.0    894.090909    132.407292\n",
       "2       alien    3000000.0   1119.148760    241.020006\n",
       "3       alien    4000000.0   1349.272727    356.397556\n",
       "4       alien    5000000.0   1284.363636    305.911514\n",
       "...       ...          ...           ...           ...\n",
       "10995  zaxxon  196000000.0  48962.727273  10514.139138\n",
       "10996  zaxxon  197000000.0  44340.000000   6915.578067\n",
       "10997  zaxxon  198000000.0  45583.636364   8938.096299\n",
       "10998  zaxxon  199000000.0  47744.545455   7550.926253\n",
       "10999  zaxxon  200000000.0  44976.382576   7614.581302\n",
       "\n",
       "[11000 rows x 4 columns]"
      ]
     },
     "execution_count": 78,
     "metadata": {},
     "output_type": "execute_result"
    }
   ],
   "source": [
    "avg_df"
   ]
  },
  {
   "cell_type": "code",
   "execution_count": 76,
   "metadata": {},
   "outputs": [
    {
     "data": {
      "text/html": [
       "<div>\n",
       "<style scoped>\n",
       "    .dataframe tbody tr th:only-of-type {\n",
       "        vertical-align: middle;\n",
       "    }\n",
       "\n",
       "    .dataframe tbody tr th {\n",
       "        vertical-align: top;\n",
       "    }\n",
       "\n",
       "    .dataframe thead th {\n",
       "        text-align: right;\n",
       "    }\n",
       "</style>\n",
       "<table border=\"1\" class=\"dataframe\">\n",
       "  <thead>\n",
       "    <tr style=\"text-align: right;\">\n",
       "      <th></th>\n",
       "      <th>task</th>\n",
       "      <th>time</th>\n",
       "      <th>score_mean</th>\n",
       "      <th>score_std</th>\n",
       "    </tr>\n",
       "  </thead>\n",
       "  <tbody>\n",
       "    <tr>\n",
       "      <th>0</th>\n",
       "      <td>alien</td>\n",
       "      <td>1000000.0</td>\n",
       "      <td>365.181818</td>\n",
       "      <td>52.001573</td>\n",
       "    </tr>\n",
       "    <tr>\n",
       "      <th>1</th>\n",
       "      <td>alien</td>\n",
       "      <td>2000000.0</td>\n",
       "      <td>894.090909</td>\n",
       "      <td>132.407292</td>\n",
       "    </tr>\n",
       "    <tr>\n",
       "      <th>2</th>\n",
       "      <td>alien</td>\n",
       "      <td>3000000.0</td>\n",
       "      <td>1119.148760</td>\n",
       "      <td>241.020006</td>\n",
       "    </tr>\n",
       "    <tr>\n",
       "      <th>3</th>\n",
       "      <td>alien</td>\n",
       "      <td>4000000.0</td>\n",
       "      <td>1349.272727</td>\n",
       "      <td>356.397556</td>\n",
       "    </tr>\n",
       "    <tr>\n",
       "      <th>4</th>\n",
       "      <td>alien</td>\n",
       "      <td>5000000.0</td>\n",
       "      <td>1284.363636</td>\n",
       "      <td>305.911514</td>\n",
       "    </tr>\n",
       "    <tr>\n",
       "      <th>...</th>\n",
       "      <td>...</td>\n",
       "      <td>...</td>\n",
       "      <td>...</td>\n",
       "      <td>...</td>\n",
       "    </tr>\n",
       "    <tr>\n",
       "      <th>9801</th>\n",
       "      <td>up_n_down</td>\n",
       "      <td>2000000.0</td>\n",
       "      <td>52950.991736</td>\n",
       "      <td>24876.365672</td>\n",
       "    </tr>\n",
       "    <tr>\n",
       "      <th>9802</th>\n",
       "      <td>up_n_down</td>\n",
       "      <td>3000000.0</td>\n",
       "      <td>70119.272727</td>\n",
       "      <td>42941.162674</td>\n",
       "    </tr>\n",
       "    <tr>\n",
       "      <th>9803</th>\n",
       "      <td>up_n_down</td>\n",
       "      <td>4000000.0</td>\n",
       "      <td>74837.090909</td>\n",
       "      <td>23942.651117</td>\n",
       "    </tr>\n",
       "    <tr>\n",
       "      <th>9804</th>\n",
       "      <td>up_n_down</td>\n",
       "      <td>5000000.0</td>\n",
       "      <td>108919.636364</td>\n",
       "      <td>36948.315832</td>\n",
       "    </tr>\n",
       "    <tr>\n",
       "      <th>9805</th>\n",
       "      <td>up_n_down</td>\n",
       "      <td>6000000.0</td>\n",
       "      <td>88349.818182</td>\n",
       "      <td>39368.784004</td>\n",
       "    </tr>\n",
       "  </tbody>\n",
       "</table>\n",
       "<p>156 rows × 4 columns</p>\n",
       "</div>"
      ],
      "text/plain": [
       "           task       time     score_mean     score_std\n",
       "0         alien  1000000.0     365.181818     52.001573\n",
       "1         alien  2000000.0     894.090909    132.407292\n",
       "2         alien  3000000.0    1119.148760    241.020006\n",
       "3         alien  4000000.0    1349.272727    356.397556\n",
       "4         alien  5000000.0    1284.363636    305.911514\n",
       "...         ...        ...            ...           ...\n",
       "9801  up_n_down  2000000.0   52950.991736  24876.365672\n",
       "9802  up_n_down  3000000.0   70119.272727  42941.162674\n",
       "9803  up_n_down  4000000.0   74837.090909  23942.651117\n",
       "9804  up_n_down  5000000.0  108919.636364  36948.315832\n",
       "9805  up_n_down  6000000.0   88349.818182  39368.784004\n",
       "\n",
       "[156 rows x 4 columns]"
      ]
     },
     "execution_count": 76,
     "metadata": {},
     "output_type": "execute_result"
    }
   ],
   "source": [
    "tasks_100k = [\"_\".join(s.lower() for s in env_id.split()) for env_id in ATARI_100k]\n",
    "df_6m = avg_df[(avg_df[\"time\"] <= 6e6) & (avg_df[\"task\"].isin(tasks_100k))]\n",
    "df_6m"
   ]
  },
  {
   "cell_type": "code",
   "execution_count": 80,
   "metadata": {},
   "outputs": [
    {
     "data": {
      "application/vnd.plotly.v1+json": {
       "config": {
        "plotlyServerURL": "https://plot.ly"
       },
       "data": [
        {
         "line": {
          "color": "rgb(255, 0, 0)"
         },
         "mode": "lines",
         "showlegend": false,
         "type": "scatter",
         "x": [
          1000000,
          2000000,
          3000000,
          4000000,
          5000000,
          6000000
         ],
         "xaxis": "x",
         "y": [
          365.1818181818182,
          894.0909090909091,
          1119.1487603305786,
          1349.2727272727273,
          1284.3636363636363,
          1398.4545454545455
         ],
         "yaxis": "y"
        },
        {
         "fill": "tozerox",
         "fillcolor": "rgba(255, 0, 0, 0.2)",
         "line": {
          "color": "rgba(255, 255, 255, 0)"
         },
         "showlegend": false,
         "type": "scatter",
         "x": [
          1000000,
          2000000,
          3000000,
          4000000,
          5000000,
          6000000,
          6000000,
          5000000,
          4000000,
          3000000,
          2000000,
          1000000
         ],
         "xaxis": "x",
         "y": [
          417.1833915845878,
          1026.4982008428776,
          1360.1687666080566,
          1705.6702836361487,
          1590.2751506050172,
          1597.6917727171049,
          1199.2173181919861,
          978.4521221222554,
          992.8751709093058,
          878.1287540531007,
          761.6836173389406,
          313.18024477904856
         ],
         "yaxis": "y"
        },
        {
         "line": {
          "color": "rgb(0, 0, 255)"
         },
         "mode": "lines",
         "showlegend": false,
         "type": "scatter",
         "x": [
          1000000,
          2000000,
          3000000,
          4000000,
          5000000,
          6000000
         ],
         "xaxis": "x2",
         "y": [
          29.354545454545452,
          81.54545454545455,
          113.34462809917355,
          148.46363636363637,
          165.0818181818182,
          193.3272727272727
         ],
         "yaxis": "y2"
        },
        {
         "fill": "tozerox",
         "fillcolor": "rgba(0, 0, 255, 0.2)",
         "line": {
          "color": "rgba(255, 255, 255, 0)"
         },
         "showlegend": false,
         "type": "scatter",
         "x": [
          1000000,
          2000000,
          3000000,
          4000000,
          5000000,
          6000000,
          6000000,
          5000000,
          4000000,
          3000000,
          2000000,
          1000000
         ],
         "xaxis": "x2",
         "y": [
          35.73660838691515,
          99.74102343660844,
          132.29289976834394,
          180.34144283545223,
          199.68857527293605,
          236.0202250943576,
          150.63432036018781,
          130.47506109070034,
          116.58582989182051,
          94.39635643000315,
          63.34988565430065,
          22.972482522175753
         ],
         "yaxis": "y2"
        },
        {
         "line": {
          "color": "rgb(0, 0, 255)"
         },
         "mode": "lines",
         "showlegend": false,
         "type": "scatter",
         "x": [
          1000000,
          2000000,
          3000000,
          4000000,
          5000000,
          6000000
         ],
         "xaxis": "x3",
         "y": [
          440.26363636363635,
          813.1090909090909,
          1209.409090909091,
          1791.3272727272727,
          2487.909090909091,
          2811.926446280992
         ],
         "yaxis": "y3"
        },
        {
         "fill": "tozerox",
         "fillcolor": "rgba(0, 0, 255, 0.2)",
         "line": {
          "color": "rgba(255, 255, 255, 0)"
         },
         "showlegend": false,
         "type": "scatter",
         "x": [
          1000000,
          2000000,
          3000000,
          4000000,
          5000000,
          6000000,
          6000000,
          5000000,
          4000000,
          3000000,
          2000000,
          1000000
         ],
         "xaxis": "x3",
         "y": [
          502.9056872995256,
          966.5349195986923,
          1437.1311998688732,
          2190.3559461102996,
          2862.461844081579,
          3041.1044637553205,
          2582.7484288066635,
          2113.356337736603,
          1392.2985993442458,
          981.6869819493088,
          659.6832622194895,
          377.6215854277471
         ],
         "yaxis": "y3"
        },
        {
         "line": {
          "color": "rgb(0, 0, 255)"
         },
         "mode": "lines",
         "showlegend": false,
         "type": "scatter",
         "x": [
          1000000,
          2000000,
          3000000,
          4000000,
          5000000,
          6000000
         ],
         "xaxis": "x4",
         "y": [
          308.1818181818182,
          683.1818181818181,
          1182.7272727272727,
          1665.909090909091,
          1966.8181818181818,
          2258.6363636363635
         ],
         "yaxis": "y4"
        },
        {
         "fill": "tozerox",
         "fillcolor": "rgba(0, 0, 255, 0.2)",
         "line": {
          "color": "rgba(255, 255, 255, 0)"
         },
         "showlegend": false,
         "type": "scatter",
         "x": [
          1000000,
          2000000,
          3000000,
          4000000,
          5000000,
          6000000,
          6000000,
          5000000,
          4000000,
          3000000,
          2000000,
          1000000
         ],
         "xaxis": "x4",
         "y": [
          382.5213341633178,
          836.0424201574863,
          1406.595131478408,
          2010.9295119120961,
          2182.9347328649806,
          2510.916871296893,
          2006.355855975834,
          1750.701630771383,
          1320.8886699060859,
          958.8594139761376,
          530.32121620615,
          233.84230220031856
         ],
         "yaxis": "y4"
        },
        {
         "line": {
          "color": "rgb(255, 0, 0)"
         },
         "mode": "lines",
         "showlegend": false,
         "type": "scatter",
         "x": [
          1000000,
          2000000,
          3000000,
          4000000,
          5000000,
          6000000
         ],
         "xaxis": "x5",
         "y": [
          170.36363636363637,
          648.1818181818181,
          824.0909090909091,
          898,
          985.7272727272727,
          1015.3636363636364
         ],
         "yaxis": "y5"
        },
        {
         "fill": "tozerox",
         "fillcolor": "rgba(255, 0, 0, 0.2)",
         "line": {
          "color": "rgba(255, 255, 255, 0)"
         },
         "showlegend": false,
         "type": "scatter",
         "x": [
          1000000,
          2000000,
          3000000,
          4000000,
          5000000,
          6000000,
          6000000,
          5000000,
          4000000,
          3000000,
          2000000,
          1000000
         ],
         "xaxis": "x5",
         "y": [
          277.9064396814528,
          855.536016683714,
          1080.75896497066,
          1116.2581040877978,
          1067.9307895730756,
          1086.739084141248,
          943.9881885860249,
          903.5237558814699,
          679.7418959122022,
          567.4228532111583,
          440.82761967992224,
          62.82083304581995
         ],
         "yaxis": "y5"
        },
        {
         "line": {
          "color": "rgb(255, 0, 0)"
         },
         "mode": "lines",
         "showlegend": false,
         "type": "scatter",
         "x": [
          1000000,
          2000000,
          3000000,
          4000000,
          5000000,
          6000000
         ],
         "xaxis": "x6",
         "y": [
          4181.818181818182,
          5681.818181818182,
          6654.545454545455,
          6345.454545454545,
          7500,
          8136.363636363636
         ],
         "yaxis": "y6"
        },
        {
         "fill": "tozerox",
         "fillcolor": "rgba(255, 0, 0, 0.2)",
         "line": {
          "color": "rgba(255, 255, 255, 0)"
         },
         "showlegend": false,
         "type": "scatter",
         "x": [
          1000000,
          2000000,
          3000000,
          4000000,
          5000000,
          6000000,
          6000000,
          5000000,
          4000000,
          3000000,
          2000000,
          1000000
         ],
         "xaxis": "x6",
         "y": [
          5389.972296009068,
          7365.159015884879,
          8506.227736344164,
          7613.022008245884,
          9553.290042833696,
          9662.320862024124,
          6610.406410703148,
          5446.709957166304,
          5077.8870826632065,
          4802.8631727467455,
          3998.4773477514846,
          2973.6640676272964
         ],
         "yaxis": "y6"
        },
        {
         "line": {
          "color": "rgb(255, 0, 0)"
         },
         "mode": "lines",
         "showlegend": false,
         "type": "scatter",
         "x": [
          1000000,
          2000000,
          3000000,
          4000000,
          5000000,
          6000000
         ],
         "xaxis": "x7",
         "y": [
          37.22727272727273,
          83.87272727272727,
          86.53636363636363,
          90.7090909090909,
          91.73636363636363,
          92.91818181818182
         ],
         "yaxis": "y7"
        },
        {
         "fill": "tozerox",
         "fillcolor": "rgba(255, 0, 0, 0.2)",
         "line": {
          "color": "rgba(255, 255, 255, 0)"
         },
         "showlegend": false,
         "type": "scatter",
         "x": [
          1000000,
          2000000,
          3000000,
          4000000,
          5000000,
          6000000,
          6000000,
          5000000,
          4000000,
          3000000,
          2000000,
          1000000
         ],
         "xaxis": "x7",
         "y": [
          41.523105803427086,
          87.47303029027758,
          90.17951412111519,
          92.73169049648062,
          94.55106529986999,
          96.1249927517475,
          89.71137088461614,
          88.92166197285728,
          88.68649132170118,
          82.89321315161207,
          80.27242425517697,
          32.93143965111837
         ],
         "yaxis": "y7"
        },
        {
         "line": {
          "color": "rgb(255, 0, 0)"
         },
         "mode": "lines",
         "showlegend": false,
         "type": "scatter",
         "x": [
          1000000,
          2000000,
          3000000,
          4000000,
          5000000,
          6000000
         ],
         "xaxis": "x8",
         "y": [
          1.5272727272727273,
          2.2242424242424246,
          2.9375,
          3.9,
          3.9875,
          5.9375
         ],
         "yaxis": "y8"
        },
        {
         "fill": "tozerox",
         "fillcolor": "rgba(255, 0, 0, 0.2)",
         "line": {
          "color": "rgba(255, 255, 255, 0)"
         },
         "showlegend": false,
         "type": "scatter",
         "x": [
          1000000,
          2000000,
          3000000,
          4000000,
          5000000,
          6000000,
          6000000,
          5000000,
          4000000,
          3000000,
          2000000,
          1000000
         ],
         "xaxis": "x8",
         "y": [
          2.1692866042113947,
          3.7035884440987146,
          3.717495421231982,
          5.0575836902790225,
          5.5950158297376555,
          7.2478298385194035,
          4.6271701614805965,
          2.379984170262344,
          2.7424163097209773,
          2.157504578768018,
          0.7448964043861346,
          0.8852588503340599
         ],
         "yaxis": "y8"
        },
        {
         "line": {
          "color": "rgb(255, 0, 0)"
         },
         "mode": "lines",
         "showlegend": false,
         "type": "scatter",
         "x": [
          1000000,
          2000000,
          3000000,
          4000000,
          5000000,
          6000000
         ],
         "xaxis": "x9",
         "y": [
          671.8181818181819,
          823.6363636363636,
          894.5454545454545,
          1019.0909090909091,
          1261.8181818181818,
          1267.2727272727273
         ],
         "yaxis": "y9"
        },
        {
         "fill": "tozerox",
         "fillcolor": "rgba(255, 0, 0, 0.2)",
         "line": {
          "color": "rgba(255, 255, 255, 0)"
         },
         "showlegend": false,
         "type": "scatter",
         "x": [
          1000000,
          2000000,
          3000000,
          4000000,
          5000000,
          6000000,
          6000000,
          5000000,
          4000000,
          3000000,
          2000000,
          1000000
         ],
         "xaxis": "x9",
         "y": [
          801.341784440884,
          1024.597689630831,
          1116.237296360332,
          1293.7344797585854,
          1681.4565542728033,
          1635.3512762019172,
          899.1941783435371,
          842.1798093635603,
          744.4473384232328,
          672.8536127305769,
          622.6750376418963,
          542.2945791954797
         ],
         "yaxis": "y9"
        },
        {
         "line": {
          "color": "rgb(0, 0, 255)"
         },
         "mode": "lines",
         "showlegend": false,
         "type": "scatter",
         "x": [
          1000000,
          2000000,
          3000000,
          4000000,
          5000000,
          6000000
         ],
         "xaxis": "x10",
         "y": [
          26426.363636363636,
          65574.54545454546,
          84553.55371900827,
          100734.54545454546,
          107087.27272727272,
          109589.09090909091
         ],
         "yaxis": "y10"
        },
        {
         "fill": "tozerox",
         "fillcolor": "rgba(0, 0, 255, 0.2)",
         "line": {
          "color": "rgba(255, 255, 255, 0)"
         },
         "showlegend": false,
         "type": "scatter",
         "x": [
          1000000,
          2000000,
          3000000,
          4000000,
          5000000,
          6000000,
          6000000,
          5000000,
          4000000,
          3000000,
          2000000,
          1000000
         ],
         "xaxis": "x10",
         "y": [
          35882.91720806963,
          75063.78289876232,
          90790.27581915594,
          109935.59144251482,
          118072.82969167747,
          117205.69311026363,
          101972.4887079182,
          96101.71576286797,
          91533.49946657609,
          78316.8316188606,
          56085.3080103286,
          16969.81006465764
         ],
         "yaxis": "y10"
        },
        {
         "line": {
          "color": "rgb(255, 0, 0)"
         },
         "mode": "lines",
         "showlegend": false,
         "type": "scatter",
         "x": [
          1000000,
          2000000,
          3000000,
          4000000,
          5000000,
          6000000
         ],
         "xaxis": "x11",
         "y": [
          185.54545454545453,
          292.72727272727275,
          537.3636363636364,
          848.4090909090909,
          1163.2727272727273,
          1561.1818181818182
         ],
         "yaxis": "y11"
        },
        {
         "fill": "tozerox",
         "fillcolor": "rgba(255, 0, 0, 0.2)",
         "line": {
          "color": "rgba(255, 255, 255, 0)"
         },
         "showlegend": false,
         "type": "scatter",
         "x": [
          1000000,
          2000000,
          3000000,
          4000000,
          5000000,
          6000000,
          6000000,
          5000000,
          4000000,
          3000000,
          2000000,
          1000000
         ],
         "xaxis": "x11",
         "y": [
          262.1409682996734,
          418.4049086925398,
          930.3493289091216,
          1532.7412039281212,
          2161.7924157024636,
          3000.240768898002,
          122.1228674656345,
          164.7530388429907,
          164.07697789006056,
          144.3779438181512,
          167.04963676200572,
          108.94994079123569
         ],
         "yaxis": "y11"
        },
        {
         "line": {
          "color": "rgb(255, 0, 0)"
         },
         "mode": "lines",
         "showlegend": false,
         "type": "scatter",
         "x": [
          1000000,
          2000000,
          3000000,
          4000000,
          5000000,
          6000000
         ],
         "xaxis": "x12",
         "y": [
          10.845454545454546,
          30.763636363636362,
          31.781818181818185,
          31.927272727272726,
          31.954545454545453,
          31.963636363636365
         ],
         "yaxis": "y12"
        },
        {
         "fill": "tozerox",
         "fillcolor": "rgba(255, 0, 0, 0.2)",
         "line": {
          "color": "rgba(255, 255, 255, 0)"
         },
         "showlegend": false,
         "type": "scatter",
         "x": [
          1000000,
          2000000,
          3000000,
          4000000,
          5000000,
          6000000,
          6000000,
          5000000,
          4000000,
          3000000,
          2000000,
          1000000
         ],
         "xaxis": "x12",
         "y": [
          15.372343904907378,
          31.472540768013605,
          31.99544487405575,
          32.02817772309463,
          32.00676875133216,
          32.014088861547314,
          31.91318386572541,
          31.902322157758743,
          31.826367731450823,
          31.56819148958062,
          30.05473195925912,
          6.318565186001714
         ],
         "yaxis": "y12"
        },
        {
         "line": {
          "color": "rgb(255, 0, 0)"
         },
         "mode": "lines",
         "showlegend": false,
         "type": "scatter",
         "x": [
          1000000,
          2000000,
          3000000,
          4000000,
          5000000,
          6000000
         ],
         "xaxis": "x13",
         "y": [
          261.54545454545456,
          826.1818181818181,
          1202.3636363636363,
          1385.8181818181818,
          1520,
          1766.090909090909
         ],
         "yaxis": "y13"
        },
        {
         "fill": "tozerox",
         "fillcolor": "rgba(255, 0, 0, 0.2)",
         "line": {
          "color": "rgba(255, 255, 255, 0)"
         },
         "showlegend": false,
         "type": "scatter",
         "x": [
          1000000,
          2000000,
          3000000,
          4000000,
          5000000,
          6000000,
          6000000,
          5000000,
          4000000,
          3000000,
          2000000,
          1000000
         ],
         "xaxis": "x13",
         "y": [
          533.6977514809622,
          1687.3599435637648,
          2381.417687094753,
          2632.652318195737,
          2850.0192479810207,
          3126.442955771874,
          405.738862409944,
          189.98075201897927,
          138.9840454406267,
          23.309585632519656,
          -34.9963072001284,
          -10.606842390053089
         ],
         "yaxis": "y13"
        },
        {
         "line": {
          "color": "rgb(255, 0, 0)"
         },
         "mode": "lines",
         "showlegend": false,
         "type": "scatter",
         "x": [
          1000000,
          2000000,
          3000000,
          4000000,
          5000000,
          6000000
         ],
         "xaxis": "x14",
         "y": [
          811.8181818181819,
          2779.090909090909,
          5235.818181818182,
          8419.818181818182,
          12239.454545454546,
          17525.81818181818
         ],
         "yaxis": "y14"
        },
        {
         "fill": "tozerox",
         "fillcolor": "rgba(255, 0, 0, 0.2)",
         "line": {
          "color": "rgba(255, 255, 255, 0)"
         },
         "showlegend": false,
         "type": "scatter",
         "x": [
          1000000,
          2000000,
          3000000,
          4000000,
          5000000,
          6000000,
          6000000,
          5000000,
          4000000,
          3000000,
          2000000,
          1000000
         ],
         "xaxis": "x14",
         "y": [
          1109.9194458818615,
          3311.515073558574,
          6192.077750991931,
          11812.574519021955,
          16844.483282903126,
          25884.900401992614,
          9166.735961643744,
          7634.425808005965,
          5027.061844614409,
          4279.558612644433,
          2246.666744623244,
          513.7169177545022
         ],
         "yaxis": "y14"
        },
        {
         "line": {
          "color": "rgb(255, 0, 0)"
         },
         "mode": "lines",
         "showlegend": false,
         "type": "scatter",
         "x": [
          1000000,
          2000000,
          3000000,
          4000000,
          5000000,
          6000000
         ],
         "xaxis": "x15",
         "y": [
          2140.909090909091,
          3537.4545454545455,
          5340.227272727273,
          6099.227272727273,
          7341.136363636364,
          9117.289256198348
         ],
         "yaxis": "y15"
        },
        {
         "fill": "tozerox",
         "fillcolor": "rgba(255, 0, 0, 0.2)",
         "line": {
          "color": "rgba(255, 255, 255, 0)"
         },
         "showlegend": false,
         "type": "scatter",
         "x": [
          1000000,
          2000000,
          3000000,
          4000000,
          5000000,
          6000000,
          6000000,
          5000000,
          4000000,
          3000000,
          2000000,
          1000000
         ],
         "xaxis": "x15",
         "y": [
          2508.204327618051,
          5279.264845896954,
          8355.46952140014,
          9859.504239678221,
          11349.928027535281,
          13189.489095842393,
          5045.089416554303,
          3332.3446997374463,
          2338.9503057763254,
          2324.9850240544047,
          1795.6442450121372,
          1773.613854200131
         ],
         "yaxis": "y15"
        },
        {
         "line": {
          "color": "rgb(0, 0, 255)"
         },
         "mode": "lines",
         "showlegend": false,
         "type": "scatter",
         "x": [
          1000000,
          2000000,
          3000000,
          4000000,
          5000000,
          6000000
         ],
         "xaxis": "x16",
         "y": [
          77.72727272727273,
          302.27272727272725,
          451.3636363636364,
          489.54545454545456,
          524.5454545454545,
          636.8181818181819
         ],
         "yaxis": "y16"
        },
        {
         "fill": "tozerox",
         "fillcolor": "rgba(0, 0, 255, 0.2)",
         "line": {
          "color": "rgba(255, 255, 255, 0)"
         },
         "showlegend": false,
         "type": "scatter",
         "x": [
          1000000,
          2000000,
          3000000,
          4000000,
          5000000,
          6000000,
          6000000,
          5000000,
          4000000,
          3000000,
          2000000,
          1000000
         ],
         "xaxis": "x16",
         "y": [
          103.74300223497983,
          375.5654157335702,
          581.5383441430454,
          606.7515667037918,
          647.5181048676816,
          839.8486318407429,
          433.78773179562086,
          401.5728042232274,
          372.3393423871173,
          321.1889285842273,
          228.9800388118843,
          51.71154321956564
         ],
         "yaxis": "y16"
        },
        {
         "line": {
          "color": "rgb(255, 0, 0)"
         },
         "mode": "lines",
         "showlegend": false,
         "type": "scatter",
         "x": [
          1000000,
          2000000,
          3000000,
          4000000,
          5000000,
          6000000
         ],
         "xaxis": "x17",
         "y": [
          170.9090909090909,
          1395.4545454545455,
          2523.6363636363635,
          3220,
          3830.909090909091,
          4321.818181818182
         ],
         "yaxis": "y17"
        },
        {
         "fill": "tozerox",
         "fillcolor": "rgba(255, 0, 0, 0.2)",
         "line": {
          "color": "rgba(255, 255, 255, 0)"
         },
         "showlegend": false,
         "type": "scatter",
         "x": [
          1000000,
          2000000,
          3000000,
          4000000,
          5000000,
          6000000,
          6000000,
          5000000,
          4000000,
          3000000,
          2000000,
          1000000
         ],
         "xaxis": "x17",
         "y": [
          239.8227391153128,
          2042.9939440452974,
          4886.78372564015,
          5516.48426948673,
          5814.972872875057,
          6768.995405403831,
          1874.6409582325332,
          1846.8453089431252,
          923.5157305132698,
          160.48900163257713,
          747.9151468637936,
          101.99544270286901
         ],
         "yaxis": "y17"
        },
        {
         "line": {
          "color": "rgb(255, 0, 0)"
         },
         "mode": "lines",
         "showlegend": false,
         "type": "scatter",
         "x": [
          1000000,
          2000000,
          3000000,
          4000000,
          5000000,
          6000000
         ],
         "xaxis": "x18",
         "y": [
          3833.0545454545454,
          6875.418181818182,
          8682.398347107439,
          14698.59090909091,
          15266.463636363636,
          18564.045454545456
         ],
         "yaxis": "y18"
        },
        {
         "fill": "tozerox",
         "fillcolor": "rgba(255, 0, 0, 0.2)",
         "line": {
          "color": "rgba(255, 255, 255, 0)"
         },
         "showlegend": false,
         "type": "scatter",
         "x": [
          1000000,
          2000000,
          3000000,
          4000000,
          5000000,
          6000000,
          6000000,
          5000000,
          4000000,
          3000000,
          2000000,
          1000000
         ],
         "xaxis": "x18",
         "y": [
          4168.991239977892,
          7491.229922235953,
          10906.65451283056,
          26695.553043769385,
          29150.000086294014,
          37412.83409771102,
          -284.74318862011205,
          1382.9271864332568,
          2701.6287744124347,
          6458.142181384317,
          6259.606441400411,
          3497.117850931198
         ],
         "yaxis": "y18"
        },
        {
         "line": {
          "color": "rgb(255, 0, 0)"
         },
         "mode": "lines",
         "showlegend": false,
         "type": "scatter",
         "x": [
          1000000,
          2000000,
          3000000,
          4000000,
          5000000,
          6000000
         ],
         "xaxis": "x19",
         "y": [
          10846.611570247933,
          23030.909090909092,
          24568.18181818182,
          24813.636363636364,
          26910.909090909092,
          25167.272727272728
         ],
         "yaxis": "y19"
        },
        {
         "fill": "tozerox",
         "fillcolor": "rgba(255, 0, 0, 0.2)",
         "line": {
          "color": "rgba(255, 255, 255, 0)"
         },
         "showlegend": false,
         "type": "scatter",
         "x": [
          1000000,
          2000000,
          3000000,
          4000000,
          5000000,
          6000000,
          6000000,
          5000000,
          4000000,
          3000000,
          2000000,
          1000000
         ],
         "xaxis": "x19",
         "y": [
          14973.797153847558,
          32847.8938159104,
          34183.98424770565,
          35051.843504271164,
          37769.23258447425,
          34476.341521635666,
          15858.203932909792,
          16052.585597343932,
          14575.429223001562,
          14952.379388657992,
          13213.92436590778,
          6719.425986648308
         ],
         "yaxis": "y19"
        },
        {
         "line": {
          "color": "rgb(0, 0, 255)"
         },
         "mode": "lines",
         "showlegend": false,
         "type": "scatter",
         "x": [
          1000000,
          2000000,
          3000000,
          4000000,
          5000000,
          6000000
         ],
         "xaxis": "x20",
         "y": [
          635.7685950413223,
          1324.2727272727273,
          1597.909090909091,
          1675,
          1926,
          2088.6363636363635
         ],
         "yaxis": "y20"
        },
        {
         "fill": "tozerox",
         "fillcolor": "rgba(0, 0, 255, 0.2)",
         "line": {
          "color": "rgba(255, 255, 255, 0)"
         },
         "showlegend": false,
         "type": "scatter",
         "x": [
          1000000,
          2000000,
          3000000,
          4000000,
          5000000,
          6000000,
          6000000,
          5000000,
          4000000,
          3000000,
          2000000,
          1000000
         ],
         "xaxis": "x20",
         "y": [
          743.4511585571922,
          1529.0213980420833,
          1857.7546044533715,
          1988.7454382138487,
          2249.920360582659,
          2453.642465702417,
          1723.6302615703096,
          1602.0796394173408,
          1361.2545617861513,
          1338.0635773648105,
          1119.5240565033712,
          528.0860315254524
         ],
         "yaxis": "y20"
        },
        {
         "line": {
          "color": "rgb(0, 0, 255)"
         },
         "mode": "lines",
         "showlegend": false,
         "type": "scatter",
         "x": [
          1000000,
          2000000,
          3000000,
          4000000,
          5000000,
          6000000
         ],
         "xaxis": "x21",
         "y": [
          -18.79090909090909,
          -9.290909090909091,
          -0.6545454545454545,
          7.027272727272727,
          11.463636363636365,
          14.009090909090908
         ],
         "yaxis": "y21"
        },
        {
         "fill": "tozerox",
         "fillcolor": "rgba(0, 0, 255, 0.2)",
         "line": {
          "color": "rgba(255, 255, 255, 0)"
         },
         "showlegend": false,
         "type": "scatter",
         "x": [
          1000000,
          2000000,
          3000000,
          4000000,
          5000000,
          6000000,
          6000000,
          5000000,
          4000000,
          3000000,
          2000000,
          1000000
         ],
         "xaxis": "x21",
         "y": [
          -17.460154007917073,
          -5.190066605405766,
          5.0728210670530425,
          11.722395922480903,
          14.059892409280833,
          16.565437734329826,
          11.452744083851991,
          8.867380317991897,
          2.3321495320645527,
          -6.381911976143951,
          -13.391751576412416,
          -20.121664173901106
         ],
         "yaxis": "y21"
        },
        {
         "line": {
          "color": "rgb(255, 0, 0)"
         },
         "mode": "lines",
         "showlegend": false,
         "type": "scatter",
         "x": [
          1000000,
          2000000,
          3000000,
          4000000,
          5000000,
          6000000
         ],
         "xaxis": "x22",
         "y": [
          222.86363636363637,
          19.363636363636363,
          124.23636363636363,
          47.9,
          211.27272727272728,
          16.28181818181818
         ],
         "yaxis": "y22"
        },
        {
         "fill": "tozerox",
         "fillcolor": "rgba(255, 0, 0, 0.2)",
         "line": {
          "color": "rgba(255, 255, 255, 0)"
         },
         "showlegend": false,
         "type": "scatter",
         "x": [
          1000000,
          2000000,
          3000000,
          4000000,
          5000000,
          6000000,
          6000000,
          5000000,
          4000000,
          3000000,
          2000000,
          1000000
         ],
         "xaxis": "x22",
         "y": [
          681.7950523131817,
          61.29556388258719,
          420.74826650951064,
          186.78405956048377,
          623.7261406200024,
          154.34685226490396,
          -121.7832159012676,
          -201.18068607454782,
          -90.98405956048376,
          -172.27553923678335,
          -22.568291155314466,
          -236.06777958590897
         ],
         "yaxis": "y22"
        },
        {
         "line": {
          "color": "rgb(255, 0, 0)"
         },
         "mode": "lines",
         "showlegend": false,
         "type": "scatter",
         "x": [
          1000000,
          2000000,
          3000000,
          4000000,
          5000000,
          6000000
         ],
         "xaxis": "x23",
         "y": [
          327.6239669421488,
          703.8636363636364,
          1611.8181818181818,
          2413.8636363636365,
          2650.2272727272725,
          3191.3636363636365
         ],
         "yaxis": "y23"
        },
        {
         "fill": "tozerox",
         "fillcolor": "rgba(255, 0, 0, 0.2)",
         "line": {
          "color": "rgba(255, 255, 255, 0)"
         },
         "showlegend": false,
         "type": "scatter",
         "x": [
          1000000,
          2000000,
          3000000,
          4000000,
          5000000,
          6000000,
          6000000,
          5000000,
          4000000,
          3000000,
          2000000,
          1000000
         ],
         "xaxis": "x23",
         "y": [
          384.1678835059637,
          893.03407418481,
          2718.115548549371,
          3917.800288801316,
          4003.2509488622536,
          4277.372017797894,
          2105.3552549293795,
          1297.2035965922914,
          909.9269839259566,
          505.52081508699234,
          514.6931985424627,
          271.0800503783339
         ],
         "yaxis": "y23"
        },
        {
         "line": {
          "color": "rgb(255, 0, 0)"
         },
         "mode": "lines",
         "showlegend": false,
         "type": "scatter",
         "x": [
          1000000,
          2000000,
          3000000,
          4000000,
          5000000,
          6000000
         ],
         "xaxis": "x24",
         "y": [
          4067.2727272727275,
          15246.363636363636,
          17554.545454545456,
          18048.18181818182,
          18295.454545454544,
          18600
         ],
         "yaxis": "y24"
        },
        {
         "fill": "tozerox",
         "fillcolor": "rgba(255, 0, 0, 0.2)",
         "line": {
          "color": "rgba(255, 255, 255, 0)"
         },
         "showlegend": false,
         "type": "scatter",
         "x": [
          1000000,
          2000000,
          3000000,
          4000000,
          5000000,
          6000000,
          6000000,
          5000000,
          4000000,
          3000000,
          2000000,
          1000000
         ],
         "xaxis": "x24",
         "y": [
          5417.836246024,
          17180.965780098995,
          19239.04753905805,
          20105.36833467379,
          19773.87507856658,
          20489.55021102907,
          16710.44978897093,
          16817.03401234251,
          15990.99530168985,
          15870.043370032861,
          13311.761492628275,
          2716.7092085214554
         ],
         "yaxis": "y24"
        },
        {
         "line": {
          "color": "rgb(255, 0, 0)"
         },
         "mode": "lines",
         "showlegend": false,
         "type": "scatter",
         "x": [
          1000000,
          2000000,
          3000000,
          4000000,
          5000000,
          6000000
         ],
         "xaxis": "x25",
         "y": [
          349.45454545454544,
          1127.6363636363637,
          1497.6363636363637,
          1856.793388429752,
          2240.3636363636365,
          2254
         ],
         "yaxis": "y25"
        },
        {
         "fill": "tozerox",
         "fillcolor": "rgba(255, 0, 0, 0.2)",
         "line": {
          "color": "rgba(255, 255, 255, 0)"
         },
         "showlegend": false,
         "type": "scatter",
         "x": [
          1000000,
          2000000,
          3000000,
          4000000,
          5000000,
          6000000,
          6000000,
          5000000,
          4000000,
          3000000,
          2000000,
          1000000
         ],
         "xaxis": "x25",
         "y": [
          420.0638417778535,
          1332.1921128722495,
          1695.7995654308809,
          2375.269070798862,
          3058.191891283613,
          3012.16304315101,
          1495.8369568489902,
          1422.5353814436598,
          1338.3177060606422,
          1299.4731618418466,
          923.080614400478,
          278.8452491312374
         ],
         "yaxis": "y25"
        },
        {
         "line": {
          "color": "rgb(255, 0, 0)"
         },
         "mode": "lines",
         "showlegend": false,
         "type": "scatter",
         "x": [
          1000000,
          2000000,
          3000000,
          4000000,
          5000000,
          6000000
         ],
         "xaxis": "x26",
         "y": [
          6695.181818181818,
          52950.99173553719,
          70119.27272727272,
          74837.09090909091,
          108919.63636363637,
          88349.81818181818
         ],
         "yaxis": "y26"
        },
        {
         "fill": "tozerox",
         "fillcolor": "rgba(255, 0, 0, 0.2)",
         "line": {
          "color": "rgba(255, 255, 255, 0)"
         },
         "showlegend": false,
         "type": "scatter",
         "x": [
          1000000,
          2000000,
          3000000,
          4000000,
          5000000,
          6000000,
          6000000,
          5000000,
          4000000,
          3000000,
          2000000,
          1000000
         ],
         "xaxis": "x26",
         "y": [
          12382.153698157697,
          77827.35740753663,
          113060.43540154345,
          98779.74202568427,
          145867.9521960873,
          127718.60218594555,
          48981.034177690795,
          71971.32053118543,
          50894.43979249755,
          27178.11005300199,
          28074.626063537744,
          1008.2099382059396
         ],
         "yaxis": "y26"
        }
       ],
       "layout": {
        "annotations": [
         {
          "font": {
           "size": 16
          },
          "showarrow": false,
          "text": "Alien",
          "x": 0.10625,
          "xanchor": "center",
          "xref": "paper",
          "y": 0.9999999999999999,
          "yanchor": "bottom",
          "yref": "paper"
         },
         {
          "font": {
           "size": 16
          },
          "showarrow": false,
          "text": "Amidar",
          "x": 0.36875,
          "xanchor": "center",
          "xref": "paper",
          "y": 0.9999999999999999,
          "yanchor": "bottom",
          "yref": "paper"
         },
         {
          "font": {
           "size": 16
          },
          "showarrow": false,
          "text": "Assault",
          "x": 0.6312500000000001,
          "xanchor": "center",
          "xref": "paper",
          "y": 0.9999999999999999,
          "yanchor": "bottom",
          "yref": "paper"
         },
         {
          "font": {
           "size": 16
          },
          "showarrow": false,
          "text": "Asterix",
          "x": 0.89375,
          "xanchor": "center",
          "xref": "paper",
          "y": 0.9999999999999999,
          "yanchor": "bottom",
          "yref": "paper"
         },
         {
          "font": {
           "size": 16
          },
          "showarrow": false,
          "text": "Bank Heist",
          "x": 0.10625,
          "xanchor": "center",
          "xref": "paper",
          "y": 0.8469387755102039,
          "yanchor": "bottom",
          "yref": "paper"
         },
         {
          "font": {
           "size": 16
          },
          "showarrow": false,
          "text": "Battle Zone",
          "x": 0.36875,
          "xanchor": "center",
          "xref": "paper",
          "y": 0.8469387755102039,
          "yanchor": "bottom",
          "yref": "paper"
         },
         {
          "font": {
           "size": 16
          },
          "showarrow": false,
          "text": "Boxing",
          "x": 0.6312500000000001,
          "xanchor": "center",
          "xref": "paper",
          "y": 0.8469387755102039,
          "yanchor": "bottom",
          "yref": "paper"
         },
         {
          "font": {
           "size": 16
          },
          "showarrow": false,
          "text": "Breakout",
          "x": 0.89375,
          "xanchor": "center",
          "xref": "paper",
          "y": 0.8469387755102039,
          "yanchor": "bottom",
          "yref": "paper"
         },
         {
          "font": {
           "size": 16
          },
          "showarrow": false,
          "text": "Chopper Command",
          "x": 0.10625,
          "xanchor": "center",
          "xref": "paper",
          "y": 0.6938775510204082,
          "yanchor": "bottom",
          "yref": "paper"
         },
         {
          "font": {
           "size": 16
          },
          "showarrow": false,
          "text": "Crazy Climber",
          "x": 0.36875,
          "xanchor": "center",
          "xref": "paper",
          "y": 0.6938775510204082,
          "yanchor": "bottom",
          "yref": "paper"
         },
         {
          "font": {
           "size": 16
          },
          "showarrow": false,
          "text": "Demon Attack",
          "x": 0.6312500000000001,
          "xanchor": "center",
          "xref": "paper",
          "y": 0.6938775510204082,
          "yanchor": "bottom",
          "yref": "paper"
         },
         {
          "font": {
           "size": 16
          },
          "showarrow": false,
          "text": "Freeway",
          "x": 0.89375,
          "xanchor": "center",
          "xref": "paper",
          "y": 0.6938775510204082,
          "yanchor": "bottom",
          "yref": "paper"
         },
         {
          "font": {
           "size": 16
          },
          "showarrow": false,
          "text": "Frostbite",
          "x": 0.10625,
          "xanchor": "center",
          "xref": "paper",
          "y": 0.5408163265306122,
          "yanchor": "bottom",
          "yref": "paper"
         },
         {
          "font": {
           "size": 16
          },
          "showarrow": false,
          "text": "Gopher",
          "x": 0.36875,
          "xanchor": "center",
          "xref": "paper",
          "y": 0.5408163265306122,
          "yanchor": "bottom",
          "yref": "paper"
         },
         {
          "font": {
           "size": 16
          },
          "showarrow": false,
          "text": "Hero",
          "x": 0.6312500000000001,
          "xanchor": "center",
          "xref": "paper",
          "y": 0.5408163265306122,
          "yanchor": "bottom",
          "yref": "paper"
         },
         {
          "font": {
           "size": 16
          },
          "showarrow": false,
          "text": "James Bond",
          "x": 0.89375,
          "xanchor": "center",
          "xref": "paper",
          "y": 0.5408163265306122,
          "yanchor": "bottom",
          "yref": "paper"
         },
         {
          "font": {
           "size": 16
          },
          "showarrow": false,
          "text": "Kangaroo",
          "x": 0.10625,
          "xanchor": "center",
          "xref": "paper",
          "y": 0.3877551020408163,
          "yanchor": "bottom",
          "yref": "paper"
         },
         {
          "font": {
           "size": 16
          },
          "showarrow": false,
          "text": "Krull",
          "x": 0.36875,
          "xanchor": "center",
          "xref": "paper",
          "y": 0.3877551020408163,
          "yanchor": "bottom",
          "yref": "paper"
         },
         {
          "font": {
           "size": 16
          },
          "showarrow": false,
          "text": "Kung Fu Master",
          "x": 0.6312500000000001,
          "xanchor": "center",
          "xref": "paper",
          "y": 0.3877551020408163,
          "yanchor": "bottom",
          "yref": "paper"
         },
         {
          "font": {
           "size": 16
          },
          "showarrow": false,
          "text": "Ms Pacman",
          "x": 0.89375,
          "xanchor": "center",
          "xref": "paper",
          "y": 0.3877551020408163,
          "yanchor": "bottom",
          "yref": "paper"
         },
         {
          "font": {
           "size": 16
          },
          "showarrow": false,
          "text": "Pong",
          "x": 0.10625,
          "xanchor": "center",
          "xref": "paper",
          "y": 0.2346938775510204,
          "yanchor": "bottom",
          "yref": "paper"
         },
         {
          "font": {
           "size": 16
          },
          "showarrow": false,
          "text": "Private Eye",
          "x": 0.36875,
          "xanchor": "center",
          "xref": "paper",
          "y": 0.2346938775510204,
          "yanchor": "bottom",
          "yref": "paper"
         },
         {
          "font": {
           "size": 16
          },
          "showarrow": false,
          "text": "Qbert",
          "x": 0.6312500000000001,
          "xanchor": "center",
          "xref": "paper",
          "y": 0.2346938775510204,
          "yanchor": "bottom",
          "yref": "paper"
         },
         {
          "font": {
           "size": 16
          },
          "showarrow": false,
          "text": "Road Runner",
          "x": 0.89375,
          "xanchor": "center",
          "xref": "paper",
          "y": 0.2346938775510204,
          "yanchor": "bottom",
          "yref": "paper"
         },
         {
          "font": {
           "size": 16
          },
          "showarrow": false,
          "text": "Seaquest",
          "x": 0.10625,
          "xanchor": "center",
          "xref": "paper",
          "y": 0.08163265306122448,
          "yanchor": "bottom",
          "yref": "paper"
         },
         {
          "font": {
           "size": 16
          },
          "showarrow": false,
          "text": "Up N Down",
          "x": 0.36875,
          "xanchor": "center",
          "xref": "paper",
          "y": 0.08163265306122448,
          "yanchor": "bottom",
          "yref": "paper"
         }
        ],
        "height": 1200,
        "template": {
         "data": {
          "bar": [
           {
            "error_x": {
             "color": "#2a3f5f"
            },
            "error_y": {
             "color": "#2a3f5f"
            },
            "marker": {
             "line": {
              "color": "#E5ECF6",
              "width": 0.5
             },
             "pattern": {
              "fillmode": "overlay",
              "size": 10,
              "solidity": 0.2
             }
            },
            "type": "bar"
           }
          ],
          "barpolar": [
           {
            "marker": {
             "line": {
              "color": "#E5ECF6",
              "width": 0.5
             },
             "pattern": {
              "fillmode": "overlay",
              "size": 10,
              "solidity": 0.2
             }
            },
            "type": "barpolar"
           }
          ],
          "carpet": [
           {
            "aaxis": {
             "endlinecolor": "#2a3f5f",
             "gridcolor": "white",
             "linecolor": "white",
             "minorgridcolor": "white",
             "startlinecolor": "#2a3f5f"
            },
            "baxis": {
             "endlinecolor": "#2a3f5f",
             "gridcolor": "white",
             "linecolor": "white",
             "minorgridcolor": "white",
             "startlinecolor": "#2a3f5f"
            },
            "type": "carpet"
           }
          ],
          "choropleth": [
           {
            "colorbar": {
             "outlinewidth": 0,
             "ticks": ""
            },
            "type": "choropleth"
           }
          ],
          "contour": [
           {
            "colorbar": {
             "outlinewidth": 0,
             "ticks": ""
            },
            "colorscale": [
             [
              0,
              "#0d0887"
             ],
             [
              0.1111111111111111,
              "#46039f"
             ],
             [
              0.2222222222222222,
              "#7201a8"
             ],
             [
              0.3333333333333333,
              "#9c179e"
             ],
             [
              0.4444444444444444,
              "#bd3786"
             ],
             [
              0.5555555555555556,
              "#d8576b"
             ],
             [
              0.6666666666666666,
              "#ed7953"
             ],
             [
              0.7777777777777778,
              "#fb9f3a"
             ],
             [
              0.8888888888888888,
              "#fdca26"
             ],
             [
              1,
              "#f0f921"
             ]
            ],
            "type": "contour"
           }
          ],
          "contourcarpet": [
           {
            "colorbar": {
             "outlinewidth": 0,
             "ticks": ""
            },
            "type": "contourcarpet"
           }
          ],
          "heatmap": [
           {
            "colorbar": {
             "outlinewidth": 0,
             "ticks": ""
            },
            "colorscale": [
             [
              0,
              "#0d0887"
             ],
             [
              0.1111111111111111,
              "#46039f"
             ],
             [
              0.2222222222222222,
              "#7201a8"
             ],
             [
              0.3333333333333333,
              "#9c179e"
             ],
             [
              0.4444444444444444,
              "#bd3786"
             ],
             [
              0.5555555555555556,
              "#d8576b"
             ],
             [
              0.6666666666666666,
              "#ed7953"
             ],
             [
              0.7777777777777778,
              "#fb9f3a"
             ],
             [
              0.8888888888888888,
              "#fdca26"
             ],
             [
              1,
              "#f0f921"
             ]
            ],
            "type": "heatmap"
           }
          ],
          "heatmapgl": [
           {
            "colorbar": {
             "outlinewidth": 0,
             "ticks": ""
            },
            "colorscale": [
             [
              0,
              "#0d0887"
             ],
             [
              0.1111111111111111,
              "#46039f"
             ],
             [
              0.2222222222222222,
              "#7201a8"
             ],
             [
              0.3333333333333333,
              "#9c179e"
             ],
             [
              0.4444444444444444,
              "#bd3786"
             ],
             [
              0.5555555555555556,
              "#d8576b"
             ],
             [
              0.6666666666666666,
              "#ed7953"
             ],
             [
              0.7777777777777778,
              "#fb9f3a"
             ],
             [
              0.8888888888888888,
              "#fdca26"
             ],
             [
              1,
              "#f0f921"
             ]
            ],
            "type": "heatmapgl"
           }
          ],
          "histogram": [
           {
            "marker": {
             "pattern": {
              "fillmode": "overlay",
              "size": 10,
              "solidity": 0.2
             }
            },
            "type": "histogram"
           }
          ],
          "histogram2d": [
           {
            "colorbar": {
             "outlinewidth": 0,
             "ticks": ""
            },
            "colorscale": [
             [
              0,
              "#0d0887"
             ],
             [
              0.1111111111111111,
              "#46039f"
             ],
             [
              0.2222222222222222,
              "#7201a8"
             ],
             [
              0.3333333333333333,
              "#9c179e"
             ],
             [
              0.4444444444444444,
              "#bd3786"
             ],
             [
              0.5555555555555556,
              "#d8576b"
             ],
             [
              0.6666666666666666,
              "#ed7953"
             ],
             [
              0.7777777777777778,
              "#fb9f3a"
             ],
             [
              0.8888888888888888,
              "#fdca26"
             ],
             [
              1,
              "#f0f921"
             ]
            ],
            "type": "histogram2d"
           }
          ],
          "histogram2dcontour": [
           {
            "colorbar": {
             "outlinewidth": 0,
             "ticks": ""
            },
            "colorscale": [
             [
              0,
              "#0d0887"
             ],
             [
              0.1111111111111111,
              "#46039f"
             ],
             [
              0.2222222222222222,
              "#7201a8"
             ],
             [
              0.3333333333333333,
              "#9c179e"
             ],
             [
              0.4444444444444444,
              "#bd3786"
             ],
             [
              0.5555555555555556,
              "#d8576b"
             ],
             [
              0.6666666666666666,
              "#ed7953"
             ],
             [
              0.7777777777777778,
              "#fb9f3a"
             ],
             [
              0.8888888888888888,
              "#fdca26"
             ],
             [
              1,
              "#f0f921"
             ]
            ],
            "type": "histogram2dcontour"
           }
          ],
          "mesh3d": [
           {
            "colorbar": {
             "outlinewidth": 0,
             "ticks": ""
            },
            "type": "mesh3d"
           }
          ],
          "parcoords": [
           {
            "line": {
             "colorbar": {
              "outlinewidth": 0,
              "ticks": ""
             }
            },
            "type": "parcoords"
           }
          ],
          "pie": [
           {
            "automargin": true,
            "type": "pie"
           }
          ],
          "scatter": [
           {
            "fillpattern": {
             "fillmode": "overlay",
             "size": 10,
             "solidity": 0.2
            },
            "type": "scatter"
           }
          ],
          "scatter3d": [
           {
            "line": {
             "colorbar": {
              "outlinewidth": 0,
              "ticks": ""
             }
            },
            "marker": {
             "colorbar": {
              "outlinewidth": 0,
              "ticks": ""
             }
            },
            "type": "scatter3d"
           }
          ],
          "scattercarpet": [
           {
            "marker": {
             "colorbar": {
              "outlinewidth": 0,
              "ticks": ""
             }
            },
            "type": "scattercarpet"
           }
          ],
          "scattergeo": [
           {
            "marker": {
             "colorbar": {
              "outlinewidth": 0,
              "ticks": ""
             }
            },
            "type": "scattergeo"
           }
          ],
          "scattergl": [
           {
            "marker": {
             "colorbar": {
              "outlinewidth": 0,
              "ticks": ""
             }
            },
            "type": "scattergl"
           }
          ],
          "scattermapbox": [
           {
            "marker": {
             "colorbar": {
              "outlinewidth": 0,
              "ticks": ""
             }
            },
            "type": "scattermapbox"
           }
          ],
          "scatterpolar": [
           {
            "marker": {
             "colorbar": {
              "outlinewidth": 0,
              "ticks": ""
             }
            },
            "type": "scatterpolar"
           }
          ],
          "scatterpolargl": [
           {
            "marker": {
             "colorbar": {
              "outlinewidth": 0,
              "ticks": ""
             }
            },
            "type": "scatterpolargl"
           }
          ],
          "scatterternary": [
           {
            "marker": {
             "colorbar": {
              "outlinewidth": 0,
              "ticks": ""
             }
            },
            "type": "scatterternary"
           }
          ],
          "surface": [
           {
            "colorbar": {
             "outlinewidth": 0,
             "ticks": ""
            },
            "colorscale": [
             [
              0,
              "#0d0887"
             ],
             [
              0.1111111111111111,
              "#46039f"
             ],
             [
              0.2222222222222222,
              "#7201a8"
             ],
             [
              0.3333333333333333,
              "#9c179e"
             ],
             [
              0.4444444444444444,
              "#bd3786"
             ],
             [
              0.5555555555555556,
              "#d8576b"
             ],
             [
              0.6666666666666666,
              "#ed7953"
             ],
             [
              0.7777777777777778,
              "#fb9f3a"
             ],
             [
              0.8888888888888888,
              "#fdca26"
             ],
             [
              1,
              "#f0f921"
             ]
            ],
            "type": "surface"
           }
          ],
          "table": [
           {
            "cells": {
             "fill": {
              "color": "#EBF0F8"
             },
             "line": {
              "color": "white"
             }
            },
            "header": {
             "fill": {
              "color": "#C8D4E3"
             },
             "line": {
              "color": "white"
             }
            },
            "type": "table"
           }
          ]
         },
         "layout": {
          "annotationdefaults": {
           "arrowcolor": "#2a3f5f",
           "arrowhead": 0,
           "arrowwidth": 1
          },
          "autotypenumbers": "strict",
          "coloraxis": {
           "colorbar": {
            "outlinewidth": 0,
            "ticks": ""
           }
          },
          "colorscale": {
           "diverging": [
            [
             0,
             "#8e0152"
            ],
            [
             0.1,
             "#c51b7d"
            ],
            [
             0.2,
             "#de77ae"
            ],
            [
             0.3,
             "#f1b6da"
            ],
            [
             0.4,
             "#fde0ef"
            ],
            [
             0.5,
             "#f7f7f7"
            ],
            [
             0.6,
             "#e6f5d0"
            ],
            [
             0.7,
             "#b8e186"
            ],
            [
             0.8,
             "#7fbc41"
            ],
            [
             0.9,
             "#4d9221"
            ],
            [
             1,
             "#276419"
            ]
           ],
           "sequential": [
            [
             0,
             "#0d0887"
            ],
            [
             0.1111111111111111,
             "#46039f"
            ],
            [
             0.2222222222222222,
             "#7201a8"
            ],
            [
             0.3333333333333333,
             "#9c179e"
            ],
            [
             0.4444444444444444,
             "#bd3786"
            ],
            [
             0.5555555555555556,
             "#d8576b"
            ],
            [
             0.6666666666666666,
             "#ed7953"
            ],
            [
             0.7777777777777778,
             "#fb9f3a"
            ],
            [
             0.8888888888888888,
             "#fdca26"
            ],
            [
             1,
             "#f0f921"
            ]
           ],
           "sequentialminus": [
            [
             0,
             "#0d0887"
            ],
            [
             0.1111111111111111,
             "#46039f"
            ],
            [
             0.2222222222222222,
             "#7201a8"
            ],
            [
             0.3333333333333333,
             "#9c179e"
            ],
            [
             0.4444444444444444,
             "#bd3786"
            ],
            [
             0.5555555555555556,
             "#d8576b"
            ],
            [
             0.6666666666666666,
             "#ed7953"
            ],
            [
             0.7777777777777778,
             "#fb9f3a"
            ],
            [
             0.8888888888888888,
             "#fdca26"
            ],
            [
             1,
             "#f0f921"
            ]
           ]
          },
          "colorway": [
           "#636efa",
           "#EF553B",
           "#00cc96",
           "#ab63fa",
           "#FFA15A",
           "#19d3f3",
           "#FF6692",
           "#B6E880",
           "#FF97FF",
           "#FECB52"
          ],
          "font": {
           "color": "#2a3f5f"
          },
          "geo": {
           "bgcolor": "white",
           "lakecolor": "white",
           "landcolor": "#E5ECF6",
           "showlakes": true,
           "showland": true,
           "subunitcolor": "white"
          },
          "hoverlabel": {
           "align": "left"
          },
          "hovermode": "closest",
          "mapbox": {
           "style": "light"
          },
          "paper_bgcolor": "white",
          "plot_bgcolor": "#E5ECF6",
          "polar": {
           "angularaxis": {
            "gridcolor": "white",
            "linecolor": "white",
            "ticks": ""
           },
           "bgcolor": "#E5ECF6",
           "radialaxis": {
            "gridcolor": "white",
            "linecolor": "white",
            "ticks": ""
           }
          },
          "scene": {
           "xaxis": {
            "backgroundcolor": "#E5ECF6",
            "gridcolor": "white",
            "gridwidth": 2,
            "linecolor": "white",
            "showbackground": true,
            "ticks": "",
            "zerolinecolor": "white"
           },
           "yaxis": {
            "backgroundcolor": "#E5ECF6",
            "gridcolor": "white",
            "gridwidth": 2,
            "linecolor": "white",
            "showbackground": true,
            "ticks": "",
            "zerolinecolor": "white"
           },
           "zaxis": {
            "backgroundcolor": "#E5ECF6",
            "gridcolor": "white",
            "gridwidth": 2,
            "linecolor": "white",
            "showbackground": true,
            "ticks": "",
            "zerolinecolor": "white"
           }
          },
          "shapedefaults": {
           "line": {
            "color": "#2a3f5f"
           }
          },
          "ternary": {
           "aaxis": {
            "gridcolor": "white",
            "linecolor": "white",
            "ticks": ""
           },
           "baxis": {
            "gridcolor": "white",
            "linecolor": "white",
            "ticks": ""
           },
           "bgcolor": "#E5ECF6",
           "caxis": {
            "gridcolor": "white",
            "linecolor": "white",
            "ticks": ""
           }
          },
          "title": {
           "x": 0.05
          },
          "xaxis": {
           "automargin": true,
           "gridcolor": "white",
           "linecolor": "white",
           "ticks": "",
           "title": {
            "standoff": 15
           },
           "zerolinecolor": "white",
           "zerolinewidth": 2
          },
          "yaxis": {
           "automargin": true,
           "gridcolor": "white",
           "linecolor": "white",
           "ticks": "",
           "title": {
            "standoff": 15
           },
           "zerolinecolor": "white",
           "zerolinewidth": 2
          }
         }
        },
        "width": 800,
        "xaxis": {
         "anchor": "y",
         "domain": [
          0,
          0.2125
         ]
        },
        "xaxis10": {
         "anchor": "y10",
         "domain": [
          0.2625,
          0.475
         ]
        },
        "xaxis11": {
         "anchor": "y11",
         "domain": [
          0.525,
          0.7375
         ]
        },
        "xaxis12": {
         "anchor": "y12",
         "domain": [
          0.7875,
          1
         ]
        },
        "xaxis13": {
         "anchor": "y13",
         "domain": [
          0,
          0.2125
         ]
        },
        "xaxis14": {
         "anchor": "y14",
         "domain": [
          0.2625,
          0.475
         ]
        },
        "xaxis15": {
         "anchor": "y15",
         "domain": [
          0.525,
          0.7375
         ]
        },
        "xaxis16": {
         "anchor": "y16",
         "domain": [
          0.7875,
          1
         ]
        },
        "xaxis17": {
         "anchor": "y17",
         "domain": [
          0,
          0.2125
         ]
        },
        "xaxis18": {
         "anchor": "y18",
         "domain": [
          0.2625,
          0.475
         ]
        },
        "xaxis19": {
         "anchor": "y19",
         "domain": [
          0.525,
          0.7375
         ]
        },
        "xaxis2": {
         "anchor": "y2",
         "domain": [
          0.2625,
          0.475
         ]
        },
        "xaxis20": {
         "anchor": "y20",
         "domain": [
          0.7875,
          1
         ]
        },
        "xaxis21": {
         "anchor": "y21",
         "domain": [
          0,
          0.2125
         ]
        },
        "xaxis22": {
         "anchor": "y22",
         "domain": [
          0.2625,
          0.475
         ]
        },
        "xaxis23": {
         "anchor": "y23",
         "domain": [
          0.525,
          0.7375
         ]
        },
        "xaxis24": {
         "anchor": "y24",
         "domain": [
          0.7875,
          1
         ]
        },
        "xaxis25": {
         "anchor": "y25",
         "domain": [
          0,
          0.2125
         ]
        },
        "xaxis26": {
         "anchor": "y26",
         "domain": [
          0.2625,
          0.475
         ]
        },
        "xaxis27": {
         "anchor": "y27",
         "domain": [
          0.525,
          0.7375
         ]
        },
        "xaxis28": {
         "anchor": "y28",
         "domain": [
          0.7875,
          1
         ]
        },
        "xaxis3": {
         "anchor": "y3",
         "domain": [
          0.525,
          0.7375
         ]
        },
        "xaxis4": {
         "anchor": "y4",
         "domain": [
          0.7875,
          1
         ]
        },
        "xaxis5": {
         "anchor": "y5",
         "domain": [
          0,
          0.2125
         ]
        },
        "xaxis6": {
         "anchor": "y6",
         "domain": [
          0.2625,
          0.475
         ]
        },
        "xaxis7": {
         "anchor": "y7",
         "domain": [
          0.525,
          0.7375
         ]
        },
        "xaxis8": {
         "anchor": "y8",
         "domain": [
          0.7875,
          1
         ]
        },
        "xaxis9": {
         "anchor": "y9",
         "domain": [
          0,
          0.2125
         ]
        },
        "yaxis": {
         "anchor": "x",
         "domain": [
          0.9183673469387754,
          0.9999999999999999
         ]
        },
        "yaxis10": {
         "anchor": "x10",
         "domain": [
          0.6122448979591837,
          0.6938775510204082
         ]
        },
        "yaxis11": {
         "anchor": "x11",
         "domain": [
          0.6122448979591837,
          0.6938775510204082
         ]
        },
        "yaxis12": {
         "anchor": "x12",
         "domain": [
          0.6122448979591837,
          0.6938775510204082
         ]
        },
        "yaxis13": {
         "anchor": "x13",
         "domain": [
          0.4591836734693877,
          0.5408163265306122
         ]
        },
        "yaxis14": {
         "anchor": "x14",
         "domain": [
          0.4591836734693877,
          0.5408163265306122
         ]
        },
        "yaxis15": {
         "anchor": "x15",
         "domain": [
          0.4591836734693877,
          0.5408163265306122
         ]
        },
        "yaxis16": {
         "anchor": "x16",
         "domain": [
          0.4591836734693877,
          0.5408163265306122
         ]
        },
        "yaxis17": {
         "anchor": "x17",
         "domain": [
          0.30612244897959184,
          0.3877551020408163
         ]
        },
        "yaxis18": {
         "anchor": "x18",
         "domain": [
          0.30612244897959184,
          0.3877551020408163
         ]
        },
        "yaxis19": {
         "anchor": "x19",
         "domain": [
          0.30612244897959184,
          0.3877551020408163
         ]
        },
        "yaxis2": {
         "anchor": "x2",
         "domain": [
          0.9183673469387754,
          0.9999999999999999
         ]
        },
        "yaxis20": {
         "anchor": "x20",
         "domain": [
          0.30612244897959184,
          0.3877551020408163
         ]
        },
        "yaxis21": {
         "anchor": "x21",
         "domain": [
          0.15306122448979592,
          0.2346938775510204
         ]
        },
        "yaxis22": {
         "anchor": "x22",
         "domain": [
          0.15306122448979592,
          0.2346938775510204
         ]
        },
        "yaxis23": {
         "anchor": "x23",
         "domain": [
          0.15306122448979592,
          0.2346938775510204
         ]
        },
        "yaxis24": {
         "anchor": "x24",
         "domain": [
          0.15306122448979592,
          0.2346938775510204
         ]
        },
        "yaxis25": {
         "anchor": "x25",
         "domain": [
          0,
          0.08163265306122448
         ]
        },
        "yaxis26": {
         "anchor": "x26",
         "domain": [
          0,
          0.08163265306122448
         ]
        },
        "yaxis27": {
         "anchor": "x27",
         "domain": [
          0,
          0.08163265306122448
         ]
        },
        "yaxis28": {
         "anchor": "x28",
         "domain": [
          0,
          0.08163265306122448
         ]
        },
        "yaxis3": {
         "anchor": "x3",
         "domain": [
          0.9183673469387754,
          0.9999999999999999
         ]
        },
        "yaxis4": {
         "anchor": "x4",
         "domain": [
          0.9183673469387754,
          0.9999999999999999
         ]
        },
        "yaxis5": {
         "anchor": "x5",
         "domain": [
          0.7653061224489794,
          0.8469387755102039
         ]
        },
        "yaxis6": {
         "anchor": "x6",
         "domain": [
          0.7653061224489794,
          0.8469387755102039
         ]
        },
        "yaxis7": {
         "anchor": "x7",
         "domain": [
          0.7653061224489794,
          0.8469387755102039
         ]
        },
        "yaxis8": {
         "anchor": "x8",
         "domain": [
          0.7653061224489794,
          0.8469387755102039
         ]
        },
        "yaxis9": {
         "anchor": "x9",
         "domain": [
          0.6122448979591837,
          0.6938775510204082
         ]
        }
       }
      }
     },
     "metadata": {},
     "output_type": "display_data"
    }
   ],
   "source": [
    "cols = 4\n",
    "tasks = df_6m[\"task\"].unique()\n",
    "rows = (len(tasks) + cols - 1) // cols\n",
    "\n",
    "pretty_names = [\" \".join(s.capitalize() for s in task.split(\"_\")) for task in tasks]\n",
    "\n",
    "fig = make_subplots(rows=rows, cols=cols, subplot_titles=pretty_names)\n",
    "pos = np.stack(np.mgrid[:rows, :cols], -1).reshape(-1, 2) + 1\n",
    "\n",
    "colors = px.colors.qualitative.Plotly\n",
    "\n",
    "\n",
    "def make_color_iter():\n",
    "    while True:\n",
    "        for hex in px.colors.qualitative.Plotly:\n",
    "            hex = hex.removeprefix(\"#\")\n",
    "            r, g, b = hex[0:2], hex[2:4], hex[4:6]\n",
    "            r, g, b = (int(v, 16) for v in (r, g, b))\n",
    "            yield f\"rgb{(r, g, b)}\"\n",
    "\n",
    "\n",
    "def to_rgba(desc: str, alpha: float = 0.2):\n",
    "    r, g, b = eval(desc.removeprefix(\"rgb\"))\n",
    "    return f\"rgba{(r, g, b, alpha)}\"\n",
    "\n",
    "\n",
    "selected = {\n",
    "    \"amidar\",\n",
    "    \"assault\",\n",
    "    \"asterix\",\n",
    "    \"crazy_climber\",\n",
    "    \"pong\",\n",
    "    \"ms_pacman\",\n",
    "    \"james_bond\",\n",
    "}\n",
    "\n",
    "\n",
    "for (row, col), task in zip(pos, tasks):\n",
    "    task_df = df_6m[df_6m[\"task\"] == task]\n",
    "\n",
    "    x, y = task_df[\"time\"], task_df[\"score_mean\"]\n",
    "    y_lower = task_df[\"score_mean\"] - task_df[\"score_std\"]\n",
    "    y_upper = task_df[\"score_mean\"] + task_df[\"score_std\"]\n",
    "\n",
    "    color = \"rgb(0, 0, 255)\" if task in selected else \"rgb(255, 0, 0)\"\n",
    "    traces = [\n",
    "        go.Scatter(\n",
    "            x=x,\n",
    "            y=y,\n",
    "            mode=\"lines\",\n",
    "            line=dict(color=color),\n",
    "            showlegend=False,\n",
    "        ),\n",
    "        go.Scatter(\n",
    "            x=[*x, *x[::-1]],\n",
    "            y=[*y_upper, *y_lower[::-1]],\n",
    "            fill=\"tozerox\",\n",
    "            fillcolor=to_rgba(color),\n",
    "            line=dict(color=\"rgba(255, 255, 255, 0)\"),\n",
    "            showlegend=False,\n",
    "        ),\n",
    "    ]\n",
    "    for trace in traces:\n",
    "        fig.add_trace(trace, row=row, col=col)\n",
    "\n",
    "fig.update_layout(width=800, height=1200)"
   ]
  }
 ],
 "metadata": {
  "kernelspec": {
   "display_name": "rsrch-8qRRKNqI-py3.10",
   "language": "python",
   "name": "python3"
  },
  "language_info": {
   "codemirror_mode": {
    "name": "ipython",
    "version": 3
   },
   "file_extension": ".py",
   "mimetype": "text/x-python",
   "name": "python",
   "nbconvert_exporter": "python",
   "pygments_lexer": "ipython3",
   "version": "3.10.14"
  }
 },
 "nbformat": 4,
 "nbformat_minor": 2
}
