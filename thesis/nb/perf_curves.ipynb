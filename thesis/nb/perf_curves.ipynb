{
 "cells": [
  {
   "cell_type": "code",
   "execution_count": 1,
   "metadata": {},
   "outputs": [],
   "source": [
    "import json\n",
    "import pandas as pd\n",
    "import plotly.express as px\n",
    "import plotly.graph_objects as go\n",
    "from plotly.subplots import make_subplots\n",
    "import numpy as np\n",
    "from PIL import Image\n",
    "import plotly.io as pio\n",
    "\n",
    "pio.kaleido.scope.mathjax = None"
   ]
  },
  {
   "cell_type": "code",
   "execution_count": 2,
   "metadata": {},
   "outputs": [
    {
     "data": {
      "text/html": [
       "<div>\n",
       "<style scoped>\n",
       "    .dataframe tbody tr th:only-of-type {\n",
       "        vertical-align: middle;\n",
       "    }\n",
       "\n",
       "    .dataframe tbody tr th {\n",
       "        vertical-align: top;\n",
       "    }\n",
       "\n",
       "    .dataframe thead th {\n",
       "        text-align: right;\n",
       "    }\n",
       "</style>\n",
       "<table border=\"1\" class=\"dataframe\">\n",
       "  <thead>\n",
       "    <tr style=\"text-align: right;\">\n",
       "      <th></th>\n",
       "      <th>task</th>\n",
       "      <th>time</th>\n",
       "      <th>random</th>\n",
       "      <th>score_mean</th>\n",
       "      <th>score_min</th>\n",
       "      <th>score_max</th>\n",
       "      <th>score_std</th>\n",
       "      <th>human_mean</th>\n",
       "      <th>human_min</th>\n",
       "      <th>human_max</th>\n",
       "      <th>human_std</th>\n",
       "      <th>wr_mean</th>\n",
       "      <th>wr_min</th>\n",
       "      <th>wr_max</th>\n",
       "      <th>wr_std</th>\n",
       "    </tr>\n",
       "  </thead>\n",
       "  <tbody>\n",
       "    <tr>\n",
       "      <th>0</th>\n",
       "      <td>atari_alien</td>\n",
       "      <td>1000000.0</td>\n",
       "      <td>228.8</td>\n",
       "      <td>365.181818</td>\n",
       "      <td>268.000000</td>\n",
       "      <td>431.0</td>\n",
       "      <td>52.001573</td>\n",
       "      <td>0.019769</td>\n",
       "      <td>0.005682</td>\n",
       "      <td>0.029309</td>\n",
       "      <td>0.007538</td>\n",
       "      <td>0.000542</td>\n",
       "      <td>0.000156</td>\n",
       "      <td>0.000803</td>\n",
       "      <td>0.000207</td>\n",
       "    </tr>\n",
       "    <tr>\n",
       "      <th>1</th>\n",
       "      <td>atari_alien</td>\n",
       "      <td>2000000.0</td>\n",
       "      <td>228.8</td>\n",
       "      <td>894.090909</td>\n",
       "      <td>691.000000</td>\n",
       "      <td>1082.0</td>\n",
       "      <td>132.407292</td>\n",
       "      <td>0.096434</td>\n",
       "      <td>0.066996</td>\n",
       "      <td>0.123672</td>\n",
       "      <td>0.019193</td>\n",
       "      <td>0.002643</td>\n",
       "      <td>0.001836</td>\n",
       "      <td>0.003390</td>\n",
       "      <td>0.000526</td>\n",
       "    </tr>\n",
       "    <tr>\n",
       "      <th>2</th>\n",
       "      <td>atari_alien</td>\n",
       "      <td>3000000.0</td>\n",
       "      <td>228.8</td>\n",
       "      <td>1119.148760</td>\n",
       "      <td>823.636364</td>\n",
       "      <td>1575.0</td>\n",
       "      <td>241.020006</td>\n",
       "      <td>0.129057</td>\n",
       "      <td>0.086222</td>\n",
       "      <td>0.195133</td>\n",
       "      <td>0.034936</td>\n",
       "      <td>0.003538</td>\n",
       "      <td>0.002363</td>\n",
       "      <td>0.005349</td>\n",
       "      <td>0.000958</td>\n",
       "    </tr>\n",
       "    <tr>\n",
       "      <th>3</th>\n",
       "      <td>atari_alien</td>\n",
       "      <td>4000000.0</td>\n",
       "      <td>228.8</td>\n",
       "      <td>1349.272727</td>\n",
       "      <td>988.000000</td>\n",
       "      <td>2011.0</td>\n",
       "      <td>356.397556</td>\n",
       "      <td>0.162413</td>\n",
       "      <td>0.110047</td>\n",
       "      <td>0.258331</td>\n",
       "      <td>0.051660</td>\n",
       "      <td>0.004452</td>\n",
       "      <td>0.003016</td>\n",
       "      <td>0.007081</td>\n",
       "      <td>0.001416</td>\n",
       "    </tr>\n",
       "    <tr>\n",
       "      <th>4</th>\n",
       "      <td>atari_alien</td>\n",
       "      <td>5000000.0</td>\n",
       "      <td>228.8</td>\n",
       "      <td>1284.363636</td>\n",
       "      <td>965.000000</td>\n",
       "      <td>2028.0</td>\n",
       "      <td>305.911514</td>\n",
       "      <td>0.153005</td>\n",
       "      <td>0.106713</td>\n",
       "      <td>0.260795</td>\n",
       "      <td>0.044342</td>\n",
       "      <td>0.004194</td>\n",
       "      <td>0.002925</td>\n",
       "      <td>0.007149</td>\n",
       "      <td>0.001215</td>\n",
       "    </tr>\n",
       "    <tr>\n",
       "      <th>...</th>\n",
       "      <td>...</td>\n",
       "      <td>...</td>\n",
       "      <td>...</td>\n",
       "      <td>...</td>\n",
       "      <td>...</td>\n",
       "      <td>...</td>\n",
       "      <td>...</td>\n",
       "      <td>...</td>\n",
       "      <td>...</td>\n",
       "      <td>...</td>\n",
       "      <td>...</td>\n",
       "      <td>...</td>\n",
       "      <td>...</td>\n",
       "      <td>...</td>\n",
       "      <td>...</td>\n",
       "    </tr>\n",
       "    <tr>\n",
       "      <th>10995</th>\n",
       "      <td>atari_zaxxon</td>\n",
       "      <td>196000000.0</td>\n",
       "      <td>32.5</td>\n",
       "      <td>48962.727273</td>\n",
       "      <td>28580.000000</td>\n",
       "      <td>65840.0</td>\n",
       "      <td>10514.139138</td>\n",
       "      <td>5.352948</td>\n",
       "      <td>3.123086</td>\n",
       "      <td>7.199315</td>\n",
       "      <td>1.150243</td>\n",
       "      <td>0.584818</td>\n",
       "      <td>0.341202</td>\n",
       "      <td>0.786536</td>\n",
       "      <td>0.125666</td>\n",
       "    </tr>\n",
       "    <tr>\n",
       "      <th>10996</th>\n",
       "      <td>atari_zaxxon</td>\n",
       "      <td>197000000.0</td>\n",
       "      <td>32.5</td>\n",
       "      <td>44340.000000</td>\n",
       "      <td>38160.000000</td>\n",
       "      <td>57460.0</td>\n",
       "      <td>6915.578067</td>\n",
       "      <td>4.847223</td>\n",
       "      <td>4.171134</td>\n",
       "      <td>6.282546</td>\n",
       "      <td>0.756562</td>\n",
       "      <td>0.529566</td>\n",
       "      <td>0.455703</td>\n",
       "      <td>0.686378</td>\n",
       "      <td>0.082655</td>\n",
       "    </tr>\n",
       "    <tr>\n",
       "      <th>10997</th>\n",
       "      <td>atari_zaxxon</td>\n",
       "      <td>198000000.0</td>\n",
       "      <td>32.5</td>\n",
       "      <td>45583.636364</td>\n",
       "      <td>30210.000000</td>\n",
       "      <td>59590.0</td>\n",
       "      <td>8938.096299</td>\n",
       "      <td>4.983277</td>\n",
       "      <td>3.301407</td>\n",
       "      <td>6.515568</td>\n",
       "      <td>0.977824</td>\n",
       "      <td>0.544430</td>\n",
       "      <td>0.360684</td>\n",
       "      <td>0.711836</td>\n",
       "      <td>0.106829</td>\n",
       "    </tr>\n",
       "    <tr>\n",
       "      <th>10998</th>\n",
       "      <td>atari_zaxxon</td>\n",
       "      <td>199000000.0</td>\n",
       "      <td>32.5</td>\n",
       "      <td>47744.545455</td>\n",
       "      <td>33590.000000</td>\n",
       "      <td>57100.0</td>\n",
       "      <td>7550.926253</td>\n",
       "      <td>5.219679</td>\n",
       "      <td>3.671178</td>\n",
       "      <td>6.243163</td>\n",
       "      <td>0.826068</td>\n",
       "      <td>0.570258</td>\n",
       "      <td>0.401082</td>\n",
       "      <td>0.682075</td>\n",
       "      <td>0.090249</td>\n",
       "    </tr>\n",
       "    <tr>\n",
       "      <th>10999</th>\n",
       "      <td>atari_zaxxon</td>\n",
       "      <td>200000000.0</td>\n",
       "      <td>32.5</td>\n",
       "      <td>44976.382576</td>\n",
       "      <td>36072.727273</td>\n",
       "      <td>55510.0</td>\n",
       "      <td>7614.581302</td>\n",
       "      <td>4.916843</td>\n",
       "      <td>3.942787</td>\n",
       "      <td>6.069217</td>\n",
       "      <td>0.833032</td>\n",
       "      <td>0.537173</td>\n",
       "      <td>0.430755</td>\n",
       "      <td>0.663071</td>\n",
       "      <td>0.091010</td>\n",
       "    </tr>\n",
       "  </tbody>\n",
       "</table>\n",
       "<p>11000 rows × 15 columns</p>\n",
       "</div>"
      ],
      "text/plain": [
       "               task         time  random    score_mean     score_min  \\\n",
       "0       atari_alien    1000000.0   228.8    365.181818    268.000000   \n",
       "1       atari_alien    2000000.0   228.8    894.090909    691.000000   \n",
       "2       atari_alien    3000000.0   228.8   1119.148760    823.636364   \n",
       "3       atari_alien    4000000.0   228.8   1349.272727    988.000000   \n",
       "4       atari_alien    5000000.0   228.8   1284.363636    965.000000   \n",
       "...             ...          ...     ...           ...           ...   \n",
       "10995  atari_zaxxon  196000000.0    32.5  48962.727273  28580.000000   \n",
       "10996  atari_zaxxon  197000000.0    32.5  44340.000000  38160.000000   \n",
       "10997  atari_zaxxon  198000000.0    32.5  45583.636364  30210.000000   \n",
       "10998  atari_zaxxon  199000000.0    32.5  47744.545455  33590.000000   \n",
       "10999  atari_zaxxon  200000000.0    32.5  44976.382576  36072.727273   \n",
       "\n",
       "       score_max     score_std  human_mean  human_min  human_max  human_std  \\\n",
       "0          431.0     52.001573    0.019769   0.005682   0.029309   0.007538   \n",
       "1         1082.0    132.407292    0.096434   0.066996   0.123672   0.019193   \n",
       "2         1575.0    241.020006    0.129057   0.086222   0.195133   0.034936   \n",
       "3         2011.0    356.397556    0.162413   0.110047   0.258331   0.051660   \n",
       "4         2028.0    305.911514    0.153005   0.106713   0.260795   0.044342   \n",
       "...          ...           ...         ...        ...        ...        ...   \n",
       "10995    65840.0  10514.139138    5.352948   3.123086   7.199315   1.150243   \n",
       "10996    57460.0   6915.578067    4.847223   4.171134   6.282546   0.756562   \n",
       "10997    59590.0   8938.096299    4.983277   3.301407   6.515568   0.977824   \n",
       "10998    57100.0   7550.926253    5.219679   3.671178   6.243163   0.826068   \n",
       "10999    55510.0   7614.581302    4.916843   3.942787   6.069217   0.833032   \n",
       "\n",
       "        wr_mean    wr_min    wr_max    wr_std  \n",
       "0      0.000542  0.000156  0.000803  0.000207  \n",
       "1      0.002643  0.001836  0.003390  0.000526  \n",
       "2      0.003538  0.002363  0.005349  0.000958  \n",
       "3      0.004452  0.003016  0.007081  0.001416  \n",
       "4      0.004194  0.002925  0.007149  0.001215  \n",
       "...         ...       ...       ...       ...  \n",
       "10995  0.584818  0.341202  0.786536  0.125666  \n",
       "10996  0.529566  0.455703  0.686378  0.082655  \n",
       "10997  0.544430  0.360684  0.711836  0.106829  \n",
       "10998  0.570258  0.401082  0.682075  0.090249  \n",
       "10999  0.537173  0.430755  0.663071  0.091010  \n",
       "\n",
       "[11000 rows x 15 columns]"
      ]
     },
     "execution_count": 2,
     "metadata": {},
     "output_type": "execute_result"
    }
   ],
   "source": [
    "with open(\"scores/atari-dreamerv2.json\", \"r\") as f:\n",
    "    data = json.load(f)\n",
    "\n",
    "records = []\n",
    "for run in data:\n",
    "    for time, score in zip(run[\"xs\"], run[\"ys\"]):\n",
    "        record = {\n",
    "            \"task\": run[\"task\"],\n",
    "            \"seed\": int(run[\"seed\"]),\n",
    "            \"time\": time,\n",
    "            \"score\": score,\n",
    "        }\n",
    "        records.append(record)\n",
    "\n",
    "raw = pd.DataFrame.from_records(records)\n",
    "\n",
    "with open(\"scores/baselines.json\", \"r\") as f:\n",
    "    data = json.load(f)\n",
    "\n",
    "records = []\n",
    "for name, values in data.items():\n",
    "    records.append({\"game\": name, **values})\n",
    "\n",
    "baselines = pd.DataFrame.from_records(records)\n",
    "\n",
    "raw = pd.merge(\n",
    "    raw,\n",
    "    baselines[[\"game\", \"random\", \"human_gamer\", \"human_record\"]],\n",
    "    left_on=\"task\",\n",
    "    right_on=\"game\",\n",
    ")\n",
    "raw = raw.drop(columns=[\"game\"])\n",
    "\n",
    "z = raw[f\"score\"] - raw[\"random\"]\n",
    "raw[f\"human\"] = z / (raw[\"human_gamer\"] - raw[\"random\"])\n",
    "raw[f\"wr\"] = z / (raw[\"human_record\"] - raw[\"random\"])\n",
    "raw[f\"clip_wr\"] = raw[f\"wr\"].clip(upper=1.0)\n",
    "\n",
    "g = raw.groupby([\"task\", \"time\"])\n",
    "\n",
    "columns = {}\n",
    "columns[\"random\"] = g[\"random\"].mean()\n",
    "for col in (\"score\", \"human\", \"wr\"):\n",
    "    for func in (\"mean\", \"min\", \"max\", \"std\"):\n",
    "        columns[f\"{col}_{func}\"] = getattr(g[col], func)()\n",
    "\n",
    "scores = pd.concat(columns, axis=1).reset_index()\n",
    "scores"
   ]
  },
  {
   "cell_type": "code",
   "execution_count": 3,
   "metadata": {},
   "outputs": [],
   "source": [
    "ATARI_100k = [\n",
    "    \"Alien\",\n",
    "    \"Amidar\",\n",
    "    \"Assault\",\n",
    "    \"Asterix\",\n",
    "    \"Bank Heist\",\n",
    "    \"Battle Zone\",\n",
    "    \"Boxing\",\n",
    "    \"Breakout\",\n",
    "    \"Chopper Command\",\n",
    "    \"Crazy Climber\",\n",
    "    \"Demon Attack\",\n",
    "    \"Freeway\",\n",
    "    \"Frostbite\",\n",
    "    \"Gopher\",\n",
    "    \"Hero\",\n",
    "    \"James bond\",\n",
    "    \"Kangaroo\",\n",
    "    \"Krull\",\n",
    "    \"Kung Fu Master\",\n",
    "    \"Ms Pacman\",\n",
    "    \"Pong\",\n",
    "    \"Private Eye\",\n",
    "    \"Qbert\",\n",
    "    \"Road Runner\",\n",
    "    \"Seaquest\",\n",
    "    \"Up N Down\",\n",
    "]\n",
    "\n",
    "ATARI_100k = [\n",
    "    \"atari_\" + \"_\".join(word.lower() for word in task.split()) for task in ATARI_100k\n",
    "]"
   ]
  },
  {
   "cell_type": "code",
   "execution_count": 4,
   "metadata": {},
   "outputs": [
    {
     "data": {
      "application/vnd.plotly.v1+json": {
       "config": {
        "plotlyServerURL": "https://plot.ly"
       },
       "data": [
        {
         "hovertemplate": "seed=10<br>time=%{x}<br>score=%{y}<extra></extra>",
         "legendgroup": "10",
         "line": {
          "color": "#636efa",
          "dash": "solid"
         },
         "marker": {
          "symbol": "circle"
         },
         "mode": "lines",
         "name": "10",
         "orientation": "v",
         "showlegend": true,
         "type": "scatter",
         "x": [
          1000000,
          2000000,
          3000000,
          4000000,
          5000000,
          6000000,
          7000000,
          8000000,
          9000000,
          10000000
         ],
         "xaxis": "x",
         "y": [
          445.2,
          1172.7,
          1598.1,
          1879.8,
          3102.9,
          2992.4,
          3240.6,
          3761.5,
          4583.8,
          4686.2
         ],
         "yaxis": "y"
        },
        {
         "hovertemplate": "seed=3<br>time=%{x}<br>score=%{y}<extra></extra>",
         "legendgroup": "3",
         "line": {
          "color": "#EF553B",
          "dash": "solid"
         },
         "marker": {
          "symbol": "circle"
         },
         "mode": "lines",
         "name": "3",
         "orientation": "v",
         "showlegend": true,
         "type": "scatter",
         "x": [
          1000000,
          2000000,
          3000000,
          4000000,
          5000000,
          6000000,
          7000000,
          8000000,
          9000000,
          10000000
         ],
         "xaxis": "x",
         "y": [
          478.8,
          838.3,
          1244.5,
          1957.7,
          2122.5,
          2905.5,
          2777.6,
          3370.9,
          3955.8,
          3583.5
         ],
         "yaxis": "y"
        },
        {
         "hovertemplate": "seed=4<br>time=%{x}<br>score=%{y}<extra></extra>",
         "legendgroup": "4",
         "line": {
          "color": "#00cc96",
          "dash": "solid"
         },
         "marker": {
          "symbol": "circle"
         },
         "mode": "lines",
         "name": "4",
         "orientation": "v",
         "showlegend": true,
         "type": "scatter",
         "x": [
          1000000,
          2000000,
          3000000,
          4000000,
          5000000,
          6000000,
          7000000,
          8000000,
          9000000,
          10000000
         ],
         "xaxis": "x",
         "y": [
          379,
          729.5,
          1130.7,
          1616.2,
          2379.1,
          2305.090909090909,
          2954.8,
          3085.5,
          4331.3,
          4491.9
         ],
         "yaxis": "y"
        },
        {
         "hovertemplate": "seed=5<br>time=%{x}<br>score=%{y}<extra></extra>",
         "legendgroup": "5",
         "line": {
          "color": "#ab63fa",
          "dash": "solid"
         },
         "marker": {
          "symbol": "circle"
         },
         "mode": "lines",
         "name": "5",
         "orientation": "v",
         "showlegend": true,
         "type": "scatter",
         "x": [
          1000000,
          2000000,
          3000000,
          4000000,
          5000000,
          6000000,
          7000000,
          8000000,
          9000000,
          10000000
         ],
         "xaxis": "x",
         "y": [
          315,
          721.1,
          1262.2,
          1839.5,
          2837.7,
          2658,
          3134,
          3722.9,
          4213.8,
          4973.7
         ],
         "yaxis": "y"
        },
        {
         "hovertemplate": "seed=6<br>time=%{x}<br>score=%{y}<extra></extra>",
         "legendgroup": "6",
         "line": {
          "color": "#FFA15A",
          "dash": "solid"
         },
         "marker": {
          "symbol": "circle"
         },
         "mode": "lines",
         "name": "6",
         "orientation": "v",
         "showlegend": true,
         "type": "scatter",
         "x": [
          1000000,
          2000000,
          3000000,
          4000000,
          5000000,
          6000000,
          7000000,
          8000000,
          9000000,
          10000000
         ],
         "xaxis": "x",
         "y": [
          459.8,
          745,
          1227.8,
          1369.1,
          2570.2,
          2654.8,
          3263.5,
          3424.2,
          4187.8,
          5322.7
         ],
         "yaxis": "y"
        },
        {
         "hovertemplate": "seed=7<br>time=%{x}<br>score=%{y}<extra></extra>",
         "legendgroup": "7",
         "line": {
          "color": "#19d3f3",
          "dash": "solid"
         },
         "marker": {
          "symbol": "circle"
         },
         "mode": "lines",
         "name": "7",
         "orientation": "v",
         "showlegend": true,
         "type": "scatter",
         "x": [
          1000000,
          2000000,
          3000000,
          4000000,
          5000000,
          6000000,
          7000000,
          8000000,
          9000000,
          10000000
         ],
         "xaxis": "x",
         "y": [
          501.9,
          682.3,
          1130.9,
          2063,
          2115.8,
          2760.8,
          2824.5,
          3378.5,
          3986.4,
          4500.5
         ],
         "yaxis": "y"
        },
        {
         "hovertemplate": "seed=8<br>time=%{x}<br>score=%{y}<extra></extra>",
         "legendgroup": "8",
         "line": {
          "color": "#FF6692",
          "dash": "solid"
         },
         "marker": {
          "symbol": "circle"
         },
         "mode": "lines",
         "name": "8",
         "orientation": "v",
         "showlegend": true,
         "type": "scatter",
         "x": [
          1000000,
          2000000,
          3000000,
          4000000,
          5000000,
          6000000,
          7000000,
          8000000,
          9000000,
          10000000
         ],
         "xaxis": "x",
         "y": [
          418.8,
          763.6,
          987.4,
          2615.8,
          2906.7,
          2928,
          3533.4,
          3341.4,
          5062.8,
          5453.4
         ],
         "yaxis": "y"
        },
        {
         "hovertemplate": "seed=9<br>time=%{x}<br>score=%{y}<extra></extra>",
         "legendgroup": "9",
         "line": {
          "color": "#B6E880",
          "dash": "solid"
         },
         "marker": {
          "symbol": "circle"
         },
         "mode": "lines",
         "name": "9",
         "orientation": "v",
         "showlegend": true,
         "type": "scatter",
         "x": [
          1000000,
          2000000,
          3000000,
          4000000,
          5000000,
          6000000,
          7000000,
          8000000,
          9000000,
          10000000
         ],
         "xaxis": "x",
         "y": [
          469.1,
          744.6,
          1177.5,
          1849.6,
          2738,
          2852.2,
          3272,
          3216.8,
          4858.5,
          5397.3
         ],
         "yaxis": "y"
        },
        {
         "hovertemplate": "seed=0<br>time=%{x}<br>score=%{y}<extra></extra>",
         "legendgroup": "0",
         "line": {
          "color": "#FF97FF",
          "dash": "solid"
         },
         "marker": {
          "symbol": "circle"
         },
         "mode": "lines",
         "name": "0",
         "orientation": "v",
         "showlegend": true,
         "type": "scatter",
         "x": [
          1000000,
          2000000,
          3000000,
          4000000,
          5000000,
          6000000,
          7000000,
          8000000,
          9000000,
          10000000
         ],
         "xaxis": "x",
         "y": [
          531.2,
          726.3,
          838.1,
          1030.8,
          1924.8,
          3116.3,
          2968.4,
          3354.5,
          3129,
          3849.3
         ],
         "yaxis": "y"
        },
        {
         "hovertemplate": "seed=1<br>time=%{x}<br>score=%{y}<extra></extra>",
         "legendgroup": "1",
         "line": {
          "color": "#FECB52",
          "dash": "solid"
         },
         "marker": {
          "symbol": "circle"
         },
         "mode": "lines",
         "name": "1",
         "orientation": "v",
         "showlegend": true,
         "type": "scatter",
         "x": [
          1000000,
          2000000,
          3000000,
          4000000,
          5000000,
          6000000,
          7000000,
          8000000,
          9000000,
          10000000
         ],
         "xaxis": "x",
         "y": [
          466.1,
          1042,
          1599.4,
          1792.3,
          2404.4,
          3051.2,
          3059.4,
          3434.7,
          4472.6,
          5754.7
         ],
         "yaxis": "y"
        },
        {
         "hovertemplate": "seed=2<br>time=%{x}<br>score=%{y}<extra></extra>",
         "legendgroup": "2",
         "line": {
          "color": "#636efa",
          "dash": "solid"
         },
         "marker": {
          "symbol": "circle"
         },
         "mode": "lines",
         "name": "2",
         "orientation": "v",
         "showlegend": true,
         "type": "scatter",
         "x": [
          1000000,
          2000000,
          3000000,
          4000000,
          5000000,
          6000000,
          7000000,
          8000000,
          9000000,
          10000000
         ],
         "xaxis": "x",
         "y": [
          378,
          778.8,
          1106.9,
          1690.8,
          2264.9,
          2706.9,
          3022.8,
          3334.4,
          4760,
          4885.4
         ],
         "yaxis": "y"
        }
       ],
       "layout": {
        "legend": {
         "title": {
          "text": "seed"
         },
         "tracegroupgap": 0
        },
        "margin": {
         "t": 60
        },
        "template": {
         "data": {
          "bar": [
           {
            "error_x": {
             "color": "#2a3f5f"
            },
            "error_y": {
             "color": "#2a3f5f"
            },
            "marker": {
             "line": {
              "color": "#E5ECF6",
              "width": 0.5
             },
             "pattern": {
              "fillmode": "overlay",
              "size": 10,
              "solidity": 0.2
             }
            },
            "type": "bar"
           }
          ],
          "barpolar": [
           {
            "marker": {
             "line": {
              "color": "#E5ECF6",
              "width": 0.5
             },
             "pattern": {
              "fillmode": "overlay",
              "size": 10,
              "solidity": 0.2
             }
            },
            "type": "barpolar"
           }
          ],
          "carpet": [
           {
            "aaxis": {
             "endlinecolor": "#2a3f5f",
             "gridcolor": "white",
             "linecolor": "white",
             "minorgridcolor": "white",
             "startlinecolor": "#2a3f5f"
            },
            "baxis": {
             "endlinecolor": "#2a3f5f",
             "gridcolor": "white",
             "linecolor": "white",
             "minorgridcolor": "white",
             "startlinecolor": "#2a3f5f"
            },
            "type": "carpet"
           }
          ],
          "choropleth": [
           {
            "colorbar": {
             "outlinewidth": 0,
             "ticks": ""
            },
            "type": "choropleth"
           }
          ],
          "contour": [
           {
            "colorbar": {
             "outlinewidth": 0,
             "ticks": ""
            },
            "colorscale": [
             [
              0,
              "#0d0887"
             ],
             [
              0.1111111111111111,
              "#46039f"
             ],
             [
              0.2222222222222222,
              "#7201a8"
             ],
             [
              0.3333333333333333,
              "#9c179e"
             ],
             [
              0.4444444444444444,
              "#bd3786"
             ],
             [
              0.5555555555555556,
              "#d8576b"
             ],
             [
              0.6666666666666666,
              "#ed7953"
             ],
             [
              0.7777777777777778,
              "#fb9f3a"
             ],
             [
              0.8888888888888888,
              "#fdca26"
             ],
             [
              1,
              "#f0f921"
             ]
            ],
            "type": "contour"
           }
          ],
          "contourcarpet": [
           {
            "colorbar": {
             "outlinewidth": 0,
             "ticks": ""
            },
            "type": "contourcarpet"
           }
          ],
          "heatmap": [
           {
            "colorbar": {
             "outlinewidth": 0,
             "ticks": ""
            },
            "colorscale": [
             [
              0,
              "#0d0887"
             ],
             [
              0.1111111111111111,
              "#46039f"
             ],
             [
              0.2222222222222222,
              "#7201a8"
             ],
             [
              0.3333333333333333,
              "#9c179e"
             ],
             [
              0.4444444444444444,
              "#bd3786"
             ],
             [
              0.5555555555555556,
              "#d8576b"
             ],
             [
              0.6666666666666666,
              "#ed7953"
             ],
             [
              0.7777777777777778,
              "#fb9f3a"
             ],
             [
              0.8888888888888888,
              "#fdca26"
             ],
             [
              1,
              "#f0f921"
             ]
            ],
            "type": "heatmap"
           }
          ],
          "heatmapgl": [
           {
            "colorbar": {
             "outlinewidth": 0,
             "ticks": ""
            },
            "colorscale": [
             [
              0,
              "#0d0887"
             ],
             [
              0.1111111111111111,
              "#46039f"
             ],
             [
              0.2222222222222222,
              "#7201a8"
             ],
             [
              0.3333333333333333,
              "#9c179e"
             ],
             [
              0.4444444444444444,
              "#bd3786"
             ],
             [
              0.5555555555555556,
              "#d8576b"
             ],
             [
              0.6666666666666666,
              "#ed7953"
             ],
             [
              0.7777777777777778,
              "#fb9f3a"
             ],
             [
              0.8888888888888888,
              "#fdca26"
             ],
             [
              1,
              "#f0f921"
             ]
            ],
            "type": "heatmapgl"
           }
          ],
          "histogram": [
           {
            "marker": {
             "pattern": {
              "fillmode": "overlay",
              "size": 10,
              "solidity": 0.2
             }
            },
            "type": "histogram"
           }
          ],
          "histogram2d": [
           {
            "colorbar": {
             "outlinewidth": 0,
             "ticks": ""
            },
            "colorscale": [
             [
              0,
              "#0d0887"
             ],
             [
              0.1111111111111111,
              "#46039f"
             ],
             [
              0.2222222222222222,
              "#7201a8"
             ],
             [
              0.3333333333333333,
              "#9c179e"
             ],
             [
              0.4444444444444444,
              "#bd3786"
             ],
             [
              0.5555555555555556,
              "#d8576b"
             ],
             [
              0.6666666666666666,
              "#ed7953"
             ],
             [
              0.7777777777777778,
              "#fb9f3a"
             ],
             [
              0.8888888888888888,
              "#fdca26"
             ],
             [
              1,
              "#f0f921"
             ]
            ],
            "type": "histogram2d"
           }
          ],
          "histogram2dcontour": [
           {
            "colorbar": {
             "outlinewidth": 0,
             "ticks": ""
            },
            "colorscale": [
             [
              0,
              "#0d0887"
             ],
             [
              0.1111111111111111,
              "#46039f"
             ],
             [
              0.2222222222222222,
              "#7201a8"
             ],
             [
              0.3333333333333333,
              "#9c179e"
             ],
             [
              0.4444444444444444,
              "#bd3786"
             ],
             [
              0.5555555555555556,
              "#d8576b"
             ],
             [
              0.6666666666666666,
              "#ed7953"
             ],
             [
              0.7777777777777778,
              "#fb9f3a"
             ],
             [
              0.8888888888888888,
              "#fdca26"
             ],
             [
              1,
              "#f0f921"
             ]
            ],
            "type": "histogram2dcontour"
           }
          ],
          "mesh3d": [
           {
            "colorbar": {
             "outlinewidth": 0,
             "ticks": ""
            },
            "type": "mesh3d"
           }
          ],
          "parcoords": [
           {
            "line": {
             "colorbar": {
              "outlinewidth": 0,
              "ticks": ""
             }
            },
            "type": "parcoords"
           }
          ],
          "pie": [
           {
            "automargin": true,
            "type": "pie"
           }
          ],
          "scatter": [
           {
            "fillpattern": {
             "fillmode": "overlay",
             "size": 10,
             "solidity": 0.2
            },
            "type": "scatter"
           }
          ],
          "scatter3d": [
           {
            "line": {
             "colorbar": {
              "outlinewidth": 0,
              "ticks": ""
             }
            },
            "marker": {
             "colorbar": {
              "outlinewidth": 0,
              "ticks": ""
             }
            },
            "type": "scatter3d"
           }
          ],
          "scattercarpet": [
           {
            "marker": {
             "colorbar": {
              "outlinewidth": 0,
              "ticks": ""
             }
            },
            "type": "scattercarpet"
           }
          ],
          "scattergeo": [
           {
            "marker": {
             "colorbar": {
              "outlinewidth": 0,
              "ticks": ""
             }
            },
            "type": "scattergeo"
           }
          ],
          "scattergl": [
           {
            "marker": {
             "colorbar": {
              "outlinewidth": 0,
              "ticks": ""
             }
            },
            "type": "scattergl"
           }
          ],
          "scattermapbox": [
           {
            "marker": {
             "colorbar": {
              "outlinewidth": 0,
              "ticks": ""
             }
            },
            "type": "scattermapbox"
           }
          ],
          "scatterpolar": [
           {
            "marker": {
             "colorbar": {
              "outlinewidth": 0,
              "ticks": ""
             }
            },
            "type": "scatterpolar"
           }
          ],
          "scatterpolargl": [
           {
            "marker": {
             "colorbar": {
              "outlinewidth": 0,
              "ticks": ""
             }
            },
            "type": "scatterpolargl"
           }
          ],
          "scatterternary": [
           {
            "marker": {
             "colorbar": {
              "outlinewidth": 0,
              "ticks": ""
             }
            },
            "type": "scatterternary"
           }
          ],
          "surface": [
           {
            "colorbar": {
             "outlinewidth": 0,
             "ticks": ""
            },
            "colorscale": [
             [
              0,
              "#0d0887"
             ],
             [
              0.1111111111111111,
              "#46039f"
             ],
             [
              0.2222222222222222,
              "#7201a8"
             ],
             [
              0.3333333333333333,
              "#9c179e"
             ],
             [
              0.4444444444444444,
              "#bd3786"
             ],
             [
              0.5555555555555556,
              "#d8576b"
             ],
             [
              0.6666666666666666,
              "#ed7953"
             ],
             [
              0.7777777777777778,
              "#fb9f3a"
             ],
             [
              0.8888888888888888,
              "#fdca26"
             ],
             [
              1,
              "#f0f921"
             ]
            ],
            "type": "surface"
           }
          ],
          "table": [
           {
            "cells": {
             "fill": {
              "color": "#EBF0F8"
             },
             "line": {
              "color": "white"
             }
            },
            "header": {
             "fill": {
              "color": "#C8D4E3"
             },
             "line": {
              "color": "white"
             }
            },
            "type": "table"
           }
          ]
         },
         "layout": {
          "annotationdefaults": {
           "arrowcolor": "#2a3f5f",
           "arrowhead": 0,
           "arrowwidth": 1
          },
          "autotypenumbers": "strict",
          "coloraxis": {
           "colorbar": {
            "outlinewidth": 0,
            "ticks": ""
           }
          },
          "colorscale": {
           "diverging": [
            [
             0,
             "#8e0152"
            ],
            [
             0.1,
             "#c51b7d"
            ],
            [
             0.2,
             "#de77ae"
            ],
            [
             0.3,
             "#f1b6da"
            ],
            [
             0.4,
             "#fde0ef"
            ],
            [
             0.5,
             "#f7f7f7"
            ],
            [
             0.6,
             "#e6f5d0"
            ],
            [
             0.7,
             "#b8e186"
            ],
            [
             0.8,
             "#7fbc41"
            ],
            [
             0.9,
             "#4d9221"
            ],
            [
             1,
             "#276419"
            ]
           ],
           "sequential": [
            [
             0,
             "#0d0887"
            ],
            [
             0.1111111111111111,
             "#46039f"
            ],
            [
             0.2222222222222222,
             "#7201a8"
            ],
            [
             0.3333333333333333,
             "#9c179e"
            ],
            [
             0.4444444444444444,
             "#bd3786"
            ],
            [
             0.5555555555555556,
             "#d8576b"
            ],
            [
             0.6666666666666666,
             "#ed7953"
            ],
            [
             0.7777777777777778,
             "#fb9f3a"
            ],
            [
             0.8888888888888888,
             "#fdca26"
            ],
            [
             1,
             "#f0f921"
            ]
           ],
           "sequentialminus": [
            [
             0,
             "#0d0887"
            ],
            [
             0.1111111111111111,
             "#46039f"
            ],
            [
             0.2222222222222222,
             "#7201a8"
            ],
            [
             0.3333333333333333,
             "#9c179e"
            ],
            [
             0.4444444444444444,
             "#bd3786"
            ],
            [
             0.5555555555555556,
             "#d8576b"
            ],
            [
             0.6666666666666666,
             "#ed7953"
            ],
            [
             0.7777777777777778,
             "#fb9f3a"
            ],
            [
             0.8888888888888888,
             "#fdca26"
            ],
            [
             1,
             "#f0f921"
            ]
           ]
          },
          "colorway": [
           "#636efa",
           "#EF553B",
           "#00cc96",
           "#ab63fa",
           "#FFA15A",
           "#19d3f3",
           "#FF6692",
           "#B6E880",
           "#FF97FF",
           "#FECB52"
          ],
          "font": {
           "color": "#2a3f5f"
          },
          "geo": {
           "bgcolor": "white",
           "lakecolor": "white",
           "landcolor": "#E5ECF6",
           "showlakes": true,
           "showland": true,
           "subunitcolor": "white"
          },
          "hoverlabel": {
           "align": "left"
          },
          "hovermode": "closest",
          "mapbox": {
           "style": "light"
          },
          "paper_bgcolor": "white",
          "plot_bgcolor": "#E5ECF6",
          "polar": {
           "angularaxis": {
            "gridcolor": "white",
            "linecolor": "white",
            "ticks": ""
           },
           "bgcolor": "#E5ECF6",
           "radialaxis": {
            "gridcolor": "white",
            "linecolor": "white",
            "ticks": ""
           }
          },
          "scene": {
           "xaxis": {
            "backgroundcolor": "#E5ECF6",
            "gridcolor": "white",
            "gridwidth": 2,
            "linecolor": "white",
            "showbackground": true,
            "ticks": "",
            "zerolinecolor": "white"
           },
           "yaxis": {
            "backgroundcolor": "#E5ECF6",
            "gridcolor": "white",
            "gridwidth": 2,
            "linecolor": "white",
            "showbackground": true,
            "ticks": "",
            "zerolinecolor": "white"
           },
           "zaxis": {
            "backgroundcolor": "#E5ECF6",
            "gridcolor": "white",
            "gridwidth": 2,
            "linecolor": "white",
            "showbackground": true,
            "ticks": "",
            "zerolinecolor": "white"
           }
          },
          "shapedefaults": {
           "line": {
            "color": "#2a3f5f"
           }
          },
          "ternary": {
           "aaxis": {
            "gridcolor": "white",
            "linecolor": "white",
            "ticks": ""
           },
           "baxis": {
            "gridcolor": "white",
            "linecolor": "white",
            "ticks": ""
           },
           "bgcolor": "#E5ECF6",
           "caxis": {
            "gridcolor": "white",
            "linecolor": "white",
            "ticks": ""
           }
          },
          "title": {
           "x": 0.05
          },
          "xaxis": {
           "automargin": true,
           "gridcolor": "white",
           "linecolor": "white",
           "ticks": "",
           "title": {
            "standoff": 15
           },
           "zerolinecolor": "white",
           "zerolinewidth": 2
          },
          "yaxis": {
           "automargin": true,
           "gridcolor": "white",
           "linecolor": "white",
           "ticks": "",
           "title": {
            "standoff": 15
           },
           "zerolinecolor": "white",
           "zerolinewidth": 2
          }
         }
        },
        "xaxis": {
         "anchor": "y",
         "domain": [
          0,
          1
         ],
         "title": {
          "text": "time"
         }
        },
        "yaxis": {
         "anchor": "x",
         "domain": [
          0,
          1
         ],
         "title": {
          "text": "score"
         }
        }
       }
      }
     },
     "metadata": {},
     "output_type": "display_data"
    }
   ],
   "source": [
    "df = raw[(raw[\"time\"] <= 10e6) & (raw[\"task\"] == \"atari_assault\")]\n",
    "\n",
    "fig = px.line(df, x=\"time\", y=\"score\", color=\"seed\")\n",
    "fig.show()"
   ]
  },
  {
   "cell_type": "code",
   "execution_count": 5,
   "metadata": {},
   "outputs": [
    {
     "data": {
      "application/vnd.plotly.v1+json": {
       "config": {
        "plotlyServerURL": "https://plot.ly"
       },
       "data": [
        {
         "hovertemplate": "seed=10<br>time=%{x}<br>score=%{y}<extra></extra>",
         "legendgroup": "10",
         "line": {
          "color": "#636efa",
          "dash": "solid"
         },
         "marker": {
          "symbol": "circle"
         },
         "mode": "lines",
         "name": "10",
         "orientation": "v",
         "showlegend": true,
         "type": "scatter",
         "x": [
          1000000,
          2000000,
          3000000,
          4000000,
          5000000,
          6000000
         ],
         "xaxis": "x",
         "y": [
          -19,
          -15,
          -2.9,
          5,
          11.3,
          10.7
         ],
         "yaxis": "y"
        },
        {
         "hovertemplate": "seed=3<br>time=%{x}<br>score=%{y}<extra></extra>",
         "legendgroup": "3",
         "line": {
          "color": "#EF553B",
          "dash": "solid"
         },
         "marker": {
          "symbol": "circle"
         },
         "mode": "lines",
         "name": "3",
         "orientation": "v",
         "showlegend": true,
         "type": "scatter",
         "x": [
          1000000,
          2000000,
          3000000,
          4000000,
          5000000,
          6000000
         ],
         "xaxis": "x",
         "y": [
          -18.7,
          -3.2,
          3.8,
          1.1,
          7,
          12.1
         ],
         "yaxis": "y"
        },
        {
         "hovertemplate": "seed=4<br>time=%{x}<br>score=%{y}<extra></extra>",
         "legendgroup": "4",
         "line": {
          "color": "#00cc96",
          "dash": "solid"
         },
         "marker": {
          "symbol": "circle"
         },
         "mode": "lines",
         "name": "4",
         "orientation": "v",
         "showlegend": true,
         "type": "scatter",
         "x": [
          1000000,
          2000000,
          3000000,
          4000000,
          5000000,
          6000000
         ],
         "xaxis": "x",
         "y": [
          -17.7,
          -5.4,
          9.2,
          13.6,
          13.8,
          14.8
         ],
         "yaxis": "y"
        },
        {
         "hovertemplate": "seed=5<br>time=%{x}<br>score=%{y}<extra></extra>",
         "legendgroup": "5",
         "line": {
          "color": "#ab63fa",
          "dash": "solid"
         },
         "marker": {
          "symbol": "circle"
         },
         "mode": "lines",
         "name": "5",
         "orientation": "v",
         "showlegend": true,
         "type": "scatter",
         "x": [
          1000000,
          2000000,
          3000000,
          4000000,
          5000000,
          6000000
         ],
         "xaxis": "x",
         "y": [
          -18.1,
          -7,
          -3.4,
          6.8,
          9.7,
          14.2
         ],
         "yaxis": "y"
        },
        {
         "hovertemplate": "seed=6<br>time=%{x}<br>score=%{y}<extra></extra>",
         "legendgroup": "6",
         "line": {
          "color": "#FFA15A",
          "dash": "solid"
         },
         "marker": {
          "symbol": "circle"
         },
         "mode": "lines",
         "name": "6",
         "orientation": "v",
         "showlegend": true,
         "type": "scatter",
         "x": [
          1000000,
          2000000,
          3000000,
          4000000,
          5000000,
          6000000
         ],
         "xaxis": "x",
         "y": [
          -19.3,
          -12.2,
          -4.6,
          5.6,
          9.9,
          9.1
         ],
         "yaxis": "y"
        },
        {
         "hovertemplate": "seed=7<br>time=%{x}<br>score=%{y}<extra></extra>",
         "legendgroup": "7",
         "line": {
          "color": "#19d3f3",
          "dash": "solid"
         },
         "marker": {
          "symbol": "circle"
         },
         "mode": "lines",
         "name": "7",
         "orientation": "v",
         "showlegend": true,
         "type": "scatter",
         "x": [
          1000000,
          2000000,
          3000000,
          4000000,
          5000000,
          6000000
         ],
         "xaxis": "x",
         "y": [
          -19.3,
          -13.2,
          -7,
          1.1,
          9.4,
          16.3
         ],
         "yaxis": "y"
        },
        {
         "hovertemplate": "seed=8<br>time=%{x}<br>score=%{y}<extra></extra>",
         "legendgroup": "8",
         "line": {
          "color": "#FF6692",
          "dash": "solid"
         },
         "marker": {
          "symbol": "circle"
         },
         "mode": "lines",
         "name": "8",
         "orientation": "v",
         "showlegend": true,
         "type": "scatter",
         "x": [
          1000000,
          2000000,
          3000000,
          4000000,
          5000000,
          6000000
         ],
         "xaxis": "x",
         "y": [
          -18.4,
          -8.8,
          -4.8,
          9.9,
          12.8,
          16.6
         ],
         "yaxis": "y"
        },
        {
         "hovertemplate": "seed=9<br>time=%{x}<br>score=%{y}<extra></extra>",
         "legendgroup": "9",
         "line": {
          "color": "#B6E880",
          "dash": "solid"
         },
         "marker": {
          "symbol": "circle"
         },
         "mode": "lines",
         "name": "9",
         "orientation": "v",
         "showlegend": true,
         "type": "scatter",
         "x": [
          1000000,
          2000000,
          3000000,
          4000000,
          5000000,
          6000000
         ],
         "xaxis": "x",
         "y": [
          -15.7,
          -3.8,
          8,
          15.7,
          16.3,
          17.1
         ],
         "yaxis": "y"
        },
        {
         "hovertemplate": "seed=0<br>time=%{x}<br>score=%{y}<extra></extra>",
         "legendgroup": "0",
         "line": {
          "color": "#FF97FF",
          "dash": "solid"
         },
         "marker": {
          "symbol": "circle"
         },
         "mode": "lines",
         "name": "0",
         "orientation": "v",
         "showlegend": true,
         "type": "scatter",
         "x": [
          1000000,
          2000000,
          3000000,
          4000000,
          5000000,
          6000000
         ],
         "xaxis": "x",
         "y": [
          -20.1,
          -13.1,
          -6.4,
          3,
          10.8,
          12.8
         ],
         "yaxis": "y"
        },
        {
         "hovertemplate": "seed=1<br>time=%{x}<br>score=%{y}<extra></extra>",
         "legendgroup": "1",
         "line": {
          "color": "#FECB52",
          "dash": "solid"
         },
         "marker": {
          "symbol": "circle"
         },
         "mode": "lines",
         "name": "1",
         "orientation": "v",
         "showlegend": true,
         "type": "scatter",
         "x": [
          1000000,
          2000000,
          3000000,
          4000000,
          5000000,
          6000000
         ],
         "xaxis": "x",
         "y": [
          -20,
          -12.2,
          3.2,
          7.9,
          11.1,
          14.9
         ],
         "yaxis": "y"
        },
        {
         "hovertemplate": "seed=2<br>time=%{x}<br>score=%{y}<extra></extra>",
         "legendgroup": "2",
         "line": {
          "color": "#636efa",
          "dash": "solid"
         },
         "marker": {
          "symbol": "circle"
         },
         "mode": "lines",
         "name": "2",
         "orientation": "v",
         "showlegend": true,
         "type": "scatter",
         "x": [
          1000000,
          2000000,
          3000000,
          4000000,
          5000000,
          6000000
         ],
         "xaxis": "x",
         "y": [
          -20.4,
          -8.3,
          -2.3,
          7.6,
          14,
          15.5
         ],
         "yaxis": "y"
        },
        {
         "hovertemplate": "seed=2<br>time=%{x}<br>score=%{y}<extra></extra>",
         "legendgroup": "2",
         "line": {
          "color": "#636efa",
          "dash": "solid"
         },
         "marker": {
          "symbol": "circle"
         },
         "mode": "lines",
         "name": "2",
         "orientation": "v",
         "showlegend": true,
         "type": "scatter",
         "x": [
          1000000,
          2000000,
          3000000,
          4000000,
          5000000,
          6000000
         ],
         "xaxis": "x",
         "y": [
          -20.4,
          -8.3,
          -2.3,
          7.6,
          14,
          15.5
         ],
         "yaxis": "y"
        },
        {
         "hovertemplate": "seed=10<br>time=%{x}<br>score=%{y}<extra></extra>",
         "legendgroup": "10",
         "line": {
          "color": "#636efa",
          "dash": "solid"
         },
         "marker": {
          "symbol": "circle"
         },
         "mode": "lines",
         "name": "10",
         "orientation": "v",
         "showlegend": true,
         "type": "scatter",
         "x": [
          1000000,
          2000000,
          3000000,
          4000000,
          5000000,
          6000000
         ],
         "xaxis": "x2",
         "y": [
          16000,
          61420,
          84220,
          97800,
          99810,
          98770
         ],
         "yaxis": "y2"
        },
        {
         "hovertemplate": "seed=3<br>time=%{x}<br>score=%{y}<extra></extra>",
         "legendgroup": "3",
         "line": {
          "color": "#EF553B",
          "dash": "solid"
         },
         "marker": {
          "symbol": "circle"
         },
         "mode": "lines",
         "name": "3",
         "orientation": "v",
         "showlegend": true,
         "type": "scatter",
         "x": [
          1000000,
          2000000,
          3000000,
          4000000,
          5000000,
          6000000
         ],
         "xaxis": "x2",
         "y": [
          34350,
          78710,
          94510,
          114580,
          120140,
          120330
         ],
         "yaxis": "y2"
        },
        {
         "hovertemplate": "seed=4<br>time=%{x}<br>score=%{y}<extra></extra>",
         "legendgroup": "4",
         "line": {
          "color": "#00cc96",
          "dash": "solid"
         },
         "marker": {
          "symbol": "circle"
         },
         "mode": "lines",
         "name": "4",
         "orientation": "v",
         "showlegend": true,
         "type": "scatter",
         "x": [
          1000000,
          2000000,
          3000000,
          4000000,
          5000000,
          6000000
         ],
         "xaxis": "x2",
         "y": [
          36190,
          77860,
          92709.09090909091,
          103240,
          108130,
          105340
         ],
         "yaxis": "y2"
        },
        {
         "hovertemplate": "seed=5<br>time=%{x}<br>score=%{y}<extra></extra>",
         "legendgroup": "5",
         "line": {
          "color": "#ab63fa",
          "dash": "solid"
         },
         "marker": {
          "symbol": "circle"
         },
         "mode": "lines",
         "name": "5",
         "orientation": "v",
         "showlegend": true,
         "type": "scatter",
         "x": [
          1000000,
          2000000,
          3000000,
          4000000,
          5000000,
          6000000
         ],
         "xaxis": "x2",
         "y": [
          22460,
          63440,
          81160,
          101170,
          104890,
          110110
         ],
         "yaxis": "y2"
        },
        {
         "hovertemplate": "seed=6<br>time=%{x}<br>score=%{y}<extra></extra>",
         "legendgroup": "6",
         "line": {
          "color": "#FFA15A",
          "dash": "solid"
         },
         "marker": {
          "symbol": "circle"
         },
         "mode": "lines",
         "name": "6",
         "orientation": "v",
         "showlegend": true,
         "type": "scatter",
         "x": [
          1000000,
          2000000,
          3000000,
          4000000,
          5000000,
          6000000
         ],
         "xaxis": "x2",
         "y": [
          22340,
          73310,
          78570,
          109610,
          128950,
          105430
         ],
         "yaxis": "y2"
        },
        {
         "hovertemplate": "seed=7<br>time=%{x}<br>score=%{y}<extra></extra>",
         "legendgroup": "7",
         "line": {
          "color": "#19d3f3",
          "dash": "solid"
         },
         "marker": {
          "symbol": "circle"
         },
         "mode": "lines",
         "name": "7",
         "orientation": "v",
         "showlegend": true,
         "type": "scatter",
         "x": [
          1000000,
          2000000,
          3000000,
          4000000,
          5000000,
          6000000
         ],
         "xaxis": "x2",
         "y": [
          26130,
          56740,
          77760,
          84860,
          93550,
          100690
         ],
         "yaxis": "y2"
        },
        {
         "hovertemplate": "seed=8<br>time=%{x}<br>score=%{y}<extra></extra>",
         "legendgroup": "8",
         "line": {
          "color": "#FF6692",
          "dash": "solid"
         },
         "marker": {
          "symbol": "circle"
         },
         "mode": "lines",
         "name": "8",
         "orientation": "v",
         "showlegend": true,
         "type": "scatter",
         "x": [
          1000000,
          2000000,
          3000000,
          4000000,
          5000000,
          6000000
         ],
         "xaxis": "x2",
         "y": [
          30100,
          69200,
          83690,
          110130,
          92060,
          104980
         ],
         "yaxis": "y2"
        },
        {
         "hovertemplate": "seed=9<br>time=%{x}<br>score=%{y}<extra></extra>",
         "legendgroup": "9",
         "line": {
          "color": "#B6E880",
          "dash": "solid"
         },
         "marker": {
          "symbol": "circle"
         },
         "mode": "lines",
         "name": "9",
         "orientation": "v",
         "showlegend": true,
         "type": "scatter",
         "x": [
          1000000,
          2000000,
          3000000,
          4000000,
          5000000,
          6000000
         ],
         "xaxis": "x2",
         "y": [
          14290,
          64370,
          85370,
          101100,
          110410,
          123170
         ],
         "yaxis": "y2"
        },
        {
         "hovertemplate": "seed=0<br>time=%{x}<br>score=%{y}<extra></extra>",
         "legendgroup": "0",
         "line": {
          "color": "#FF97FF",
          "dash": "solid"
         },
         "marker": {
          "symbol": "circle"
         },
         "mode": "lines",
         "name": "0",
         "orientation": "v",
         "showlegend": true,
         "type": "scatter",
         "x": [
          1000000,
          2000000,
          3000000,
          4000000,
          5000000,
          6000000
         ],
         "xaxis": "x2",
         "y": [
          27840,
          65270,
          89500,
          100050,
          113530,
          113900
         ],
         "yaxis": "y2"
        },
        {
         "hovertemplate": "seed=1<br>time=%{x}<br>score=%{y}<extra></extra>",
         "legendgroup": "1",
         "line": {
          "color": "#FECB52",
          "dash": "solid"
         },
         "marker": {
          "symbol": "circle"
         },
         "mode": "lines",
         "name": "1",
         "orientation": "v",
         "showlegend": true,
         "type": "scatter",
         "x": [
          1000000,
          2000000,
          3000000,
          4000000,
          5000000,
          6000000
         ],
         "xaxis": "x2",
         "y": [
          44620,
          65490,
          87730,
          99600,
          101190,
          110330
         ],
         "yaxis": "y2"
        },
        {
         "hovertemplate": "seed=2<br>time=%{x}<br>score=%{y}<extra></extra>",
         "legendgroup": "2",
         "line": {
          "color": "#636efa",
          "dash": "solid"
         },
         "marker": {
          "symbol": "circle"
         },
         "mode": "lines",
         "name": "2",
         "orientation": "v",
         "showlegend": true,
         "type": "scatter",
         "x": [
          1000000,
          2000000,
          3000000,
          4000000,
          5000000,
          6000000
         ],
         "xaxis": "x2",
         "y": [
          16370,
          45510,
          74870,
          85940,
          105300,
          112430
         ],
         "yaxis": "y2"
        },
        {
         "hovertemplate": "seed=2<br>time=%{x}<br>score=%{y}<extra></extra>",
         "legendgroup": "2",
         "line": {
          "color": "#636efa",
          "dash": "solid"
         },
         "marker": {
          "symbol": "circle"
         },
         "mode": "lines",
         "name": "2",
         "orientation": "v",
         "showlegend": true,
         "type": "scatter",
         "x": [
          1000000,
          2000000,
          3000000,
          4000000,
          5000000,
          6000000
         ],
         "xaxis": "x2",
         "y": [
          16370,
          45510,
          74870,
          85940,
          105300,
          112430
         ],
         "yaxis": "y2"
        },
        {
         "hovertemplate": "seed=10<br>time=%{x}<br>score=%{y}<extra></extra>",
         "legendgroup": "10",
         "line": {
          "color": "#636efa",
          "dash": "solid"
         },
         "marker": {
          "symbol": "circle"
         },
         "mode": "lines",
         "name": "10",
         "orientation": "v",
         "showlegend": true,
         "type": "scatter",
         "x": [
          1000000,
          2000000,
          3000000,
          4000000,
          5000000,
          6000000
         ],
         "xaxis": "x3",
         "y": [
          445.2,
          1172.7,
          1598.1,
          1879.8,
          3102.9,
          2992.4
         ],
         "yaxis": "y3"
        },
        {
         "hovertemplate": "seed=3<br>time=%{x}<br>score=%{y}<extra></extra>",
         "legendgroup": "3",
         "line": {
          "color": "#EF553B",
          "dash": "solid"
         },
         "marker": {
          "symbol": "circle"
         },
         "mode": "lines",
         "name": "3",
         "orientation": "v",
         "showlegend": true,
         "type": "scatter",
         "x": [
          1000000,
          2000000,
          3000000,
          4000000,
          5000000,
          6000000
         ],
         "xaxis": "x3",
         "y": [
          478.8,
          838.3,
          1244.5,
          1957.7,
          2122.5,
          2905.5
         ],
         "yaxis": "y3"
        },
        {
         "hovertemplate": "seed=4<br>time=%{x}<br>score=%{y}<extra></extra>",
         "legendgroup": "4",
         "line": {
          "color": "#00cc96",
          "dash": "solid"
         },
         "marker": {
          "symbol": "circle"
         },
         "mode": "lines",
         "name": "4",
         "orientation": "v",
         "showlegend": true,
         "type": "scatter",
         "x": [
          1000000,
          2000000,
          3000000,
          4000000,
          5000000,
          6000000
         ],
         "xaxis": "x3",
         "y": [
          379,
          729.5,
          1130.7,
          1616.2,
          2379.1,
          2305.090909090909
         ],
         "yaxis": "y3"
        },
        {
         "hovertemplate": "seed=5<br>time=%{x}<br>score=%{y}<extra></extra>",
         "legendgroup": "5",
         "line": {
          "color": "#ab63fa",
          "dash": "solid"
         },
         "marker": {
          "symbol": "circle"
         },
         "mode": "lines",
         "name": "5",
         "orientation": "v",
         "showlegend": true,
         "type": "scatter",
         "x": [
          1000000,
          2000000,
          3000000,
          4000000,
          5000000,
          6000000
         ],
         "xaxis": "x3",
         "y": [
          315,
          721.1,
          1262.2,
          1839.5,
          2837.7,
          2658
         ],
         "yaxis": "y3"
        },
        {
         "hovertemplate": "seed=6<br>time=%{x}<br>score=%{y}<extra></extra>",
         "legendgroup": "6",
         "line": {
          "color": "#FFA15A",
          "dash": "solid"
         },
         "marker": {
          "symbol": "circle"
         },
         "mode": "lines",
         "name": "6",
         "orientation": "v",
         "showlegend": true,
         "type": "scatter",
         "x": [
          1000000,
          2000000,
          3000000,
          4000000,
          5000000,
          6000000
         ],
         "xaxis": "x3",
         "y": [
          459.8,
          745,
          1227.8,
          1369.1,
          2570.2,
          2654.8
         ],
         "yaxis": "y3"
        },
        {
         "hovertemplate": "seed=7<br>time=%{x}<br>score=%{y}<extra></extra>",
         "legendgroup": "7",
         "line": {
          "color": "#19d3f3",
          "dash": "solid"
         },
         "marker": {
          "symbol": "circle"
         },
         "mode": "lines",
         "name": "7",
         "orientation": "v",
         "showlegend": true,
         "type": "scatter",
         "x": [
          1000000,
          2000000,
          3000000,
          4000000,
          5000000,
          6000000
         ],
         "xaxis": "x3",
         "y": [
          501.9,
          682.3,
          1130.9,
          2063,
          2115.8,
          2760.8
         ],
         "yaxis": "y3"
        },
        {
         "hovertemplate": "seed=8<br>time=%{x}<br>score=%{y}<extra></extra>",
         "legendgroup": "8",
         "line": {
          "color": "#FF6692",
          "dash": "solid"
         },
         "marker": {
          "symbol": "circle"
         },
         "mode": "lines",
         "name": "8",
         "orientation": "v",
         "showlegend": true,
         "type": "scatter",
         "x": [
          1000000,
          2000000,
          3000000,
          4000000,
          5000000,
          6000000
         ],
         "xaxis": "x3",
         "y": [
          418.8,
          763.6,
          987.4,
          2615.8,
          2906.7,
          2928
         ],
         "yaxis": "y3"
        },
        {
         "hovertemplate": "seed=9<br>time=%{x}<br>score=%{y}<extra></extra>",
         "legendgroup": "9",
         "line": {
          "color": "#B6E880",
          "dash": "solid"
         },
         "marker": {
          "symbol": "circle"
         },
         "mode": "lines",
         "name": "9",
         "orientation": "v",
         "showlegend": true,
         "type": "scatter",
         "x": [
          1000000,
          2000000,
          3000000,
          4000000,
          5000000,
          6000000
         ],
         "xaxis": "x3",
         "y": [
          469.1,
          744.6,
          1177.5,
          1849.6,
          2738,
          2852.2
         ],
         "yaxis": "y3"
        },
        {
         "hovertemplate": "seed=0<br>time=%{x}<br>score=%{y}<extra></extra>",
         "legendgroup": "0",
         "line": {
          "color": "#FF97FF",
          "dash": "solid"
         },
         "marker": {
          "symbol": "circle"
         },
         "mode": "lines",
         "name": "0",
         "orientation": "v",
         "showlegend": true,
         "type": "scatter",
         "x": [
          1000000,
          2000000,
          3000000,
          4000000,
          5000000,
          6000000
         ],
         "xaxis": "x3",
         "y": [
          531.2,
          726.3,
          838.1,
          1030.8,
          1924.8,
          3116.3
         ],
         "yaxis": "y3"
        },
        {
         "hovertemplate": "seed=1<br>time=%{x}<br>score=%{y}<extra></extra>",
         "legendgroup": "1",
         "line": {
          "color": "#FECB52",
          "dash": "solid"
         },
         "marker": {
          "symbol": "circle"
         },
         "mode": "lines",
         "name": "1",
         "orientation": "v",
         "showlegend": true,
         "type": "scatter",
         "x": [
          1000000,
          2000000,
          3000000,
          4000000,
          5000000,
          6000000
         ],
         "xaxis": "x3",
         "y": [
          466.1,
          1042,
          1599.4,
          1792.3,
          2404.4,
          3051.2
         ],
         "yaxis": "y3"
        },
        {
         "hovertemplate": "seed=2<br>time=%{x}<br>score=%{y}<extra></extra>",
         "legendgroup": "2",
         "line": {
          "color": "#636efa",
          "dash": "solid"
         },
         "marker": {
          "symbol": "circle"
         },
         "mode": "lines",
         "name": "2",
         "orientation": "v",
         "showlegend": true,
         "type": "scatter",
         "x": [
          1000000,
          2000000,
          3000000,
          4000000,
          5000000,
          6000000
         ],
         "xaxis": "x3",
         "y": [
          378,
          778.8,
          1106.9,
          1690.8,
          2264.9,
          2706.9
         ],
         "yaxis": "y3"
        },
        {
         "hovertemplate": "seed=2<br>time=%{x}<br>score=%{y}<extra></extra>",
         "legendgroup": "2",
         "line": {
          "color": "#636efa",
          "dash": "solid"
         },
         "marker": {
          "symbol": "circle"
         },
         "mode": "lines",
         "name": "2",
         "orientation": "v",
         "showlegend": true,
         "type": "scatter",
         "x": [
          1000000,
          2000000,
          3000000,
          4000000,
          5000000,
          6000000
         ],
         "xaxis": "x3",
         "y": [
          378,
          778.8,
          1106.9,
          1690.8,
          2264.9,
          2706.9
         ],
         "yaxis": "y3"
        }
       ],
       "layout": {
        "annotations": [
         {
          "font": {
           "size": 16
          },
          "showarrow": false,
          "text": "Pong",
          "x": 0.225,
          "xanchor": "center",
          "xref": "paper",
          "y": 1,
          "yanchor": "bottom",
          "yref": "paper"
         },
         {
          "font": {
           "size": 16
          },
          "showarrow": false,
          "text": "Crazy Climber",
          "x": 0.775,
          "xanchor": "center",
          "xref": "paper",
          "y": 1,
          "yanchor": "bottom",
          "yref": "paper"
         },
         {
          "font": {
           "size": 16
          },
          "showarrow": false,
          "text": "Assault",
          "x": 0.5,
          "xanchor": "center",
          "xref": "paper",
          "y": 0.4,
          "yanchor": "bottom",
          "yref": "paper"
         }
        ],
        "autosize": false,
        "height": 768,
        "shapes": [
         {
          "line": {
           "color": "black",
           "dash": "dot"
          },
          "type": "line",
          "x0": 1000000,
          "x1": 6000000,
          "xref": "x",
          "y0": -20.7,
          "y1": -20.7,
          "yref": "y"
         },
         {
          "line": {
           "color": "black",
           "dash": "dot"
          },
          "type": "line",
          "x0": 1000000,
          "x1": 6000000,
          "xref": "x2",
          "y0": 10780.5,
          "y1": 10780.5,
          "yref": "y2"
         },
         {
          "line": {
           "color": "black",
           "dash": "dot"
          },
          "type": "line",
          "x0": 1000000,
          "x1": 6000000,
          "xref": "x3",
          "y0": 222.4,
          "y1": 222.4,
          "yref": "y3"
         }
        ],
        "showlegend": false,
        "template": {
         "data": {
          "bar": [
           {
            "error_x": {
             "color": "#2a3f5f"
            },
            "error_y": {
             "color": "#2a3f5f"
            },
            "marker": {
             "line": {
              "color": "#E5ECF6",
              "width": 0.5
             },
             "pattern": {
              "fillmode": "overlay",
              "size": 10,
              "solidity": 0.2
             }
            },
            "type": "bar"
           }
          ],
          "barpolar": [
           {
            "marker": {
             "line": {
              "color": "#E5ECF6",
              "width": 0.5
             },
             "pattern": {
              "fillmode": "overlay",
              "size": 10,
              "solidity": 0.2
             }
            },
            "type": "barpolar"
           }
          ],
          "carpet": [
           {
            "aaxis": {
             "endlinecolor": "#2a3f5f",
             "gridcolor": "white",
             "linecolor": "white",
             "minorgridcolor": "white",
             "startlinecolor": "#2a3f5f"
            },
            "baxis": {
             "endlinecolor": "#2a3f5f",
             "gridcolor": "white",
             "linecolor": "white",
             "minorgridcolor": "white",
             "startlinecolor": "#2a3f5f"
            },
            "type": "carpet"
           }
          ],
          "choropleth": [
           {
            "colorbar": {
             "outlinewidth": 0,
             "ticks": ""
            },
            "type": "choropleth"
           }
          ],
          "contour": [
           {
            "colorbar": {
             "outlinewidth": 0,
             "ticks": ""
            },
            "colorscale": [
             [
              0,
              "#0d0887"
             ],
             [
              0.1111111111111111,
              "#46039f"
             ],
             [
              0.2222222222222222,
              "#7201a8"
             ],
             [
              0.3333333333333333,
              "#9c179e"
             ],
             [
              0.4444444444444444,
              "#bd3786"
             ],
             [
              0.5555555555555556,
              "#d8576b"
             ],
             [
              0.6666666666666666,
              "#ed7953"
             ],
             [
              0.7777777777777778,
              "#fb9f3a"
             ],
             [
              0.8888888888888888,
              "#fdca26"
             ],
             [
              1,
              "#f0f921"
             ]
            ],
            "type": "contour"
           }
          ],
          "contourcarpet": [
           {
            "colorbar": {
             "outlinewidth": 0,
             "ticks": ""
            },
            "type": "contourcarpet"
           }
          ],
          "heatmap": [
           {
            "colorbar": {
             "outlinewidth": 0,
             "ticks": ""
            },
            "colorscale": [
             [
              0,
              "#0d0887"
             ],
             [
              0.1111111111111111,
              "#46039f"
             ],
             [
              0.2222222222222222,
              "#7201a8"
             ],
             [
              0.3333333333333333,
              "#9c179e"
             ],
             [
              0.4444444444444444,
              "#bd3786"
             ],
             [
              0.5555555555555556,
              "#d8576b"
             ],
             [
              0.6666666666666666,
              "#ed7953"
             ],
             [
              0.7777777777777778,
              "#fb9f3a"
             ],
             [
              0.8888888888888888,
              "#fdca26"
             ],
             [
              1,
              "#f0f921"
             ]
            ],
            "type": "heatmap"
           }
          ],
          "heatmapgl": [
           {
            "colorbar": {
             "outlinewidth": 0,
             "ticks": ""
            },
            "colorscale": [
             [
              0,
              "#0d0887"
             ],
             [
              0.1111111111111111,
              "#46039f"
             ],
             [
              0.2222222222222222,
              "#7201a8"
             ],
             [
              0.3333333333333333,
              "#9c179e"
             ],
             [
              0.4444444444444444,
              "#bd3786"
             ],
             [
              0.5555555555555556,
              "#d8576b"
             ],
             [
              0.6666666666666666,
              "#ed7953"
             ],
             [
              0.7777777777777778,
              "#fb9f3a"
             ],
             [
              0.8888888888888888,
              "#fdca26"
             ],
             [
              1,
              "#f0f921"
             ]
            ],
            "type": "heatmapgl"
           }
          ],
          "histogram": [
           {
            "marker": {
             "pattern": {
              "fillmode": "overlay",
              "size": 10,
              "solidity": 0.2
             }
            },
            "type": "histogram"
           }
          ],
          "histogram2d": [
           {
            "colorbar": {
             "outlinewidth": 0,
             "ticks": ""
            },
            "colorscale": [
             [
              0,
              "#0d0887"
             ],
             [
              0.1111111111111111,
              "#46039f"
             ],
             [
              0.2222222222222222,
              "#7201a8"
             ],
             [
              0.3333333333333333,
              "#9c179e"
             ],
             [
              0.4444444444444444,
              "#bd3786"
             ],
             [
              0.5555555555555556,
              "#d8576b"
             ],
             [
              0.6666666666666666,
              "#ed7953"
             ],
             [
              0.7777777777777778,
              "#fb9f3a"
             ],
             [
              0.8888888888888888,
              "#fdca26"
             ],
             [
              1,
              "#f0f921"
             ]
            ],
            "type": "histogram2d"
           }
          ],
          "histogram2dcontour": [
           {
            "colorbar": {
             "outlinewidth": 0,
             "ticks": ""
            },
            "colorscale": [
             [
              0,
              "#0d0887"
             ],
             [
              0.1111111111111111,
              "#46039f"
             ],
             [
              0.2222222222222222,
              "#7201a8"
             ],
             [
              0.3333333333333333,
              "#9c179e"
             ],
             [
              0.4444444444444444,
              "#bd3786"
             ],
             [
              0.5555555555555556,
              "#d8576b"
             ],
             [
              0.6666666666666666,
              "#ed7953"
             ],
             [
              0.7777777777777778,
              "#fb9f3a"
             ],
             [
              0.8888888888888888,
              "#fdca26"
             ],
             [
              1,
              "#f0f921"
             ]
            ],
            "type": "histogram2dcontour"
           }
          ],
          "mesh3d": [
           {
            "colorbar": {
             "outlinewidth": 0,
             "ticks": ""
            },
            "type": "mesh3d"
           }
          ],
          "parcoords": [
           {
            "line": {
             "colorbar": {
              "outlinewidth": 0,
              "ticks": ""
             }
            },
            "type": "parcoords"
           }
          ],
          "pie": [
           {
            "automargin": true,
            "type": "pie"
           }
          ],
          "scatter": [
           {
            "fillpattern": {
             "fillmode": "overlay",
             "size": 10,
             "solidity": 0.2
            },
            "type": "scatter"
           }
          ],
          "scatter3d": [
           {
            "line": {
             "colorbar": {
              "outlinewidth": 0,
              "ticks": ""
             }
            },
            "marker": {
             "colorbar": {
              "outlinewidth": 0,
              "ticks": ""
             }
            },
            "type": "scatter3d"
           }
          ],
          "scattercarpet": [
           {
            "marker": {
             "colorbar": {
              "outlinewidth": 0,
              "ticks": ""
             }
            },
            "type": "scattercarpet"
           }
          ],
          "scattergeo": [
           {
            "marker": {
             "colorbar": {
              "outlinewidth": 0,
              "ticks": ""
             }
            },
            "type": "scattergeo"
           }
          ],
          "scattergl": [
           {
            "marker": {
             "colorbar": {
              "outlinewidth": 0,
              "ticks": ""
             }
            },
            "type": "scattergl"
           }
          ],
          "scattermapbox": [
           {
            "marker": {
             "colorbar": {
              "outlinewidth": 0,
              "ticks": ""
             }
            },
            "type": "scattermapbox"
           }
          ],
          "scatterpolar": [
           {
            "marker": {
             "colorbar": {
              "outlinewidth": 0,
              "ticks": ""
             }
            },
            "type": "scatterpolar"
           }
          ],
          "scatterpolargl": [
           {
            "marker": {
             "colorbar": {
              "outlinewidth": 0,
              "ticks": ""
             }
            },
            "type": "scatterpolargl"
           }
          ],
          "scatterternary": [
           {
            "marker": {
             "colorbar": {
              "outlinewidth": 0,
              "ticks": ""
             }
            },
            "type": "scatterternary"
           }
          ],
          "surface": [
           {
            "colorbar": {
             "outlinewidth": 0,
             "ticks": ""
            },
            "colorscale": [
             [
              0,
              "#0d0887"
             ],
             [
              0.1111111111111111,
              "#46039f"
             ],
             [
              0.2222222222222222,
              "#7201a8"
             ],
             [
              0.3333333333333333,
              "#9c179e"
             ],
             [
              0.4444444444444444,
              "#bd3786"
             ],
             [
              0.5555555555555556,
              "#d8576b"
             ],
             [
              0.6666666666666666,
              "#ed7953"
             ],
             [
              0.7777777777777778,
              "#fb9f3a"
             ],
             [
              0.8888888888888888,
              "#fdca26"
             ],
             [
              1,
              "#f0f921"
             ]
            ],
            "type": "surface"
           }
          ],
          "table": [
           {
            "cells": {
             "fill": {
              "color": "#EBF0F8"
             },
             "line": {
              "color": "white"
             }
            },
            "header": {
             "fill": {
              "color": "#C8D4E3"
             },
             "line": {
              "color": "white"
             }
            },
            "type": "table"
           }
          ]
         },
         "layout": {
          "annotationdefaults": {
           "arrowcolor": "#2a3f5f",
           "arrowhead": 0,
           "arrowwidth": 1
          },
          "autotypenumbers": "strict",
          "coloraxis": {
           "colorbar": {
            "outlinewidth": 0,
            "ticks": ""
           }
          },
          "colorscale": {
           "diverging": [
            [
             0,
             "#8e0152"
            ],
            [
             0.1,
             "#c51b7d"
            ],
            [
             0.2,
             "#de77ae"
            ],
            [
             0.3,
             "#f1b6da"
            ],
            [
             0.4,
             "#fde0ef"
            ],
            [
             0.5,
             "#f7f7f7"
            ],
            [
             0.6,
             "#e6f5d0"
            ],
            [
             0.7,
             "#b8e186"
            ],
            [
             0.8,
             "#7fbc41"
            ],
            [
             0.9,
             "#4d9221"
            ],
            [
             1,
             "#276419"
            ]
           ],
           "sequential": [
            [
             0,
             "#0d0887"
            ],
            [
             0.1111111111111111,
             "#46039f"
            ],
            [
             0.2222222222222222,
             "#7201a8"
            ],
            [
             0.3333333333333333,
             "#9c179e"
            ],
            [
             0.4444444444444444,
             "#bd3786"
            ],
            [
             0.5555555555555556,
             "#d8576b"
            ],
            [
             0.6666666666666666,
             "#ed7953"
            ],
            [
             0.7777777777777778,
             "#fb9f3a"
            ],
            [
             0.8888888888888888,
             "#fdca26"
            ],
            [
             1,
             "#f0f921"
            ]
           ],
           "sequentialminus": [
            [
             0,
             "#0d0887"
            ],
            [
             0.1111111111111111,
             "#46039f"
            ],
            [
             0.2222222222222222,
             "#7201a8"
            ],
            [
             0.3333333333333333,
             "#9c179e"
            ],
            [
             0.4444444444444444,
             "#bd3786"
            ],
            [
             0.5555555555555556,
             "#d8576b"
            ],
            [
             0.6666666666666666,
             "#ed7953"
            ],
            [
             0.7777777777777778,
             "#fb9f3a"
            ],
            [
             0.8888888888888888,
             "#fdca26"
            ],
            [
             1,
             "#f0f921"
            ]
           ]
          },
          "colorway": [
           "#636efa",
           "#EF553B",
           "#00cc96",
           "#ab63fa",
           "#FFA15A",
           "#19d3f3",
           "#FF6692",
           "#B6E880",
           "#FF97FF",
           "#FECB52"
          ],
          "font": {
           "color": "#2a3f5f"
          },
          "geo": {
           "bgcolor": "white",
           "lakecolor": "white",
           "landcolor": "#E5ECF6",
           "showlakes": true,
           "showland": true,
           "subunitcolor": "white"
          },
          "hoverlabel": {
           "align": "left"
          },
          "hovermode": "closest",
          "mapbox": {
           "style": "light"
          },
          "paper_bgcolor": "white",
          "plot_bgcolor": "#E5ECF6",
          "polar": {
           "angularaxis": {
            "gridcolor": "white",
            "linecolor": "white",
            "ticks": ""
           },
           "bgcolor": "#E5ECF6",
           "radialaxis": {
            "gridcolor": "white",
            "linecolor": "white",
            "ticks": ""
           }
          },
          "scene": {
           "xaxis": {
            "backgroundcolor": "#E5ECF6",
            "gridcolor": "white",
            "gridwidth": 2,
            "linecolor": "white",
            "showbackground": true,
            "ticks": "",
            "zerolinecolor": "white"
           },
           "yaxis": {
            "backgroundcolor": "#E5ECF6",
            "gridcolor": "white",
            "gridwidth": 2,
            "linecolor": "white",
            "showbackground": true,
            "ticks": "",
            "zerolinecolor": "white"
           },
           "zaxis": {
            "backgroundcolor": "#E5ECF6",
            "gridcolor": "white",
            "gridwidth": 2,
            "linecolor": "white",
            "showbackground": true,
            "ticks": "",
            "zerolinecolor": "white"
           }
          },
          "shapedefaults": {
           "line": {
            "color": "#2a3f5f"
           }
          },
          "ternary": {
           "aaxis": {
            "gridcolor": "white",
            "linecolor": "white",
            "ticks": ""
           },
           "baxis": {
            "gridcolor": "white",
            "linecolor": "white",
            "ticks": ""
           },
           "bgcolor": "#E5ECF6",
           "caxis": {
            "gridcolor": "white",
            "linecolor": "white",
            "ticks": ""
           }
          },
          "title": {
           "x": 0.05
          },
          "xaxis": {
           "automargin": true,
           "gridcolor": "white",
           "linecolor": "white",
           "ticks": "",
           "title": {
            "standoff": 15
           },
           "zerolinecolor": "white",
           "zerolinewidth": 2
          },
          "yaxis": {
           "automargin": true,
           "gridcolor": "white",
           "linecolor": "white",
           "ticks": "",
           "title": {
            "standoff": 15
           },
           "zerolinecolor": "white",
           "zerolinewidth": 2
          }
         }
        },
        "width": 1024,
        "xaxis": {
         "anchor": "y",
         "domain": [
          0,
          0.45
         ],
         "title": {
          "text": "Env step"
         }
        },
        "xaxis2": {
         "anchor": "y2",
         "domain": [
          0.55,
          1
         ],
         "title": {
          "text": "Env step"
         }
        },
        "xaxis3": {
         "anchor": "y3",
         "domain": [
          0.275,
          0.7250000000000001
         ],
         "title": {
          "text": "Env step"
         }
        },
        "yaxis": {
         "anchor": "x",
         "domain": [
          0.6000000000000001,
          1
         ],
         "title": {
          "text": "Score"
         }
        },
        "yaxis2": {
         "anchor": "x2",
         "domain": [
          0.6000000000000001,
          1
         ],
         "title": {
          "text": "Score"
         }
        },
        "yaxis3": {
         "anchor": "x3",
         "domain": [
          0,
          0.4
         ],
         "title": {
          "text": "Score"
         }
        }
       }
      }
     },
     "metadata": {},
     "output_type": "display_data"
    }
   ],
   "source": [
    "envs = [\"pong\", \"crazy_climber\", \"assault\"]\n",
    "\n",
    "fig = make_subplots(\n",
    "    rows=2,\n",
    "    cols=4,\n",
    "    specs=[\n",
    "        [dict(colspan=2), None, dict(colspan=2), None],\n",
    "        [None, dict(colspan=2), None, None],\n",
    "    ],\n",
    "    subplot_titles=[\"Pong\", \"Crazy Climber\", \"Assault\"],\n",
    "    horizontal_spacing=0.1,\n",
    "    vertical_spacing=0.2,\n",
    ")\n",
    "\n",
    "subplots = [(1, 1), (1, 3), (2, 2)]\n",
    "\n",
    "for (iy, ix), env in zip(subplots, envs):\n",
    "    df = raw[(raw[\"time\"] <= 6e6) & (raw[\"task\"] == f\"atari_{env}\")]\n",
    "    xpr = px.line(df, x=\"time\", y=\"score\", color=\"seed\")\n",
    "    for trace in xpr.data:\n",
    "        fig.add_trace(trace, iy, ix)\n",
    "    rand = df[\"random\"].iloc[0]\n",
    "    fig.add_shape(\n",
    "        type=\"line\",\n",
    "        x0=min(df[\"time\"]),\n",
    "        y0=rand,\n",
    "        x1=max(df[\"time\"]),\n",
    "        y1=rand,\n",
    "        line=dict(color=\"black\", dash=\"dot\"),\n",
    "        row=iy,\n",
    "        col=ix,\n",
    "    )\n",
    "    fig.add_trace(trace, iy, ix)\n",
    "\n",
    "fig.update_layout(\n",
    "    showlegend=False,\n",
    "    autosize=False,\n",
    "    width=1024,\n",
    "    height=768,\n",
    "    **{f\"xaxis{i+1}\": {\"title\": \"Env step\"} for i in range(3)},\n",
    "    **{f\"yaxis{i+1}\": {\"title\": \"Score\"} for i in range(3)},\n",
    ")\n",
    "\n",
    "# fig.write_image(\"perf_curves.svg\")\n",
    "# with open(\"perf_curves.svg\", \"rb\") as f:\n",
    "#     svg2png(f.read(), write_to=\"perf_curves.png\")\n",
    "\n",
    "fig.write_image(\"../tex/assets/perf_curves.pdf\")\n",
    "\n",
    "fig"
   ]
  }
 ],
 "metadata": {
  "kernelspec": {
   "display_name": "rsrch-8qRRKNqI-py3.10",
   "language": "python",
   "name": "python3"
  },
  "language_info": {
   "codemirror_mode": {
    "name": "ipython",
    "version": 3
   },
   "file_extension": ".py",
   "mimetype": "text/x-python",
   "name": "python",
   "nbconvert_exporter": "python",
   "pygments_lexer": "ipython3",
   "version": "3.10.14"
  }
 },
 "nbformat": 4,
 "nbformat_minor": 2
}
