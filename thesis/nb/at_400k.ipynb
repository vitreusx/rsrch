{
 "cells": [
  {
   "cell_type": "code",
   "execution_count": 4,
   "metadata": {},
   "outputs": [],
   "source": [
    "from tbparse import SummaryReader\n",
    "from pathlib import Path\n",
    "from ruamel.yaml import YAML\n",
    "from tqdm.auto import tqdm\n",
    "import pandas as pd\n",
    "import plotly.graph_objects as go\n",
    "from plotly.subplots import make_subplots\n",
    "import plotly.express as px\n",
    "import plotly.io as pio\n",
    "\n",
    "\n",
    "yaml = YAML(typ=\"safe\", pure=True)\n",
    "results_dir = Path(\"../results/at-400k\")\n",
    "cache_dir = Path(\".cache/at_400k\")\n",
    "pio.kaleido.scope.mathjax = None"
   ]
  },
  {
   "cell_type": "code",
   "execution_count": 5,
   "metadata": {},
   "outputs": [
    {
     "data": {
      "application/vnd.jupyter.widget-view+json": {
       "model_id": "d41c42fd0eeb4cee85fe943d592ce2d9",
       "version_major": 2,
       "version_minor": 0
      },
      "text/plain": [
       "  0%|          | 0/53 [00:00<?, ?it/s]"
      ]
     },
     "metadata": {},
     "output_type": "display_data"
    }
   ],
   "source": [
    "test_dirs = [*results_dir.iterdir()]\n",
    "for test_dir in tqdm(test_dirs):\n",
    "    dst_path = cache_dir / f\"{test_dir.name}.h5\"\n",
    "    if dst_path.exists():\n",
    "        continue\n",
    "\n",
    "    board = SummaryReader(test_dir / \"board\")\n",
    "    dst_path.parent.mkdir(parents=True, exist_ok=True)\n",
    "    board.scalars.to_hdf(dst_path, key=\"scalars\")\n",
    "\n",
    "\n",
    "def read_scalars(test_dir: Path):\n",
    "    dst_path = cache_dir / f\"{test_dir.name}.h5\"\n",
    "    return pd.read_hdf(dst_path, key=\"scalars\")"
   ]
  },
  {
   "cell_type": "code",
   "execution_count": 6,
   "metadata": {},
   "outputs": [],
   "source": [
    "dfs = []\n",
    "\n",
    "for test_dir in results_dir.iterdir():\n",
    "    with open(test_dir / \"config.yml\", \"r\") as f:\n",
    "        cfg = yaml.load(f)\n",
    "\n",
    "    assert cfg[\"env\"][\"type\"] == \"atari\"\n",
    "    env_id = cfg[\"env\"][\"atari\"][\"env_id\"]\n",
    "    seed = cfg[\"repro\"][\"seed\"]\n",
    "\n",
    "    df = read_scalars(test_dir)\n",
    "    df = df[df[\"tag\"] == \"val/mean_ep_ret\"].copy()\n",
    "    df[\"env\"] = env_id\n",
    "    df[\"seed\"] = seed\n",
    "    env_id_, seed_eq, freq_eq = test_dir.name.split(\"=\")\n",
    "    df[\"freq\"] = int(freq_eq.removeprefix(\"freq=\"))\n",
    "    dfs.append(df)\n",
    "\n",
    "df = pd.concat(dfs, axis=0)"
   ]
  },
  {
   "cell_type": "code",
   "execution_count": 7,
   "metadata": {},
   "outputs": [
    {
     "data": {
      "application/vnd.plotly.v1+json": {
       "config": {
        "plotlyServerURL": "https://plot.ly"
       },
       "data": [
        {
         "hovertemplate": "seed=2<br>step=%{x}<br>value=%{y}<extra></extra>",
         "legendgroup": "2",
         "line": {
          "color": "#636efa",
          "dash": "solid"
         },
         "marker": {
          "symbol": "circle"
         },
         "mode": "lines",
         "name": "2",
         "orientation": "v",
         "showlegend": true,
         "type": "scatter",
         "x": [
          20004,
          40004,
          60004,
          80004,
          100004,
          120004,
          140004,
          160004,
          180004,
          200004,
          220004,
          240004,
          260004,
          280004,
          300004,
          320004,
          340004,
          360004,
          380004
         ],
         "xaxis": "x",
         "y": [
          -20.875,
          -20.96875,
          -21,
          -20.59375,
          -21,
          -21,
          -20.96875,
          -21,
          -19.625,
          -20.9375,
          -21,
          -21,
          -20.96875,
          -21,
          -21,
          -21,
          -21,
          -21,
          -21
         ],
         "yaxis": "y"
        },
        {
         "hovertemplate": "seed=1<br>step=%{x}<br>value=%{y}<extra></extra>",
         "legendgroup": "1",
         "line": {
          "color": "#EF553B",
          "dash": "solid"
         },
         "marker": {
          "symbol": "circle"
         },
         "mode": "lines",
         "name": "1",
         "orientation": "v",
         "showlegend": true,
         "type": "scatter",
         "x": [
          20004,
          40004,
          60004,
          80004,
          100004,
          120004,
          140004,
          160004,
          180004,
          200004,
          220004,
          240004,
          260004,
          280004,
          300004,
          320004,
          340004,
          360004,
          380004
         ],
         "xaxis": "x",
         "y": [
          -20.4375,
          -20.96875,
          -21,
          -19.6875,
          -21,
          -21,
          -21,
          -21,
          -21,
          -21,
          -21,
          -21,
          -21,
          -21,
          -21,
          -21,
          -21,
          -21,
          -21
         ],
         "yaxis": "y"
        },
        {
         "hovertemplate": "seed=0<br>step=%{x}<br>value=%{y}<extra></extra>",
         "legendgroup": "0",
         "line": {
          "color": "#636efa",
          "dash": "solid"
         },
         "marker": {
          "symbol": "circle"
         },
         "mode": "lines",
         "name": "0",
         "orientation": "v",
         "showlegend": true,
         "type": "scatter",
         "x": [
          20004,
          40004,
          60004,
          80004,
          100004,
          120004,
          140004,
          160004,
          180004,
          200004,
          220004,
          240004,
          260004,
          280004,
          300004,
          320004,
          340004,
          360004,
          380004
         ],
         "xaxis": "x4",
         "y": [
          -20.96875,
          -20.96875,
          -21,
          -21,
          -20.5625,
          -20.6875,
          -21,
          -21,
          -21,
          -19.34375,
          -20.15625,
          -19.6875,
          -19.71875,
          -19.03125,
          -17.96875,
          -16.21875,
          -17.25,
          -15.90625,
          -16.75
         ],
         "yaxis": "y4"
        },
        {
         "hovertemplate": "seed=1<br>step=%{x}<br>value=%{y}<extra></extra>",
         "legendgroup": "1",
         "line": {
          "color": "#EF553B",
          "dash": "solid"
         },
         "marker": {
          "symbol": "circle"
         },
         "mode": "lines",
         "name": "1",
         "orientation": "v",
         "showlegend": true,
         "type": "scatter",
         "x": [
          20004,
          40004,
          60004,
          80004,
          100004,
          120004,
          140004,
          160004,
          180004,
          200004,
          220004,
          240004,
          260004,
          280004,
          300004,
          320004,
          340004,
          360004,
          380004
         ],
         "xaxis": "x4",
         "y": [
          -20.4375,
          -21,
          -20.96875,
          -21,
          -18.34375,
          -21,
          -21,
          -21,
          -21,
          -21,
          -20.78125,
          -19.53125,
          -20.28125,
          -20,
          -18.65625,
          -17,
          -17.3125,
          -16.78125,
          -17.40625
         ],
         "yaxis": "y4"
        },
        {
         "hovertemplate": "seed=2<br>step=%{x}<br>value=%{y}<extra></extra>",
         "legendgroup": "2",
         "line": {
          "color": "#00cc96",
          "dash": "solid"
         },
         "marker": {
          "symbol": "circle"
         },
         "mode": "lines",
         "name": "2",
         "orientation": "v",
         "showlegend": true,
         "type": "scatter",
         "x": [
          20004,
          40004,
          60004,
          80004,
          100004,
          120004,
          140004,
          160004,
          180004,
          200004,
          220004,
          240004,
          260004,
          280004,
          300004,
          320004,
          340004,
          360004,
          380004
         ],
         "xaxis": "x4",
         "y": [
          -20.875,
          -21,
          -20.96875,
          -21,
          -20.3125,
          -21,
          -21,
          -21,
          -20.875,
          -20.625,
          -20.71875,
          -19.375,
          -19.09375,
          -17,
          -16.0625,
          -17.09375,
          -15.9375,
          -17.9375,
          -18.78125
         ],
         "yaxis": "y4"
        },
        {
         "hovertemplate": "seed=0<br>step=%{x}<br>value=%{y}<extra></extra>",
         "legendgroup": "0",
         "line": {
          "color": "#636efa",
          "dash": "solid"
         },
         "marker": {
          "symbol": "circle"
         },
         "mode": "lines",
         "name": "0",
         "orientation": "v",
         "showlegend": true,
         "type": "scatter",
         "x": [
          20004,
          40004,
          60004,
          80004,
          100004,
          120004,
          140004,
          160004,
          180004,
          200004,
          220004,
          240004,
          260004,
          280004,
          300004,
          320004,
          340004,
          360004,
          380004
         ],
         "xaxis": "x7",
         "y": [
          -20.96875,
          -21,
          -20.90625,
          -21,
          -20.8125,
          -20.8125,
          -20.625,
          -17.71875,
          -16.75,
          -17.34375,
          -19.5,
          -18.25,
          -17.875,
          -16.125,
          -11.625,
          -13.0625,
          -11.15625,
          -10.84375,
          -12
         ],
         "yaxis": "y7"
        },
        {
         "hovertemplate": "seed=2<br>step=%{x}<br>value=%{y}<extra></extra>",
         "legendgroup": "2",
         "line": {
          "color": "#EF553B",
          "dash": "solid"
         },
         "marker": {
          "symbol": "circle"
         },
         "mode": "lines",
         "name": "2",
         "orientation": "v",
         "showlegend": true,
         "type": "scatter",
         "x": [
          20004,
          40004,
          60004,
          80004,
          100004,
          120004,
          140004,
          160004,
          180004,
          200004,
          220004,
          240004,
          260004,
          280004,
          300004,
          320004,
          340004,
          360004,
          380004
         ],
         "xaxis": "x7",
         "y": [
          -20.875,
          -21,
          -20.84375,
          -21,
          -20.125,
          -20.71875,
          -19.65625,
          -17.96875,
          -16.28125,
          -14.90625,
          -15.9375,
          -13.96875,
          -16.28125,
          -11.375,
          -12.375,
          -12.53125,
          -6.6875,
          -14.5625,
          -0.25
         ],
         "yaxis": "y7"
        },
        {
         "hovertemplate": "seed=1<br>step=%{x}<br>value=%{y}<extra></extra>",
         "legendgroup": "1",
         "line": {
          "color": "#00cc96",
          "dash": "solid"
         },
         "marker": {
          "symbol": "circle"
         },
         "mode": "lines",
         "name": "1",
         "orientation": "v",
         "showlegend": true,
         "type": "scatter",
         "x": [
          20004,
          40004,
          60004,
          80004,
          100004,
          120004,
          140004,
          160004,
          180004,
          200004,
          220004,
          240004,
          260004,
          280004,
          300004,
          320004,
          340004,
          360004,
          380004
         ],
         "xaxis": "x7",
         "y": [
          -20.46875,
          -18.375,
          -21,
          -20.84375,
          -20.65625,
          -19.625,
          -18.21875,
          -17.1875,
          -16.46875,
          -15.875,
          -17.3125,
          -16.9375,
          -15.90625,
          -14.0625,
          -15.9375,
          -13.96875,
          -13.9375,
          -12.5,
          -13.96875
         ],
         "yaxis": "y7"
        },
        {
         "hovertemplate": "seed=0<br>step=%{x}<br>value=%{y}<extra></extra>",
         "legendgroup": "0",
         "line": {
          "color": "#636efa",
          "dash": "solid"
         },
         "marker": {
          "symbol": "circle"
         },
         "mode": "lines",
         "name": "0",
         "orientation": "v",
         "showlegend": true,
         "type": "scatter",
         "x": [
          20004,
          40004,
          60004,
          80004,
          100004,
          120004,
          140004,
          160004,
          180004,
          200004,
          220004,
          240004,
          260004,
          280004,
          300004,
          320004,
          340004,
          360004,
          380004
         ],
         "xaxis": "x10",
         "y": [
          -20.96875,
          -21,
          -21,
          -18.375,
          -14.9375,
          -14.59375,
          -14.6875,
          -15.6875,
          -16.5,
          -14.8125,
          -16.03125,
          -14.3125,
          -14.15625,
          -13.125,
          -12.9375,
          -12.59375,
          -13.875,
          -12.65625,
          -13.03125
         ],
         "yaxis": "y10"
        },
        {
         "hovertemplate": "seed=2<br>step=%{x}<br>value=%{y}<extra></extra>",
         "legendgroup": "2",
         "line": {
          "color": "#EF553B",
          "dash": "solid"
         },
         "marker": {
          "symbol": "circle"
         },
         "mode": "lines",
         "name": "2",
         "orientation": "v",
         "showlegend": true,
         "type": "scatter",
         "x": [
          20004,
          40004,
          60004,
          80004,
          100004,
          120004,
          140004,
          160004,
          180004,
          200004,
          220004,
          240004,
          260004,
          280004,
          300004,
          320004,
          340004,
          360004,
          380004
         ],
         "xaxis": "x10",
         "y": [
          -20.875,
          -20.875,
          -21,
          -18.84375,
          -18.28125,
          -18.53125,
          -14.53125,
          -12.125,
          -13.34375,
          -12.78125,
          -13.84375,
          -11.96875,
          -13.03125,
          -10.71875,
          -11.375,
          -9.09375,
          -8.9375,
          -9.53125,
          -9.28125
         ],
         "yaxis": "y10"
        },
        {
         "hovertemplate": "seed=1<br>step=%{x}<br>value=%{y}<extra></extra>",
         "legendgroup": "1",
         "line": {
          "color": "#00cc96",
          "dash": "solid"
         },
         "marker": {
          "symbol": "circle"
         },
         "mode": "lines",
         "name": "1",
         "orientation": "v",
         "showlegend": true,
         "type": "scatter",
         "x": [
          20004,
          40004,
          60004,
          80004,
          100004,
          120004,
          140004,
          160004,
          180004,
          200004,
          220004,
          240004,
          260004,
          280004,
          300004,
          320004,
          340004,
          360004,
          380004
         ],
         "xaxis": "x10",
         "y": [
          -20.4375,
          -21,
          -21,
          -18.1875,
          -17.09375,
          -15.5625,
          -13.5,
          -14.03125,
          -14.15625,
          -12.5625,
          -14.5,
          -14.65625,
          -13.75,
          -14.6875,
          -14,
          -14.125,
          -14.21875,
          -12.9375,
          -13.65625
         ],
         "yaxis": "y10"
        },
        {
         "hovertemplate": "seed=1<br>step=%{x}<br>value=%{y}<extra></extra>",
         "legendgroup": "1",
         "line": {
          "color": "#636efa",
          "dash": "solid"
         },
         "marker": {
          "symbol": "circle"
         },
         "mode": "lines",
         "name": "1",
         "orientation": "v",
         "showlegend": true,
         "type": "scatter",
         "x": [
          20004,
          40004,
          60004,
          80004,
          100004,
          120004,
          140004,
          160004,
          180004,
          200004,
          220004,
          240004,
          260004,
          280004,
          300004,
          320004,
          340004,
          360004,
          380004
         ],
         "xaxis": "x13",
         "y": [
          -20.4375,
          -20.46875,
          -14.96875,
          -15.84375,
          -13.03125,
          -14.21875,
          -9.09375,
          -5.46875,
          -5.53125,
          -1.625,
          -5.84375,
          -4.25,
          0.40625,
          -0.71875,
          0.0625,
          -2.75,
          -2.5,
          -2.46875,
          -0.375
         ],
         "yaxis": "y13"
        },
        {
         "hovertemplate": "seed=0<br>step=%{x}<br>value=%{y}<extra></extra>",
         "legendgroup": "0",
         "line": {
          "color": "#EF553B",
          "dash": "solid"
         },
         "marker": {
          "symbol": "circle"
         },
         "mode": "lines",
         "name": "0",
         "orientation": "v",
         "showlegend": true,
         "type": "scatter",
         "x": [
          20004,
          40004,
          60004,
          80004,
          100004,
          120004,
          140004,
          160004,
          180004,
          200004,
          220004,
          240004,
          260004,
          280004,
          300004,
          320004,
          340004,
          360004,
          380004
         ],
         "xaxis": "x13",
         "y": [
          -20.96875,
          -20.90625,
          -20.15625,
          -17.1875,
          -18.0625,
          -16.59375,
          -16.71875,
          -13.5625,
          -16.3125,
          -16.5,
          -14.96875,
          -14.65625,
          -14.3125,
          -13.84375,
          -14.28125,
          -15.09375,
          -15.3125,
          -14.4375,
          -11.5625
         ],
         "yaxis": "y13"
        },
        {
         "hovertemplate": "seed=2<br>step=%{x}<br>value=%{y}<extra></extra>",
         "legendgroup": "2",
         "line": {
          "color": "#00cc96",
          "dash": "solid"
         },
         "marker": {
          "symbol": "circle"
         },
         "mode": "lines",
         "name": "2",
         "orientation": "v",
         "showlegend": true,
         "type": "scatter",
         "x": [
          20004,
          40004,
          60004,
          80004,
          100004,
          120004,
          140004,
          160004,
          180004,
          200004,
          220004,
          240004,
          260004,
          280004,
          300004,
          320004,
          340004,
          360004,
          380004
         ],
         "xaxis": "x13",
         "y": [
          -20.875,
          -20.8125,
          -18.15625,
          -19.59375,
          -18.71875,
          -17.25,
          -14.21875,
          -16.0625,
          -12.78125,
          -12.25,
          -13.59375,
          -12.40625,
          -12.875,
          -13.125,
          -12.1875,
          -10.71875,
          -12.09375,
          -10.75,
          -10.625
         ],
         "yaxis": "y13"
        },
        {
         "hovertemplate": "seed=0<br>step=%{x}<br>value=%{y}<extra></extra>",
         "legendgroup": "0",
         "line": {
          "color": "#636efa",
          "dash": "solid"
         },
         "marker": {
          "symbol": "circle"
         },
         "mode": "lines",
         "name": "0",
         "orientation": "v",
         "showlegend": true,
         "type": "scatter",
         "x": [
          20004,
          40004,
          60004,
          80004,
          100004,
          120004,
          140004,
          160004,
          180004,
          200004,
          220004,
          240004,
          260004,
          280004,
          300004,
          320004,
          340004,
          360004,
          380004
         ],
         "xaxis": "x16",
         "y": [
          -20.96875,
          -19.75,
          -17.875,
          -17.03125,
          -16.0625,
          -16.09375,
          -15.375,
          -15.1875,
          -15.6875,
          -15.75,
          -17.375,
          -15.5,
          -17.28125,
          -16.9375,
          -17.03125,
          -15.875,
          -15.75,
          -16.15625,
          -14.5625
         ],
         "yaxis": "y16"
        },
        {
         "hovertemplate": "seed=2<br>step=%{x}<br>value=%{y}<extra></extra>",
         "legendgroup": "2",
         "line": {
          "color": "#EF553B",
          "dash": "solid"
         },
         "marker": {
          "symbol": "circle"
         },
         "mode": "lines",
         "name": "2",
         "orientation": "v",
         "showlegend": true,
         "type": "scatter",
         "x": [
          20004,
          40004,
          60004,
          80004,
          100004,
          120004,
          140004,
          160004,
          180004,
          200004,
          220004,
          240004,
          260004,
          280004,
          300004,
          320004,
          340004,
          360004,
          380004
         ],
         "xaxis": "x16",
         "y": [
          -20.875,
          -19.90625,
          -19.375,
          -17.125,
          -16.28125,
          -15.65625,
          -18.0625,
          -15.125,
          -15.4375,
          -15.6875,
          -14.53125,
          -14.625,
          -13.71875,
          -13.6875,
          -14.1875,
          -14.09375,
          -14.53125,
          -13.0625,
          -15.09375
         ],
         "yaxis": "y16"
        },
        {
         "hovertemplate": "seed=1<br>step=%{x}<br>value=%{y}<extra></extra>",
         "legendgroup": "1",
         "line": {
          "color": "#00cc96",
          "dash": "solid"
         },
         "marker": {
          "symbol": "circle"
         },
         "mode": "lines",
         "name": "1",
         "orientation": "v",
         "showlegend": true,
         "type": "scatter",
         "x": [
          20004,
          40004,
          60004,
          80004,
          100004,
          120004,
          140004,
          160004,
          180004,
          200004,
          220004,
          240004,
          260004,
          280004,
          300004,
          320004,
          340004,
          360004,
          380004
         ],
         "xaxis": "x16",
         "y": [
          -20.4375,
          -16.09375,
          -18.75,
          -17.21875,
          -15.625,
          -15.78125,
          -15.46875,
          -13.28125,
          -15.875,
          -16.53125,
          -16.3125,
          -16.5,
          -15,
          -15.875,
          -16.53125,
          -15.46875,
          -15.34375,
          -16.625,
          -15.375
         ],
         "yaxis": "y16"
        },
        {
         "hovertemplate": "seed=0<br>step=%{x}<br>value=%{y}<extra></extra>",
         "legendgroup": "0",
         "line": {
          "color": "#636efa",
          "dash": "solid"
         },
         "marker": {
          "symbol": "circle"
         },
         "mode": "lines",
         "name": "0",
         "orientation": "v",
         "showlegend": true,
         "type": "scatter",
         "x": [
          21616,
          41616,
          61616,
          81616,
          101616,
          121616,
          141616,
          161616,
          181616,
          201616,
          221616,
          241616,
          261616,
          281616,
          301616,
          321616,
          341616,
          361616,
          381616
         ],
         "xaxis": "x2",
         "y": [
          7168.75,
          0,
          0,
          0,
          0,
          0,
          0,
          0,
          0,
          5831.25,
          11412.5,
          11000,
          11000,
          11000,
          11000,
          11000,
          11000,
          10300,
          11000
         ],
         "yaxis": "y2"
        },
        {
         "hovertemplate": "seed=1<br>step=%{x}<br>value=%{y}<extra></extra>",
         "legendgroup": "1",
         "line": {
          "color": "#EF553B",
          "dash": "solid"
         },
         "marker": {
          "symbol": "circle"
         },
         "mode": "lines",
         "name": "1",
         "orientation": "v",
         "showlegend": true,
         "type": "scatter",
         "x": [
          38156,
          58156,
          78156,
          98156,
          118156,
          138156,
          158156,
          178156,
          198156,
          218156,
          238156,
          258156,
          278156,
          298156,
          318156,
          338156,
          358156,
          378156,
          398156
         ],
         "xaxis": "x2",
         "y": [
          5650,
          0,
          0,
          0,
          6.25,
          0,
          0,
          971.875,
          11106.25,
          11000,
          11000,
          11000,
          11000,
          11000,
          11000,
          11000,
          11000,
          11000,
          11000
         ],
         "yaxis": "y2"
        },
        {
         "hovertemplate": "seed=2<br>step=%{x}<br>value=%{y}<extra></extra>",
         "legendgroup": "2",
         "line": {
          "color": "#00cc96",
          "dash": "solid"
         },
         "marker": {
          "symbol": "circle"
         },
         "mode": "lines",
         "name": "2",
         "orientation": "v",
         "showlegend": true,
         "type": "scatter",
         "x": [
          20004,
          40004,
          60004,
          80004,
          100004,
          120004,
          140004,
          160004,
          180004,
          200004,
          220004,
          240004,
          260004,
          280004,
          300004,
          320004,
          340004,
          360004,
          380004
         ],
         "xaxis": "x2",
         "y": [
          4887.5,
          0,
          0,
          0,
          206.25,
          0,
          209.375,
          11000,
          8956.25,
          10837.5,
          11000,
          3659.375,
          3400,
          24440.625,
          36853.125,
          40593.75,
          39809.375,
          40031.25,
          35168.75
         ],
         "yaxis": "y2"
        },
        {
         "hovertemplate": "seed=1<br>step=%{x}<br>value=%{y}<extra></extra>",
         "legendgroup": "1",
         "line": {
          "color": "#636efa",
          "dash": "solid"
         },
         "marker": {
          "symbol": "circle"
         },
         "mode": "lines",
         "name": "1",
         "orientation": "v",
         "showlegend": true,
         "type": "scatter",
         "x": [
          33852,
          53852,
          73852,
          93852,
          113852,
          133852,
          153852,
          173852,
          193852,
          213852,
          233852,
          253852,
          273852,
          293852,
          313852,
          333852,
          353852,
          373852,
          393852
         ],
         "xaxis": "x5",
         "y": [
          4912.5,
          0,
          0,
          0,
          3400,
          3400,
          11000,
          11000,
          11000,
          11000,
          11000,
          34134.375,
          38259.375,
          40662.5,
          47265.625,
          35771.875,
          41440.625,
          50856.25,
          51337.5
         ],
         "yaxis": "y5"
        },
        {
         "hovertemplate": "seed=0<br>step=%{x}<br>value=%{y}<extra></extra>",
         "legendgroup": "0",
         "line": {
          "color": "#EF553B",
          "dash": "solid"
         },
         "marker": {
          "symbol": "circle"
         },
         "mode": "lines",
         "name": "0",
         "orientation": "v",
         "showlegend": true,
         "type": "scatter",
         "x": [
          21616,
          41616,
          61616,
          81616,
          101616,
          121616,
          141616,
          161616,
          181616,
          201616,
          221616,
          241616,
          261616,
          281616,
          301616,
          321616,
          341616,
          361616,
          381616
         ],
         "xaxis": "x5",
         "y": [
          7168.75,
          0,
          0,
          0,
          3600,
          3400,
          3400,
          10968.75,
          11000,
          28981.25,
          6418.75,
          32096.875,
          37256.25,
          28337.5,
          32918.75,
          13496.875,
          30050,
          24984.375,
          46450
         ],
         "yaxis": "y5"
        },
        {
         "hovertemplate": "seed=2<br>step=%{x}<br>value=%{y}<extra></extra>",
         "legendgroup": "2",
         "line": {
          "color": "#00cc96",
          "dash": "solid"
         },
         "marker": {
          "symbol": "circle"
         },
         "mode": "lines",
         "name": "2",
         "orientation": "v",
         "showlegend": true,
         "type": "scatter",
         "x": [
          20004,
          40004,
          60004,
          80004,
          100004,
          120004,
          140004,
          160004,
          180004,
          200004,
          220004,
          240004,
          260004,
          280004,
          300004,
          320004,
          340004,
          360004,
          380004
         ],
         "xaxis": "x5",
         "y": [
          5378.125,
          0,
          0,
          146.875,
          3400,
          3400,
          3400,
          11000,
          11000,
          11000,
          3637.5,
          11000,
          21318.75,
          22796.875,
          21500,
          30231.25,
          28034.375,
          28362.5,
          27090.625
         ],
         "yaxis": "y5"
        },
        {
         "hovertemplate": "seed=2<br>step=%{x}<br>value=%{y}<extra></extra>",
         "legendgroup": "2",
         "line": {
          "color": "#636efa",
          "dash": "solid"
         },
         "marker": {
          "symbol": "circle"
         },
         "mode": "lines",
         "name": "2",
         "orientation": "v",
         "showlegend": true,
         "type": "scatter",
         "x": [
          20004,
          40004,
          60004,
          80004,
          100004,
          120004,
          140004,
          160004,
          180004,
          200004,
          220004,
          240004,
          260004,
          280004,
          300004,
          320004,
          340004,
          360004,
          380004
         ],
         "xaxis": "x8",
         "y": [
          4887.5,
          0,
          3393.75,
          10643.75,
          30471.875,
          24521.875,
          39865.625,
          46618.75,
          42196.875,
          45300,
          47931.25,
          47784.375,
          41987.5,
          34556.25,
          50128.125,
          50156.25,
          32796.875,
          54478.125,
          44115.625
         ],
         "yaxis": "y8"
        },
        {
         "hovertemplate": "seed=1<br>step=%{x}<br>value=%{y}<extra></extra>",
         "legendgroup": "1",
         "line": {
          "color": "#EF553B",
          "dash": "solid"
         },
         "marker": {
          "symbol": "circle"
         },
         "mode": "lines",
         "name": "1",
         "orientation": "v",
         "showlegend": true,
         "type": "scatter",
         "x": [
          33852,
          53852,
          73852,
          93852,
          113852,
          133852,
          153852,
          173852,
          193852,
          213852,
          233852,
          253852,
          273852,
          293852,
          313852,
          333852,
          353852,
          373852,
          393852
         ],
         "xaxis": "x8",
         "y": [
          4912.5,
          0,
          3400,
          11478.125,
          11000,
          11000,
          11000,
          11000,
          11000,
          28831.25,
          31303.125,
          32037.5,
          38971.875,
          40315.625,
          44640.625,
          44631.25,
          46006.25,
          39656.25,
          43768.75
         ],
         "yaxis": "y8"
        },
        {
         "hovertemplate": "seed=0<br>step=%{x}<br>value=%{y}<extra></extra>",
         "legendgroup": "0",
         "line": {
          "color": "#00cc96",
          "dash": "solid"
         },
         "marker": {
          "symbol": "circle"
         },
         "mode": "lines",
         "name": "0",
         "orientation": "v",
         "showlegend": true,
         "type": "scatter",
         "x": [
          21616,
          41616,
          61616,
          81616,
          101616,
          121616,
          141616,
          161616,
          181616,
          201616,
          221616,
          241616,
          261616,
          281616,
          301616,
          321616,
          341616,
          361616,
          381616
         ],
         "xaxis": "x8",
         "y": [
          7168.75,
          46.875,
          11000,
          6575,
          25706.25,
          17715.625,
          3400,
          37868.75,
          14540.625,
          14306.25,
          15334.375,
          11809.375,
          30706.25,
          50612.5,
          45603.125,
          51912.5,
          62993.75,
          52396.875,
          48156.25
         ],
         "yaxis": "y8"
        },
        {
         "hovertemplate": "seed=1<br>step=%{x}<br>value=%{y}<extra></extra>",
         "legendgroup": "1",
         "line": {
          "color": "#636efa",
          "dash": "solid"
         },
         "marker": {
          "symbol": "circle"
         },
         "mode": "lines",
         "name": "1",
         "orientation": "v",
         "showlegend": true,
         "type": "scatter",
         "x": [
          33852,
          53852,
          73852,
          93852,
          113852,
          133852,
          153852,
          173852,
          193852,
          213852,
          233852,
          253852,
          273852,
          293852,
          313852,
          333852,
          353852,
          373852,
          393852
         ],
         "xaxis": "x11",
         "y": [
          6000,
          10040.625,
          11000,
          30525,
          38693.75,
          29003.125,
          34625,
          45671.875,
          20425,
          27687.5,
          23668.75,
          33181.25,
          30865.625,
          51656.25,
          57715.625,
          49243.75,
          37878.125,
          50156.25,
          25234.375
         ],
         "yaxis": "y11"
        },
        {
         "hovertemplate": "seed=2<br>step=%{x}<br>value=%{y}<extra></extra>",
         "legendgroup": "2",
         "line": {
          "color": "#EF553B",
          "dash": "solid"
         },
         "marker": {
          "symbol": "circle"
         },
         "mode": "lines",
         "name": "2",
         "orientation": "v",
         "showlegend": true,
         "type": "scatter",
         "x": [
          20004,
          40004,
          60004,
          80004,
          100004,
          120004,
          140004,
          160004,
          180004,
          200004,
          220004,
          240004,
          260004,
          280004,
          300004,
          320004,
          340004,
          360004,
          380004
         ],
         "xaxis": "x11",
         "y": [
          4825,
          9140.625,
          22775,
          22490.625,
          44509.375,
          38203.125,
          39493.75,
          33478.125,
          35946.875,
          37346.875,
          39146.875,
          28150,
          15725,
          17762.5,
          42712.5,
          32196.875,
          15628.125,
          15337.5,
          20409.375
         ],
         "yaxis": "y11"
        },
        {
         "hovertemplate": "seed=0<br>step=%{x}<br>value=%{y}<extra></extra>",
         "legendgroup": "0",
         "line": {
          "color": "#00cc96",
          "dash": "solid"
         },
         "marker": {
          "symbol": "circle"
         },
         "mode": "lines",
         "name": "0",
         "orientation": "v",
         "showlegend": true,
         "type": "scatter",
         "x": [
          21616,
          41616,
          61616,
          81616,
          101616,
          121616,
          141616,
          161616,
          181616,
          201616,
          221616,
          241616,
          261616,
          281616,
          301616,
          321616,
          341616,
          361616,
          381616
         ],
         "xaxis": "x11",
         "y": [
          7168.75,
          3637.5,
          18190.625,
          31500,
          11503.125,
          17240.625,
          15471.875,
          27090.625,
          39062.5,
          41943.75,
          42071.875,
          45218.75,
          34296.875,
          26156.25,
          26803.125,
          21690.625,
          52468.75,
          49906.25,
          51971.875
         ],
         "yaxis": "y11"
        },
        {
         "hovertemplate": "seed=0<br>step=%{x}<br>value=%{y}<extra></extra>",
         "legendgroup": "0",
         "line": {
          "color": "#636efa",
          "dash": "solid"
         },
         "marker": {
          "symbol": "circle"
         },
         "mode": "lines",
         "name": "0",
         "orientation": "v",
         "showlegend": true,
         "type": "scatter",
         "x": [
          23704,
          43704,
          63704,
          83704,
          103704,
          123704,
          143704,
          163704,
          183704,
          203704,
          223704,
          243704,
          263704,
          283704,
          303704,
          323704,
          343704,
          363704,
          383704
         ],
         "xaxis": "x14",
         "y": [
          7225,
          34921.875,
          8731.25,
          25865.625,
          28581.25,
          50675,
          40959.375,
          29565.625,
          39931.25,
          47612.5,
          50362.5,
          46490.625,
          48225,
          49346.875,
          49990.625,
          47668.75,
          67853.125,
          58293.75,
          67287.5
         ],
         "yaxis": "y14"
        },
        {
         "hovertemplate": "seed=2<br>step=%{x}<br>value=%{y}<extra></extra>",
         "legendgroup": "2",
         "line": {
          "color": "#EF553B",
          "dash": "solid"
         },
         "marker": {
          "symbol": "circle"
         },
         "mode": "lines",
         "name": "2",
         "orientation": "v",
         "showlegend": true,
         "type": "scatter",
         "x": [
          20004,
          40004,
          60004,
          80004,
          100004,
          120004,
          140004,
          160004,
          180004,
          200004,
          220004,
          240004,
          260004,
          280004,
          300004,
          320004,
          340004,
          360004,
          380004
         ],
         "xaxis": "x14",
         "y": [
          5378.125,
          12100,
          25887.5,
          22265.625,
          34025,
          16278.125,
          36709.375,
          42081.25,
          56150,
          32896.875,
          43425,
          39971.875,
          38475,
          39100,
          20281.25,
          15918.75,
          48456.25,
          50187.5,
          16000
         ],
         "yaxis": "y14"
        },
        {
         "hovertemplate": "seed=1<br>step=%{x}<br>value=%{y}<extra></extra>",
         "legendgroup": "1",
         "line": {
          "color": "#00cc96",
          "dash": "solid"
         },
         "marker": {
          "symbol": "circle"
         },
         "mode": "lines",
         "name": "1",
         "orientation": "v",
         "showlegend": true,
         "type": "scatter",
         "x": [
          33852,
          53852,
          73852,
          93852,
          113852,
          133852,
          153852,
          173852,
          193852,
          213852,
          233852,
          253852,
          273852,
          293852,
          313852,
          333852,
          353852,
          373852,
          393852
         ],
         "xaxis": "x14",
         "y": [
          6000,
          11000,
          31253.125,
          21759.375,
          39453.125,
          41425,
          34815.625,
          47303.125,
          19115.625,
          44221.875,
          47378.125,
          15846.875,
          26737.5,
          55162.5,
          55981.25,
          56821.875,
          67903.125,
          64096.875,
          61037.5
         ],
         "yaxis": "y14"
        },
        {
         "hovertemplate": "seed=1<br>step=%{x}<br>value=%{y}<extra></extra>",
         "legendgroup": "1",
         "line": {
          "color": "#636efa",
          "dash": "solid"
         },
         "marker": {
          "symbol": "circle"
         },
         "mode": "lines",
         "name": "1",
         "orientation": "v",
         "showlegend": true,
         "type": "scatter",
         "x": [
          33852,
          53852,
          73852,
          93852,
          113852,
          133852,
          153852,
          173852,
          193852,
          213852,
          233852,
          253852,
          273852,
          293852,
          313852,
          333852,
          353852,
          373852,
          393852
         ],
         "xaxis": "x17",
         "y": [
          6000,
          11000,
          32362.5,
          37615.625,
          29671.875,
          34300,
          9912.5,
          5400,
          21806.25,
          24950,
          10512.5,
          3400,
          6221.875,
          28846.875,
          9850,
          24728.125,
          21681.25,
          34565.625,
          40415.625
         ],
         "yaxis": "y17"
        },
        {
         "hovertemplate": "seed=2<br>step=%{x}<br>value=%{y}<extra></extra>",
         "legendgroup": "2",
         "line": {
          "color": "#EF553B",
          "dash": "solid"
         },
         "marker": {
          "symbol": "circle"
         },
         "mode": "lines",
         "name": "2",
         "orientation": "v",
         "showlegend": true,
         "type": "scatter",
         "x": [
          20004,
          40004,
          60004,
          80004,
          100004,
          120004,
          140004,
          160004,
          180004,
          200004,
          220004,
          240004,
          260004,
          280004,
          300004,
          320004,
          340004,
          360004,
          380004
         ],
         "xaxis": "x17",
         "y": [
          4825,
          22015.625,
          25512.5,
          37531.25,
          26875,
          32009.375,
          41040.625,
          24137.5,
          19918.75,
          37984.375,
          37843.75,
          45487.5,
          53906.25,
          19559.375,
          33059.375,
          36637.5,
          8609.375,
          17143.75,
          44046.875
         ],
         "yaxis": "y17"
        },
        {
         "hovertemplate": "seed=0<br>step=%{x}<br>value=%{y}<extra></extra>",
         "legendgroup": "0",
         "line": {
          "color": "#00cc96",
          "dash": "solid"
         },
         "marker": {
          "symbol": "circle"
         },
         "mode": "lines",
         "name": "0",
         "orientation": "v",
         "showlegend": true,
         "type": "scatter",
         "x": [
          21616,
          41616,
          61616,
          81616,
          101616,
          121616,
          141616,
          161616,
          181616,
          201616,
          221616,
          241616,
          261616,
          281616,
          301616,
          321616,
          341616,
          361616,
          381616
         ],
         "xaxis": "x17",
         "y": [
          7168.75,
          39421.875,
          18440.625,
          32946.875,
          30356.25,
          48121.875,
          5912.5,
          35078.125,
          8825,
          29306.25,
          29306.25,
          43000,
          39662.5,
          51790.625,
          43768.75,
          54840.625,
          52184.375,
          47334.375,
          42412.5
         ],
         "yaxis": "y17"
        },
        {
         "hovertemplate": "seed=1<br>step=%{x}<br>value=%{y}<extra></extra>",
         "legendgroup": "1",
         "line": {
          "color": "#636efa",
          "dash": "solid"
         },
         "marker": {
          "symbol": "circle"
         },
         "mode": "lines",
         "name": "1",
         "orientation": "v",
         "showlegend": true,
         "type": "scatter",
         "x": [
          20004,
          40004,
          60004,
          80004,
          100004,
          120004,
          140004,
          160004,
          180004,
          200004,
          220004,
          240004,
          260004,
          280004,
          300004,
          320004,
          340004,
          360004,
          380004
         ],
         "xaxis": "x3",
         "y": [
          257.90625,
          0,
          334.03125,
          0,
          594.5625,
          605.71875,
          409.5,
          374.71875,
          433.125,
          494.15625,
          435.75,
          477.09375,
          447.5625,
          458.0625,
          498.75,
          511.875,
          498.75,
          465.28125,
          452.15625
         ],
         "yaxis": "y3"
        },
        {
         "hovertemplate": "seed=2<br>step=%{x}<br>value=%{y}<extra></extra>",
         "legendgroup": "2",
         "line": {
          "color": "#EF553B",
          "dash": "solid"
         },
         "marker": {
          "symbol": "circle"
         },
         "mode": "lines",
         "name": "2",
         "orientation": "v",
         "showlegend": true,
         "type": "scatter",
         "x": [
          20004,
          40004,
          60004,
          80004,
          100004,
          120004,
          140004,
          160004,
          180004,
          200004,
          220004,
          240004,
          260004,
          280004,
          300004,
          320004,
          340004,
          360004,
          380004
         ],
         "xaxis": "x3",
         "y": [
          159.46875,
          408.84375,
          389.8125,
          384.5625,
          371.4375,
          396.375,
          378.65625,
          388.5,
          357.65625,
          391.125,
          383.90625,
          367.5,
          381.9375,
          183.09375,
          276.28125,
          331.40625,
          317.625,
          357.65625,
          357
         ],
         "yaxis": "y3"
        },
        {
         "hovertemplate": "seed=0<br>step=%{x}<br>value=%{y}<extra></extra>",
         "legendgroup": "0",
         "line": {
          "color": "#00cc96",
          "dash": "solid"
         },
         "marker": {
          "symbol": "circle"
         },
         "mode": "lines",
         "name": "0",
         "orientation": "v",
         "showlegend": true,
         "type": "scatter",
         "x": [
          20004,
          40004,
          60004,
          80004,
          100004,
          120004,
          140004,
          160004,
          180004,
          200004,
          220004,
          240004,
          260004,
          280004,
          300004,
          320004,
          340004,
          360004,
          380004
         ],
         "xaxis": "x3",
         "y": [
          151.59375,
          0,
          0,
          372.75,
          393.75,
          383.25,
          399,
          393.09375,
          342.5625,
          397.6875,
          399,
          373.40625,
          384.5625,
          330.09375,
          390.46875,
          395.0625,
          374.0625,
          445.59375,
          360.28125
         ],
         "yaxis": "y3"
        },
        {
         "hovertemplate": "seed=1<br>step=%{x}<br>value=%{y}<extra></extra>",
         "legendgroup": "1",
         "line": {
          "color": "#636efa",
          "dash": "solid"
         },
         "marker": {
          "symbol": "circle"
         },
         "mode": "lines",
         "name": "1",
         "orientation": "v",
         "showlegend": true,
         "type": "scatter",
         "x": [
          20004,
          40004,
          60004,
          80004,
          100004,
          120004,
          140004,
          160004,
          180004,
          200004,
          220004,
          240004,
          260004,
          280004,
          300004,
          320004,
          340004,
          360004,
          380004
         ],
         "xaxis": "x6",
         "y": [
          257.90625,
          393.09375,
          373.40625,
          387.1875,
          361.59375,
          477.09375,
          506.625,
          584.71875,
          556.5,
          592.59375,
          658.875,
          437.71875,
          454.125,
          217.21875,
          362.875,
          645.09375,
          686.75,
          754.03125,
          705.125
         ],
         "yaxis": "y6"
        },
        {
         "hovertemplate": "seed=0<br>step=%{x}<br>value=%{y}<extra></extra>",
         "legendgroup": "0",
         "line": {
          "color": "#EF553B",
          "dash": "solid"
         },
         "marker": {
          "symbol": "circle"
         },
         "mode": "lines",
         "name": "0",
         "orientation": "v",
         "showlegend": true,
         "type": "scatter",
         "x": [
          20004,
          40004,
          60004,
          80004,
          100004,
          120004,
          140004,
          160004,
          180004,
          200004,
          220004,
          240004,
          260004,
          280004,
          300004,
          320004,
          340004,
          360004,
          380004
         ],
         "xaxis": "x6",
         "y": [
          149.625,
          0,
          335.34375,
          343.21875,
          339.28125,
          324.1875,
          449.53125,
          423.9375,
          484.96875,
          484.3125,
          408.1875,
          438.375,
          450.84375,
          455.09375,
          482.34375,
          510.5625,
          481.03125,
          572.90625,
          568.96875
         ],
         "yaxis": "y6"
        },
        {
         "hovertemplate": "seed=2<br>step=%{x}<br>value=%{y}<extra></extra>",
         "legendgroup": "2",
         "line": {
          "color": "#00cc96",
          "dash": "solid"
         },
         "marker": {
          "symbol": "circle"
         },
         "mode": "lines",
         "name": "2",
         "orientation": "v",
         "showlegend": true,
         "type": "scatter",
         "x": [
          20004,
          40004,
          60004,
          80004,
          100004,
          120004,
          140004,
          160004,
          180004,
          200004,
          220004,
          240004,
          260004,
          280004,
          300004,
          320004,
          340004,
          360004,
          380004
         ],
         "xaxis": "x6",
         "y": [
          143.0625,
          374.71875,
          389.8125,
          408.1875,
          387.1875,
          375.375,
          381.9375,
          320.25,
          328.125,
          525.65625,
          516.46875,
          500.71875,
          546.65625,
          466.59375,
          479.0625,
          500.71875,
          564.375,
          583.40625,
          588
         ],
         "yaxis": "y6"
        },
        {
         "hovertemplate": "seed=1<br>step=%{x}<br>value=%{y}<extra></extra>",
         "legendgroup": "1",
         "line": {
          "color": "#636efa",
          "dash": "solid"
         },
         "marker": {
          "symbol": "circle"
         },
         "mode": "lines",
         "name": "1",
         "orientation": "v",
         "showlegend": true,
         "type": "scatter",
         "x": [
          20004,
          40004,
          60004,
          80004,
          100004,
          120004,
          140004,
          160004,
          180004,
          200004,
          220004,
          240004,
          260004,
          280004,
          300004,
          320004,
          340004,
          360004,
          380004
         ],
         "xaxis": "x9",
         "y": [
          259.21875,
          391.78125,
          368.8125,
          439.03125,
          450.84375,
          422.625,
          553.21875,
          481.03125,
          454.4375,
          457.40625,
          495.46875,
          521.71875,
          545,
          532.21875,
          574.875,
          552.5625,
          523.6875,
          641.15625,
          592.59375
         ],
         "yaxis": "y9"
        },
        {
         "hovertemplate": "seed=0<br>step=%{x}<br>value=%{y}<extra></extra>",
         "legendgroup": "0",
         "line": {
          "color": "#EF553B",
          "dash": "solid"
         },
         "marker": {
          "symbol": "circle"
         },
         "mode": "lines",
         "name": "0",
         "orientation": "v",
         "showlegend": true,
         "type": "scatter",
         "x": [
          20004,
          40004,
          60004,
          80004,
          100004,
          120004,
          140004,
          160004,
          180004,
          200004,
          220004,
          240004,
          260004,
          280004,
          300004,
          320004,
          340004,
          360004,
          380004
         ],
         "xaxis": "x9",
         "y": [
          151.59375,
          0,
          391.125,
          341.90625,
          309.75,
          397.6875,
          488.90625,
          509.90625,
          559.125,
          557.8125,
          520.40625,
          645.75,
          669.375,
          683.15625,
          654.9375,
          679.875,
          725.15625,
          687.75,
          688.40625
         ],
         "yaxis": "y9"
        },
        {
         "hovertemplate": "seed=2<br>step=%{x}<br>value=%{y}<extra></extra>",
         "legendgroup": "2",
         "line": {
          "color": "#00cc96",
          "dash": "solid"
         },
         "marker": {
          "symbol": "circle"
         },
         "mode": "lines",
         "name": "2",
         "orientation": "v",
         "showlegend": true,
         "type": "scatter",
         "x": [
          20004,
          40004,
          60004,
          80004,
          100004,
          120004,
          140004,
          160004,
          180004,
          200004,
          220004,
          240004,
          260004,
          280004,
          300004,
          320004,
          340004,
          360004,
          380004
         ],
         "xaxis": "x9",
         "y": [
          159.46875,
          408.84375,
          389.8125,
          384.5625,
          371.4375,
          396.375,
          345.1875,
          339.28125,
          355.6875,
          316.3125,
          343.875,
          464.9375,
          621.78125,
          601.09375,
          561.09375,
          521.71875,
          626.96875,
          638.1875,
          611.90625
         ],
         "yaxis": "y9"
        },
        {
         "hovertemplate": "seed=2<br>step=%{x}<br>value=%{y}<extra></extra>",
         "legendgroup": "2",
         "line": {
          "color": "#636efa",
          "dash": "solid"
         },
         "marker": {
          "symbol": "circle"
         },
         "mode": "lines",
         "name": "2",
         "orientation": "v",
         "showlegend": true,
         "type": "scatter",
         "x": [
          20004,
          40004,
          60004,
          80004,
          100004,
          120004,
          140004,
          160004,
          180004,
          200004,
          220004,
          240004,
          260004,
          280004,
          300004,
          320004,
          340004,
          360004,
          380004
         ],
         "xaxis": "x12",
         "y": [
          156.84375,
          388.5,
          568.96875,
          462.65625,
          523.03125,
          569.625,
          494.125,
          522.34375,
          537.125,
          536.15625,
          582.65625,
          629.90625,
          670.5,
          673.625,
          682.28125,
          708.875,
          704.34375,
          726.84375,
          702.3125
         ],
         "yaxis": "y12"
        },
        {
         "hovertemplate": "seed=0<br>step=%{x}<br>value=%{y}<extra></extra>",
         "legendgroup": "0",
         "line": {
          "color": "#EF553B",
          "dash": "solid"
         },
         "marker": {
          "symbol": "circle"
         },
         "mode": "lines",
         "name": "0",
         "orientation": "v",
         "showlegend": true,
         "type": "scatter",
         "x": [
          20004,
          40004,
          60004,
          80004,
          100004,
          120004,
          140004,
          160004,
          180004,
          200004,
          220004,
          240004,
          260004,
          280004,
          300004,
          320004,
          340004,
          360004,
          380004
         ],
         "xaxis": "x12",
         "y": [
          151.59375,
          398.34375,
          430.5,
          460.6875,
          496.4375,
          417.375,
          485.625,
          410.8125,
          587.34375,
          599.8125,
          579.46875,
          622.125,
          549.9375,
          670.6875,
          700.53125,
          707.4375,
          713.34375,
          761.90625,
          738.28125
         ],
         "yaxis": "y12"
        },
        {
         "hovertemplate": "seed=1<br>step=%{x}<br>value=%{y}<extra></extra>",
         "legendgroup": "1",
         "line": {
          "color": "#00cc96",
          "dash": "solid"
         },
         "marker": {
          "symbol": "circle"
         },
         "mode": "lines",
         "name": "1",
         "orientation": "v",
         "showlegend": true,
         "type": "scatter",
         "x": [
          20004,
          40004,
          60004,
          80004,
          100004,
          120004,
          140004,
          160004,
          180004,
          200004,
          220004,
          240004,
          260004,
          280004,
          300004,
          320004,
          340004,
          360004,
          380004
         ],
         "xaxis": "x12",
         "y": [
          280.21875,
          521.71875,
          400.3125,
          481.03125,
          548.625,
          529.875,
          562.59375,
          543.96875,
          550.84375,
          576.125,
          605.625,
          615.75,
          602.03125,
          615.1875,
          591.5625,
          659.1875,
          695.28125,
          687.71875,
          701.4375
         ],
         "yaxis": "y12"
        },
        {
         "hovertemplate": "seed=1<br>step=%{x}<br>value=%{y}<extra></extra>",
         "legendgroup": "1",
         "line": {
          "color": "#636efa",
          "dash": "solid"
         },
         "marker": {
          "symbol": "circle"
         },
         "mode": "lines",
         "name": "1",
         "orientation": "v",
         "showlegend": true,
         "type": "scatter",
         "x": [
          20004,
          40004,
          60004,
          80004,
          100004,
          120004,
          140004,
          160004,
          180004,
          200004,
          220004,
          240004,
          260004,
          280004,
          300004,
          320004,
          340004,
          360004,
          380004
         ],
         "xaxis": "x15",
         "y": [
          290.0625,
          299.25,
          304.5,
          358.3125,
          347.15625,
          353.0625,
          392.09375,
          470.5,
          440,
          478.375,
          501,
          551.8125,
          510.84375,
          524.65625,
          580.4375,
          550.59375,
          593.25,
          558.03125,
          575.78125
         ],
         "yaxis": "y15"
        },
        {
         "hovertemplate": "seed=2<br>step=%{x}<br>value=%{y}<extra></extra>",
         "legendgroup": "2",
         "line": {
          "color": "#EF553B",
          "dash": "solid"
         },
         "marker": {
          "symbol": "circle"
         },
         "mode": "lines",
         "name": "2",
         "orientation": "v",
         "showlegend": true,
         "type": "scatter",
         "x": [
          20004,
          40004,
          60004,
          80004,
          100004,
          120004,
          140004,
          160004,
          180004,
          200004,
          220004,
          240004,
          260004,
          280004,
          300004,
          320004,
          340004,
          360004,
          380004
         ],
         "xaxis": "x15",
         "y": [
          156.84375,
          525,
          339.28125,
          370.78125,
          442.96875,
          499.96875,
          464.9375,
          639.75,
          619.15625,
          690.65625,
          677.1875,
          687.40625,
          677.84375,
          705.96875,
          702.71875,
          732,
          710.9375,
          801.0625,
          757.125
         ],
         "yaxis": "y15"
        },
        {
         "hovertemplate": "seed=0<br>step=%{x}<br>value=%{y}<extra></extra>",
         "legendgroup": "0",
         "line": {
          "color": "#00cc96",
          "dash": "solid"
         },
         "marker": {
          "symbol": "circle"
         },
         "mode": "lines",
         "name": "0",
         "orientation": "v",
         "showlegend": true,
         "type": "scatter",
         "x": [
          20004,
          40004,
          60004,
          80004,
          100004,
          120004,
          140004,
          160004,
          180004,
          200004,
          220004,
          240004,
          260004,
          280004,
          300004,
          320004,
          340004,
          360004,
          380004
         ],
         "xaxis": "x15",
         "y": [
          130.59375,
          633.9375,
          373.40625,
          504.96875,
          558.46875,
          563.625,
          530.25,
          539.09375,
          588.28125,
          617.46875,
          633.875,
          664.71875,
          693.9375,
          711.34375,
          744.59375,
          730.09375,
          769.84375,
          834.65625,
          781.4375
         ],
         "yaxis": "y15"
        },
        {
         "hovertemplate": "seed=0<br>step=%{x}<br>value=%{y}<extra></extra>",
         "legendgroup": "0",
         "line": {
          "color": "#636efa",
          "dash": "solid"
         },
         "marker": {
          "symbol": "circle"
         },
         "mode": "lines",
         "name": "0",
         "orientation": "v",
         "showlegend": true,
         "type": "scatter",
         "x": [
          20004,
          40004,
          60004,
          80004,
          100004,
          120004,
          140004,
          160004,
          180004,
          200004,
          220004,
          240004,
          260004,
          280004,
          300004,
          320004,
          340004,
          360004,
          380004
         ],
         "xaxis": "x18",
         "y": [
          130.59375,
          338.625,
          374.0625,
          332.0625,
          384.5625,
          370.78125,
          435.09375,
          435.09375,
          464.625,
          546,
          617.53125,
          606.375,
          595.875,
          541.40625,
          623.4375,
          685.375,
          669.6875,
          657.5625,
          706.40625
         ],
         "yaxis": "y18"
        },
        {
         "hovertemplate": "seed=1<br>step=%{x}<br>value=%{y}<extra></extra>",
         "legendgroup": "1",
         "line": {
          "color": "#EF553B",
          "dash": "solid"
         },
         "marker": {
          "symbol": "circle"
         },
         "mode": "lines",
         "name": "1",
         "orientation": "v",
         "showlegend": true,
         "type": "scatter",
         "x": [
          20004,
          40004,
          60004,
          80004,
          100004,
          120004,
          140004,
          160004,
          180004,
          200004,
          220004,
          240004,
          260004,
          280004,
          300004,
          320004,
          340004,
          360004,
          380004
         ],
         "xaxis": "x18",
         "y": [
          290.0625,
          353.0625,
          414.75,
          449.1875,
          530.84375,
          603.0625,
          576.15625,
          617.1875,
          628.03125,
          655.59375,
          689.375,
          687.09375,
          716.25,
          710.375,
          710.96875,
          691.65625,
          708.71875,
          739.53125,
          742.375
         ],
         "yaxis": "y18"
        },
        {
         "hovertemplate": "seed=2<br>step=%{x}<br>value=%{y}<extra></extra>",
         "legendgroup": "2",
         "line": {
          "color": "#00cc96",
          "dash": "solid"
         },
         "marker": {
          "symbol": "circle"
         },
         "mode": "lines",
         "name": "2",
         "orientation": "v",
         "showlegend": true,
         "type": "scatter",
         "x": [
          20004,
          40004,
          60004,
          80004,
          100004,
          120004,
          140004,
          160004,
          180004,
          200004,
          220004,
          240004,
          260004,
          280004,
          300004,
          320004,
          340004,
          360004,
          380004
         ],
         "xaxis": "x18",
         "y": [
          158.8125,
          358.96875,
          552.5625,
          444.9375,
          408.84375,
          519.71875,
          567.625,
          578.65625,
          570.25,
          534.84375,
          495.78125,
          523.65625,
          597.4375,
          568.59375,
          618.125,
          639.0625,
          617.46875,
          585.625,
          660.09375
         ],
         "yaxis": "y18"
        }
       ],
       "layout": {
        "annotations": [
         {
          "font": {
           "size": 16
          },
          "showarrow": false,
          "text": "Pong",
          "x": 0.13,
          "xanchor": "center",
          "xref": "paper",
          "y": 1,
          "yanchor": "bottom",
          "yref": "paper"
         },
         {
          "font": {
           "size": 16
          },
          "showarrow": false,
          "text": "CrazyClimber",
          "x": 0.49,
          "xanchor": "center",
          "xref": "paper",
          "y": 1,
          "yanchor": "bottom",
          "yref": "paper"
         },
         {
          "font": {
           "size": 16
          },
          "showarrow": false,
          "text": "Assault",
          "x": 0.85,
          "xanchor": "center",
          "xref": "paper",
          "y": 1,
          "yanchor": "bottom",
          "yref": "paper"
         },
         {
          "font": {
           "size": 16
          },
          "showarrow": false,
          "text": "64",
          "textangle": 90,
          "x": 0.98,
          "xanchor": "left",
          "xref": "paper",
          "y": 0.9375,
          "yanchor": "middle",
          "yref": "paper"
         },
         {
          "font": {
           "size": 16
          },
          "showarrow": false,
          "text": "32",
          "textangle": 90,
          "x": 0.98,
          "xanchor": "left",
          "xref": "paper",
          "y": 0.7625,
          "yanchor": "middle",
          "yref": "paper"
         },
         {
          "font": {
           "size": 16
          },
          "showarrow": false,
          "text": "16",
          "textangle": 90,
          "x": 0.98,
          "xanchor": "left",
          "xref": "paper",
          "y": 0.5875,
          "yanchor": "middle",
          "yref": "paper"
         },
         {
          "font": {
           "size": 16
          },
          "showarrow": false,
          "text": "8",
          "textangle": 90,
          "x": 0.98,
          "xanchor": "left",
          "xref": "paper",
          "y": 0.4125,
          "yanchor": "middle",
          "yref": "paper"
         },
         {
          "font": {
           "size": 16
          },
          "showarrow": false,
          "text": "4",
          "textangle": 90,
          "x": 0.98,
          "xanchor": "left",
          "xref": "paper",
          "y": 0.2375,
          "yanchor": "middle",
          "yref": "paper"
         },
         {
          "font": {
           "size": 16
          },
          "showarrow": false,
          "text": "2",
          "textangle": 90,
          "x": 0.98,
          "xanchor": "left",
          "xref": "paper",
          "y": 0.0625,
          "yanchor": "middle",
          "yref": "paper"
         }
        ],
        "autosize": false,
        "height": 1440,
        "showlegend": false,
        "template": {
         "data": {
          "bar": [
           {
            "error_x": {
             "color": "#2a3f5f"
            },
            "error_y": {
             "color": "#2a3f5f"
            },
            "marker": {
             "line": {
              "color": "#E5ECF6",
              "width": 0.5
             },
             "pattern": {
              "fillmode": "overlay",
              "size": 10,
              "solidity": 0.2
             }
            },
            "type": "bar"
           }
          ],
          "barpolar": [
           {
            "marker": {
             "line": {
              "color": "#E5ECF6",
              "width": 0.5
             },
             "pattern": {
              "fillmode": "overlay",
              "size": 10,
              "solidity": 0.2
             }
            },
            "type": "barpolar"
           }
          ],
          "carpet": [
           {
            "aaxis": {
             "endlinecolor": "#2a3f5f",
             "gridcolor": "white",
             "linecolor": "white",
             "minorgridcolor": "white",
             "startlinecolor": "#2a3f5f"
            },
            "baxis": {
             "endlinecolor": "#2a3f5f",
             "gridcolor": "white",
             "linecolor": "white",
             "minorgridcolor": "white",
             "startlinecolor": "#2a3f5f"
            },
            "type": "carpet"
           }
          ],
          "choropleth": [
           {
            "colorbar": {
             "outlinewidth": 0,
             "ticks": ""
            },
            "type": "choropleth"
           }
          ],
          "contour": [
           {
            "colorbar": {
             "outlinewidth": 0,
             "ticks": ""
            },
            "colorscale": [
             [
              0,
              "#0d0887"
             ],
             [
              0.1111111111111111,
              "#46039f"
             ],
             [
              0.2222222222222222,
              "#7201a8"
             ],
             [
              0.3333333333333333,
              "#9c179e"
             ],
             [
              0.4444444444444444,
              "#bd3786"
             ],
             [
              0.5555555555555556,
              "#d8576b"
             ],
             [
              0.6666666666666666,
              "#ed7953"
             ],
             [
              0.7777777777777778,
              "#fb9f3a"
             ],
             [
              0.8888888888888888,
              "#fdca26"
             ],
             [
              1,
              "#f0f921"
             ]
            ],
            "type": "contour"
           }
          ],
          "contourcarpet": [
           {
            "colorbar": {
             "outlinewidth": 0,
             "ticks": ""
            },
            "type": "contourcarpet"
           }
          ],
          "heatmap": [
           {
            "colorbar": {
             "outlinewidth": 0,
             "ticks": ""
            },
            "colorscale": [
             [
              0,
              "#0d0887"
             ],
             [
              0.1111111111111111,
              "#46039f"
             ],
             [
              0.2222222222222222,
              "#7201a8"
             ],
             [
              0.3333333333333333,
              "#9c179e"
             ],
             [
              0.4444444444444444,
              "#bd3786"
             ],
             [
              0.5555555555555556,
              "#d8576b"
             ],
             [
              0.6666666666666666,
              "#ed7953"
             ],
             [
              0.7777777777777778,
              "#fb9f3a"
             ],
             [
              0.8888888888888888,
              "#fdca26"
             ],
             [
              1,
              "#f0f921"
             ]
            ],
            "type": "heatmap"
           }
          ],
          "heatmapgl": [
           {
            "colorbar": {
             "outlinewidth": 0,
             "ticks": ""
            },
            "colorscale": [
             [
              0,
              "#0d0887"
             ],
             [
              0.1111111111111111,
              "#46039f"
             ],
             [
              0.2222222222222222,
              "#7201a8"
             ],
             [
              0.3333333333333333,
              "#9c179e"
             ],
             [
              0.4444444444444444,
              "#bd3786"
             ],
             [
              0.5555555555555556,
              "#d8576b"
             ],
             [
              0.6666666666666666,
              "#ed7953"
             ],
             [
              0.7777777777777778,
              "#fb9f3a"
             ],
             [
              0.8888888888888888,
              "#fdca26"
             ],
             [
              1,
              "#f0f921"
             ]
            ],
            "type": "heatmapgl"
           }
          ],
          "histogram": [
           {
            "marker": {
             "pattern": {
              "fillmode": "overlay",
              "size": 10,
              "solidity": 0.2
             }
            },
            "type": "histogram"
           }
          ],
          "histogram2d": [
           {
            "colorbar": {
             "outlinewidth": 0,
             "ticks": ""
            },
            "colorscale": [
             [
              0,
              "#0d0887"
             ],
             [
              0.1111111111111111,
              "#46039f"
             ],
             [
              0.2222222222222222,
              "#7201a8"
             ],
             [
              0.3333333333333333,
              "#9c179e"
             ],
             [
              0.4444444444444444,
              "#bd3786"
             ],
             [
              0.5555555555555556,
              "#d8576b"
             ],
             [
              0.6666666666666666,
              "#ed7953"
             ],
             [
              0.7777777777777778,
              "#fb9f3a"
             ],
             [
              0.8888888888888888,
              "#fdca26"
             ],
             [
              1,
              "#f0f921"
             ]
            ],
            "type": "histogram2d"
           }
          ],
          "histogram2dcontour": [
           {
            "colorbar": {
             "outlinewidth": 0,
             "ticks": ""
            },
            "colorscale": [
             [
              0,
              "#0d0887"
             ],
             [
              0.1111111111111111,
              "#46039f"
             ],
             [
              0.2222222222222222,
              "#7201a8"
             ],
             [
              0.3333333333333333,
              "#9c179e"
             ],
             [
              0.4444444444444444,
              "#bd3786"
             ],
             [
              0.5555555555555556,
              "#d8576b"
             ],
             [
              0.6666666666666666,
              "#ed7953"
             ],
             [
              0.7777777777777778,
              "#fb9f3a"
             ],
             [
              0.8888888888888888,
              "#fdca26"
             ],
             [
              1,
              "#f0f921"
             ]
            ],
            "type": "histogram2dcontour"
           }
          ],
          "mesh3d": [
           {
            "colorbar": {
             "outlinewidth": 0,
             "ticks": ""
            },
            "type": "mesh3d"
           }
          ],
          "parcoords": [
           {
            "line": {
             "colorbar": {
              "outlinewidth": 0,
              "ticks": ""
             }
            },
            "type": "parcoords"
           }
          ],
          "pie": [
           {
            "automargin": true,
            "type": "pie"
           }
          ],
          "scatter": [
           {
            "fillpattern": {
             "fillmode": "overlay",
             "size": 10,
             "solidity": 0.2
            },
            "type": "scatter"
           }
          ],
          "scatter3d": [
           {
            "line": {
             "colorbar": {
              "outlinewidth": 0,
              "ticks": ""
             }
            },
            "marker": {
             "colorbar": {
              "outlinewidth": 0,
              "ticks": ""
             }
            },
            "type": "scatter3d"
           }
          ],
          "scattercarpet": [
           {
            "marker": {
             "colorbar": {
              "outlinewidth": 0,
              "ticks": ""
             }
            },
            "type": "scattercarpet"
           }
          ],
          "scattergeo": [
           {
            "marker": {
             "colorbar": {
              "outlinewidth": 0,
              "ticks": ""
             }
            },
            "type": "scattergeo"
           }
          ],
          "scattergl": [
           {
            "marker": {
             "colorbar": {
              "outlinewidth": 0,
              "ticks": ""
             }
            },
            "type": "scattergl"
           }
          ],
          "scattermapbox": [
           {
            "marker": {
             "colorbar": {
              "outlinewidth": 0,
              "ticks": ""
             }
            },
            "type": "scattermapbox"
           }
          ],
          "scatterpolar": [
           {
            "marker": {
             "colorbar": {
              "outlinewidth": 0,
              "ticks": ""
             }
            },
            "type": "scatterpolar"
           }
          ],
          "scatterpolargl": [
           {
            "marker": {
             "colorbar": {
              "outlinewidth": 0,
              "ticks": ""
             }
            },
            "type": "scatterpolargl"
           }
          ],
          "scatterternary": [
           {
            "marker": {
             "colorbar": {
              "outlinewidth": 0,
              "ticks": ""
             }
            },
            "type": "scatterternary"
           }
          ],
          "surface": [
           {
            "colorbar": {
             "outlinewidth": 0,
             "ticks": ""
            },
            "colorscale": [
             [
              0,
              "#0d0887"
             ],
             [
              0.1111111111111111,
              "#46039f"
             ],
             [
              0.2222222222222222,
              "#7201a8"
             ],
             [
              0.3333333333333333,
              "#9c179e"
             ],
             [
              0.4444444444444444,
              "#bd3786"
             ],
             [
              0.5555555555555556,
              "#d8576b"
             ],
             [
              0.6666666666666666,
              "#ed7953"
             ],
             [
              0.7777777777777778,
              "#fb9f3a"
             ],
             [
              0.8888888888888888,
              "#fdca26"
             ],
             [
              1,
              "#f0f921"
             ]
            ],
            "type": "surface"
           }
          ],
          "table": [
           {
            "cells": {
             "fill": {
              "color": "#EBF0F8"
             },
             "line": {
              "color": "white"
             }
            },
            "header": {
             "fill": {
              "color": "#C8D4E3"
             },
             "line": {
              "color": "white"
             }
            },
            "type": "table"
           }
          ]
         },
         "layout": {
          "annotationdefaults": {
           "arrowcolor": "#2a3f5f",
           "arrowhead": 0,
           "arrowwidth": 1
          },
          "autotypenumbers": "strict",
          "coloraxis": {
           "colorbar": {
            "outlinewidth": 0,
            "ticks": ""
           }
          },
          "colorscale": {
           "diverging": [
            [
             0,
             "#8e0152"
            ],
            [
             0.1,
             "#c51b7d"
            ],
            [
             0.2,
             "#de77ae"
            ],
            [
             0.3,
             "#f1b6da"
            ],
            [
             0.4,
             "#fde0ef"
            ],
            [
             0.5,
             "#f7f7f7"
            ],
            [
             0.6,
             "#e6f5d0"
            ],
            [
             0.7,
             "#b8e186"
            ],
            [
             0.8,
             "#7fbc41"
            ],
            [
             0.9,
             "#4d9221"
            ],
            [
             1,
             "#276419"
            ]
           ],
           "sequential": [
            [
             0,
             "#0d0887"
            ],
            [
             0.1111111111111111,
             "#46039f"
            ],
            [
             0.2222222222222222,
             "#7201a8"
            ],
            [
             0.3333333333333333,
             "#9c179e"
            ],
            [
             0.4444444444444444,
             "#bd3786"
            ],
            [
             0.5555555555555556,
             "#d8576b"
            ],
            [
             0.6666666666666666,
             "#ed7953"
            ],
            [
             0.7777777777777778,
             "#fb9f3a"
            ],
            [
             0.8888888888888888,
             "#fdca26"
            ],
            [
             1,
             "#f0f921"
            ]
           ],
           "sequentialminus": [
            [
             0,
             "#0d0887"
            ],
            [
             0.1111111111111111,
             "#46039f"
            ],
            [
             0.2222222222222222,
             "#7201a8"
            ],
            [
             0.3333333333333333,
             "#9c179e"
            ],
            [
             0.4444444444444444,
             "#bd3786"
            ],
            [
             0.5555555555555556,
             "#d8576b"
            ],
            [
             0.6666666666666666,
             "#ed7953"
            ],
            [
             0.7777777777777778,
             "#fb9f3a"
            ],
            [
             0.8888888888888888,
             "#fdca26"
            ],
            [
             1,
             "#f0f921"
            ]
           ]
          },
          "colorway": [
           "#636efa",
           "#EF553B",
           "#00cc96",
           "#ab63fa",
           "#FFA15A",
           "#19d3f3",
           "#FF6692",
           "#B6E880",
           "#FF97FF",
           "#FECB52"
          ],
          "font": {
           "color": "#2a3f5f"
          },
          "geo": {
           "bgcolor": "white",
           "lakecolor": "white",
           "landcolor": "#E5ECF6",
           "showlakes": true,
           "showland": true,
           "subunitcolor": "white"
          },
          "hoverlabel": {
           "align": "left"
          },
          "hovermode": "closest",
          "mapbox": {
           "style": "light"
          },
          "paper_bgcolor": "white",
          "plot_bgcolor": "#E5ECF6",
          "polar": {
           "angularaxis": {
            "gridcolor": "white",
            "linecolor": "white",
            "ticks": ""
           },
           "bgcolor": "#E5ECF6",
           "radialaxis": {
            "gridcolor": "white",
            "linecolor": "white",
            "ticks": ""
           }
          },
          "scene": {
           "xaxis": {
            "backgroundcolor": "#E5ECF6",
            "gridcolor": "white",
            "gridwidth": 2,
            "linecolor": "white",
            "showbackground": true,
            "ticks": "",
            "zerolinecolor": "white"
           },
           "yaxis": {
            "backgroundcolor": "#E5ECF6",
            "gridcolor": "white",
            "gridwidth": 2,
            "linecolor": "white",
            "showbackground": true,
            "ticks": "",
            "zerolinecolor": "white"
           },
           "zaxis": {
            "backgroundcolor": "#E5ECF6",
            "gridcolor": "white",
            "gridwidth": 2,
            "linecolor": "white",
            "showbackground": true,
            "ticks": "",
            "zerolinecolor": "white"
           }
          },
          "shapedefaults": {
           "line": {
            "color": "#2a3f5f"
           }
          },
          "ternary": {
           "aaxis": {
            "gridcolor": "white",
            "linecolor": "white",
            "ticks": ""
           },
           "baxis": {
            "gridcolor": "white",
            "linecolor": "white",
            "ticks": ""
           },
           "bgcolor": "#E5ECF6",
           "caxis": {
            "gridcolor": "white",
            "linecolor": "white",
            "ticks": ""
           }
          },
          "title": {
           "x": 0.05
          },
          "xaxis": {
           "automargin": true,
           "gridcolor": "white",
           "linecolor": "white",
           "ticks": "",
           "title": {
            "standoff": 15
           },
           "zerolinecolor": "white",
           "zerolinewidth": 2
          },
          "yaxis": {
           "automargin": true,
           "gridcolor": "white",
           "linecolor": "white",
           "ticks": "",
           "title": {
            "standoff": 15
           },
           "zerolinecolor": "white",
           "zerolinewidth": 2
          }
         }
        },
        "width": 1024,
        "xaxis": {
         "anchor": "y",
         "domain": [
          0,
          0.26
         ]
        },
        "xaxis10": {
         "anchor": "y10",
         "domain": [
          0,
          0.26
         ]
        },
        "xaxis11": {
         "anchor": "y11",
         "domain": [
          0.36,
          0.62
         ]
        },
        "xaxis12": {
         "anchor": "y12",
         "domain": [
          0.72,
          0.98
         ]
        },
        "xaxis13": {
         "anchor": "y13",
         "domain": [
          0,
          0.26
         ]
        },
        "xaxis14": {
         "anchor": "y14",
         "domain": [
          0.36,
          0.62
         ]
        },
        "xaxis15": {
         "anchor": "y15",
         "domain": [
          0.72,
          0.98
         ]
        },
        "xaxis16": {
         "anchor": "y16",
         "domain": [
          0,
          0.26
         ]
        },
        "xaxis17": {
         "anchor": "y17",
         "domain": [
          0.36,
          0.62
         ]
        },
        "xaxis18": {
         "anchor": "y18",
         "domain": [
          0.72,
          0.98
         ]
        },
        "xaxis2": {
         "anchor": "y2",
         "domain": [
          0.36,
          0.62
         ]
        },
        "xaxis3": {
         "anchor": "y3",
         "domain": [
          0.72,
          0.98
         ]
        },
        "xaxis4": {
         "anchor": "y4",
         "domain": [
          0,
          0.26
         ]
        },
        "xaxis5": {
         "anchor": "y5",
         "domain": [
          0.36,
          0.62
         ]
        },
        "xaxis6": {
         "anchor": "y6",
         "domain": [
          0.72,
          0.98
         ]
        },
        "xaxis7": {
         "anchor": "y7",
         "domain": [
          0,
          0.26
         ]
        },
        "xaxis8": {
         "anchor": "y8",
         "domain": [
          0.36,
          0.62
         ]
        },
        "xaxis9": {
         "anchor": "y9",
         "domain": [
          0.72,
          0.98
         ]
        },
        "yaxis": {
         "anchor": "x",
         "domain": [
          0.875,
          1
         ]
        },
        "yaxis10": {
         "anchor": "x10",
         "domain": [
          0.35,
          0.475
         ]
        },
        "yaxis11": {
         "anchor": "x11",
         "domain": [
          0.35,
          0.475
         ]
        },
        "yaxis12": {
         "anchor": "x12",
         "domain": [
          0.35,
          0.475
         ]
        },
        "yaxis13": {
         "anchor": "x13",
         "domain": [
          0.175,
          0.3
         ]
        },
        "yaxis14": {
         "anchor": "x14",
         "domain": [
          0.175,
          0.3
         ]
        },
        "yaxis15": {
         "anchor": "x15",
         "domain": [
          0.175,
          0.3
         ]
        },
        "yaxis16": {
         "anchor": "x16",
         "domain": [
          0,
          0.125
         ]
        },
        "yaxis17": {
         "anchor": "x17",
         "domain": [
          0,
          0.125
         ]
        },
        "yaxis18": {
         "anchor": "x18",
         "domain": [
          0,
          0.125
         ]
        },
        "yaxis2": {
         "anchor": "x2",
         "domain": [
          0.875,
          1
         ]
        },
        "yaxis3": {
         "anchor": "x3",
         "domain": [
          0.875,
          1
         ]
        },
        "yaxis4": {
         "anchor": "x4",
         "domain": [
          0.7,
          0.825
         ]
        },
        "yaxis5": {
         "anchor": "x5",
         "domain": [
          0.7,
          0.825
         ]
        },
        "yaxis6": {
         "anchor": "x6",
         "domain": [
          0.7,
          0.825
         ]
        },
        "yaxis7": {
         "anchor": "x7",
         "domain": [
          0.525,
          0.65
         ]
        },
        "yaxis8": {
         "anchor": "x8",
         "domain": [
          0.525,
          0.65
         ]
        },
        "yaxis9": {
         "anchor": "x9",
         "domain": [
          0.525,
          0.65
         ]
        }
       }
      }
     },
     "metadata": {},
     "output_type": "display_data"
    }
   ],
   "source": [
    "env_ids = [\"Pong\", \"CrazyClimber\", \"Assault\"]\n",
    "freqs = [64, 32, 16, 8, 4, 2]\n",
    "\n",
    "fig = make_subplots(\n",
    "    rows=len(freqs),\n",
    "    cols=len(env_ids),\n",
    "    column_titles=env_ids,\n",
    "    row_titles=freqs,\n",
    "    horizontal_spacing=0.1,\n",
    "    vertical_spacing=0.05,\n",
    ")\n",
    "\n",
    "for ix, env_id in enumerate(env_ids, 1):\n",
    "    df1 = df[df[\"env\"] == env_id]\n",
    "    for iy, freq in enumerate(freqs, 1):\n",
    "        df2 = df1[df1[\"freq\"] == freq]\n",
    "        xpr = px.line(df2, x=\"step\", y=\"value\", color=\"seed\")\n",
    "        for trace in xpr.data:\n",
    "            fig.add_trace(trace, iy, ix)\n",
    "\n",
    "fig.update_layout(\n",
    "    showlegend=False,\n",
    "    autosize=False,\n",
    "    width=1024,\n",
    "    height=480 * 3,\n",
    ")\n",
    "\n",
    "fig.write_image(\"../tex/assets/naive_at_400k.pdf\")\n",
    "\n",
    "fig"
   ]
  }
 ],
 "metadata": {
  "kernelspec": {
   "display_name": "rsrch-8qRRKNqI-py3.10",
   "language": "python",
   "name": "python3"
  },
  "language_info": {
   "codemirror_mode": {
    "name": "ipython",
    "version": 3
   },
   "file_extension": ".py",
   "mimetype": "text/x-python",
   "name": "python",
   "nbconvert_exporter": "python",
   "pygments_lexer": "ipython3",
   "version": "3.10.14"
  }
 },
 "nbformat": 4,
 "nbformat_minor": 2
}
