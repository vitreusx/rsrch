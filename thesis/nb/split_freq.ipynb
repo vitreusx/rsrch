{
 "cells": [
  {
   "cell_type": "code",
   "execution_count": 1,
   "metadata": {},
   "outputs": [],
   "source": [
    "from utils import *\n",
    "\n",
    "from pathlib import Path\n",
    "import plotly.express as px\n",
    "from plotly.subplots import make_subplots\n",
    "import plotly.graph_objects as go\n",
    "\n",
    "results_dir = Path(\"../results/split-freq-20k\")\n",
    "scalars = TBScalars(\".cache/split_freq_20k\")"
   ]
  },
  {
   "cell_type": "code",
   "execution_count": 3,
   "metadata": {},
   "outputs": [
    {
     "data": {
      "application/vnd.plotly.v1+json": {
       "config": {
        "plotlyServerURL": "https://plot.ly"
       },
       "data": [
        {
         "hovertemplate": "seed=0<br>step=%{x}<br>value=%{y}<extra></extra>",
         "legendgroup": "0",
         "line": {
          "color": "#636efa",
          "dash": "solid"
         },
         "marker": {
          "symbol": "circle"
         },
         "mode": "lines",
         "name": "0",
         "orientation": "v",
         "showlegend": true,
         "type": "scatter",
         "x": [
          20001,
          40003,
          60006,
          80006,
          100009,
          120009,
          140011,
          160014,
          180014,
          200016,
          220017,
          240017,
          260019,
          280020,
          300021,
          320022,
          340023,
          360023,
          380024
         ],
         "xaxis": "x",
         "y": [
          135.1875,
          409.5,
          378,
          307.125,
          359.625,
          453.125,
          391.78125,
          407.1875,
          454.125,
          497.75,
          481,
          496,
          478.65625,
          431.46875,
          444.59375,
          443.90625,
          567.21875,
          503.34375,
          538.75
         ],
         "yaxis": "y"
        },
        {
         "hovertemplate": "seed=2<br>step=%{x}<br>value=%{y}<extra></extra>",
         "legendgroup": "2",
         "line": {
          "color": "#636efa",
          "dash": "solid"
         },
         "marker": {
          "symbol": "circle"
         },
         "mode": "lines",
         "name": "2",
         "orientation": "v",
         "showlegend": true,
         "type": "scatter",
         "x": [
          20001,
          40004,
          60006,
          80007,
          100009,
          120010,
          140011,
          160012,
          180014,
          200014,
          220015,
          240016,
          260017,
          280018,
          300020,
          320023,
          340024,
          360025,
          380025
         ],
         "xaxis": "x2",
         "y": [
          174.5625,
          455.4375,
          517.09375,
          456.09375,
          511.21875,
          468.5625,
          496.125,
          452.8125,
          456.75,
          508.5625,
          594.15625,
          580.40625,
          580.96875,
          648.84375,
          650.84375,
          671.9375,
          583.96875,
          650.21875,
          609.5625
         ],
         "yaxis": "y2"
        },
        {
         "hovertemplate": "seed=0<br>step=%{x}<br>value=%{y}<extra></extra>",
         "legendgroup": "0",
         "line": {
          "color": "#EF553B",
          "dash": "solid"
         },
         "marker": {
          "symbol": "circle"
         },
         "mode": "lines",
         "name": "0",
         "orientation": "v",
         "showlegend": true,
         "type": "scatter",
         "x": [
          20001,
          40003,
          60003,
          80006,
          100009,
          120011,
          140014,
          160017,
          180017,
          200020,
          220023,
          240023,
          260024,
          280024,
          300024,
          320027,
          340028,
          360029,
          380031
         ],
         "xaxis": "x2",
         "y": [
          163.40625,
          442.3125,
          307.125,
          394.40625,
          448.875,
          372.75,
          397.6875,
          437.71875,
          426.5625,
          501.375,
          508.59375,
          493.5,
          576.03125,
          498.375,
          578.40625,
          561.6875,
          535.09375,
          551.5,
          578.6875
         ],
         "yaxis": "y2"
        },
        {
         "hovertemplate": "seed=2<br>step=%{x}<br>value=%{y}<extra></extra>",
         "legendgroup": "2",
         "line": {
          "color": "#636efa",
          "dash": "solid"
         },
         "marker": {
          "symbol": "circle"
         },
         "mode": "lines",
         "name": "2",
         "orientation": "v",
         "showlegend": true,
         "type": "scatter",
         "x": [
          20001,
          40003,
          60003,
          80003,
          100006,
          120006,
          140006,
          160009,
          180011,
          200014,
          220017,
          240020,
          260022,
          280023,
          300024,
          320024,
          340025,
          360026,
          380029
         ],
         "xaxis": "x3",
         "y": [
          174.5625,
          320.90625,
          299.90625,
          374.71875,
          340.59375,
          327.46875,
          362.25,
          370.125,
          398.34375,
          421.96875,
          474.0625,
          444.9375,
          482.3125,
          461.34375,
          542.625,
          495.40625,
          548.21875,
          543,
          564.03125
         ],
         "yaxis": "y3"
        },
        {
         "hovertemplate": "seed=0<br>step=%{x}<br>value=%{y}<extra></extra>",
         "legendgroup": "0",
         "line": {
          "color": "#EF553B",
          "dash": "solid"
         },
         "marker": {
          "symbol": "circle"
         },
         "mode": "lines",
         "name": "0",
         "orientation": "v",
         "showlegend": true,
         "type": "scatter",
         "x": [
          20001,
          40004,
          60006,
          80006,
          100009,
          120009,
          140011,
          160011,
          180012,
          200014,
          220017,
          240020,
          260023,
          280026,
          300026,
          320029,
          340030,
          360032,
          380034
         ],
         "xaxis": "x3",
         "y": [
          163.40625,
          548.78125,
          276.28125,
          340.59375,
          341.25,
          366.1875,
          445.90625,
          470.1875,
          447.5625,
          484.3125,
          418.6875,
          446.90625,
          427.875,
          527.28125,
          494.15625,
          492.84375,
          532.21875,
          529.59375,
          568.96875
         ],
         "yaxis": "y3"
        },
        {
         "hovertemplate": "seed=2<br>step=%{x}<br>value=%{y}<extra></extra>",
         "legendgroup": "2",
         "line": {
          "color": "#636efa",
          "dash": "solid"
         },
         "marker": {
          "symbol": "circle"
         },
         "mode": "lines",
         "name": "2",
         "orientation": "v",
         "showlegend": true,
         "type": "scatter",
         "x": [
          20001,
          40003,
          60004,
          80004,
          100005,
          120005,
          140005,
          160006,
          180006,
          200006,
          220006,
          240009,
          260009,
          280010,
          300010,
          320010,
          340013,
          360013,
          380014
         ],
         "xaxis": "x4",
         "y": [
          164.71875,
          0,
          287.4375,
          322.875,
          315.65625,
          364.875,
          370.125,
          371.4375,
          369.46875,
          376.6875,
          393.09375,
          459.65625,
          480.03125,
          507.9375,
          543.53125,
          573.71875,
          541.65625,
          604.28125,
          586.9375
         ],
         "yaxis": "y4"
        },
        {
         "hovertemplate": "seed=0<br>step=%{x}<br>value=%{y}<extra></extra>",
         "legendgroup": "0",
         "line": {
          "color": "#EF553B",
          "dash": "solid"
         },
         "marker": {
          "symbol": "circle"
         },
         "mode": "lines",
         "name": "0",
         "orientation": "v",
         "showlegend": true,
         "type": "scatter",
         "x": [
          20001,
          40002,
          60005,
          80005,
          100008,
          120009,
          140010,
          160010,
          180011,
          200014,
          220017,
          240020,
          260021,
          280021,
          300024,
          320024,
          340025,
          360025,
          380028
         ],
         "xaxis": "x4",
         "y": [
          163.40625,
          268.40625,
          332.0625,
          343.875,
          365.53125,
          358.3125,
          358.96875,
          380.625,
          398.96875,
          390.46875,
          409.8125,
          421.3125,
          606.1875,
          625.03125,
          547.875,
          600.75,
          588.3125,
          586.21875,
          609.53125
         ],
         "yaxis": "y4"
        },
        {
         "hovertemplate": "seed=0<br>step=%{x}<br>value=%{y}<extra></extra>",
         "legendgroup": "0",
         "line": {
          "color": "#636efa",
          "dash": "solid"
         },
         "marker": {
          "symbol": "circle"
         },
         "mode": "lines",
         "name": "0",
         "orientation": "v",
         "showlegend": true,
         "type": "scatter",
         "x": [
          20001,
          40002,
          60002,
          80002,
          100003,
          120003,
          140003,
          160003,
          180003,
          200003,
          220003,
          240005,
          260008,
          280010,
          300012,
          320014,
          340016,
          360018,
          380021
         ],
         "xaxis": "x5",
         "y": [
          118.125,
          287.4375,
          347.8125,
          325.5,
          403.59375,
          358.96875,
          372.09375,
          356.34375,
          371.4375,
          362.25,
          407.53125,
          416.71875,
          391.125,
          477.75,
          491.5,
          502.6875,
          468.5625,
          491.53125,
          531.1875
         ],
         "yaxis": "y5"
        },
        {
         "hovertemplate": "seed=2<br>step=%{x}<br>value=%{y}<extra></extra>",
         "legendgroup": "2",
         "line": {
          "color": "#EF553B",
          "dash": "solid"
         },
         "marker": {
          "symbol": "circle"
         },
         "mode": "lines",
         "name": "2",
         "orientation": "v",
         "showlegend": true,
         "type": "scatter",
         "x": [
          20001,
          40003,
          60003,
          80003,
          100003,
          120003,
          140003,
          160003,
          180006,
          200009,
          220012,
          240015,
          260018,
          280020,
          300023,
          320025,
          340027,
          360030,
          380032
         ],
         "xaxis": "x5",
         "y": [
          174.5625,
          330.09375,
          306.46875,
          334.6875,
          344.53125,
          347.15625,
          360.9375,
          336.65625,
          368.15625,
          372.75,
          372.75,
          408.84375,
          382.59375,
          371.4375,
          381.9375,
          411.46875,
          450.84375,
          415.40625,
          414.75
         ],
         "yaxis": "y5"
        },
        {
         "hovertemplate": "seed=2<br>step=%{x}<br>value=%{y}<extra></extra>",
         "legendgroup": "2",
         "line": {
          "color": "#636efa",
          "dash": "solid"
         },
         "marker": {
          "symbol": "circle"
         },
         "mode": "lines",
         "name": "2",
         "orientation": "v",
         "showlegend": true,
         "type": "scatter",
         "x": [
          20001,
          40004,
          60006,
          80006,
          100006,
          120009,
          140012,
          160013,
          180013,
          200016,
          220017,
          240019,
          260020,
          280021,
          300022,
          320023,
          340024,
          360025,
          380027
         ],
         "xaxis": "x6",
         "y": [
          164.71875,
          308.4375,
          284.8125,
          351.09375,
          329.4375,
          363.5625,
          488.1875,
          434.09375,
          519.0625,
          390.46875,
          388.5,
          402.9375,
          486.9375,
          410.15625,
          509.84375,
          542.21875,
          535.125,
          507.5625,
          466.25
         ],
         "yaxis": "y6"
        },
        {
         "hovertemplate": "seed=0<br>step=%{x}<br>value=%{y}<extra></extra>",
         "legendgroup": "0",
         "line": {
          "color": "#EF553B",
          "dash": "solid"
         },
         "marker": {
          "symbol": "circle"
         },
         "mode": "lines",
         "name": "0",
         "orientation": "v",
         "showlegend": true,
         "type": "scatter",
         "x": [
          20001,
          40004,
          60005,
          80005,
          100006,
          120006,
          140007,
          160009,
          180011,
          200013,
          220014,
          240015,
          260016,
          280017,
          300018,
          320018,
          340019,
          360019,
          380020
         ],
         "xaxis": "x6",
         "y": [
          118.125,
          310.40625,
          329.4375,
          430.5,
          420.5625,
          503.875,
          370.78125,
          440.34375,
          458,
          402.28125,
          572.53125,
          441.625,
          403.59375,
          532.1875,
          528.90625,
          541.65625,
          384.5625,
          410.15625,
          529.5625
         ],
         "yaxis": "y6"
        },
        {
         "hovertemplate": "seed=1<br>step=%{x}<br>value=%{y}<extra></extra>",
         "legendgroup": "1",
         "line": {
          "color": "#636efa",
          "dash": "solid"
         },
         "marker": {
          "symbol": "circle"
         },
         "mode": "lines",
         "name": "1",
         "orientation": "v",
         "showlegend": true,
         "type": "scatter",
         "x": [
          20001,
          40001,
          60002,
          80005,
          100007,
          120007,
          140007,
          160008,
          180008,
          200010,
          220013,
          240014,
          260016,
          280017,
          300018,
          320020,
          340022,
          360022,
          380024
         ],
         "xaxis": "x7",
         "y": [
          234.28125,
          328.125,
          284.15625,
          337.3125,
          354.375,
          334.6875,
          338.625,
          349.78125,
          462.65625,
          385.21875,
          437.71875,
          445.90625,
          449.8125,
          432.78125,
          423.90625,
          464.90625,
          481.34375,
          456.75,
          477.75
         ],
         "yaxis": "y7"
        },
        {
         "hovertemplate": "seed=0<br>step=%{x}<br>value=%{y}<extra></extra>",
         "legendgroup": "0",
         "line": {
          "color": "#EF553B",
          "dash": "solid"
         },
         "marker": {
          "symbol": "circle"
         },
         "mode": "lines",
         "name": "0",
         "orientation": "v",
         "showlegend": true,
         "type": "scatter",
         "x": [
          20001,
          40001,
          60002,
          80002,
          100003,
          120003,
          140004,
          160007,
          180010,
          200010,
          220013,
          240013,
          260016,
          280017,
          300019,
          320020,
          340022,
          360024,
          380025
         ],
         "xaxis": "x7",
         "y": [
          118.125,
          376.6875,
          389.15625,
          303.1875,
          373.40625,
          454.78125,
          397.03125,
          417.375,
          414.09375,
          481.6875,
          518.4375,
          454.78125,
          549.28125,
          498.09375,
          562.375,
          589.3125,
          544.34375,
          504.65625,
          511.875
         ],
         "yaxis": "y7"
        },
        {
         "hovertemplate": "seed=0<br>step=%{x}<br>value=%{y}<extra></extra>",
         "legendgroup": "0",
         "line": {
          "color": "#636efa",
          "dash": "solid"
         },
         "marker": {
          "symbol": "circle"
         },
         "mode": "lines",
         "name": "0",
         "orientation": "v",
         "showlegend": true,
         "type": "scatter",
         "x": [
          20001,
          40001,
          60001,
          80001,
          100001,
          120004,
          140004,
          160004,
          180004,
          200005,
          220006,
          240006,
          260007,
          280008,
          300008,
          320009,
          340011,
          360011,
          380011
         ],
         "xaxis": "x8",
         "y": [
          118.125,
          468.8125,
          328.125,
          422.625,
          358.3125,
          367.5,
          357.65625,
          391.78125,
          354.375,
          521.0625,
          502.03125,
          558.78125,
          473.15625,
          421.625,
          489.5625,
          533.1875,
          477.375,
          475.78125,
          444.28125
         ],
         "yaxis": "y8"
        },
        {
         "hovertemplate": "seed=1<br>step=%{x}<br>value=%{y}<extra></extra>",
         "legendgroup": "1",
         "line": {
          "color": "#EF553B",
          "dash": "solid"
         },
         "marker": {
          "symbol": "circle"
         },
         "mode": "lines",
         "name": "1",
         "orientation": "v",
         "showlegend": true,
         "type": "scatter",
         "x": [
          20001,
          40001,
          60001,
          80002,
          100002,
          120005,
          140008,
          160011,
          180012,
          200013,
          220015,
          240017,
          260020,
          280022,
          300025,
          320027,
          340027,
          360028,
          380031
         ],
         "xaxis": "x8",
         "y": [
          256.59375,
          261.1875,
          291.375,
          372.75,
          322.875,
          360.28125,
          494.46875,
          521.625,
          482.34375,
          456.09375,
          357,
          379.3125,
          475.78125,
          477.09375,
          490.21875,
          474.78125,
          440.34375,
          549.28125,
          466.90625
         ],
         "yaxis": "y8"
        },
        {
         "hovertemplate": "seed=0<br>step=%{x}<br>value=%{y}<extra></extra>",
         "legendgroup": "0",
         "line": {
          "color": "#636efa",
          "dash": "solid"
         },
         "marker": {
          "symbol": "circle"
         },
         "mode": "lines",
         "name": "0",
         "orientation": "v",
         "showlegend": true,
         "type": "scatter",
         "x": [
          20001,
          40001,
          60004,
          80005,
          100006,
          120006,
          140009,
          160009,
          180012,
          200012,
          220015,
          240018,
          260020,
          280022,
          300024,
          320027,
          340029,
          360031,
          380033
         ],
         "xaxis": "x9",
         "y": [
          161.4375,
          357,
          340.59375,
          391.125,
          339.28125,
          395.0625,
          324.1875,
          339.9375,
          372.75,
          427.875,
          367.5,
          433.125,
          402.9375,
          402.9375,
          383.25,
          406.875,
          434.4375,
          454.78125,
          433.78125
         ],
         "yaxis": "y9"
        }
       ],
       "layout": {
        "annotations": [
         {
          "font": {
           "size": 16
          },
          "showarrow": false,
          "text": "4",
          "x": 0.13,
          "xanchor": "center",
          "xref": "paper",
          "y": 1,
          "yanchor": "bottom",
          "yref": "paper"
         },
         {
          "font": {
           "size": 16
          },
          "showarrow": false,
          "text": "2",
          "x": 0.49,
          "xanchor": "center",
          "xref": "paper",
          "y": 1,
          "yanchor": "bottom",
          "yref": "paper"
         },
         {
          "font": {
           "size": 16
          },
          "showarrow": false,
          "text": "1",
          "x": 0.85,
          "xanchor": "center",
          "xref": "paper",
          "y": 1,
          "yanchor": "bottom",
          "yref": "paper"
         },
         {
          "font": {
           "size": 16
          },
          "showarrow": false,
          "text": "4",
          "textangle": 90,
          "x": 0.98,
          "xanchor": "left",
          "xref": "paper",
          "y": 0.85,
          "yanchor": "middle",
          "yref": "paper"
         },
         {
          "font": {
           "size": 16
          },
          "showarrow": false,
          "text": "2",
          "textangle": 90,
          "x": 0.98,
          "xanchor": "left",
          "xref": "paper",
          "y": 0.49999999999999994,
          "yanchor": "middle",
          "yref": "paper"
         },
         {
          "font": {
           "size": 16
          },
          "showarrow": false,
          "text": "1",
          "textangle": 90,
          "x": 0.98,
          "xanchor": "left",
          "xref": "paper",
          "y": 0.15,
          "yanchor": "middle",
          "yref": "paper"
         },
         {
          "font": {
           "size": 16
          },
          "showarrow": false,
          "text": "wm_freq",
          "x": 0.49,
          "xanchor": "center",
          "xref": "paper",
          "y": 0,
          "yanchor": "top",
          "yref": "paper",
          "yshift": -30
         },
         {
          "font": {
           "size": 16
          },
          "showarrow": false,
          "text": "rl_freq",
          "textangle": -90,
          "x": 0,
          "xanchor": "right",
          "xref": "paper",
          "xshift": -40,
          "y": 0.5,
          "yanchor": "middle",
          "yref": "paper"
         }
        ],
        "template": {
         "data": {
          "bar": [
           {
            "error_x": {
             "color": "#2a3f5f"
            },
            "error_y": {
             "color": "#2a3f5f"
            },
            "marker": {
             "line": {
              "color": "#E5ECF6",
              "width": 0.5
             },
             "pattern": {
              "fillmode": "overlay",
              "size": 10,
              "solidity": 0.2
             }
            },
            "type": "bar"
           }
          ],
          "barpolar": [
           {
            "marker": {
             "line": {
              "color": "#E5ECF6",
              "width": 0.5
             },
             "pattern": {
              "fillmode": "overlay",
              "size": 10,
              "solidity": 0.2
             }
            },
            "type": "barpolar"
           }
          ],
          "carpet": [
           {
            "aaxis": {
             "endlinecolor": "#2a3f5f",
             "gridcolor": "white",
             "linecolor": "white",
             "minorgridcolor": "white",
             "startlinecolor": "#2a3f5f"
            },
            "baxis": {
             "endlinecolor": "#2a3f5f",
             "gridcolor": "white",
             "linecolor": "white",
             "minorgridcolor": "white",
             "startlinecolor": "#2a3f5f"
            },
            "type": "carpet"
           }
          ],
          "choropleth": [
           {
            "colorbar": {
             "outlinewidth": 0,
             "ticks": ""
            },
            "type": "choropleth"
           }
          ],
          "contour": [
           {
            "colorbar": {
             "outlinewidth": 0,
             "ticks": ""
            },
            "colorscale": [
             [
              0,
              "#0d0887"
             ],
             [
              0.1111111111111111,
              "#46039f"
             ],
             [
              0.2222222222222222,
              "#7201a8"
             ],
             [
              0.3333333333333333,
              "#9c179e"
             ],
             [
              0.4444444444444444,
              "#bd3786"
             ],
             [
              0.5555555555555556,
              "#d8576b"
             ],
             [
              0.6666666666666666,
              "#ed7953"
             ],
             [
              0.7777777777777778,
              "#fb9f3a"
             ],
             [
              0.8888888888888888,
              "#fdca26"
             ],
             [
              1,
              "#f0f921"
             ]
            ],
            "type": "contour"
           }
          ],
          "contourcarpet": [
           {
            "colorbar": {
             "outlinewidth": 0,
             "ticks": ""
            },
            "type": "contourcarpet"
           }
          ],
          "heatmap": [
           {
            "colorbar": {
             "outlinewidth": 0,
             "ticks": ""
            },
            "colorscale": [
             [
              0,
              "#0d0887"
             ],
             [
              0.1111111111111111,
              "#46039f"
             ],
             [
              0.2222222222222222,
              "#7201a8"
             ],
             [
              0.3333333333333333,
              "#9c179e"
             ],
             [
              0.4444444444444444,
              "#bd3786"
             ],
             [
              0.5555555555555556,
              "#d8576b"
             ],
             [
              0.6666666666666666,
              "#ed7953"
             ],
             [
              0.7777777777777778,
              "#fb9f3a"
             ],
             [
              0.8888888888888888,
              "#fdca26"
             ],
             [
              1,
              "#f0f921"
             ]
            ],
            "type": "heatmap"
           }
          ],
          "heatmapgl": [
           {
            "colorbar": {
             "outlinewidth": 0,
             "ticks": ""
            },
            "colorscale": [
             [
              0,
              "#0d0887"
             ],
             [
              0.1111111111111111,
              "#46039f"
             ],
             [
              0.2222222222222222,
              "#7201a8"
             ],
             [
              0.3333333333333333,
              "#9c179e"
             ],
             [
              0.4444444444444444,
              "#bd3786"
             ],
             [
              0.5555555555555556,
              "#d8576b"
             ],
             [
              0.6666666666666666,
              "#ed7953"
             ],
             [
              0.7777777777777778,
              "#fb9f3a"
             ],
             [
              0.8888888888888888,
              "#fdca26"
             ],
             [
              1,
              "#f0f921"
             ]
            ],
            "type": "heatmapgl"
           }
          ],
          "histogram": [
           {
            "marker": {
             "pattern": {
              "fillmode": "overlay",
              "size": 10,
              "solidity": 0.2
             }
            },
            "type": "histogram"
           }
          ],
          "histogram2d": [
           {
            "colorbar": {
             "outlinewidth": 0,
             "ticks": ""
            },
            "colorscale": [
             [
              0,
              "#0d0887"
             ],
             [
              0.1111111111111111,
              "#46039f"
             ],
             [
              0.2222222222222222,
              "#7201a8"
             ],
             [
              0.3333333333333333,
              "#9c179e"
             ],
             [
              0.4444444444444444,
              "#bd3786"
             ],
             [
              0.5555555555555556,
              "#d8576b"
             ],
             [
              0.6666666666666666,
              "#ed7953"
             ],
             [
              0.7777777777777778,
              "#fb9f3a"
             ],
             [
              0.8888888888888888,
              "#fdca26"
             ],
             [
              1,
              "#f0f921"
             ]
            ],
            "type": "histogram2d"
           }
          ],
          "histogram2dcontour": [
           {
            "colorbar": {
             "outlinewidth": 0,
             "ticks": ""
            },
            "colorscale": [
             [
              0,
              "#0d0887"
             ],
             [
              0.1111111111111111,
              "#46039f"
             ],
             [
              0.2222222222222222,
              "#7201a8"
             ],
             [
              0.3333333333333333,
              "#9c179e"
             ],
             [
              0.4444444444444444,
              "#bd3786"
             ],
             [
              0.5555555555555556,
              "#d8576b"
             ],
             [
              0.6666666666666666,
              "#ed7953"
             ],
             [
              0.7777777777777778,
              "#fb9f3a"
             ],
             [
              0.8888888888888888,
              "#fdca26"
             ],
             [
              1,
              "#f0f921"
             ]
            ],
            "type": "histogram2dcontour"
           }
          ],
          "mesh3d": [
           {
            "colorbar": {
             "outlinewidth": 0,
             "ticks": ""
            },
            "type": "mesh3d"
           }
          ],
          "parcoords": [
           {
            "line": {
             "colorbar": {
              "outlinewidth": 0,
              "ticks": ""
             }
            },
            "type": "parcoords"
           }
          ],
          "pie": [
           {
            "automargin": true,
            "type": "pie"
           }
          ],
          "scatter": [
           {
            "fillpattern": {
             "fillmode": "overlay",
             "size": 10,
             "solidity": 0.2
            },
            "type": "scatter"
           }
          ],
          "scatter3d": [
           {
            "line": {
             "colorbar": {
              "outlinewidth": 0,
              "ticks": ""
             }
            },
            "marker": {
             "colorbar": {
              "outlinewidth": 0,
              "ticks": ""
             }
            },
            "type": "scatter3d"
           }
          ],
          "scattercarpet": [
           {
            "marker": {
             "colorbar": {
              "outlinewidth": 0,
              "ticks": ""
             }
            },
            "type": "scattercarpet"
           }
          ],
          "scattergeo": [
           {
            "marker": {
             "colorbar": {
              "outlinewidth": 0,
              "ticks": ""
             }
            },
            "type": "scattergeo"
           }
          ],
          "scattergl": [
           {
            "marker": {
             "colorbar": {
              "outlinewidth": 0,
              "ticks": ""
             }
            },
            "type": "scattergl"
           }
          ],
          "scattermapbox": [
           {
            "marker": {
             "colorbar": {
              "outlinewidth": 0,
              "ticks": ""
             }
            },
            "type": "scattermapbox"
           }
          ],
          "scatterpolar": [
           {
            "marker": {
             "colorbar": {
              "outlinewidth": 0,
              "ticks": ""
             }
            },
            "type": "scatterpolar"
           }
          ],
          "scatterpolargl": [
           {
            "marker": {
             "colorbar": {
              "outlinewidth": 0,
              "ticks": ""
             }
            },
            "type": "scatterpolargl"
           }
          ],
          "scatterternary": [
           {
            "marker": {
             "colorbar": {
              "outlinewidth": 0,
              "ticks": ""
             }
            },
            "type": "scatterternary"
           }
          ],
          "surface": [
           {
            "colorbar": {
             "outlinewidth": 0,
             "ticks": ""
            },
            "colorscale": [
             [
              0,
              "#0d0887"
             ],
             [
              0.1111111111111111,
              "#46039f"
             ],
             [
              0.2222222222222222,
              "#7201a8"
             ],
             [
              0.3333333333333333,
              "#9c179e"
             ],
             [
              0.4444444444444444,
              "#bd3786"
             ],
             [
              0.5555555555555556,
              "#d8576b"
             ],
             [
              0.6666666666666666,
              "#ed7953"
             ],
             [
              0.7777777777777778,
              "#fb9f3a"
             ],
             [
              0.8888888888888888,
              "#fdca26"
             ],
             [
              1,
              "#f0f921"
             ]
            ],
            "type": "surface"
           }
          ],
          "table": [
           {
            "cells": {
             "fill": {
              "color": "#EBF0F8"
             },
             "line": {
              "color": "white"
             }
            },
            "header": {
             "fill": {
              "color": "#C8D4E3"
             },
             "line": {
              "color": "white"
             }
            },
            "type": "table"
           }
          ]
         },
         "layout": {
          "annotationdefaults": {
           "arrowcolor": "#2a3f5f",
           "arrowhead": 0,
           "arrowwidth": 1
          },
          "autotypenumbers": "strict",
          "coloraxis": {
           "colorbar": {
            "outlinewidth": 0,
            "ticks": ""
           }
          },
          "colorscale": {
           "diverging": [
            [
             0,
             "#8e0152"
            ],
            [
             0.1,
             "#c51b7d"
            ],
            [
             0.2,
             "#de77ae"
            ],
            [
             0.3,
             "#f1b6da"
            ],
            [
             0.4,
             "#fde0ef"
            ],
            [
             0.5,
             "#f7f7f7"
            ],
            [
             0.6,
             "#e6f5d0"
            ],
            [
             0.7,
             "#b8e186"
            ],
            [
             0.8,
             "#7fbc41"
            ],
            [
             0.9,
             "#4d9221"
            ],
            [
             1,
             "#276419"
            ]
           ],
           "sequential": [
            [
             0,
             "#0d0887"
            ],
            [
             0.1111111111111111,
             "#46039f"
            ],
            [
             0.2222222222222222,
             "#7201a8"
            ],
            [
             0.3333333333333333,
             "#9c179e"
            ],
            [
             0.4444444444444444,
             "#bd3786"
            ],
            [
             0.5555555555555556,
             "#d8576b"
            ],
            [
             0.6666666666666666,
             "#ed7953"
            ],
            [
             0.7777777777777778,
             "#fb9f3a"
            ],
            [
             0.8888888888888888,
             "#fdca26"
            ],
            [
             1,
             "#f0f921"
            ]
           ],
           "sequentialminus": [
            [
             0,
             "#0d0887"
            ],
            [
             0.1111111111111111,
             "#46039f"
            ],
            [
             0.2222222222222222,
             "#7201a8"
            ],
            [
             0.3333333333333333,
             "#9c179e"
            ],
            [
             0.4444444444444444,
             "#bd3786"
            ],
            [
             0.5555555555555556,
             "#d8576b"
            ],
            [
             0.6666666666666666,
             "#ed7953"
            ],
            [
             0.7777777777777778,
             "#fb9f3a"
            ],
            [
             0.8888888888888888,
             "#fdca26"
            ],
            [
             1,
             "#f0f921"
            ]
           ]
          },
          "colorway": [
           "#636efa",
           "#EF553B",
           "#00cc96",
           "#ab63fa",
           "#FFA15A",
           "#19d3f3",
           "#FF6692",
           "#B6E880",
           "#FF97FF",
           "#FECB52"
          ],
          "font": {
           "color": "#2a3f5f"
          },
          "geo": {
           "bgcolor": "white",
           "lakecolor": "white",
           "landcolor": "#E5ECF6",
           "showlakes": true,
           "showland": true,
           "subunitcolor": "white"
          },
          "hoverlabel": {
           "align": "left"
          },
          "hovermode": "closest",
          "mapbox": {
           "style": "light"
          },
          "paper_bgcolor": "white",
          "plot_bgcolor": "#E5ECF6",
          "polar": {
           "angularaxis": {
            "gridcolor": "white",
            "linecolor": "white",
            "ticks": ""
           },
           "bgcolor": "#E5ECF6",
           "radialaxis": {
            "gridcolor": "white",
            "linecolor": "white",
            "ticks": ""
           }
          },
          "scene": {
           "xaxis": {
            "backgroundcolor": "#E5ECF6",
            "gridcolor": "white",
            "gridwidth": 2,
            "linecolor": "white",
            "showbackground": true,
            "ticks": "",
            "zerolinecolor": "white"
           },
           "yaxis": {
            "backgroundcolor": "#E5ECF6",
            "gridcolor": "white",
            "gridwidth": 2,
            "linecolor": "white",
            "showbackground": true,
            "ticks": "",
            "zerolinecolor": "white"
           },
           "zaxis": {
            "backgroundcolor": "#E5ECF6",
            "gridcolor": "white",
            "gridwidth": 2,
            "linecolor": "white",
            "showbackground": true,
            "ticks": "",
            "zerolinecolor": "white"
           }
          },
          "shapedefaults": {
           "line": {
            "color": "#2a3f5f"
           }
          },
          "ternary": {
           "aaxis": {
            "gridcolor": "white",
            "linecolor": "white",
            "ticks": ""
           },
           "baxis": {
            "gridcolor": "white",
            "linecolor": "white",
            "ticks": ""
           },
           "bgcolor": "#E5ECF6",
           "caxis": {
            "gridcolor": "white",
            "linecolor": "white",
            "ticks": ""
           }
          },
          "title": {
           "x": 0.05
          },
          "xaxis": {
           "automargin": true,
           "gridcolor": "white",
           "linecolor": "white",
           "ticks": "",
           "title": {
            "standoff": 15
           },
           "zerolinecolor": "white",
           "zerolinewidth": 2
          },
          "yaxis": {
           "automargin": true,
           "gridcolor": "white",
           "linecolor": "white",
           "ticks": "",
           "title": {
            "standoff": 15
           },
           "zerolinecolor": "white",
           "zerolinewidth": 2
          }
         }
        },
        "xaxis": {
         "anchor": "y",
         "domain": [
          0,
          0.26
         ]
        },
        "xaxis2": {
         "anchor": "y2",
         "domain": [
          0.36,
          0.62
         ]
        },
        "xaxis3": {
         "anchor": "y3",
         "domain": [
          0.72,
          0.98
         ]
        },
        "xaxis4": {
         "anchor": "y4",
         "domain": [
          0,
          0.26
         ]
        },
        "xaxis5": {
         "anchor": "y5",
         "domain": [
          0.36,
          0.62
         ]
        },
        "xaxis6": {
         "anchor": "y6",
         "domain": [
          0.72,
          0.98
         ]
        },
        "xaxis7": {
         "anchor": "y7",
         "domain": [
          0,
          0.26
         ]
        },
        "xaxis8": {
         "anchor": "y8",
         "domain": [
          0.36,
          0.62
         ]
        },
        "xaxis9": {
         "anchor": "y9",
         "domain": [
          0.72,
          0.98
         ]
        },
        "yaxis": {
         "anchor": "x",
         "domain": [
          0.7,
          1
         ]
        },
        "yaxis2": {
         "anchor": "x2",
         "domain": [
          0.7,
          1
         ]
        },
        "yaxis3": {
         "anchor": "x3",
         "domain": [
          0.7,
          1
         ]
        },
        "yaxis4": {
         "anchor": "x4",
         "domain": [
          0.35,
          0.6499999999999999
         ]
        },
        "yaxis5": {
         "anchor": "x5",
         "domain": [
          0.35,
          0.6499999999999999
         ]
        },
        "yaxis6": {
         "anchor": "x6",
         "domain": [
          0.35,
          0.6499999999999999
         ]
        },
        "yaxis7": {
         "anchor": "x7",
         "domain": [
          0,
          0.3
         ]
        },
        "yaxis8": {
         "anchor": "x8",
         "domain": [
          0,
          0.3
         ]
        },
        "yaxis9": {
         "anchor": "x9",
         "domain": [
          0,
          0.3
         ]
        }
       }
      }
     },
     "metadata": {},
     "output_type": "display_data"
    }
   ],
   "source": [
    "dfs = []\n",
    "\n",
    "freqs = [4, 2, 1]\n",
    "\n",
    "fig = make_subplots(\n",
    "    rows=len(freqs),\n",
    "    row_titles=freqs,\n",
    "    x_title=\"wm_freq\",\n",
    "    cols=len(freqs),\n",
    "    column_titles=freqs,\n",
    "    y_title=\"rl_freq\",\n",
    "    horizontal_spacing=0.1,\n",
    "    vertical_spacing=0.05,\n",
    ")\n",
    "\n",
    "for row, wm_freq in enumerate(freqs):\n",
    "    for col, rl_freq in enumerate(freqs):\n",
    "        dfs = []\n",
    "        for test_dir in results_dir.glob(f\"*wm_freq={wm_freq}-rl_freq={rl_freq}*\"):\n",
    "            with open(test_dir / \"config.yml\", \"r\") as f:\n",
    "                cfg = yaml.load(f)\n",
    "\n",
    "            df = scalars.read(test_dir)\n",
    "            if \"tag\" not in df.columns:\n",
    "                continue\n",
    "            df = df[df[\"tag\"] == \"val/mean_ep_ret\"].copy()\n",
    "            df[\"seed\"] = cfg[\"repro\"][\"seed\"]\n",
    "            dfs.append(df)\n",
    "\n",
    "        df = pd.concat(dfs, axis=0)\n",
    "\n",
    "        xpr = px.line(df, x=\"step\", y=\"value\", color=\"seed\")\n",
    "        for trace in xpr.data:\n",
    "            fig.add_trace(trace, row=row + 1, col=col + 1)\n",
    "\n",
    "fig"
   ]
  },
  {
   "cell_type": "code",
   "execution_count": null,
   "metadata": {},
   "outputs": [],
   "source": []
  }
 ],
 "metadata": {
  "kernelspec": {
   "display_name": "rsrch-8qRRKNqI-py3.10",
   "language": "python",
   "name": "python3"
  },
  "language_info": {
   "codemirror_mode": {
    "name": "ipython",
    "version": 3
   },
   "file_extension": ".py",
   "mimetype": "text/x-python",
   "name": "python",
   "nbconvert_exporter": "python",
   "pygments_lexer": "ipython3",
   "version": "3.10.14"
  }
 },
 "nbformat": 4,
 "nbformat_minor": 2
}
