{
 "cells": [
  {
   "cell_type": "code",
   "execution_count": 53,
   "metadata": {},
   "outputs": [],
   "source": [
    "from tbparse import SummaryReader\n",
    "from pathlib import Path\n",
    "from ruamel.yaml import YAML\n",
    "from tqdm.auto import tqdm\n",
    "import pandas as pd\n",
    "import plotly.graph_objects as go\n",
    "from plotly.subplots import make_subplots\n",
    "import plotly.express as px\n",
    "import plotly.io as pio\n",
    "\n",
    "\n",
    "yaml = YAML(typ=\"safe\", pure=True)\n",
    "results_dir = Path(\"../results/mono-rv\")\n",
    "cache_dir = Path(\".cache/naive_test\")\n",
    "pio.kaleido.scope.mathjax = None"
   ]
  },
  {
   "cell_type": "code",
   "execution_count": 7,
   "metadata": {},
   "outputs": [
    {
     "data": {
      "application/vnd.jupyter.widget-view+json": {
       "model_id": "d25ee15eea2344eda0dbdbcd0e4092f9",
       "version_major": 2,
       "version_minor": 0
      },
      "text/plain": [
       "  0%|          | 0/54 [00:00<?, ?it/s]"
      ]
     },
     "metadata": {},
     "output_type": "display_data"
    }
   ],
   "source": [
    "test_dirs = [*results_dir.iterdir()]\n",
    "for test_dir in tqdm(test_dirs):\n",
    "    dst_path = cache_dir / f\"{test_dir.name}.h5\"\n",
    "    if dst_path.exists():\n",
    "        continue\n",
    "\n",
    "    board = SummaryReader(test_dir / \"board\")\n",
    "    dst_path.parent.mkdir(parents=True, exist_ok=True)\n",
    "    board.scalars.to_hdf(dst_path, key=\"scalars\")\n",
    "\n",
    "\n",
    "def read_scalars(test_dir: Path):\n",
    "    dst_path = cache_dir / f\"{test_dir.name}.h5\"\n",
    "    return pd.read_hdf(dst_path, key=\"scalars\")"
   ]
  },
  {
   "cell_type": "code",
   "execution_count": 15,
   "metadata": {},
   "outputs": [],
   "source": [
    "dfs = []\n",
    "\n",
    "for test_dir in results_dir.iterdir():\n",
    "    with open(test_dir / \"config.yml\", \"r\") as f:\n",
    "        cfg = yaml.load(f)\n",
    "\n",
    "    assert cfg[\"env\"][\"type\"] == \"atari\"\n",
    "    env_id = cfg[\"env\"][\"atari\"][\"env_id\"]\n",
    "    seed = cfg[\"repro\"][\"seed\"]\n",
    "\n",
    "    df = read_scalars(test_dir)\n",
    "    df = df[df[\"tag\"] == \"val/mean_ep_ret\"].copy()\n",
    "    df[\"env\"] = env_id\n",
    "    df[\"seed\"] = seed\n",
    "    env_id_, seed_eq, freq_eq = test_dir.name.split(\"=\")\n",
    "    df[\"freq\"] = int(freq_eq.removeprefix(\"freq=\"))\n",
    "    dfs.append(df)\n",
    "\n",
    "df = pd.concat(dfs, axis=0)"
   ]
  },
  {
   "cell_type": "code",
   "execution_count": 21,
   "metadata": {},
   "outputs": [
    {
     "data": {
      "text/html": [
       "<div>\n",
       "<style scoped>\n",
       "    .dataframe tbody tr th:only-of-type {\n",
       "        vertical-align: middle;\n",
       "    }\n",
       "\n",
       "    .dataframe tbody tr th {\n",
       "        vertical-align: top;\n",
       "    }\n",
       "\n",
       "    .dataframe thead th {\n",
       "        text-align: right;\n",
       "    }\n",
       "</style>\n",
       "<table border=\"1\" class=\"dataframe\">\n",
       "  <thead>\n",
       "    <tr style=\"text-align: right;\">\n",
       "      <th></th>\n",
       "      <th>step</th>\n",
       "      <th>tag</th>\n",
       "      <th>value</th>\n",
       "      <th>env</th>\n",
       "      <th>seed</th>\n",
       "      <th>freq</th>\n",
       "    </tr>\n",
       "  </thead>\n",
       "  <tbody>\n",
       "    <tr>\n",
       "      <th>297155</th>\n",
       "      <td>24004</td>\n",
       "      <td>val/mean_ep_ret</td>\n",
       "      <td>-20.93750</td>\n",
       "      <td>Pong</td>\n",
       "      <td>0</td>\n",
       "      <td>8</td>\n",
       "    </tr>\n",
       "    <tr>\n",
       "      <th>297156</th>\n",
       "      <td>64004</td>\n",
       "      <td>val/mean_ep_ret</td>\n",
       "      <td>-20.21875</td>\n",
       "      <td>Pong</td>\n",
       "      <td>0</td>\n",
       "      <td>8</td>\n",
       "    </tr>\n",
       "    <tr>\n",
       "      <th>297157</th>\n",
       "      <td>104004</td>\n",
       "      <td>val/mean_ep_ret</td>\n",
       "      <td>-15.59375</td>\n",
       "      <td>Pong</td>\n",
       "      <td>0</td>\n",
       "      <td>8</td>\n",
       "    </tr>\n",
       "    <tr>\n",
       "      <th>297158</th>\n",
       "      <td>144004</td>\n",
       "      <td>val/mean_ep_ret</td>\n",
       "      <td>-14.18750</td>\n",
       "      <td>Pong</td>\n",
       "      <td>0</td>\n",
       "      <td>8</td>\n",
       "    </tr>\n",
       "    <tr>\n",
       "      <th>297159</th>\n",
       "      <td>184004</td>\n",
       "      <td>val/mean_ep_ret</td>\n",
       "      <td>-12.56250</td>\n",
       "      <td>Pong</td>\n",
       "      <td>0</td>\n",
       "      <td>8</td>\n",
       "    </tr>\n",
       "    <tr>\n",
       "      <th>...</th>\n",
       "      <td>...</td>\n",
       "      <td>...</td>\n",
       "      <td>...</td>\n",
       "      <td>...</td>\n",
       "      <td>...</td>\n",
       "      <td>...</td>\n",
       "    </tr>\n",
       "    <tr>\n",
       "      <th>297178</th>\n",
       "      <td>624004</td>\n",
       "      <td>val/mean_ep_ret</td>\n",
       "      <td>-11.46875</td>\n",
       "      <td>Pong</td>\n",
       "      <td>1</td>\n",
       "      <td>8</td>\n",
       "    </tr>\n",
       "    <tr>\n",
       "      <th>297179</th>\n",
       "      <td>664004</td>\n",
       "      <td>val/mean_ep_ret</td>\n",
       "      <td>-11.68750</td>\n",
       "      <td>Pong</td>\n",
       "      <td>1</td>\n",
       "      <td>8</td>\n",
       "    </tr>\n",
       "    <tr>\n",
       "      <th>297180</th>\n",
       "      <td>704004</td>\n",
       "      <td>val/mean_ep_ret</td>\n",
       "      <td>-10.87500</td>\n",
       "      <td>Pong</td>\n",
       "      <td>1</td>\n",
       "      <td>8</td>\n",
       "    </tr>\n",
       "    <tr>\n",
       "      <th>297181</th>\n",
       "      <td>744004</td>\n",
       "      <td>val/mean_ep_ret</td>\n",
       "      <td>-10.06250</td>\n",
       "      <td>Pong</td>\n",
       "      <td>1</td>\n",
       "      <td>8</td>\n",
       "    </tr>\n",
       "    <tr>\n",
       "      <th>297182</th>\n",
       "      <td>784004</td>\n",
       "      <td>val/mean_ep_ret</td>\n",
       "      <td>-8.71875</td>\n",
       "      <td>Pong</td>\n",
       "      <td>1</td>\n",
       "      <td>8</td>\n",
       "    </tr>\n",
       "  </tbody>\n",
       "</table>\n",
       "<p>354 rows × 6 columns</p>\n",
       "</div>"
      ],
      "text/plain": [
       "          step              tag     value   env  seed  freq\n",
       "297155   24004  val/mean_ep_ret -20.93750  Pong     0     8\n",
       "297156   64004  val/mean_ep_ret -20.21875  Pong     0     8\n",
       "297157  104004  val/mean_ep_ret -15.59375  Pong     0     8\n",
       "297158  144004  val/mean_ep_ret -14.18750  Pong     0     8\n",
       "297159  184004  val/mean_ep_ret -12.56250  Pong     0     8\n",
       "...        ...              ...       ...   ...   ...   ...\n",
       "297178  624004  val/mean_ep_ret -11.46875  Pong     1     8\n",
       "297179  664004  val/mean_ep_ret -11.68750  Pong     1     8\n",
       "297180  704004  val/mean_ep_ret -10.87500  Pong     1     8\n",
       "297181  744004  val/mean_ep_ret -10.06250  Pong     1     8\n",
       "297182  784004  val/mean_ep_ret  -8.71875  Pong     1     8\n",
       "\n",
       "[354 rows x 6 columns]"
      ]
     },
     "execution_count": 21,
     "metadata": {},
     "output_type": "execute_result"
    }
   ],
   "source": [
    "df[df[\"env\"] == \"Pong\"]"
   ]
  },
  {
   "cell_type": "code",
   "execution_count": 57,
   "metadata": {},
   "outputs": [
    {
     "data": {
      "application/vnd.plotly.v1+json": {
       "config": {
        "plotlyServerURL": "https://plot.ly"
       },
       "data": [
        {
         "hovertemplate": "seed=2<br>step=%{x}<br>value=%{y}<extra></extra>",
         "legendgroup": "2",
         "line": {
          "color": "#636efa",
          "dash": "solid"
         },
         "marker": {
          "symbol": "circle"
         },
         "mode": "lines",
         "name": "2",
         "orientation": "v",
         "showlegend": true,
         "type": "scatter",
         "x": [
          192004,
          512004,
          832004,
          1152004,
          1472004,
          1792004,
          2112004,
          2432004,
          2752004,
          3072004,
          3392004,
          3712004,
          4032004,
          4352004,
          4672004,
          4992004,
          5312004,
          5632004,
          5952004,
          6272004
         ],
         "xaxis": "x",
         "y": [
          -20.8125,
          -21,
          -17.625,
          -17.53125,
          -18.21875,
          -10.5,
          -15.375,
          -12.03125,
          -8.53125,
          -2.625,
          2.25,
          10.75,
          12.40625,
          12,
          13.65625,
          13.09375,
          13.90625,
          13.875,
          15.34375,
          13.59375
         ],
         "yaxis": "y"
        },
        {
         "hovertemplate": "seed=1<br>step=%{x}<br>value=%{y}<extra></extra>",
         "legendgroup": "1",
         "line": {
          "color": "#EF553B",
          "dash": "solid"
         },
         "marker": {
          "symbol": "circle"
         },
         "mode": "lines",
         "name": "1",
         "orientation": "v",
         "showlegend": true,
         "type": "scatter",
         "x": [
          192004,
          512004,
          832004,
          1152004,
          1472004,
          1792004,
          2112004,
          2432004,
          2752004,
          3072004,
          3392004,
          3712004,
          4032004,
          4352004,
          4672004,
          4992004,
          5312004,
          5632004,
          5952004,
          6272004
         ],
         "xaxis": "x",
         "y": [
          -20.53125,
          -21,
          -18.03125,
          -19.09375,
          -16.625,
          -14.03125,
          -13.1875,
          -12.375,
          -8.5625,
          -4.96875,
          1.78125,
          1.65625,
          4.5625,
          3.59375,
          6.25,
          4.34375,
          7.78125,
          7.5625,
          9.5,
          8.6875
         ],
         "yaxis": "y"
        },
        {
         "hovertemplate": "seed=0<br>step=%{x}<br>value=%{y}<extra></extra>",
         "legendgroup": "0",
         "line": {
          "color": "#00cc96",
          "dash": "solid"
         },
         "marker": {
          "symbol": "circle"
         },
         "mode": "lines",
         "name": "0",
         "orientation": "v",
         "showlegend": true,
         "type": "scatter",
         "x": [
          192004,
          512004,
          832004,
          1152004,
          1472004,
          1792004,
          2112004,
          2432004,
          2752004,
          3072004,
          3392004,
          3712004,
          4032004,
          4352004,
          4672004,
          4992004,
          5312004,
          5632004,
          5952004,
          6272004
         ],
         "xaxis": "x",
         "y": [
          -21,
          -21,
          -20.53125,
          -13.71875,
          -13.125,
          -11.3125,
          -15.4375,
          -9.625,
          -6.15625,
          -5.46875,
          -3.625,
          -6.46875,
          -4.875,
          -5.84375,
          -3.125,
          -3.84375,
          -2.71875,
          -3.8125,
          -5.40625,
          -4.0625
         ],
         "yaxis": "y"
        },
        {
         "hovertemplate": "seed=0<br>step=%{x}<br>value=%{y}<extra></extra>",
         "legendgroup": "0",
         "line": {
          "color": "#636efa",
          "dash": "solid"
         },
         "marker": {
          "symbol": "circle"
         },
         "mode": "lines",
         "name": "0",
         "orientation": "v",
         "showlegend": true,
         "type": "scatter",
         "x": [
          96004,
          256004,
          416004,
          576004,
          736004,
          896004,
          1056004,
          1216004,
          1376004,
          1536004,
          1696004,
          1856004,
          2016004,
          2176004,
          2336004,
          2496004,
          2656004,
          2816004,
          2976004,
          3136004
         ],
         "xaxis": "x4",
         "y": [
          -20.96875,
          -21,
          -15.90625,
          -17.46875,
          -16.34375,
          -12.3125,
          -9.71875,
          -8.71875,
          -5.9375,
          -4.71875,
          -4.8125,
          1.71875,
          -0.125,
          4.6875,
          6.65625,
          4.71875,
          5.96875,
          8.09375,
          7,
          8.0625
         ],
         "yaxis": "y4"
        },
        {
         "hovertemplate": "seed=1<br>step=%{x}<br>value=%{y}<extra></extra>",
         "legendgroup": "1",
         "line": {
          "color": "#EF553B",
          "dash": "solid"
         },
         "marker": {
          "symbol": "circle"
         },
         "mode": "lines",
         "name": "1",
         "orientation": "v",
         "showlegend": true,
         "type": "scatter",
         "x": [
          96004,
          256004,
          416004,
          576004,
          736004,
          896004,
          1056004,
          1216004,
          1376004,
          1536004,
          1696004,
          1856004,
          2016004,
          2176004,
          2336004,
          2496004,
          2656004,
          2816004,
          2976004,
          3136004
         ],
         "xaxis": "x4",
         "y": [
          -20.6875,
          -21,
          -16.21875,
          -11.53125,
          -9.53125,
          -7.0625,
          -4.96875,
          7.5625,
          11.59375,
          13.65625,
          13.21875,
          13.3125,
          12.625,
          12.375,
          14.71875,
          14.21875,
          16.21875,
          15.9375,
          16.5625,
          15.25
         ],
         "yaxis": "y4"
        },
        {
         "hovertemplate": "seed=2<br>step=%{x}<br>value=%{y}<extra></extra>",
         "legendgroup": "2",
         "line": {
          "color": "#00cc96",
          "dash": "solid"
         },
         "marker": {
          "symbol": "circle"
         },
         "mode": "lines",
         "name": "2",
         "orientation": "v",
         "showlegend": true,
         "type": "scatter",
         "x": [
          96004,
          256004,
          416004,
          576004,
          736004,
          896004,
          1056004,
          1216004,
          1376004,
          1536004,
          1696004,
          1856004,
          2016004,
          2176004,
          2336004,
          2496004,
          2656004,
          2816004,
          2976004,
          3136004
         ],
         "xaxis": "x4",
         "y": [
          -20.9375,
          -21,
          -16.0625,
          -13.875,
          -8.28125,
          -1.96875,
          -6.40625,
          0.09375,
          3.1875,
          1.375,
          4,
          0.71875,
          3.09375,
          4.375,
          6.3125,
          5.90625,
          7,
          6.28125,
          7.78125,
          6.34375
         ],
         "yaxis": "y4"
        },
        {
         "hovertemplate": "seed=0<br>step=%{x}<br>value=%{y}<extra></extra>",
         "legendgroup": "0",
         "line": {
          "color": "#636efa",
          "dash": "solid"
         },
         "marker": {
          "symbol": "circle"
         },
         "mode": "lines",
         "name": "0",
         "orientation": "v",
         "showlegend": true,
         "type": "scatter",
         "x": [
          48004,
          128004,
          208004,
          288004,
          368004,
          448004,
          528004,
          608004,
          688004,
          768004,
          848004,
          928004,
          1008004,
          1088004,
          1168004,
          1248004,
          1328004,
          1408004,
          1488004,
          1568004
         ],
         "xaxis": "x7",
         "y": [
          -20.9375,
          -20.5625,
          -19.78125,
          -12.6875,
          -11.78125,
          -12.65625,
          -5.6875,
          -2.125,
          -7.125,
          -1.53125,
          4,
          4,
          6.375,
          -0.3125,
          7.1875,
          3.5625,
          4.6875,
          7.71875,
          8.0625,
          8
         ],
         "yaxis": "y7"
        },
        {
         "hovertemplate": "seed=2<br>step=%{x}<br>value=%{y}<extra></extra>",
         "legendgroup": "2",
         "line": {
          "color": "#EF553B",
          "dash": "solid"
         },
         "marker": {
          "symbol": "circle"
         },
         "mode": "lines",
         "name": "2",
         "orientation": "v",
         "showlegend": true,
         "type": "scatter",
         "x": [
          48004,
          128004,
          208004,
          288004,
          368004,
          448004,
          528004,
          608004,
          688004,
          768004,
          848004,
          928004,
          1008004,
          1088004,
          1168004,
          1248004,
          1328004,
          1408004,
          1488004,
          1568004
         ],
         "xaxis": "x7",
         "y": [
          -20.84375,
          -20.59375,
          -16.84375,
          -16.6875,
          -17.03125,
          -14.375,
          -15.1875,
          -11.5,
          -10.53125,
          -10.15625,
          -11.78125,
          -12.125,
          5.875,
          8.8125,
          7.125,
          10.8125,
          11.03125,
          12.71875,
          12.8125,
          10.34375
         ],
         "yaxis": "y7"
        },
        {
         "hovertemplate": "seed=1<br>step=%{x}<br>value=%{y}<extra></extra>",
         "legendgroup": "1",
         "line": {
          "color": "#00cc96",
          "dash": "solid"
         },
         "marker": {
          "symbol": "circle"
         },
         "mode": "lines",
         "name": "1",
         "orientation": "v",
         "showlegend": true,
         "type": "scatter",
         "x": [
          48004,
          128004,
          208004,
          288004,
          368004,
          448004,
          528004,
          608004,
          688004,
          768004,
          848004,
          928004,
          1008004,
          1088004,
          1168004,
          1248004,
          1328004,
          1408004,
          1488004,
          1568004
         ],
         "xaxis": "x7",
         "y": [
          -20.5,
          -21,
          -19.5,
          -16.875,
          -15.84375,
          -13.875,
          -8.40625,
          -4.15625,
          -5.75,
          -7.3125,
          -3.9375,
          -2.28125,
          -4.1875,
          -4.65625,
          3.65625,
          5.03125,
          6.90625,
          8.96875,
          12.03125,
          10.90625
         ],
         "yaxis": "y7"
        },
        {
         "hovertemplate": "seed=0<br>step=%{x}<br>value=%{y}<extra></extra>",
         "legendgroup": "0",
         "line": {
          "color": "#636efa",
          "dash": "solid"
         },
         "marker": {
          "symbol": "circle"
         },
         "mode": "lines",
         "name": "0",
         "orientation": "v",
         "showlegend": true,
         "type": "scatter",
         "x": [
          24004,
          64004,
          104004,
          144004,
          184004,
          224004,
          264004,
          304004,
          344004,
          384004,
          424004,
          464004,
          504004,
          544004,
          584004,
          624004,
          664004,
          704004,
          744004,
          784004
         ],
         "xaxis": "x10",
         "y": [
          -20.9375,
          -20.21875,
          -15.59375,
          -14.1875,
          -12.5625,
          -13.53125,
          -12.90625,
          -10.21875,
          -12,
          -10.625,
          -10.0625,
          -10,
          -9.5625,
          -7.15625,
          -10.78125,
          -10.09375,
          -8.75,
          -8.09375,
          -5.84375,
          -6.625
         ],
         "yaxis": "y10"
        },
        {
         "hovertemplate": "seed=2<br>step=%{x}<br>value=%{y}<extra></extra>",
         "legendgroup": "2",
         "line": {
          "color": "#EF553B",
          "dash": "solid"
         },
         "marker": {
          "symbol": "circle"
         },
         "mode": "lines",
         "name": "2",
         "orientation": "v",
         "showlegend": true,
         "type": "scatter",
         "x": [
          24004,
          64004,
          104004,
          144004,
          184004,
          224004,
          264004,
          304004,
          344004,
          384004,
          424004,
          464004,
          504004,
          544004,
          584004,
          624004,
          664004,
          704004,
          744004,
          784004
         ],
         "xaxis": "x10",
         "y": [
          -20.9375,
          -21,
          -14.15625,
          -13.5625,
          -11.375,
          -11.15625,
          -10.53125,
          -13,
          -11.53125,
          -11.21875,
          -11.4375,
          -7.71875,
          -10.59375,
          -11.28125,
          -11.625,
          -8.53125,
          -8.5,
          -9.65625,
          -8.71875,
          -8.21875
         ],
         "yaxis": "y10"
        },
        {
         "hovertemplate": "seed=1<br>step=%{x}<br>value=%{y}<extra></extra>",
         "legendgroup": "1",
         "line": {
          "color": "#00cc96",
          "dash": "solid"
         },
         "marker": {
          "symbol": "circle"
         },
         "mode": "lines",
         "name": "1",
         "orientation": "v",
         "showlegend": true,
         "type": "scatter",
         "x": [
          24004,
          64004,
          104004,
          144004,
          184004,
          224004,
          264004,
          304004,
          344004,
          384004,
          424004,
          464004,
          504004,
          544004,
          584004,
          624004,
          664004,
          704004,
          744004,
          784004
         ],
         "xaxis": "x10",
         "y": [
          -20.53125,
          -20.4375,
          -18.125,
          -16.71875,
          -13.65625,
          -12.34375,
          -14.125,
          -11.71875,
          -12.4375,
          -14.4375,
          -13.40625,
          -13.03125,
          -10.84375,
          -12.0625,
          -11.40625,
          -11.46875,
          -11.6875,
          -10.875,
          -10.0625,
          -8.71875
         ],
         "yaxis": "y10"
        },
        {
         "hovertemplate": "seed=1<br>step=%{x}<br>value=%{y}<extra></extra>",
         "legendgroup": "1",
         "line": {
          "color": "#636efa",
          "dash": "solid"
         },
         "marker": {
          "symbol": "circle"
         },
         "mode": "lines",
         "name": "1",
         "orientation": "v",
         "showlegend": true,
         "type": "scatter",
         "x": [
          20004,
          40004,
          60004,
          80004,
          100004,
          120004,
          140004,
          160004,
          180004,
          200004,
          220004,
          240004,
          260004,
          280004,
          300004,
          320004,
          340004,
          360004,
          380004
         ],
         "xaxis": "x13",
         "y": [
          -20.4375,
          -20.46875,
          -14.96875,
          -15.84375,
          -13.03125,
          -14.21875,
          -9.09375,
          -5.46875,
          -5.53125,
          -1.625,
          -5.84375,
          -4.25,
          0.40625,
          -0.71875,
          0.0625,
          -2.75,
          -2.5,
          -2.46875,
          -0.375
         ],
         "yaxis": "y13"
        },
        {
         "hovertemplate": "seed=0<br>step=%{x}<br>value=%{y}<extra></extra>",
         "legendgroup": "0",
         "line": {
          "color": "#EF553B",
          "dash": "solid"
         },
         "marker": {
          "symbol": "circle"
         },
         "mode": "lines",
         "name": "0",
         "orientation": "v",
         "showlegend": true,
         "type": "scatter",
         "x": [
          20004,
          40004,
          60004,
          80004,
          100004,
          120004,
          140004,
          160004,
          180004,
          200004,
          220004,
          240004,
          260004,
          280004,
          300004,
          320004,
          340004,
          360004,
          380004
         ],
         "xaxis": "x13",
         "y": [
          -20.96875,
          -20.90625,
          -20.15625,
          -17.1875,
          -18.0625,
          -16.59375,
          -16.71875,
          -13.5625,
          -16.3125,
          -16.5,
          -14.96875,
          -14.65625,
          -14.3125,
          -13.84375,
          -14.28125,
          -15.09375,
          -15.3125,
          -14.4375,
          -11.5625
         ],
         "yaxis": "y13"
        },
        {
         "hovertemplate": "seed=2<br>step=%{x}<br>value=%{y}<extra></extra>",
         "legendgroup": "2",
         "line": {
          "color": "#00cc96",
          "dash": "solid"
         },
         "marker": {
          "symbol": "circle"
         },
         "mode": "lines",
         "name": "2",
         "orientation": "v",
         "showlegend": true,
         "type": "scatter",
         "x": [
          20004,
          40004,
          60004,
          80004,
          100004,
          120004,
          140004,
          160004,
          180004,
          200004,
          220004,
          240004,
          260004,
          280004,
          300004,
          320004,
          340004,
          360004,
          380004
         ],
         "xaxis": "x13",
         "y": [
          -20.875,
          -20.8125,
          -18.15625,
          -19.59375,
          -18.71875,
          -17.25,
          -14.21875,
          -16.0625,
          -12.78125,
          -12.25,
          -13.59375,
          -12.40625,
          -12.875,
          -13.125,
          -12.1875,
          -10.71875,
          -12.09375,
          -10.75,
          -10.625
         ],
         "yaxis": "y13"
        },
        {
         "hovertemplate": "seed=0<br>step=%{x}<br>value=%{y}<extra></extra>",
         "legendgroup": "0",
         "line": {
          "color": "#636efa",
          "dash": "solid"
         },
         "marker": {
          "symbol": "circle"
         },
         "mode": "lines",
         "name": "0",
         "orientation": "v",
         "showlegend": true,
         "type": "scatter",
         "x": [
          20004,
          40004,
          60004,
          80004,
          100004,
          120004,
          140004,
          160004,
          180004,
          200004,
          220004,
          240004,
          260004,
          280004,
          300004,
          320004,
          340004,
          360004,
          380004
         ],
         "xaxis": "x16",
         "y": [
          -20.96875,
          -19.75,
          -17.875,
          -17.03125,
          -16.0625,
          -16.09375,
          -15.375,
          -15.1875,
          -15.6875,
          -15.75,
          -17.375,
          -15.5,
          -17.28125,
          -16.9375,
          -17.03125,
          -15.875,
          -15.75,
          -16.15625,
          -14.5625
         ],
         "yaxis": "y16"
        },
        {
         "hovertemplate": "seed=2<br>step=%{x}<br>value=%{y}<extra></extra>",
         "legendgroup": "2",
         "line": {
          "color": "#EF553B",
          "dash": "solid"
         },
         "marker": {
          "symbol": "circle"
         },
         "mode": "lines",
         "name": "2",
         "orientation": "v",
         "showlegend": true,
         "type": "scatter",
         "x": [
          20004,
          40004,
          60004,
          80004,
          100004,
          120004,
          140004,
          160004,
          180004,
          200004,
          220004,
          240004,
          260004,
          280004,
          300004,
          320004,
          340004,
          360004,
          380004
         ],
         "xaxis": "x16",
         "y": [
          -20.875,
          -19.90625,
          -19.375,
          -17.125,
          -16.28125,
          -15.65625,
          -18.0625,
          -15.125,
          -15.4375,
          -15.6875,
          -14.53125,
          -14.625,
          -13.71875,
          -13.6875,
          -14.1875,
          -14.09375,
          -14.53125,
          -13.0625,
          -15.09375
         ],
         "yaxis": "y16"
        },
        {
         "hovertemplate": "seed=1<br>step=%{x}<br>value=%{y}<extra></extra>",
         "legendgroup": "1",
         "line": {
          "color": "#00cc96",
          "dash": "solid"
         },
         "marker": {
          "symbol": "circle"
         },
         "mode": "lines",
         "name": "1",
         "orientation": "v",
         "showlegend": true,
         "type": "scatter",
         "x": [
          20004,
          40004,
          60004,
          80004,
          100004,
          120004,
          140004,
          160004,
          180004,
          200004,
          220004,
          240004,
          260004,
          280004,
          300004,
          320004,
          340004,
          360004,
          380004
         ],
         "xaxis": "x16",
         "y": [
          -20.4375,
          -16.09375,
          -18.75,
          -17.21875,
          -15.625,
          -15.78125,
          -15.46875,
          -13.28125,
          -15.875,
          -16.53125,
          -16.3125,
          -16.5,
          -15,
          -15.875,
          -16.53125,
          -15.46875,
          -15.34375,
          -16.625,
          -15.375
         ],
         "yaxis": "y16"
        },
        {
         "hovertemplate": "seed=0<br>step=%{x}<br>value=%{y}<extra></extra>",
         "legendgroup": "0",
         "line": {
          "color": "#636efa",
          "dash": "solid"
         },
         "marker": {
          "symbol": "circle"
         },
         "mode": "lines",
         "name": "0",
         "orientation": "v",
         "showlegend": true,
         "type": "scatter",
         "x": [
          192004,
          512004,
          832004,
          1152004,
          1472004,
          1792004,
          2112004,
          2432004,
          2752004,
          3072004,
          3392004,
          3712004,
          4032004,
          4352004,
          4672004,
          4992004,
          5312004,
          5632004,
          5952004,
          6272004
         ],
         "xaxis": "x2",
         "y": [
          7171.875,
          11159.375,
          42790.625,
          11000,
          20490.625,
          32768.75,
          50590.625,
          23590.625,
          12575,
          62743.75,
          41518.75,
          68950,
          74775,
          80331.25,
          86056.25,
          91103.125,
          82462.5,
          93850,
          107590.625,
          91450
         ],
         "yaxis": "y2"
        },
        {
         "hovertemplate": "seed=1<br>step=%{x}<br>value=%{y}<extra></extra>",
         "legendgroup": "1",
         "line": {
          "color": "#EF553B",
          "dash": "solid"
         },
         "marker": {
          "symbol": "circle"
         },
         "mode": "lines",
         "name": "1",
         "orientation": "v",
         "showlegend": true,
         "type": "scatter",
         "x": [
          192004,
          512004,
          832004,
          1152004,
          1472004,
          1792004,
          2112004,
          2432004,
          2752004,
          3072004,
          3392004,
          3712004,
          4032004,
          4352004,
          4672004,
          4992004,
          5312004,
          5632004,
          5952004,
          6272004
         ],
         "xaxis": "x2",
         "y": [
          5593.75,
          4012.5,
          11000,
          11000,
          8218.75,
          56296.875,
          60250,
          35593.75,
          51971.875,
          64940.625,
          58375,
          73531.25,
          48403.125,
          80359.375,
          88259.375,
          93118.75,
          96593.75,
          94831.25,
          91428.125,
          90071.875
         ],
         "yaxis": "y2"
        },
        {
         "hovertemplate": "seed=2<br>step=%{x}<br>value=%{y}<extra></extra>",
         "legendgroup": "2",
         "line": {
          "color": "#00cc96",
          "dash": "solid"
         },
         "marker": {
          "symbol": "circle"
         },
         "mode": "lines",
         "name": "2",
         "orientation": "v",
         "showlegend": true,
         "type": "scatter",
         "x": [
          192004,
          512004,
          832004,
          1152004,
          1472004,
          1792004,
          2112004,
          2432004,
          2752004,
          3072004,
          3392004,
          3712004,
          4032004,
          4352004,
          4672004,
          4992004,
          5312004,
          5632004,
          5952004,
          6272004
         ],
         "xaxis": "x2",
         "y": [
          5387.5,
          18221.875,
          37481.25,
          47525,
          15209.375,
          15281.25,
          58078.125,
          41450,
          64003.125,
          63803.125,
          53709.375,
          72665.625,
          76328.125,
          92825,
          76462.5,
          85831.25,
          78134.375,
          94690.625,
          88109.375,
          95946.875
         ],
         "yaxis": "y2"
        },
        {
         "hovertemplate": "seed=1<br>step=%{x}<br>value=%{y}<extra></extra>",
         "legendgroup": "1",
         "line": {
          "color": "#636efa",
          "dash": "solid"
         },
         "marker": {
          "symbol": "circle"
         },
         "mode": "lines",
         "name": "1",
         "orientation": "v",
         "showlegend": true,
         "type": "scatter",
         "x": [
          96004,
          256004,
          416004,
          576004,
          736004,
          896004,
          1056004,
          1216004,
          1376004,
          1536004,
          1696004,
          1856004,
          2016004,
          2176004,
          2336004,
          2496004,
          2656004,
          2816004,
          2976004,
          3136004
         ],
         "xaxis": "x5",
         "y": [
          5265.625,
          11000,
          11000,
          12768.75,
          45015.625,
          59306.25,
          60118.75,
          55903.125,
          54768.75,
          62246.875,
          59081.25,
          57512.5,
          73012.5,
          79528.125,
          83653.125,
          76343.75,
          79153.125,
          91571.875,
          97390.625,
          90018.75
         ],
         "yaxis": "y5"
        },
        {
         "hovertemplate": "seed=0<br>step=%{x}<br>value=%{y}<extra></extra>",
         "legendgroup": "0",
         "line": {
          "color": "#EF553B",
          "dash": "solid"
         },
         "marker": {
          "symbol": "circle"
         },
         "mode": "lines",
         "name": "0",
         "orientation": "v",
         "showlegend": true,
         "type": "scatter",
         "x": [
          96004,
          256004,
          416004,
          576004,
          736004,
          896004,
          1056004,
          1216004,
          1376004,
          1536004,
          1696004,
          1856004,
          2016004,
          2176004,
          2336004,
          2496004,
          2656004,
          2816004,
          2976004,
          3136004
         ],
         "xaxis": "x5",
         "y": [
          7031.25,
          3400,
          37125,
          37662.5,
          53521.875,
          60625,
          55475,
          55718.75,
          60865.625,
          55540.625,
          58471.875,
          59315.625,
          53184.375,
          74278.125,
          64868.75,
          70812.5,
          74021.875,
          75300,
          67537.5,
          80043.75
         ],
         "yaxis": "y5"
        },
        {
         "hovertemplate": "seed=2<br>step=%{x}<br>value=%{y}<extra></extra>",
         "legendgroup": "2",
         "line": {
          "color": "#00cc96",
          "dash": "solid"
         },
         "marker": {
          "symbol": "circle"
         },
         "mode": "lines",
         "name": "2",
         "orientation": "v",
         "showlegend": true,
         "type": "scatter",
         "x": [
          96004,
          256004,
          416004,
          576004,
          736004,
          896004,
          1056004,
          1216004,
          1376004,
          1536004,
          1696004,
          1856004,
          2016004,
          2176004,
          2336004,
          2496004,
          2656004,
          2816004,
          2976004,
          3136004
         ],
         "xaxis": "x5",
         "y": [
          5171.875,
          11000,
          22412.5,
          19228.125,
          17687.5,
          19750,
          15240.625,
          15471.875,
          43615.625,
          24706.25,
          43490.625,
          46850,
          55268.75,
          14431.25,
          75784.375,
          85903.125,
          80737.5,
          51331.25,
          63406.25,
          97962.5
         ],
         "yaxis": "y5"
        },
        {
         "hovertemplate": "seed=2<br>step=%{x}<br>value=%{y}<extra></extra>",
         "legendgroup": "2",
         "line": {
          "color": "#636efa",
          "dash": "solid"
         },
         "marker": {
          "symbol": "circle"
         },
         "mode": "lines",
         "name": "2",
         "orientation": "v",
         "showlegend": true,
         "type": "scatter",
         "x": [
          48004,
          128004,
          208004,
          288004,
          368004,
          448004,
          528004,
          608004,
          688004,
          768004,
          848004,
          928004,
          1008004,
          1088004,
          1168004,
          1248004,
          1328004,
          1408004,
          1488004,
          1568004
         ],
         "xaxis": "x8",
         "y": [
          5165.625,
          3400,
          16262.5,
          33421.875,
          40262.5,
          38987.5,
          37553.125,
          31275,
          49396.875,
          70490.625,
          62203.125,
          60343.75,
          70871.875,
          70987.5,
          58012.5,
          74303.125,
          65403.125,
          73221.875,
          68365.625,
          87712.5
         ],
         "yaxis": "y8"
        },
        {
         "hovertemplate": "seed=1<br>step=%{x}<br>value=%{y}<extra></extra>",
         "legendgroup": "1",
         "line": {
          "color": "#EF553B",
          "dash": "solid"
         },
         "marker": {
          "symbol": "circle"
         },
         "mode": "lines",
         "name": "1",
         "orientation": "v",
         "showlegend": true,
         "type": "scatter",
         "x": [
          48004,
          128004,
          208004,
          288004,
          368004,
          448004,
          528004,
          608004,
          688004,
          768004,
          848004,
          928004,
          1008004,
          1088004,
          1168004,
          1248004,
          1328004,
          1408004,
          1488004,
          1568004
         ],
         "xaxis": "x8",
         "y": [
          4756.25,
          3400,
          35350,
          56837.5,
          52740.625,
          50940.625,
          65959.375,
          70296.875,
          74915.625,
          71775,
          74296.875,
          87106.25,
          85168.75,
          74634.375,
          94046.875,
          99162.5,
          99031.25,
          89265.625,
          93171.875,
          94953.125
         ],
         "yaxis": "y8"
        },
        {
         "hovertemplate": "seed=0<br>step=%{x}<br>value=%{y}<extra></extra>",
         "legendgroup": "0",
         "line": {
          "color": "#00cc96",
          "dash": "solid"
         },
         "marker": {
          "symbol": "circle"
         },
         "mode": "lines",
         "name": "0",
         "orientation": "v",
         "showlegend": true,
         "type": "scatter",
         "x": [
          48004,
          128004,
          208004,
          288004,
          368004,
          448004,
          528004,
          608004,
          688004,
          768004,
          848004,
          928004,
          1008004,
          1088004,
          1168004,
          1248004,
          1328004,
          1408004,
          1488004,
          1568004
         ],
         "xaxis": "x8",
         "y": [
          7243.75,
          3400,
          30115.625,
          17431.25,
          42687.5,
          41006.25,
          54868.75,
          50753.125,
          54187.5,
          58062.5,
          47343.75,
          64787.5,
          59237.5,
          62125,
          59956.25,
          70284.375,
          66678.125,
          76918.75,
          68331.25,
          67068.75
         ],
         "yaxis": "y8"
        },
        {
         "hovertemplate": "seed=1<br>step=%{x}<br>value=%{y}<extra></extra>",
         "legendgroup": "1",
         "line": {
          "color": "#636efa",
          "dash": "solid"
         },
         "marker": {
          "symbol": "circle"
         },
         "mode": "lines",
         "name": "1",
         "orientation": "v",
         "showlegend": true,
         "type": "scatter",
         "x": [
          28704,
          68704,
          108704,
          148704,
          188704,
          228704,
          268704,
          308704,
          348704,
          388704,
          428704,
          468704,
          508704,
          548704,
          588704,
          628704,
          668704,
          708704,
          748704,
          788704
         ],
         "xaxis": "x11",
         "y": [
          5053.125,
          23571.875,
          38062.5,
          40462.5,
          38853.125,
          44556.25,
          27281.25,
          52084.375,
          51837.5,
          64881.25,
          58828.125,
          58765.625,
          59187.5,
          52637.5,
          58425,
          59206.25,
          43950,
          51200,
          63453.125,
          54287.5
         ],
         "yaxis": "y11"
        },
        {
         "hovertemplate": "seed=2<br>step=%{x}<br>value=%{y}<extra></extra>",
         "legendgroup": "2",
         "line": {
          "color": "#EF553B",
          "dash": "solid"
         },
         "marker": {
          "symbol": "circle"
         },
         "mode": "lines",
         "name": "2",
         "orientation": "v",
         "showlegend": true,
         "type": "scatter",
         "x": [
          24004,
          64004,
          104004,
          144004,
          184004,
          224004,
          264004,
          304004,
          344004,
          384004,
          424004,
          464004,
          504004,
          544004,
          584004,
          624004,
          664004,
          704004,
          744004,
          784004
         ],
         "xaxis": "x11",
         "y": [
          5015.625,
          9328.125,
          41721.875,
          26862.5,
          40275,
          27246.875,
          7928.125,
          22081.25,
          40375,
          18662.5,
          40356.25,
          49315.625,
          30968.75,
          38428.125,
          46556.25,
          52146.875,
          56118.75,
          48775,
          16000,
          16000
         ],
         "yaxis": "y11"
        },
        {
         "hovertemplate": "seed=0<br>step=%{x}<br>value=%{y}<extra></extra>",
         "legendgroup": "0",
         "line": {
          "color": "#00cc96",
          "dash": "solid"
         },
         "marker": {
          "symbol": "circle"
         },
         "mode": "lines",
         "name": "0",
         "orientation": "v",
         "showlegend": true,
         "type": "scatter",
         "x": [
          24004,
          64004,
          104004,
          144004,
          184004,
          224004,
          264004,
          304004,
          344004,
          384004,
          424004,
          464004,
          504004,
          544004,
          584004,
          624004,
          664004,
          704004,
          744004,
          784004
         ],
         "xaxis": "x11",
         "y": [
          6618.75,
          10353.125,
          20318.75,
          44721.875,
          37756.25,
          50768.75,
          26962.5,
          44171.875,
          42450,
          46246.875,
          54943.75,
          56659.375,
          51228.125,
          51887.5,
          53468.75,
          60134.375,
          57359.375,
          64096.875,
          56409.375,
          54890.625
         ],
         "yaxis": "y11"
        },
        {
         "hovertemplate": "seed=0<br>step=%{x}<br>value=%{y}<extra></extra>",
         "legendgroup": "0",
         "line": {
          "color": "#636efa",
          "dash": "solid"
         },
         "marker": {
          "symbol": "circle"
         },
         "mode": "lines",
         "name": "0",
         "orientation": "v",
         "showlegend": true,
         "type": "scatter",
         "x": [
          23704,
          43704,
          63704,
          83704,
          103704,
          123704,
          143704,
          163704,
          183704,
          203704,
          223704,
          243704,
          263704,
          283704,
          303704,
          323704,
          343704,
          363704,
          383704
         ],
         "xaxis": "x14",
         "y": [
          7225,
          34921.875,
          8731.25,
          25865.625,
          28581.25,
          50675,
          40959.375,
          29565.625,
          39931.25,
          47612.5,
          50362.5,
          46490.625,
          48225,
          49346.875,
          49990.625,
          47668.75,
          67853.125,
          58293.75,
          67287.5
         ],
         "yaxis": "y14"
        },
        {
         "hovertemplate": "seed=2<br>step=%{x}<br>value=%{y}<extra></extra>",
         "legendgroup": "2",
         "line": {
          "color": "#EF553B",
          "dash": "solid"
         },
         "marker": {
          "symbol": "circle"
         },
         "mode": "lines",
         "name": "2",
         "orientation": "v",
         "showlegend": true,
         "type": "scatter",
         "x": [
          20004,
          40004,
          60004,
          80004,
          100004,
          120004,
          140004,
          160004,
          180004,
          200004,
          220004,
          240004,
          260004,
          280004,
          300004,
          320004,
          340004,
          360004,
          380004
         ],
         "xaxis": "x14",
         "y": [
          5378.125,
          12100,
          25887.5,
          22265.625,
          34025,
          16278.125,
          36709.375,
          42081.25,
          56150,
          32896.875,
          43425,
          39971.875,
          38475,
          39100,
          20281.25,
          15918.75,
          48456.25,
          50187.5,
          16000
         ],
         "yaxis": "y14"
        },
        {
         "hovertemplate": "seed=1<br>step=%{x}<br>value=%{y}<extra></extra>",
         "legendgroup": "1",
         "line": {
          "color": "#00cc96",
          "dash": "solid"
         },
         "marker": {
          "symbol": "circle"
         },
         "mode": "lines",
         "name": "1",
         "orientation": "v",
         "showlegend": true,
         "type": "scatter",
         "x": [
          33852,
          53852,
          73852,
          93852,
          113852,
          133852,
          153852,
          173852,
          193852,
          213852,
          233852,
          253852,
          273852,
          293852,
          313852,
          333852,
          353852,
          373852,
          393852
         ],
         "xaxis": "x14",
         "y": [
          6000,
          11000,
          31253.125,
          21759.375,
          39453.125,
          41425,
          34815.625,
          47303.125,
          19115.625,
          44221.875,
          47378.125,
          15846.875,
          26737.5,
          55162.5,
          55981.25,
          56821.875,
          67903.125,
          64096.875,
          61037.5
         ],
         "yaxis": "y14"
        },
        {
         "hovertemplate": "seed=1<br>step=%{x}<br>value=%{y}<extra></extra>",
         "legendgroup": "1",
         "line": {
          "color": "#636efa",
          "dash": "solid"
         },
         "marker": {
          "symbol": "circle"
         },
         "mode": "lines",
         "name": "1",
         "orientation": "v",
         "showlegend": true,
         "type": "scatter",
         "x": [
          33852,
          53852,
          73852,
          93852,
          113852,
          133852,
          153852,
          173852,
          193852,
          213852,
          233852,
          253852,
          273852,
          293852,
          313852,
          333852,
          353852,
          373852,
          393852
         ],
         "xaxis": "x17",
         "y": [
          6000,
          11000,
          32362.5,
          37615.625,
          29671.875,
          34300,
          9912.5,
          5400,
          21806.25,
          24950,
          10512.5,
          3400,
          6221.875,
          28846.875,
          9850,
          24728.125,
          21681.25,
          34565.625,
          40415.625
         ],
         "yaxis": "y17"
        },
        {
         "hovertemplate": "seed=2<br>step=%{x}<br>value=%{y}<extra></extra>",
         "legendgroup": "2",
         "line": {
          "color": "#EF553B",
          "dash": "solid"
         },
         "marker": {
          "symbol": "circle"
         },
         "mode": "lines",
         "name": "2",
         "orientation": "v",
         "showlegend": true,
         "type": "scatter",
         "x": [
          20004,
          40004,
          60004,
          80004,
          100004,
          120004,
          140004,
          160004,
          180004,
          200004,
          220004,
          240004,
          260004,
          280004,
          300004,
          320004,
          340004,
          360004,
          380004
         ],
         "xaxis": "x17",
         "y": [
          4825,
          22015.625,
          25512.5,
          37531.25,
          26875,
          32009.375,
          41040.625,
          24137.5,
          19918.75,
          37984.375,
          37843.75,
          45487.5,
          53906.25,
          19559.375,
          33059.375,
          36637.5,
          8609.375,
          17143.75,
          44046.875
         ],
         "yaxis": "y17"
        },
        {
         "hovertemplate": "seed=0<br>step=%{x}<br>value=%{y}<extra></extra>",
         "legendgroup": "0",
         "line": {
          "color": "#00cc96",
          "dash": "solid"
         },
         "marker": {
          "symbol": "circle"
         },
         "mode": "lines",
         "name": "0",
         "orientation": "v",
         "showlegend": true,
         "type": "scatter",
         "x": [
          21616,
          41616,
          61616,
          81616,
          101616,
          121616,
          141616,
          161616,
          181616,
          201616,
          221616,
          241616,
          261616,
          281616,
          301616,
          321616,
          341616,
          361616,
          381616
         ],
         "xaxis": "x17",
         "y": [
          7168.75,
          39421.875,
          18440.625,
          32946.875,
          30356.25,
          48121.875,
          5912.5,
          35078.125,
          8825,
          29306.25,
          29306.25,
          43000,
          39662.5,
          51790.625,
          43768.75,
          54840.625,
          52184.375,
          47334.375,
          42412.5
         ],
         "yaxis": "y17"
        },
        {
         "hovertemplate": "seed=1<br>step=%{x}<br>value=%{y}<extra></extra>",
         "legendgroup": "1",
         "line": {
          "color": "#636efa",
          "dash": "solid"
         },
         "marker": {
          "symbol": "circle"
         },
         "mode": "lines",
         "name": "1",
         "orientation": "v",
         "showlegend": true,
         "type": "scatter",
         "x": [
          192004,
          512004,
          832004,
          1152004,
          1472004,
          1792004,
          2112004,
          2432004,
          2752004,
          3072004,
          3392004,
          3712004,
          4032004,
          4352004,
          4672004,
          4992004,
          5312004,
          5632004,
          5952004,
          6272004
         ],
         "xaxis": "x3",
         "y": [
          280.875,
          353.0625,
          580.78125,
          447.5625,
          730.40625,
          770.4375,
          738.28125,
          757.96875,
          766.5,
          726.46875,
          772.90625,
          849.09375,
          845.90625,
          949.125,
          1144.71875,
          1103.28125,
          1221.34375,
          1386.09375,
          1529.78125,
          1677.65625
         ],
         "yaxis": "y3"
        },
        {
         "hovertemplate": "seed=2<br>step=%{x}<br>value=%{y}<extra></extra>",
         "legendgroup": "2",
         "line": {
          "color": "#EF553B",
          "dash": "solid"
         },
         "marker": {
          "symbol": "circle"
         },
         "mode": "lines",
         "name": "2",
         "orientation": "v",
         "showlegend": true,
         "type": "scatter",
         "x": [
          192004,
          512004,
          832004,
          1152004,
          1472004,
          1792004,
          2112004,
          2432004,
          2752004,
          3072004,
          3392004,
          3712004,
          4032004,
          4352004,
          4672004,
          4992004,
          5312004,
          5632004,
          5952004,
          6272004
         ],
         "xaxis": "x3",
         "y": [
          171.9375,
          409.5,
          400.3125,
          531.5625,
          642.46875,
          777.65625,
          739.5625,
          769.78125,
          724.3125,
          730,
          609,
          802.65625,
          793.0625,
          1094.4375,
          1309.78125,
          1334.5625,
          1779.8125,
          1770.03125,
          2212.6875,
          2140.59375
         ],
         "yaxis": "y3"
        },
        {
         "hovertemplate": "seed=0<br>step=%{x}<br>value=%{y}<extra></extra>",
         "legendgroup": "0",
         "line": {
          "color": "#00cc96",
          "dash": "solid"
         },
         "marker": {
          "symbol": "circle"
         },
         "mode": "lines",
         "name": "0",
         "orientation": "v",
         "showlegend": true,
         "type": "scatter",
         "x": [
          192004,
          512004,
          832004,
          1152004,
          1472004,
          1792004,
          2112004,
          2432004,
          2752004,
          3072004,
          3392004,
          3712004,
          4032004,
          4352004,
          4672004,
          4992004,
          5312004,
          5632004,
          5952004,
          6272004
         ],
         "xaxis": "x3",
         "y": [
          132.5625,
          374.71875,
          388.5,
          563.71875,
          636.21875,
          680.53125,
          808.5,
          705.3125,
          754.78125,
          865.90625,
          910.78125,
          847.71875,
          1020.75,
          1185.5,
          1552.8125,
          1603.46875,
          1947.28125,
          2015.1875,
          1987.6875,
          2016.375
         ],
         "yaxis": "y3"
        },
        {
         "hovertemplate": "seed=1<br>step=%{x}<br>value=%{y}<extra></extra>",
         "legendgroup": "1",
         "line": {
          "color": "#636efa",
          "dash": "solid"
         },
         "marker": {
          "symbol": "circle"
         },
         "mode": "lines",
         "name": "1",
         "orientation": "v",
         "showlegend": true,
         "type": "scatter",
         "x": [
          96004,
          256004,
          416004,
          576004,
          736004,
          896004,
          1056004,
          1216004,
          1376004,
          1536004,
          1696004,
          1856004,
          2016004,
          2176004,
          2336004,
          2496004,
          2656004,
          2816004,
          2976004,
          3136004
         ],
         "xaxis": "x6",
         "y": [
          279.5625,
          385.21875,
          456.75,
          565.03125,
          677.90625,
          683.8125,
          693,
          755.78125,
          779.8125,
          724.0625,
          950.65625,
          918.09375,
          924.25,
          1131.5,
          1515.96875,
          1655.21875,
          1643.40625,
          1934.84375,
          2311.59375,
          2119.09375
         ],
         "yaxis": "y6"
        },
        {
         "hovertemplate": "seed=0<br>step=%{x}<br>value=%{y}<extra></extra>",
         "legendgroup": "0",
         "line": {
          "color": "#EF553B",
          "dash": "solid"
         },
         "marker": {
          "symbol": "circle"
         },
         "mode": "lines",
         "name": "0",
         "orientation": "v",
         "showlegend": true,
         "type": "scatter",
         "x": [
          96004,
          256004,
          416004,
          576004,
          736004,
          896004,
          1056004,
          1216004,
          1376004,
          1536004,
          1696004,
          1856004,
          2016004,
          2176004,
          2336004,
          2496004,
          2656004,
          2816004,
          2976004,
          3136004
         ],
         "xaxis": "x6",
         "y": [
          122.71875,
          376.6875,
          481.03125,
          629.34375,
          682.5,
          750.75,
          729.75,
          691.21875,
          785.125,
          682.71875,
          756.09375,
          855.03125,
          932.28125,
          1207.34375,
          1404.25,
          1716.625,
          1611.15625,
          1912.09375,
          1594.9375,
          2148.21875
         ],
         "yaxis": "y6"
        },
        {
         "hovertemplate": "seed=2<br>step=%{x}<br>value=%{y}<extra></extra>",
         "legendgroup": "2",
         "line": {
          "color": "#00cc96",
          "dash": "solid"
         },
         "marker": {
          "symbol": "circle"
         },
         "mode": "lines",
         "name": "2",
         "orientation": "v",
         "showlegend": true,
         "type": "scatter",
         "x": [
          96004,
          256004,
          416004,
          576004,
          736004,
          896004,
          1056004,
          1216004,
          1376004,
          1536004,
          1696004,
          1856004,
          2016004,
          2176004,
          2336004,
          2496004,
          2656004,
          2816004,
          2976004,
          3136004
         ],
         "xaxis": "x6",
         "y": [
          170.625,
          342.5625,
          406.875,
          507.9375,
          635.25,
          677.90625,
          739.25,
          744.375,
          739.40625,
          765.15625,
          845.8125,
          1093,
          1146.375,
          1417.4375,
          1329.6875,
          1935.71875,
          1854.15625,
          1906.75,
          1922.90625,
          2285.375
         ],
         "yaxis": "y6"
        },
        {
         "hovertemplate": "seed=1<br>step=%{x}<br>value=%{y}<extra></extra>",
         "legendgroup": "1",
         "line": {
          "color": "#636efa",
          "dash": "solid"
         },
         "marker": {
          "symbol": "circle"
         },
         "mode": "lines",
         "name": "1",
         "orientation": "v",
         "showlegend": true,
         "type": "scatter",
         "x": [
          48004,
          128004,
          208004,
          288004,
          368004,
          448004,
          528004,
          608004,
          688004,
          768004,
          848004,
          928004,
          1008004,
          1088004,
          1168004,
          1248004,
          1328004,
          1408004,
          1488004,
          1568004
         ],
         "xaxis": "x9",
         "y": [
          273.65625,
          390.46875,
          446.90625,
          467.90625,
          581.75,
          596.53125,
          698.71875,
          679.34375,
          691.03125,
          712.40625,
          805.21875,
          796.4375,
          963.5,
          801.25,
          793.9375,
          913.1875,
          882.6875,
          1018.375,
          1111.3125,
          1318.84375
         ],
         "yaxis": "y9"
        },
        {
         "hovertemplate": "seed=0<br>step=%{x}<br>value=%{y}<extra></extra>",
         "legendgroup": "0",
         "line": {
          "color": "#EF553B",
          "dash": "solid"
         },
         "marker": {
          "symbol": "circle"
         },
         "mode": "lines",
         "name": "0",
         "orientation": "v",
         "showlegend": true,
         "type": "scatter",
         "x": [
          48004,
          128004,
          208004,
          288004,
          368004,
          448004,
          528004,
          608004,
          688004,
          768004,
          848004,
          928004,
          1008004,
          1088004,
          1168004,
          1248004,
          1328004,
          1408004,
          1488004,
          1568004
         ],
         "xaxis": "x9",
         "y": [
          131.25,
          304.5,
          525.96875,
          630.96875,
          692.9375,
          693.90625,
          715.875,
          718.0625,
          767.4375,
          729.3125,
          792.5,
          705.375,
          1147.28125,
          1710.4375,
          1591.5,
          1976.28125,
          2023.75,
          2282.28125,
          2039.03125,
          1928.8125
         ],
         "yaxis": "y9"
        },
        {
         "hovertemplate": "seed=2<br>step=%{x}<br>value=%{y}<extra></extra>",
         "legendgroup": "2",
         "line": {
          "color": "#00cc96",
          "dash": "solid"
         },
         "marker": {
          "symbol": "circle"
         },
         "mode": "lines",
         "name": "2",
         "orientation": "v",
         "showlegend": true,
         "type": "scatter",
         "x": [
          48004,
          128004,
          208004,
          288004,
          368004,
          448004,
          528004,
          608004,
          688004,
          768004,
          848004,
          928004,
          1008004,
          1088004,
          1168004,
          1248004,
          1328004,
          1408004,
          1488004,
          1568004
         ],
         "xaxis": "x9",
         "y": [
          166.6875,
          357,
          453.46875,
          519.09375,
          601.78125,
          549.25,
          643.75,
          646.03125,
          730.15625,
          711.15625,
          672.4375,
          659.5,
          655.21875,
          669.03125,
          725.34375,
          698.90625,
          925.5,
          1149.21875,
          927.3125,
          1133.25
         ],
         "yaxis": "y9"
        },
        {
         "hovertemplate": "seed=2<br>step=%{x}<br>value=%{y}<extra></extra>",
         "legendgroup": "2",
         "line": {
          "color": "#636efa",
          "dash": "solid"
         },
         "marker": {
          "symbol": "circle"
         },
         "mode": "lines",
         "name": "2",
         "orientation": "v",
         "showlegend": true,
         "type": "scatter",
         "x": [
          24004,
          64004,
          104004,
          144004,
          184004,
          224004,
          264004,
          304004,
          344004,
          384004,
          424004,
          464004,
          504004,
          544004,
          584004,
          624004,
          664004,
          704004,
          744004,
          784004
         ],
         "xaxis": "x12",
         "y": [
          173.25,
          342.5625,
          503.3125,
          524.28125,
          486.28125,
          659.09375,
          611.53125,
          498.75,
          450.1875,
          531.21875,
          479.375,
          522.375,
          591.5625,
          640.78125,
          709,
          758.1875,
          705.28125,
          731.03125,
          801.6875,
          769.34375
         ],
         "yaxis": "y12"
        },
        {
         "hovertemplate": "seed=0<br>step=%{x}<br>value=%{y}<extra></extra>",
         "legendgroup": "0",
         "line": {
          "color": "#EF553B",
          "dash": "solid"
         },
         "marker": {
          "symbol": "circle"
         },
         "mode": "lines",
         "name": "0",
         "orientation": "v",
         "showlegend": true,
         "type": "scatter",
         "x": [
          24004,
          64004,
          104004,
          144004,
          184004,
          224004,
          264004,
          304004,
          344004,
          384004,
          424004,
          464004,
          504004,
          544004,
          584004,
          624004,
          664004,
          704004,
          744004,
          784004
         ],
         "xaxis": "x12",
         "y": [
          131.90625,
          573.5625,
          467.5625,
          490.53125,
          598.3125,
          664,
          660.4375,
          665.3125,
          707.6875,
          731.59375,
          743.5625,
          754.90625,
          774.5,
          765.5,
          852.3125,
          964.1875,
          854.71875,
          969.875,
          890.25,
          937.03125
         ],
         "yaxis": "y12"
        },
        {
         "hovertemplate": "seed=1<br>step=%{x}<br>value=%{y}<extra></extra>",
         "legendgroup": "1",
         "line": {
          "color": "#00cc96",
          "dash": "solid"
         },
         "marker": {
          "symbol": "circle"
         },
         "mode": "lines",
         "name": "1",
         "orientation": "v",
         "showlegend": true,
         "type": "scatter",
         "x": [
          24004,
          64004,
          104004,
          144004,
          184004,
          224004,
          264004,
          304004,
          344004,
          384004,
          424004,
          464004,
          504004,
          544004,
          584004,
          624004,
          664004,
          704004,
          744004,
          784004
         ],
         "xaxis": "x12",
         "y": [
          260.53125,
          303.1875,
          475.40625,
          439.34375,
          501.3125,
          485.59375,
          511.21875,
          535.8125,
          558.71875,
          686.28125,
          662.875,
          738.4375,
          763.09375,
          698.4375,
          756.65625,
          802.4375,
          745.625,
          800.03125,
          777.875,
          827.03125
         ],
         "yaxis": "y12"
        },
        {
         "hovertemplate": "seed=1<br>step=%{x}<br>value=%{y}<extra></extra>",
         "legendgroup": "1",
         "line": {
          "color": "#636efa",
          "dash": "solid"
         },
         "marker": {
          "symbol": "circle"
         },
         "mode": "lines",
         "name": "1",
         "orientation": "v",
         "showlegend": true,
         "type": "scatter",
         "x": [
          20004,
          40004,
          60004,
          80004,
          100004,
          120004,
          140004,
          160004,
          180004,
          200004,
          220004,
          240004,
          260004,
          280004,
          300004,
          320004,
          340004,
          360004,
          380004
         ],
         "xaxis": "x15",
         "y": [
          290.0625,
          299.25,
          304.5,
          358.3125,
          347.15625,
          353.0625,
          392.09375,
          470.5,
          440,
          478.375,
          501,
          551.8125,
          510.84375,
          524.65625,
          580.4375,
          550.59375,
          593.25,
          558.03125,
          575.78125
         ],
         "yaxis": "y15"
        },
        {
         "hovertemplate": "seed=2<br>step=%{x}<br>value=%{y}<extra></extra>",
         "legendgroup": "2",
         "line": {
          "color": "#EF553B",
          "dash": "solid"
         },
         "marker": {
          "symbol": "circle"
         },
         "mode": "lines",
         "name": "2",
         "orientation": "v",
         "showlegend": true,
         "type": "scatter",
         "x": [
          20004,
          40004,
          60004,
          80004,
          100004,
          120004,
          140004,
          160004,
          180004,
          200004,
          220004,
          240004,
          260004,
          280004,
          300004,
          320004,
          340004,
          360004,
          380004
         ],
         "xaxis": "x15",
         "y": [
          156.84375,
          525,
          339.28125,
          370.78125,
          442.96875,
          499.96875,
          464.9375,
          639.75,
          619.15625,
          690.65625,
          677.1875,
          687.40625,
          677.84375,
          705.96875,
          702.71875,
          732,
          710.9375,
          801.0625,
          757.125
         ],
         "yaxis": "y15"
        },
        {
         "hovertemplate": "seed=0<br>step=%{x}<br>value=%{y}<extra></extra>",
         "legendgroup": "0",
         "line": {
          "color": "#00cc96",
          "dash": "solid"
         },
         "marker": {
          "symbol": "circle"
         },
         "mode": "lines",
         "name": "0",
         "orientation": "v",
         "showlegend": true,
         "type": "scatter",
         "x": [
          20004,
          40004,
          60004,
          80004,
          100004,
          120004,
          140004,
          160004,
          180004,
          200004,
          220004,
          240004,
          260004,
          280004,
          300004,
          320004,
          340004,
          360004,
          380004
         ],
         "xaxis": "x15",
         "y": [
          130.59375,
          633.9375,
          373.40625,
          504.96875,
          558.46875,
          563.625,
          530.25,
          539.09375,
          588.28125,
          617.46875,
          633.875,
          664.71875,
          693.9375,
          711.34375,
          744.59375,
          730.09375,
          769.84375,
          834.65625,
          781.4375
         ],
         "yaxis": "y15"
        },
        {
         "hovertemplate": "seed=0<br>step=%{x}<br>value=%{y}<extra></extra>",
         "legendgroup": "0",
         "line": {
          "color": "#636efa",
          "dash": "solid"
         },
         "marker": {
          "symbol": "circle"
         },
         "mode": "lines",
         "name": "0",
         "orientation": "v",
         "showlegend": true,
         "type": "scatter",
         "x": [
          20004,
          40004,
          60004,
          80004,
          100004,
          120004,
          140004,
          160004,
          180004,
          200004,
          220004,
          240004,
          260004,
          280004,
          300004,
          320004,
          340004,
          360004,
          380004
         ],
         "xaxis": "x18",
         "y": [
          130.59375,
          338.625,
          374.0625,
          332.0625,
          384.5625,
          370.78125,
          435.09375,
          435.09375,
          464.625,
          546,
          617.53125,
          606.375,
          595.875,
          541.40625,
          623.4375,
          685.375,
          669.6875,
          657.5625,
          706.40625
         ],
         "yaxis": "y18"
        },
        {
         "hovertemplate": "seed=1<br>step=%{x}<br>value=%{y}<extra></extra>",
         "legendgroup": "1",
         "line": {
          "color": "#EF553B",
          "dash": "solid"
         },
         "marker": {
          "symbol": "circle"
         },
         "mode": "lines",
         "name": "1",
         "orientation": "v",
         "showlegend": true,
         "type": "scatter",
         "x": [
          20004,
          40004,
          60004,
          80004,
          100004,
          120004,
          140004,
          160004,
          180004,
          200004,
          220004,
          240004,
          260004,
          280004,
          300004,
          320004,
          340004,
          360004,
          380004
         ],
         "xaxis": "x18",
         "y": [
          290.0625,
          353.0625,
          414.75,
          449.1875,
          530.84375,
          603.0625,
          576.15625,
          617.1875,
          628.03125,
          655.59375,
          689.375,
          687.09375,
          716.25,
          710.375,
          710.96875,
          691.65625,
          708.71875,
          739.53125,
          742.375
         ],
         "yaxis": "y18"
        },
        {
         "hovertemplate": "seed=2<br>step=%{x}<br>value=%{y}<extra></extra>",
         "legendgroup": "2",
         "line": {
          "color": "#00cc96",
          "dash": "solid"
         },
         "marker": {
          "symbol": "circle"
         },
         "mode": "lines",
         "name": "2",
         "orientation": "v",
         "showlegend": true,
         "type": "scatter",
         "x": [
          20004,
          40004,
          60004,
          80004,
          100004,
          120004,
          140004,
          160004,
          180004,
          200004,
          220004,
          240004,
          260004,
          280004,
          300004,
          320004,
          340004,
          360004,
          380004
         ],
         "xaxis": "x18",
         "y": [
          158.8125,
          358.96875,
          552.5625,
          444.9375,
          408.84375,
          519.71875,
          567.625,
          578.65625,
          570.25,
          534.84375,
          495.78125,
          523.65625,
          597.4375,
          568.59375,
          618.125,
          639.0625,
          617.46875,
          585.625,
          660.09375
         ],
         "yaxis": "y18"
        }
       ],
       "layout": {
        "annotations": [
         {
          "font": {
           "size": 16
          },
          "showarrow": false,
          "text": "Pong",
          "x": 0.13,
          "xanchor": "center",
          "xref": "paper",
          "y": 1,
          "yanchor": "bottom",
          "yref": "paper"
         },
         {
          "font": {
           "size": 16
          },
          "showarrow": false,
          "text": "CrazyClimber",
          "x": 0.49,
          "xanchor": "center",
          "xref": "paper",
          "y": 1,
          "yanchor": "bottom",
          "yref": "paper"
         },
         {
          "font": {
           "size": 16
          },
          "showarrow": false,
          "text": "Assault",
          "x": 0.85,
          "xanchor": "center",
          "xref": "paper",
          "y": 1,
          "yanchor": "bottom",
          "yref": "paper"
         },
         {
          "font": {
           "size": 16
          },
          "showarrow": false,
          "text": "64",
          "textangle": 90,
          "x": 0.98,
          "xanchor": "left",
          "xref": "paper",
          "y": 0.9375,
          "yanchor": "middle",
          "yref": "paper"
         },
         {
          "font": {
           "size": 16
          },
          "showarrow": false,
          "text": "32",
          "textangle": 90,
          "x": 0.98,
          "xanchor": "left",
          "xref": "paper",
          "y": 0.7625,
          "yanchor": "middle",
          "yref": "paper"
         },
         {
          "font": {
           "size": 16
          },
          "showarrow": false,
          "text": "16",
          "textangle": 90,
          "x": 0.98,
          "xanchor": "left",
          "xref": "paper",
          "y": 0.5875,
          "yanchor": "middle",
          "yref": "paper"
         },
         {
          "font": {
           "size": 16
          },
          "showarrow": false,
          "text": "8",
          "textangle": 90,
          "x": 0.98,
          "xanchor": "left",
          "xref": "paper",
          "y": 0.4125,
          "yanchor": "middle",
          "yref": "paper"
         },
         {
          "font": {
           "size": 16
          },
          "showarrow": false,
          "text": "4",
          "textangle": 90,
          "x": 0.98,
          "xanchor": "left",
          "xref": "paper",
          "y": 0.2375,
          "yanchor": "middle",
          "yref": "paper"
         },
         {
          "font": {
           "size": 16
          },
          "showarrow": false,
          "text": "2",
          "textangle": 90,
          "x": 0.98,
          "xanchor": "left",
          "xref": "paper",
          "y": 0.0625,
          "yanchor": "middle",
          "yref": "paper"
         }
        ],
        "autosize": false,
        "height": 1440,
        "showlegend": false,
        "template": {
         "data": {
          "bar": [
           {
            "error_x": {
             "color": "#2a3f5f"
            },
            "error_y": {
             "color": "#2a3f5f"
            },
            "marker": {
             "line": {
              "color": "#E5ECF6",
              "width": 0.5
             },
             "pattern": {
              "fillmode": "overlay",
              "size": 10,
              "solidity": 0.2
             }
            },
            "type": "bar"
           }
          ],
          "barpolar": [
           {
            "marker": {
             "line": {
              "color": "#E5ECF6",
              "width": 0.5
             },
             "pattern": {
              "fillmode": "overlay",
              "size": 10,
              "solidity": 0.2
             }
            },
            "type": "barpolar"
           }
          ],
          "carpet": [
           {
            "aaxis": {
             "endlinecolor": "#2a3f5f",
             "gridcolor": "white",
             "linecolor": "white",
             "minorgridcolor": "white",
             "startlinecolor": "#2a3f5f"
            },
            "baxis": {
             "endlinecolor": "#2a3f5f",
             "gridcolor": "white",
             "linecolor": "white",
             "minorgridcolor": "white",
             "startlinecolor": "#2a3f5f"
            },
            "type": "carpet"
           }
          ],
          "choropleth": [
           {
            "colorbar": {
             "outlinewidth": 0,
             "ticks": ""
            },
            "type": "choropleth"
           }
          ],
          "contour": [
           {
            "colorbar": {
             "outlinewidth": 0,
             "ticks": ""
            },
            "colorscale": [
             [
              0,
              "#0d0887"
             ],
             [
              0.1111111111111111,
              "#46039f"
             ],
             [
              0.2222222222222222,
              "#7201a8"
             ],
             [
              0.3333333333333333,
              "#9c179e"
             ],
             [
              0.4444444444444444,
              "#bd3786"
             ],
             [
              0.5555555555555556,
              "#d8576b"
             ],
             [
              0.6666666666666666,
              "#ed7953"
             ],
             [
              0.7777777777777778,
              "#fb9f3a"
             ],
             [
              0.8888888888888888,
              "#fdca26"
             ],
             [
              1,
              "#f0f921"
             ]
            ],
            "type": "contour"
           }
          ],
          "contourcarpet": [
           {
            "colorbar": {
             "outlinewidth": 0,
             "ticks": ""
            },
            "type": "contourcarpet"
           }
          ],
          "heatmap": [
           {
            "colorbar": {
             "outlinewidth": 0,
             "ticks": ""
            },
            "colorscale": [
             [
              0,
              "#0d0887"
             ],
             [
              0.1111111111111111,
              "#46039f"
             ],
             [
              0.2222222222222222,
              "#7201a8"
             ],
             [
              0.3333333333333333,
              "#9c179e"
             ],
             [
              0.4444444444444444,
              "#bd3786"
             ],
             [
              0.5555555555555556,
              "#d8576b"
             ],
             [
              0.6666666666666666,
              "#ed7953"
             ],
             [
              0.7777777777777778,
              "#fb9f3a"
             ],
             [
              0.8888888888888888,
              "#fdca26"
             ],
             [
              1,
              "#f0f921"
             ]
            ],
            "type": "heatmap"
           }
          ],
          "heatmapgl": [
           {
            "colorbar": {
             "outlinewidth": 0,
             "ticks": ""
            },
            "colorscale": [
             [
              0,
              "#0d0887"
             ],
             [
              0.1111111111111111,
              "#46039f"
             ],
             [
              0.2222222222222222,
              "#7201a8"
             ],
             [
              0.3333333333333333,
              "#9c179e"
             ],
             [
              0.4444444444444444,
              "#bd3786"
             ],
             [
              0.5555555555555556,
              "#d8576b"
             ],
             [
              0.6666666666666666,
              "#ed7953"
             ],
             [
              0.7777777777777778,
              "#fb9f3a"
             ],
             [
              0.8888888888888888,
              "#fdca26"
             ],
             [
              1,
              "#f0f921"
             ]
            ],
            "type": "heatmapgl"
           }
          ],
          "histogram": [
           {
            "marker": {
             "pattern": {
              "fillmode": "overlay",
              "size": 10,
              "solidity": 0.2
             }
            },
            "type": "histogram"
           }
          ],
          "histogram2d": [
           {
            "colorbar": {
             "outlinewidth": 0,
             "ticks": ""
            },
            "colorscale": [
             [
              0,
              "#0d0887"
             ],
             [
              0.1111111111111111,
              "#46039f"
             ],
             [
              0.2222222222222222,
              "#7201a8"
             ],
             [
              0.3333333333333333,
              "#9c179e"
             ],
             [
              0.4444444444444444,
              "#bd3786"
             ],
             [
              0.5555555555555556,
              "#d8576b"
             ],
             [
              0.6666666666666666,
              "#ed7953"
             ],
             [
              0.7777777777777778,
              "#fb9f3a"
             ],
             [
              0.8888888888888888,
              "#fdca26"
             ],
             [
              1,
              "#f0f921"
             ]
            ],
            "type": "histogram2d"
           }
          ],
          "histogram2dcontour": [
           {
            "colorbar": {
             "outlinewidth": 0,
             "ticks": ""
            },
            "colorscale": [
             [
              0,
              "#0d0887"
             ],
             [
              0.1111111111111111,
              "#46039f"
             ],
             [
              0.2222222222222222,
              "#7201a8"
             ],
             [
              0.3333333333333333,
              "#9c179e"
             ],
             [
              0.4444444444444444,
              "#bd3786"
             ],
             [
              0.5555555555555556,
              "#d8576b"
             ],
             [
              0.6666666666666666,
              "#ed7953"
             ],
             [
              0.7777777777777778,
              "#fb9f3a"
             ],
             [
              0.8888888888888888,
              "#fdca26"
             ],
             [
              1,
              "#f0f921"
             ]
            ],
            "type": "histogram2dcontour"
           }
          ],
          "mesh3d": [
           {
            "colorbar": {
             "outlinewidth": 0,
             "ticks": ""
            },
            "type": "mesh3d"
           }
          ],
          "parcoords": [
           {
            "line": {
             "colorbar": {
              "outlinewidth": 0,
              "ticks": ""
             }
            },
            "type": "parcoords"
           }
          ],
          "pie": [
           {
            "automargin": true,
            "type": "pie"
           }
          ],
          "scatter": [
           {
            "fillpattern": {
             "fillmode": "overlay",
             "size": 10,
             "solidity": 0.2
            },
            "type": "scatter"
           }
          ],
          "scatter3d": [
           {
            "line": {
             "colorbar": {
              "outlinewidth": 0,
              "ticks": ""
             }
            },
            "marker": {
             "colorbar": {
              "outlinewidth": 0,
              "ticks": ""
             }
            },
            "type": "scatter3d"
           }
          ],
          "scattercarpet": [
           {
            "marker": {
             "colorbar": {
              "outlinewidth": 0,
              "ticks": ""
             }
            },
            "type": "scattercarpet"
           }
          ],
          "scattergeo": [
           {
            "marker": {
             "colorbar": {
              "outlinewidth": 0,
              "ticks": ""
             }
            },
            "type": "scattergeo"
           }
          ],
          "scattergl": [
           {
            "marker": {
             "colorbar": {
              "outlinewidth": 0,
              "ticks": ""
             }
            },
            "type": "scattergl"
           }
          ],
          "scattermapbox": [
           {
            "marker": {
             "colorbar": {
              "outlinewidth": 0,
              "ticks": ""
             }
            },
            "type": "scattermapbox"
           }
          ],
          "scatterpolar": [
           {
            "marker": {
             "colorbar": {
              "outlinewidth": 0,
              "ticks": ""
             }
            },
            "type": "scatterpolar"
           }
          ],
          "scatterpolargl": [
           {
            "marker": {
             "colorbar": {
              "outlinewidth": 0,
              "ticks": ""
             }
            },
            "type": "scatterpolargl"
           }
          ],
          "scatterternary": [
           {
            "marker": {
             "colorbar": {
              "outlinewidth": 0,
              "ticks": ""
             }
            },
            "type": "scatterternary"
           }
          ],
          "surface": [
           {
            "colorbar": {
             "outlinewidth": 0,
             "ticks": ""
            },
            "colorscale": [
             [
              0,
              "#0d0887"
             ],
             [
              0.1111111111111111,
              "#46039f"
             ],
             [
              0.2222222222222222,
              "#7201a8"
             ],
             [
              0.3333333333333333,
              "#9c179e"
             ],
             [
              0.4444444444444444,
              "#bd3786"
             ],
             [
              0.5555555555555556,
              "#d8576b"
             ],
             [
              0.6666666666666666,
              "#ed7953"
             ],
             [
              0.7777777777777778,
              "#fb9f3a"
             ],
             [
              0.8888888888888888,
              "#fdca26"
             ],
             [
              1,
              "#f0f921"
             ]
            ],
            "type": "surface"
           }
          ],
          "table": [
           {
            "cells": {
             "fill": {
              "color": "#EBF0F8"
             },
             "line": {
              "color": "white"
             }
            },
            "header": {
             "fill": {
              "color": "#C8D4E3"
             },
             "line": {
              "color": "white"
             }
            },
            "type": "table"
           }
          ]
         },
         "layout": {
          "annotationdefaults": {
           "arrowcolor": "#2a3f5f",
           "arrowhead": 0,
           "arrowwidth": 1
          },
          "autotypenumbers": "strict",
          "coloraxis": {
           "colorbar": {
            "outlinewidth": 0,
            "ticks": ""
           }
          },
          "colorscale": {
           "diverging": [
            [
             0,
             "#8e0152"
            ],
            [
             0.1,
             "#c51b7d"
            ],
            [
             0.2,
             "#de77ae"
            ],
            [
             0.3,
             "#f1b6da"
            ],
            [
             0.4,
             "#fde0ef"
            ],
            [
             0.5,
             "#f7f7f7"
            ],
            [
             0.6,
             "#e6f5d0"
            ],
            [
             0.7,
             "#b8e186"
            ],
            [
             0.8,
             "#7fbc41"
            ],
            [
             0.9,
             "#4d9221"
            ],
            [
             1,
             "#276419"
            ]
           ],
           "sequential": [
            [
             0,
             "#0d0887"
            ],
            [
             0.1111111111111111,
             "#46039f"
            ],
            [
             0.2222222222222222,
             "#7201a8"
            ],
            [
             0.3333333333333333,
             "#9c179e"
            ],
            [
             0.4444444444444444,
             "#bd3786"
            ],
            [
             0.5555555555555556,
             "#d8576b"
            ],
            [
             0.6666666666666666,
             "#ed7953"
            ],
            [
             0.7777777777777778,
             "#fb9f3a"
            ],
            [
             0.8888888888888888,
             "#fdca26"
            ],
            [
             1,
             "#f0f921"
            ]
           ],
           "sequentialminus": [
            [
             0,
             "#0d0887"
            ],
            [
             0.1111111111111111,
             "#46039f"
            ],
            [
             0.2222222222222222,
             "#7201a8"
            ],
            [
             0.3333333333333333,
             "#9c179e"
            ],
            [
             0.4444444444444444,
             "#bd3786"
            ],
            [
             0.5555555555555556,
             "#d8576b"
            ],
            [
             0.6666666666666666,
             "#ed7953"
            ],
            [
             0.7777777777777778,
             "#fb9f3a"
            ],
            [
             0.8888888888888888,
             "#fdca26"
            ],
            [
             1,
             "#f0f921"
            ]
           ]
          },
          "colorway": [
           "#636efa",
           "#EF553B",
           "#00cc96",
           "#ab63fa",
           "#FFA15A",
           "#19d3f3",
           "#FF6692",
           "#B6E880",
           "#FF97FF",
           "#FECB52"
          ],
          "font": {
           "color": "#2a3f5f"
          },
          "geo": {
           "bgcolor": "white",
           "lakecolor": "white",
           "landcolor": "#E5ECF6",
           "showlakes": true,
           "showland": true,
           "subunitcolor": "white"
          },
          "hoverlabel": {
           "align": "left"
          },
          "hovermode": "closest",
          "mapbox": {
           "style": "light"
          },
          "paper_bgcolor": "white",
          "plot_bgcolor": "#E5ECF6",
          "polar": {
           "angularaxis": {
            "gridcolor": "white",
            "linecolor": "white",
            "ticks": ""
           },
           "bgcolor": "#E5ECF6",
           "radialaxis": {
            "gridcolor": "white",
            "linecolor": "white",
            "ticks": ""
           }
          },
          "scene": {
           "xaxis": {
            "backgroundcolor": "#E5ECF6",
            "gridcolor": "white",
            "gridwidth": 2,
            "linecolor": "white",
            "showbackground": true,
            "ticks": "",
            "zerolinecolor": "white"
           },
           "yaxis": {
            "backgroundcolor": "#E5ECF6",
            "gridcolor": "white",
            "gridwidth": 2,
            "linecolor": "white",
            "showbackground": true,
            "ticks": "",
            "zerolinecolor": "white"
           },
           "zaxis": {
            "backgroundcolor": "#E5ECF6",
            "gridcolor": "white",
            "gridwidth": 2,
            "linecolor": "white",
            "showbackground": true,
            "ticks": "",
            "zerolinecolor": "white"
           }
          },
          "shapedefaults": {
           "line": {
            "color": "#2a3f5f"
           }
          },
          "ternary": {
           "aaxis": {
            "gridcolor": "white",
            "linecolor": "white",
            "ticks": ""
           },
           "baxis": {
            "gridcolor": "white",
            "linecolor": "white",
            "ticks": ""
           },
           "bgcolor": "#E5ECF6",
           "caxis": {
            "gridcolor": "white",
            "linecolor": "white",
            "ticks": ""
           }
          },
          "title": {
           "x": 0.05
          },
          "xaxis": {
           "automargin": true,
           "gridcolor": "white",
           "linecolor": "white",
           "ticks": "",
           "title": {
            "standoff": 15
           },
           "zerolinecolor": "white",
           "zerolinewidth": 2
          },
          "yaxis": {
           "automargin": true,
           "gridcolor": "white",
           "linecolor": "white",
           "ticks": "",
           "title": {
            "standoff": 15
           },
           "zerolinecolor": "white",
           "zerolinewidth": 2
          }
         }
        },
        "width": 1024,
        "xaxis": {
         "anchor": "y",
         "domain": [
          0,
          0.26
         ]
        },
        "xaxis10": {
         "anchor": "y10",
         "domain": [
          0,
          0.26
         ]
        },
        "xaxis11": {
         "anchor": "y11",
         "domain": [
          0.36,
          0.62
         ]
        },
        "xaxis12": {
         "anchor": "y12",
         "domain": [
          0.72,
          0.98
         ]
        },
        "xaxis13": {
         "anchor": "y13",
         "domain": [
          0,
          0.26
         ]
        },
        "xaxis14": {
         "anchor": "y14",
         "domain": [
          0.36,
          0.62
         ]
        },
        "xaxis15": {
         "anchor": "y15",
         "domain": [
          0.72,
          0.98
         ]
        },
        "xaxis16": {
         "anchor": "y16",
         "domain": [
          0,
          0.26
         ]
        },
        "xaxis17": {
         "anchor": "y17",
         "domain": [
          0.36,
          0.62
         ]
        },
        "xaxis18": {
         "anchor": "y18",
         "domain": [
          0.72,
          0.98
         ]
        },
        "xaxis2": {
         "anchor": "y2",
         "domain": [
          0.36,
          0.62
         ]
        },
        "xaxis3": {
         "anchor": "y3",
         "domain": [
          0.72,
          0.98
         ]
        },
        "xaxis4": {
         "anchor": "y4",
         "domain": [
          0,
          0.26
         ]
        },
        "xaxis5": {
         "anchor": "y5",
         "domain": [
          0.36,
          0.62
         ]
        },
        "xaxis6": {
         "anchor": "y6",
         "domain": [
          0.72,
          0.98
         ]
        },
        "xaxis7": {
         "anchor": "y7",
         "domain": [
          0,
          0.26
         ]
        },
        "xaxis8": {
         "anchor": "y8",
         "domain": [
          0.36,
          0.62
         ]
        },
        "xaxis9": {
         "anchor": "y9",
         "domain": [
          0.72,
          0.98
         ]
        },
        "yaxis": {
         "anchor": "x",
         "domain": [
          0.875,
          1
         ]
        },
        "yaxis10": {
         "anchor": "x10",
         "domain": [
          0.35,
          0.475
         ]
        },
        "yaxis11": {
         "anchor": "x11",
         "domain": [
          0.35,
          0.475
         ]
        },
        "yaxis12": {
         "anchor": "x12",
         "domain": [
          0.35,
          0.475
         ]
        },
        "yaxis13": {
         "anchor": "x13",
         "domain": [
          0.175,
          0.3
         ]
        },
        "yaxis14": {
         "anchor": "x14",
         "domain": [
          0.175,
          0.3
         ]
        },
        "yaxis15": {
         "anchor": "x15",
         "domain": [
          0.175,
          0.3
         ]
        },
        "yaxis16": {
         "anchor": "x16",
         "domain": [
          0,
          0.125
         ]
        },
        "yaxis17": {
         "anchor": "x17",
         "domain": [
          0,
          0.125
         ]
        },
        "yaxis18": {
         "anchor": "x18",
         "domain": [
          0,
          0.125
         ]
        },
        "yaxis2": {
         "anchor": "x2",
         "domain": [
          0.875,
          1
         ]
        },
        "yaxis3": {
         "anchor": "x3",
         "domain": [
          0.875,
          1
         ]
        },
        "yaxis4": {
         "anchor": "x4",
         "domain": [
          0.7,
          0.825
         ]
        },
        "yaxis5": {
         "anchor": "x5",
         "domain": [
          0.7,
          0.825
         ]
        },
        "yaxis6": {
         "anchor": "x6",
         "domain": [
          0.7,
          0.825
         ]
        },
        "yaxis7": {
         "anchor": "x7",
         "domain": [
          0.525,
          0.65
         ]
        },
        "yaxis8": {
         "anchor": "x8",
         "domain": [
          0.525,
          0.65
         ]
        },
        "yaxis9": {
         "anchor": "x9",
         "domain": [
          0.525,
          0.65
         ]
        }
       }
      }
     },
     "metadata": {},
     "output_type": "display_data"
    }
   ],
   "source": [
    "env_ids = [\"Pong\", \"CrazyClimber\", \"Assault\"]\n",
    "freqs = [64, 32, 16, 8, 4, 2]\n",
    "\n",
    "fig = make_subplots(\n",
    "    rows=len(freqs),\n",
    "    cols=len(env_ids),\n",
    "    column_titles=env_ids,\n",
    "    row_titles=freqs,\n",
    "    horizontal_spacing=0.1,\n",
    "    vertical_spacing=0.05,\n",
    ")\n",
    "\n",
    "for ix, env_id in enumerate(env_ids, 1):\n",
    "    df1 = df[df[\"env\"] == env_id]\n",
    "    for iy, freq in enumerate(freqs, 1):\n",
    "        df2 = df1[df1[\"freq\"] == freq]\n",
    "        xpr = px.line(df2, x=\"step\", y=\"value\", color=\"seed\")\n",
    "        for trace in xpr.data:\n",
    "            fig.add_trace(trace, iy, ix)\n",
    "\n",
    "fig.update_layout(\n",
    "    showlegend=False,\n",
    "    autosize=False,\n",
    "    width=1024,\n",
    "    height=480 * 3,\n",
    ")\n",
    "\n",
    "fig.write_image(\"../tex/assets/naive_perf.pdf\")\n",
    "\n",
    "fig"
   ]
  },
  {
   "cell_type": "code",
   "execution_count": null,
   "metadata": {},
   "outputs": [],
   "source": []
  }
 ],
 "metadata": {
  "kernelspec": {
   "display_name": "rsrch-8qRRKNqI-py3.10",
   "language": "python",
   "name": "python3"
  },
  "language_info": {
   "codemirror_mode": {
    "name": "ipython",
    "version": 3
   },
   "file_extension": ".py",
   "mimetype": "text/x-python",
   "name": "python",
   "nbconvert_exporter": "python",
   "pygments_lexer": "ipython3",
   "version": "3.10.14"
  }
 },
 "nbformat": 4,
 "nbformat_minor": 2
}
