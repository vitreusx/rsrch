{
 "cells": [
  {
   "cell_type": "code",
   "execution_count": 22,
   "metadata": {},
   "outputs": [],
   "source": [
    "from __future__ import annotations\n",
    "import torch\n",
    "from torch import Tensor\n",
    "from torch.distributions import Categorical, kl_divergence\n",
    "\n",
    "class Discrete:\n",
    "    def __init__(self, atoms: Tensor, idx_dist: Categorical):\n",
    "        self.atoms = atoms\n",
    "        self.idx_dist = idx_dist\n",
    "\n",
    "def proj_kl_div(P: Discrete, Q: Discrete):\n",
    "    dists = torch.cdist(P.atoms, Q.atoms, p=1) # [B, n, m]\n",
    "    values, indices = torch.topk(dists, k=2, largest=False)\n",
    "    v0, v1 = values[..., 0], values[..., 1]\n",
    "    i0, i1 = indices[..., 0], indices[..., 1]\n",
    "    w0, w1 = v1 / (v0 + v1), v0 / (v0 + v1)\n",
    "    \n",
    "    probs = torch.zeros(Q.atoms.shape[:-1])\n",
    "    probs.scatter_add_(-1, i0, w0 * P.idx_dist.probs)\n",
    "    probs.scatter_add_(-1, i1, w1 * P.idx_dist.probs)\n",
    "    \n",
    "    proj_P = Discrete(Q.atoms, Categorical(probs))\n",
    "    return kl_divergence(proj_P.idx_dist, Q.idx_dist)\n"
   ]
  }
 ],
 "metadata": {
  "kernelspec": {
   "display_name": "rsrch",
   "language": "python",
   "name": "python3"
  },
  "language_info": {
   "codemirror_mode": {
    "name": "ipython",
    "version": 3
   },
   "file_extension": ".py",
   "mimetype": "text/x-python",
   "name": "python",
   "nbconvert_exporter": "python",
   "pygments_lexer": "ipython3",
   "version": "3.10.10"
  },
  "orig_nbformat": 4
 },
 "nbformat": 4,
 "nbformat_minor": 2
}
