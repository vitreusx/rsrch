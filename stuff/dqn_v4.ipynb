{
 "cells": [
  {
   "cell_type": "code",
   "execution_count": 1,
   "metadata": {},
   "outputs": [],
   "source": [
    "import gymnasium as gym\n",
    "import torch\n",
    "from torch import Tensor\n",
    "import torch.nn as nn\n",
    "from typing import Protocol\n",
    "import numpy as np\n",
    "import datetime\n",
    "import socket\n",
    "from pathlib import Path\n",
    "\n",
    "from rsrch.rl.wrappers import ToTensor\n",
    "from rsrch.rl.env_spec import EnvSpec\n",
    "import rsrch.rl.agent as agent\n",
    "from rsrch.rl.data.step import Step, StepBatch\n",
    "from rsrch.rl.data.buffer import StepBuffer\n",
    "from rsrch.rl.data.online import StepRollout, EpisodeRollout\n",
    "from rsrch.rl.wrappers import CollectSteps, RenderCollection\n",
    "import rsrch.utils.data as data\n",
    "from rsrch.rl.utils.polyak import Polyak\n",
    "from rsrch.utils.board import Board\n",
    "from rsrch.utils.logger import Logger\n",
    "from tqdm.auto import tqdm, trange"
   ]
  },
  {
   "cell_type": "code",
   "execution_count": 2,
   "metadata": {},
   "outputs": [],
   "source": [
    "class QNetwork(Protocol):\n",
    "    num_actions: int\n",
    "\n",
    "    def __call__(self, obs: Tensor) -> Tensor:\n",
    "        ...\n",
    "\n",
    "class BaseQNetwork(nn.Module, QNetwork):\n",
    "    def __init__(self, spec: EnvSpec):\n",
    "        super().__init__()\n",
    "        assert isinstance(spec.action_space, gym.spaces.Discrete)\n",
    "\n",
    "        self.num_actions = int(spec.action_space.n)\n",
    "        # self.main = nn.Sequential(\n",
    "        #     ObsEncoder(env.observation_space, 128),\n",
    "        #     MLP([128, 64, self.num_actions]),\n",
    "        # )\n",
    "        in_features = int(np.prod(spec.observation_space.shape))\n",
    "        self.main = nn.Sequential(\n",
    "            nn.Linear(in_features, 128),\n",
    "            nn.ReLU(),\n",
    "            nn.Linear(128, 128),\n",
    "            nn.ReLU(),\n",
    "            nn.Linear(128, self.num_actions),\n",
    "        )\n",
    "    \n",
    "    def forward(self, obs: Tensor):\n",
    "        return self.main(obs)\n",
    "    \n",
    "class DQN(nn.Module):\n",
    "    def __init__(self, spec: EnvSpec):\n",
    "        super().__init__()\n",
    "        assert isinstance(spec.action_space, gym.spaces.Discrete)\n",
    "\n",
    "        self.Q = BaseQNetwork(spec)\n",
    "        self.target_Q = BaseQNetwork(spec)\n",
    "        self.target_Q.load_state_dict(self.Q.state_dict())\n"
   ]
  },
  {
   "cell_type": "code",
   "execution_count": 3,
   "metadata": {},
   "outputs": [],
   "source": [
    "class DQNData:\n",
    "    def train_env(self, device=None) -> gym.Env:\n",
    "        return self.val_env(device=device)\n",
    "\n",
    "    def val_env(self, device=None) -> gym.Env:\n",
    "        env = \"LunarLander-v2\"\n",
    "        env = gym.make(env, render_mode=\"rgb_array\")\n",
    "        env = ToTensor(env, device=device)\n",
    "        env.reset(seed=42)\n",
    "        return env\n"
   ]
  },
  {
   "cell_type": "code",
   "execution_count": 4,
   "metadata": {},
   "outputs": [],
   "source": [
    "class QAgent(agent.Agent):\n",
    "    def __init__(self, Q: nn.Module):\n",
    "        self.Q = Q\n",
    "    \n",
    "    def reset(self):\n",
    "        ...\n",
    "    \n",
    "    def act(self, obs: Tensor):\n",
    "        with torch.no_grad():\n",
    "            q_vals = self.Q(obs.unsqueeze(0)).squeeze(0)\n",
    "        return torch.argmax(q_vals)\n",
    "\n",
    "class DQNLoss(nn.Module):    \n",
    "    def __call__(self, dqn: DQN, batch: StepBatch, gamma: float):\n",
    "        value_preds = dqn.Q(batch.obs)\n",
    "        preds = value_preds.gather(1, batch.act.unsqueeze(1)).squeeze(1)\n",
    "        \n",
    "        with torch.no_grad():\n",
    "            next_Q = dqn.target_Q(batch.next_obs)\n",
    "            next_V = next_Q.max(dim=1)[0]\n",
    "        done = batch.term | batch.trunc\n",
    "        targets = batch.reward + (1.0 - done.float()) * gamma * next_V\n",
    "\n",
    "        return nn.functional.smooth_l1_loss(preds, targets)"
   ]
  },
  {
   "cell_type": "code",
   "execution_count": 5,
   "metadata": {},
   "outputs": [],
   "source": [
    "class DQNTrainer:\n",
    "    def __init__(self):\n",
    "        self.batch_size = 128\n",
    "        self.train_steps = int(1e6)\n",
    "        self.train_episodes = int(5e3)\n",
    "        self.val_every_steps = int(10e3)\n",
    "        self.val_episodes = 32\n",
    "        self.buffer_capacity = int(1e4)\n",
    "        self.max_eps, self.min_eps = 0.9, 0.05\n",
    "        self.eps_step_decay = 1e-3\n",
    "        self.val_eps = 0.05\n",
    "        self.gamma = 0.99\n",
    "        self.tau = 0.995\n",
    "        self.clip_grad = 100.0\n",
    "        self.prefill = int(1e3)\n",
    "        self.device = torch.device(\"cuda\")\n",
    "        self.exp_root = None\n",
    "        self.precision = \"fp32\"\n",
    "        self.pbar_enabled = True\n",
    "    \n",
    "    def train(self, dqn: DQN, dqn_data: DQNData):\n",
    "        dqn = dqn.to(self.device)\n",
    "        \n",
    "        val_env = dqn_data.val_env(self.device)\n",
    "        train_env = dqn_data.train_env(self.device)\n",
    "        \n",
    "        rand_agent = agent.RandomAgent(val_env)\n",
    "        rand_agent = agent.ToTensor(rand_agent, self.device)\n",
    "        train_agent = agent.EpsAgent(QAgent(dqn.Q), rand_agent, self.max_eps)\n",
    "        val_agent = agent.EpsAgent(QAgent(dqn.Q), rand_agent, self.val_eps)\n",
    "        \n",
    "        replay_buffer = StepBuffer(train_env, self.buffer_capacity)\n",
    "        train_env = CollectSteps(train_env, replay_buffer)\n",
    "        env_interaction = iter(StepRollout(train_env, train_agent))\n",
    "        \n",
    "        train_loader = data.DataLoader(\n",
    "            dataset=replay_buffer,\n",
    "            sampler=data.BatchSampler(\n",
    "                sampler=data.RandomInfiniteSampler(replay_buffer),\n",
    "                batch_size=self.batch_size,\n",
    "                drop_last=False,\n",
    "            ),\n",
    "            batch_size=None,\n",
    "        )\n",
    "        batch_iter = iter(train_loader)\n",
    "        \n",
    "        loss = DQNLoss()\n",
    "        optim = torch.optim.AdamW(dqn.Q.parameters(), lr=1e-4, amsgrad=True)\n",
    "        amp_dtype = {\"fp32\": torch.float32, \"fp16\": torch.float16, \n",
    "                     \"bf16\": torch.bfloat16}[self.precision]\n",
    "        amp_enabled = amp_dtype != torch.float32\n",
    "        scaler = torch.cuda.amp.GradScaler(enabled=amp_enabled)\n",
    "        \n",
    "        eps_sched = agent.EpsScheduler(train_agent, self.max_eps, self.min_eps, self.eps_step_decay)\n",
    "        polyak = Polyak(dqn.Q, dqn.target_Q, self.tau)\n",
    "        \n",
    "        if self.exp_root is None:\n",
    "            now = datetime.datetime.now()\n",
    "            host = socket.gethostname()\n",
    "            self.exp_root = Path(f\"runs/{now:%b%d_%H-%M-%S}_{host}\")\n",
    "        \n",
    "        board = Board(root_dir=(self.exp_root / \"board\"))\n",
    "        # log = Logger(file_path=exp_root / \"log.txt\")\n",
    "        \n",
    "        pbar = tqdm(desc=\"DQN\", position=0, disable=not self.pbar_enabled)\n",
    "        \n",
    "        step_idx = 0\n",
    "        \n",
    "        prefill_iter = iter(StepRollout(train_env, rand_agent))\n",
    "        for _ in range(self.prefill):\n",
    "            _ = next(prefill_iter)\n",
    "                \n",
    "        def train_step():\n",
    "            nonlocal step_idx\n",
    "            \n",
    "            _ = next(env_interaction)\n",
    "            \n",
    "            batch: StepBatch = next(batch_iter)\n",
    "            batch = batch.to(self.device)\n",
    "            \n",
    "            with torch.autocast(device_type=self.device.type, dtype=amp_dtype, \n",
    "                                enabled=amp_enabled):\n",
    "                batch_loss = loss(dqn, batch, self.gamma)\n",
    "            \n",
    "            optim.zero_grad(set_to_none=True)\n",
    "            scaler.scale(batch_loss).backward()\n",
    "            if self.clip_grad is not None:\n",
    "                nn.utils.clip_grad.clip_grad_value_(\n",
    "                    dqn.Q.parameters(), self.clip_grad\n",
    "                )\n",
    "            scaler.step(optim)\n",
    "            \n",
    "            polyak.step() \n",
    "            eps_sched.step()\n",
    "            scaler.update()\n",
    "            \n",
    "            board.add_scalar(\"train/loss\", batch_loss, step=step_idx)\n",
    "            board.add_scalar(\"train/eps\", eps_sched.cur_eps,\n",
    "                                   step=step_idx)\n",
    "            board.add_scalar(\"train/buffer\", len(replay_buffer),\n",
    "                                   step=step_idx)\n",
    "        \n",
    "            step_idx += 1\n",
    "            pbar.update()\n",
    "        \n",
    "        def val_epoch():\n",
    "            val_ep_returns = []\n",
    "            val_pbar = tqdm(total=self.val_episodes, position=1, leave=False, \n",
    "                            desc=\"Val\", disable=not self.pbar_enabled)\n",
    "            \n",
    "            for ep_idx in range(self.val_episodes):\n",
    "                cur_env = val_env\n",
    "                if ep_idx == 0:\n",
    "                    cur_env = RenderCollection(cur_env)\n",
    "                \n",
    "                val_ep_iter = EpisodeRollout(cur_env, val_agent, num_episodes=1)\n",
    "                val_ep = next(iter(val_ep_iter))\n",
    "                ep_R = sum(val_ep.reward)\n",
    "                val_ep_returns.append(ep_R)\n",
    "                \n",
    "                if ep_idx == 0:\n",
    "                    video = cur_env.frame_list\n",
    "                    video_fps = cur_env.metadata.get(\"render_fps\", 30.0)\n",
    "                    board.add_video(\"val/video\", video, step=step_idx, fps=video_fps)\n",
    "                \n",
    "                val_pbar.update()\n",
    "\n",
    "            val_ep_returns = np.array(val_ep_returns)\n",
    "            board.add_scalar(\"val/returns\", val_ep_returns.mean(), step=step_idx)\n",
    "        \n",
    "        while True:\n",
    "            if step_idx % self.val_every_steps == 0:\n",
    "                val_epoch()\n",
    "            \n",
    "            if step_idx >= self.train_steps:\n",
    "                break\n",
    "            \n",
    "            train_step()"
   ]
  },
  {
   "cell_type": "code",
   "execution_count": 6,
   "metadata": {},
   "outputs": [
    {
     "data": {
      "application/vnd.jupyter.widget-view+json": {
       "model_id": "d312699de95e457c88bb755543e77a96",
       "version_major": 2,
       "version_minor": 0
      },
      "text/plain": [
       "DQN: 0it [00:00, ?it/s]"
      ]
     },
     "metadata": {},
     "output_type": "display_data"
    },
    {
     "data": {
      "application/vnd.jupyter.widget-view+json": {
       "model_id": "8fb7904ae4534185be81ae24255c493a",
       "version_major": 2,
       "version_minor": 0
      },
      "text/plain": [
       "Val:   0%|          | 0/32 [00:00<?, ?it/s]"
      ]
     },
     "metadata": {},
     "output_type": "display_data"
    },
    {
     "data": {
      "application/vnd.jupyter.widget-view+json": {
       "model_id": "e8c2df419681415ab7cf31d9b0159462",
       "version_major": 2,
       "version_minor": 0
      },
      "text/plain": [
       "Val:   0%|          | 0/32 [00:00<?, ?it/s]"
      ]
     },
     "metadata": {},
     "output_type": "display_data"
    },
    {
     "data": {
      "application/vnd.jupyter.widget-view+json": {
       "model_id": "0ba1ed7f5ce1437ab84c2321219b5cc5",
       "version_major": 2,
       "version_minor": 0
      },
      "text/plain": [
       "Val:   0%|          | 0/32 [00:00<?, ?it/s]"
      ]
     },
     "metadata": {},
     "output_type": "display_data"
    },
    {
     "data": {
      "application/vnd.jupyter.widget-view+json": {
       "model_id": "7df6f461cb9c4f0f8e82a6daba5bf38e",
       "version_major": 2,
       "version_minor": 0
      },
      "text/plain": [
       "Val:   0%|          | 0/32 [00:00<?, ?it/s]"
      ]
     },
     "metadata": {},
     "output_type": "display_data"
    },
    {
     "data": {
      "application/vnd.jupyter.widget-view+json": {
       "model_id": "8a32817498c94ca79e7d1dcd23452ed2",
       "version_major": 2,
       "version_minor": 0
      },
      "text/plain": [
       "Val:   0%|          | 0/32 [00:00<?, ?it/s]"
      ]
     },
     "metadata": {},
     "output_type": "display_data"
    },
    {
     "data": {
      "application/vnd.jupyter.widget-view+json": {
       "model_id": "60cbb4432cc14011a24afe2d4d6dca7e",
       "version_major": 2,
       "version_minor": 0
      },
      "text/plain": [
       "Val:   0%|          | 0/32 [00:00<?, ?it/s]"
      ]
     },
     "metadata": {},
     "output_type": "display_data"
    },
    {
     "data": {
      "application/vnd.jupyter.widget-view+json": {
       "model_id": "471a3299b07346e2a1177bea726d3ba4",
       "version_major": 2,
       "version_minor": 0
      },
      "text/plain": [
       "Val:   0%|          | 0/32 [00:00<?, ?it/s]"
      ]
     },
     "metadata": {},
     "output_type": "display_data"
    },
    {
     "data": {
      "application/vnd.jupyter.widget-view+json": {
       "model_id": "421f36114dc0497fb3083ed44012c9a9",
       "version_major": 2,
       "version_minor": 0
      },
      "text/plain": [
       "Val:   0%|          | 0/32 [00:00<?, ?it/s]"
      ]
     },
     "metadata": {},
     "output_type": "display_data"
    },
    {
     "data": {
      "application/vnd.jupyter.widget-view+json": {
       "model_id": "6262b6196f984af2a3c05e031020a5ac",
       "version_major": 2,
       "version_minor": 0
      },
      "text/plain": [
       "Val:   0%|          | 0/32 [00:00<?, ?it/s]"
      ]
     },
     "metadata": {},
     "output_type": "display_data"
    },
    {
     "data": {
      "application/vnd.jupyter.widget-view+json": {
       "model_id": "a81738b65d16480295092c02b1089d5f",
       "version_major": 2,
       "version_minor": 0
      },
      "text/plain": [
       "Val:   0%|          | 0/32 [00:00<?, ?it/s]"
      ]
     },
     "metadata": {},
     "output_type": "display_data"
    },
    {
     "data": {
      "application/vnd.jupyter.widget-view+json": {
       "model_id": "14b54cb6145c49d280a3750efaba9a24",
       "version_major": 2,
       "version_minor": 0
      },
      "text/plain": [
       "Val:   0%|          | 0/32 [00:00<?, ?it/s]"
      ]
     },
     "metadata": {},
     "output_type": "display_data"
    },
    {
     "data": {
      "application/vnd.jupyter.widget-view+json": {
       "model_id": "f1e1c3fc94874e67964dd142ba6e9022",
       "version_major": 2,
       "version_minor": 0
      },
      "text/plain": [
       "Val:   0%|          | 0/32 [00:00<?, ?it/s]"
      ]
     },
     "metadata": {},
     "output_type": "display_data"
    },
    {
     "data": {
      "application/vnd.jupyter.widget-view+json": {
       "model_id": "77b35b0997ef442a97f8f89cdd2cfc57",
       "version_major": 2,
       "version_minor": 0
      },
      "text/plain": [
       "Val:   0%|          | 0/32 [00:00<?, ?it/s]"
      ]
     },
     "metadata": {},
     "output_type": "display_data"
    },
    {
     "data": {
      "application/vnd.jupyter.widget-view+json": {
       "model_id": "9b9a1c54af5f47d88f1773041da6bc00",
       "version_major": 2,
       "version_minor": 0
      },
      "text/plain": [
       "Val:   0%|          | 0/32 [00:00<?, ?it/s]"
      ]
     },
     "metadata": {},
     "output_type": "display_data"
    },
    {
     "data": {
      "application/vnd.jupyter.widget-view+json": {
       "model_id": "7c28af244de240ab88d4afbf57790ded",
       "version_major": 2,
       "version_minor": 0
      },
      "text/plain": [
       "Val:   0%|          | 0/32 [00:00<?, ?it/s]"
      ]
     },
     "metadata": {},
     "output_type": "display_data"
    },
    {
     "data": {
      "application/vnd.jupyter.widget-view+json": {
       "model_id": "bd56c783f1844f94a0e592fe2c3a9c5c",
       "version_major": 2,
       "version_minor": 0
      },
      "text/plain": [
       "Val:   0%|          | 0/32 [00:00<?, ?it/s]"
      ]
     },
     "metadata": {},
     "output_type": "display_data"
    },
    {
     "data": {
      "application/vnd.jupyter.widget-view+json": {
       "model_id": "43510b1e19a648418cff9bda86e2c077",
       "version_major": 2,
       "version_minor": 0
      },
      "text/plain": [
       "Val:   0%|          | 0/32 [00:00<?, ?it/s]"
      ]
     },
     "metadata": {},
     "output_type": "display_data"
    },
    {
     "data": {
      "application/vnd.jupyter.widget-view+json": {
       "model_id": "9d6cd9c63c814d78a141e993feb61012",
       "version_major": 2,
       "version_minor": 0
      },
      "text/plain": [
       "Val:   0%|          | 0/32 [00:00<?, ?it/s]"
      ]
     },
     "metadata": {},
     "output_type": "display_data"
    },
    {
     "data": {
      "application/vnd.jupyter.widget-view+json": {
       "model_id": "48f126bafd07440d8cadd880f96f32e7",
       "version_major": 2,
       "version_minor": 0
      },
      "text/plain": [
       "Val:   0%|          | 0/32 [00:00<?, ?it/s]"
      ]
     },
     "metadata": {},
     "output_type": "display_data"
    },
    {
     "data": {
      "application/vnd.jupyter.widget-view+json": {
       "model_id": "e25bf732c7fd4855861a5fe8110243a3",
       "version_major": 2,
       "version_minor": 0
      },
      "text/plain": [
       "Val:   0%|          | 0/32 [00:00<?, ?it/s]"
      ]
     },
     "metadata": {},
     "output_type": "display_data"
    },
    {
     "data": {
      "application/vnd.jupyter.widget-view+json": {
       "model_id": "e2a1e54e19644326931f0ced3ec06484",
       "version_major": 2,
       "version_minor": 0
      },
      "text/plain": [
       "Val:   0%|          | 0/32 [00:00<?, ?it/s]"
      ]
     },
     "metadata": {},
     "output_type": "display_data"
    },
    {
     "data": {
      "application/vnd.jupyter.widget-view+json": {
       "model_id": "75d56e08ca2049089ae9820cede125eb",
       "version_major": 2,
       "version_minor": 0
      },
      "text/plain": [
       "Val:   0%|          | 0/32 [00:00<?, ?it/s]"
      ]
     },
     "metadata": {},
     "output_type": "display_data"
    },
    {
     "data": {
      "application/vnd.jupyter.widget-view+json": {
       "model_id": "4049da5487a84f6abb63d4d6fb4bd3a3",
       "version_major": 2,
       "version_minor": 0
      },
      "text/plain": [
       "Val:   0%|          | 0/32 [00:00<?, ?it/s]"
      ]
     },
     "metadata": {},
     "output_type": "display_data"
    },
    {
     "data": {
      "application/vnd.jupyter.widget-view+json": {
       "model_id": "cd1b663342534758b75ed77d1b12a3af",
       "version_major": 2,
       "version_minor": 0
      },
      "text/plain": [
       "Val:   0%|          | 0/32 [00:00<?, ?it/s]"
      ]
     },
     "metadata": {},
     "output_type": "display_data"
    },
    {
     "data": {
      "application/vnd.jupyter.widget-view+json": {
       "model_id": "137defefc5e24baaa9ee3df0521eb3ed",
       "version_major": 2,
       "version_minor": 0
      },
      "text/plain": [
       "Val:   0%|          | 0/32 [00:00<?, ?it/s]"
      ]
     },
     "metadata": {},
     "output_type": "display_data"
    },
    {
     "data": {
      "application/vnd.jupyter.widget-view+json": {
       "model_id": "c31d0c784fa4426591da772668efff39",
       "version_major": 2,
       "version_minor": 0
      },
      "text/plain": [
       "Val:   0%|          | 0/32 [00:00<?, ?it/s]"
      ]
     },
     "metadata": {},
     "output_type": "display_data"
    },
    {
     "data": {
      "application/vnd.jupyter.widget-view+json": {
       "model_id": "1402aa3a5e1c41a0b52950f495c84678",
       "version_major": 2,
       "version_minor": 0
      },
      "text/plain": [
       "Val:   0%|          | 0/32 [00:00<?, ?it/s]"
      ]
     },
     "metadata": {},
     "output_type": "display_data"
    },
    {
     "data": {
      "application/vnd.jupyter.widget-view+json": {
       "model_id": "8370a9ec61bf4956bf34699f9d33c30d",
       "version_major": 2,
       "version_minor": 0
      },
      "text/plain": [
       "Val:   0%|          | 0/32 [00:00<?, ?it/s]"
      ]
     },
     "metadata": {},
     "output_type": "display_data"
    },
    {
     "data": {
      "application/vnd.jupyter.widget-view+json": {
       "model_id": "bfb2381e98864ca7a392f78650a4f2f2",
       "version_major": 2,
       "version_minor": 0
      },
      "text/plain": [
       "Val:   0%|          | 0/32 [00:00<?, ?it/s]"
      ]
     },
     "metadata": {},
     "output_type": "display_data"
    },
    {
     "data": {
      "application/vnd.jupyter.widget-view+json": {
       "model_id": "ae9f7ae86dfd42a48b8709cd6484911e",
       "version_major": 2,
       "version_minor": 0
      },
      "text/plain": [
       "Val:   0%|          | 0/32 [00:00<?, ?it/s]"
      ]
     },
     "metadata": {},
     "output_type": "display_data"
    },
    {
     "data": {
      "application/vnd.jupyter.widget-view+json": {
       "model_id": "4280b78871fb485c9ed1f6e20dfed1e9",
       "version_major": 2,
       "version_minor": 0
      },
      "text/plain": [
       "Val:   0%|          | 0/32 [00:00<?, ?it/s]"
      ]
     },
     "metadata": {},
     "output_type": "display_data"
    },
    {
     "data": {
      "application/vnd.jupyter.widget-view+json": {
       "model_id": "f11dbecab7084e7e85c79c55ebbc3437",
       "version_major": 2,
       "version_minor": 0
      },
      "text/plain": [
       "Val:   0%|          | 0/32 [00:00<?, ?it/s]"
      ]
     },
     "metadata": {},
     "output_type": "display_data"
    },
    {
     "data": {
      "application/vnd.jupyter.widget-view+json": {
       "model_id": "c0d40cb8871f4bd39a48656300890d02",
       "version_major": 2,
       "version_minor": 0
      },
      "text/plain": [
       "Val:   0%|          | 0/32 [00:00<?, ?it/s]"
      ]
     },
     "metadata": {},
     "output_type": "display_data"
    },
    {
     "data": {
      "application/vnd.jupyter.widget-view+json": {
       "model_id": "57b8ff5d36f443658745c504bc95a3b8",
       "version_major": 2,
       "version_minor": 0
      },
      "text/plain": [
       "Val:   0%|          | 0/32 [00:00<?, ?it/s]"
      ]
     },
     "metadata": {},
     "output_type": "display_data"
    },
    {
     "data": {
      "application/vnd.jupyter.widget-view+json": {
       "model_id": "0e13f37ae8374cfe9c55bc09f05dc6ee",
       "version_major": 2,
       "version_minor": 0
      },
      "text/plain": [
       "Val:   0%|          | 0/32 [00:00<?, ?it/s]"
      ]
     },
     "metadata": {},
     "output_type": "display_data"
    },
    {
     "data": {
      "application/vnd.jupyter.widget-view+json": {
       "model_id": "b0f8f1ce2c524ddeb6199df84937c457",
       "version_major": 2,
       "version_minor": 0
      },
      "text/plain": [
       "Val:   0%|          | 0/32 [00:00<?, ?it/s]"
      ]
     },
     "metadata": {},
     "output_type": "display_data"
    },
    {
     "data": {
      "application/vnd.jupyter.widget-view+json": {
       "model_id": "49ea65c29d864da0b99fcb22ea249ac5",
       "version_major": 2,
       "version_minor": 0
      },
      "text/plain": [
       "Val:   0%|          | 0/32 [00:00<?, ?it/s]"
      ]
     },
     "metadata": {},
     "output_type": "display_data"
    },
    {
     "data": {
      "application/vnd.jupyter.widget-view+json": {
       "model_id": "47717cbe521e4747ac2e0e1cecb16d34",
       "version_major": 2,
       "version_minor": 0
      },
      "text/plain": [
       "Val:   0%|          | 0/32 [00:00<?, ?it/s]"
      ]
     },
     "metadata": {},
     "output_type": "display_data"
    },
    {
     "data": {
      "application/vnd.jupyter.widget-view+json": {
       "model_id": "2d7d762223154ba49e7a1cc13ca2770b",
       "version_major": 2,
       "version_minor": 0
      },
      "text/plain": [
       "Val:   0%|          | 0/32 [00:00<?, ?it/s]"
      ]
     },
     "metadata": {},
     "output_type": "display_data"
    },
    {
     "data": {
      "application/vnd.jupyter.widget-view+json": {
       "model_id": "521b432fadd449568c3d0832ba2d5581",
       "version_major": 2,
       "version_minor": 0
      },
      "text/plain": [
       "Val:   0%|          | 0/32 [00:00<?, ?it/s]"
      ]
     },
     "metadata": {},
     "output_type": "display_data"
    },
    {
     "ename": "KeyboardInterrupt",
     "evalue": "",
     "output_type": "error",
     "traceback": [
      "\u001b[0;31m---------------------------------------------------------------------------\u001b[0m",
      "\u001b[0;31mKeyboardInterrupt\u001b[0m                         Traceback (most recent call last)",
      "Cell \u001b[0;32mIn[6], line 5\u001b[0m\n\u001b[1;32m      2\u001b[0m dqn \u001b[39m=\u001b[39m DQN(dqn_data\u001b[39m.\u001b[39mval_env())\n\u001b[1;32m      3\u001b[0m trainer \u001b[39m=\u001b[39m DQNTrainer()\n\u001b[0;32m----> 5\u001b[0m trainer\u001b[39m.\u001b[39;49mtrain(dqn, dqn_data)\n",
      "Cell \u001b[0;32mIn[5], line 138\u001b[0m, in \u001b[0;36mDQNTrainer.train\u001b[0;34m(self, dqn, dqn_data)\u001b[0m\n\u001b[1;32m    135\u001b[0m \u001b[39mif\u001b[39;00m step_idx \u001b[39m>\u001b[39m\u001b[39m=\u001b[39m \u001b[39mself\u001b[39m\u001b[39m.\u001b[39mtrain_steps:\n\u001b[1;32m    136\u001b[0m     \u001b[39mbreak\u001b[39;00m\n\u001b[0;32m--> 138\u001b[0m train_step()\n",
      "Cell \u001b[0;32mIn[5], line 83\u001b[0m, in \u001b[0;36mDQNTrainer.train.<locals>.train_step\u001b[0;34m()\u001b[0m\n\u001b[1;32m     79\u001b[0m batch \u001b[39m=\u001b[39m batch\u001b[39m.\u001b[39mto(\u001b[39mself\u001b[39m\u001b[39m.\u001b[39mdevice)\n\u001b[1;32m     81\u001b[0m \u001b[39mwith\u001b[39;00m torch\u001b[39m.\u001b[39mautocast(device_type\u001b[39m=\u001b[39m\u001b[39mself\u001b[39m\u001b[39m.\u001b[39mdevice\u001b[39m.\u001b[39mtype, dtype\u001b[39m=\u001b[39mamp_dtype, \n\u001b[1;32m     82\u001b[0m                     enabled\u001b[39m=\u001b[39mamp_enabled):\n\u001b[0;32m---> 83\u001b[0m     batch_loss \u001b[39m=\u001b[39m loss(dqn, batch, \u001b[39mself\u001b[39;49m\u001b[39m.\u001b[39;49mgamma)\n\u001b[1;32m     85\u001b[0m optim\u001b[39m.\u001b[39mzero_grad(set_to_none\u001b[39m=\u001b[39m\u001b[39mTrue\u001b[39;00m)\n\u001b[1;32m     86\u001b[0m scaler\u001b[39m.\u001b[39mscale(batch_loss)\u001b[39m.\u001b[39mbackward()\n",
      "Cell \u001b[0;32mIn[4], line 24\u001b[0m, in \u001b[0;36mDQNLoss.__call__\u001b[0;34m(self, dqn, batch, gamma)\u001b[0m\n\u001b[1;32m     21\u001b[0m done \u001b[39m=\u001b[39m batch\u001b[39m.\u001b[39mterm \u001b[39m|\u001b[39m batch\u001b[39m.\u001b[39mtrunc\n\u001b[1;32m     22\u001b[0m targets \u001b[39m=\u001b[39m batch\u001b[39m.\u001b[39mreward \u001b[39m+\u001b[39m (\u001b[39m1.0\u001b[39m \u001b[39m-\u001b[39m done\u001b[39m.\u001b[39mfloat()) \u001b[39m*\u001b[39m gamma \u001b[39m*\u001b[39m next_V\n\u001b[0;32m---> 24\u001b[0m \u001b[39mreturn\u001b[39;00m nn\u001b[39m.\u001b[39;49mfunctional\u001b[39m.\u001b[39;49msmooth_l1_loss(preds, targets)\n",
      "File \u001b[0;32m~/mambaforge/envs/rsrch/lib/python3.10/site-packages/torch/nn/functional.py:3203\u001b[0m, in \u001b[0;36msmooth_l1_loss\u001b[0;34m(input, target, size_average, reduce, reduction, beta)\u001b[0m\n\u001b[1;32m   3200\u001b[0m     reduction \u001b[39m=\u001b[39m _Reduction\u001b[39m.\u001b[39mlegacy_get_string(size_average, reduce)\n\u001b[1;32m   3202\u001b[0m expanded_input, expanded_target \u001b[39m=\u001b[39m torch\u001b[39m.\u001b[39mbroadcast_tensors(\u001b[39minput\u001b[39m, target)\n\u001b[0;32m-> 3203\u001b[0m \u001b[39mreturn\u001b[39;00m torch\u001b[39m.\u001b[39;49m_C\u001b[39m.\u001b[39;49m_nn\u001b[39m.\u001b[39;49msmooth_l1_loss(expanded_input, expanded_target, _Reduction\u001b[39m.\u001b[39;49mget_enum(reduction), beta)\n",
      "\u001b[0;31mKeyboardInterrupt\u001b[0m: "
     ]
    },
    {
     "ename": "",
     "evalue": "",
     "output_type": "error",
     "traceback": [
      "\u001b[1;31mThe Kernel crashed while executing code in the the current cell or a previous cell. Please review the code in the cell(s) to identify a possible cause of the failure. Click <a href='https://aka.ms/vscodeJupyterKernelCrash'>here</a> for more info. View Jupyter <a href='command:jupyter.viewOutput'>log</a> for further details."
     ]
    }
   ],
   "source": [
    "dqn_data = DQNData()\n",
    "dqn = DQN(dqn_data.val_env())\n",
    "trainer = DQNTrainer()\n",
    "\n",
    "trainer.train(dqn, dqn_data)"
   ]
  }
 ],
 "metadata": {
  "kernelspec": {
   "display_name": "rsrch",
   "language": "python",
   "name": "python3"
  },
  "language_info": {
   "codemirror_mode": {
    "name": "ipython",
    "version": 3
   },
   "file_extension": ".py",
   "mimetype": "text/x-python",
   "name": "python",
   "nbconvert_exporter": "python",
   "pygments_lexer": "ipython3",
   "version": "3.10.10"
  },
  "orig_nbformat": 4
 },
 "nbformat": 4,
 "nbformat_minor": 2
}
