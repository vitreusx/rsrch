{
 "cells": [
  {
   "cell_type": "code",
   "execution_count": null,
   "metadata": {},
   "outputs": [],
   "source": [
    "from typing import Protocol\n",
    "from contextlib import contextmanager\n",
    "from functools import wraps\n",
    "\n",
    "class Profiler:\n",
    "    @contextmanager\n",
    "    def profile(self, name: str):\n",
    "        yield\n",
    "    \n",
    "    @property\n",
    "    def results(self):\n",
    "        return {}\n",
    "\n",
    "\n",
    "def profile(_func=None, *, name=None):\n",
    "    def _decorator(func):\n",
    "        if name is None:\n",
    "            name = func.__qualname__\n",
    "        \n",
    "        @wraps(func)\n",
    "        def _wrapper(self, *args, **kwargs):\n",
    "            with self.profiler.profile(name=name):\n",
    "                return func(*args, **kwargs)\n",
    "        \n",
    "        return _wrapper\n",
    "    \n",
    "    return _decorator if _func is None else _decorator(_func)"
   ]
  },
  {
   "cell_type": "code",
   "execution_count": null,
   "metadata": {},
   "outputs": [],
   "source": [
    "from torch import Tensor\n",
    "import torch.distributions as D\n",
    "import torch.distributions.constraints as constraints\n",
    "\n",
    "class _OneOf(constraints.Constraint):\n",
    "    is_discrete = True\n",
    "    \n",
    "    def __init__(self, value_set: Tensor):\n",
    "        super().__init__()\n",
    "        self.value_set = value_set\n",
    "    \n",
    "    def check(self, value):\n",
    "        return (value in self.value_set)\n",
    "\n",
    "one_of = _OneOf\n",
    "\n",
    "class Particle(D.Distribution):\n",
    "    def __init__(self, supp: Tensor, index: D.Distribution):\n",
    "        super().__init__(batch_shape=index.batch_shape, event_shape=index.event_shape)\n",
    "        \n",
    "        self.index = index\n",
    "        self.supp = supp\n",
    "    \n",
    "    @constraints.dependent_property(is_discrete=True, event_dim=0)\n",
    "    def support(self):\n",
    "        return one_of(self.supp)\n",
    "    \n",
    "    "
   ]
  },
  {
   "cell_type": "code",
   "execution_count": 2,
   "metadata": {},
   "outputs": [
    {
     "data": {
      "text/plain": [
       "tensor([[ 6.2937e+35,  4.5731e-41, -3.2200e+17],\n",
       "        [ 6.2937e+35,  4.5731e-41, -3.2200e+17]])"
      ]
     },
     "execution_count": 2,
     "metadata": {},
     "output_type": "execute_result"
    }
   ],
   "source": [
    "import torch\n",
    "\n",
    "x = torch.empty(1, 3)\n",
    "x.broadcast_to(2, *x.shape[1:])"
   ]
  },
  {
   "cell_type": "code",
   "execution_count": 1,
   "metadata": {},
   "outputs": [],
   "source": [
    "from rsrch.rl.agent import RandomAgent\n",
    "from rsrch.rl.wrappers import CollectEpisodes\n",
    "from rsrch.rl.data.buffer import EpisodeBuffer\n",
    "from rsrch.rl.data.transforms import *\n",
    "from rsrch.rl.data.online import StepRollout\n",
    "import gymnasium as gym\n",
    "\n",
    "env = gym.make(\"CartPole-v1\")\n",
    "buf = EpisodeBuffer(int(1e3))\n",
    "env = CollectEpisodes(env, buf)\n",
    "\n",
    "ds = buf.map(Compose(\n",
    "    Subsample(max_seq_len=32),\n",
    "    ToTensorSeq(),\n",
    "    PadTensorSeq(min_seq_len=32)\n",
    "))\n",
    "\n",
    "agent = RandomAgent(env)\n",
    "play = StepRollout(env, agent, num_steps=int(1e4))\n",
    "\n",
    "for _ in play:\n",
    "    ..."
   ]
  },
  {
   "cell_type": "code",
   "execution_count": 13,
   "metadata": {},
   "outputs": [
    {
     "data": {
      "text/plain": [
       "TensorTrajectory(obs=tensor([[-7.4647e-03, -6.6075e-03, -1.7085e-02,  3.4957e-02],\n",
       "        [-7.5968e-03, -2.0148e-01, -1.6386e-02,  3.2220e-01],\n",
       "        [-1.1626e-02, -3.9637e-01, -9.9419e-03,  6.0967e-01],\n",
       "        [-1.9554e-02, -2.0111e-01,  2.2515e-03,  3.1387e-01],\n",
       "        [-2.3576e-02, -6.0158e-03,  8.5290e-03,  2.1902e-02],\n",
       "        [-2.3696e-02, -2.0126e-01,  8.9670e-03,  3.1726e-01],\n",
       "        [-2.7721e-02, -6.2659e-03,  1.5312e-02,  2.7422e-02],\n",
       "        [-2.7847e-02, -2.0160e-01,  1.5861e-02,  3.2490e-01],\n",
       "        [-3.1879e-02, -6.7115e-03,  2.2359e-02,  3.7257e-02],\n",
       "        [-3.2013e-02,  1.8808e-01,  2.3104e-02, -2.4829e-01],\n",
       "        [-2.8251e-02, -7.3614e-03,  1.8138e-02,  5.1591e-02],\n",
       "        [-2.8399e-02,  1.8750e-01,  1.9170e-02, -2.3531e-01],\n",
       "        [-2.4649e-02, -7.8947e-03,  1.4464e-02,  6.3353e-02],\n",
       "        [-2.4807e-02,  1.8702e-01,  1.5731e-02, -2.2473e-01],\n",
       "        [-2.1066e-02,  3.8191e-01,  1.1236e-02, -5.1241e-01],\n",
       "        [-1.3428e-02,  1.8663e-01,  9.8776e-04, -2.1621e-01],\n",
       "        [-9.6953e-03,  3.8174e-01, -3.3364e-03, -5.0858e-01],\n",
       "        [-2.0605e-03,  5.7691e-01, -1.3508e-02, -8.0231e-01],\n",
       "        [ 9.4776e-03,  3.8197e-01, -2.9554e-02, -5.1391e-01],\n",
       "        [ 1.7117e-02,  5.7750e-01, -3.9832e-02, -8.1576e-01],\n",
       "        [ 2.8667e-02,  3.8295e-01, -5.6148e-02, -5.3586e-01],\n",
       "        [ 3.6326e-02,  1.8866e-01, -6.6865e-02, -2.6139e-01],\n",
       "        [ 4.0099e-02, -5.4507e-03, -7.2093e-02,  9.4781e-03],\n",
       "        [ 3.9990e-02,  1.9063e-01, -7.1903e-02, -3.0505e-01],\n",
       "        [ 4.3803e-02, -3.4004e-03, -7.8004e-02, -3.5884e-02],\n",
       "        [ 4.3735e-02, -1.9732e-01, -7.8722e-02,  2.3120e-01],\n",
       "        [ 3.9788e-02, -3.9124e-01, -7.4098e-02,  4.9805e-01],\n",
       "        [ 3.1964e-02, -5.8524e-01, -6.4137e-02,  7.6650e-01],\n",
       "        [ 2.0259e-02, -7.7942e-01, -4.8807e-02,  1.0383e+00],\n",
       "        [ 4.6703e-03, -5.8369e-01, -2.8040e-02,  7.3073e-01],\n",
       "        [-7.0035e-03, -7.7841e-01, -1.3425e-02,  1.0145e+00],\n",
       "        [-2.2572e-02, -9.7335e-01,  6.8637e-03,  1.3029e+00]]), act=tensor([0, 0, 1, 1, 0, 1, 0, 1, 1, 0, 1, 0, 1, 1, 0, 1, 1, 0, 1, 0, 0, 0, 1, 0,\n",
       "        0, 0, 0, 0, 1, 0, 0, 0]), reward=tensor([1., 1., 1., 1., 1., 1., 1., 1., 1., 1., 1., 1., 1., 1., 1., 1., 1., 1.,\n",
       "        1., 1., 1., 1., 1., 1., 1., 1., 1., 1., 1., 1., 1., 1.]), term=True, trunc=False)"
      ]
     },
     "execution_count": 13,
     "metadata": {},
     "output_type": "execute_result"
    }
   ],
   "source": [
    "ds[5]"
   ]
  },
  {
   "cell_type": "code",
   "execution_count": 1,
   "metadata": {},
   "outputs": [
    {
     "data": {
      "text/plain": [
       "tensor([-inf, -inf, -inf, -inf, -inf, -inf, -inf, -inf, -inf, -inf])"
      ]
     },
     "execution_count": 1,
     "metadata": {},
     "output_type": "execute_result"
    }
   ],
   "source": [
    "import torch\n",
    "\n",
    "logits = torch.ones(10) * (-torch.inf)\n",
    "logits[3] = 1.0\n",
    "\n",
    "Ix = torch.distributions.Ca"
   ]
  },
  {
   "cell_type": "code",
   "execution_count": 41,
   "metadata": {},
   "outputs": [],
   "source": [
    "import numpy as np\n",
    "\n",
    "class SegmentArray:\n",
    "    def __init__(self, min_size: int, dtype=np.float32):\n",
    "        exp = int(np.ceil(np.log2(min_size)))\n",
    "        self.size = 2 ** exp\n",
    "        self.array = np.zeros(self.size, dtype=dtype)\n",
    "        self.tree = np.zeros(self.size, dtype=dtype)\n",
    "    \n",
    "    def __getitem__(self, idx):\n",
    "        return self.array[idx]\n",
    "    \n",
    "    def __setitem__(self, idx: np.ndarray, val: np.ndarray):\n",
    "        if isinstance(idx, slice):\n",
    "            idx = np.arange(idx.start, idx.stop, idx.step)\n",
    "        else:\n",
    "            idx = np.asarray(idx)\n",
    "        val = np.asarray(val)\n",
    "        \n",
    "        self.array[idx] = val\n",
    "        self._update_tree(idx, val, 0, self.buf[0], 0, self.size)\n",
    "    \n",
    "    def _update_tree(self, idxes, values, root, root_v, root_beg, root_end):\n",
    "        print(locals())\n",
    "        is_leaf = (root >= self.size - 1)\n",
    "        holds_v = root == 0 or root % 2 != 0\n",
    "        \n",
    "        if is_leaf:\n",
    "            if holds_v:\n",
    "                self.tree[(root + 1) // 2] = values[0]\n",
    "            return values[0] - root_v\n",
    "        else:\n",
    "            left, right = 2 * root + 1, 2 * root + 2\n",
    "            left_v = self.tree[(left + 1) // 2]\n",
    "            right_v = root_v - left_v\n",
    "            pivot = (root_end + root_beg) // 2\n",
    "            pivot_idx = np.searchsorted(idxes, pivot)\n",
    "            \n",
    "            if pivot_idx > 0:\n",
    "                left_dv = self._update_tree(idxes[:pivot_idx], values[:pivot_idx],\n",
    "                                            left, left_v, root_beg, pivot)\n",
    "            else:\n",
    "                left_dv = 0.0\n",
    "                \n",
    "            if pivot_idx < len(idxes):\n",
    "                right_dv = self._update_tree(idxes[pivot_idx:], values[pivot_idx:],\n",
    "                                            right, right_v, pivot, root_end)\n",
    "            else:\n",
    "                right_dv = 0.0\n",
    "            \n",
    "            dv = left_dv + right_dv\n",
    "            if holds_v:\n",
    "                self.tree[(root + 1) // 2] = root_v + dv\n",
    "            \n",
    "            return dv\n",
    "    \n",
    "    def _refresh(self):\n",
    "        full_tree = np.empty(2 * self.size - 1, dtype=self.array.dtype)\n",
    "        full_tree[self.size-1:] = self.array\n",
    "        \n",
    "        for root in reversed(range(2 * self.size - 1)):\n",
    "            \n",
    "        "
   ]
  },
  {
   "cell_type": "code",
   "execution_count": 46,
   "metadata": {},
   "outputs": [
    {
     "data": {
      "text/plain": [
       "array([0, 3, 2, 4])"
      ]
     },
     "execution_count": 46,
     "metadata": {},
     "output_type": "execute_result"
    }
   ],
   "source": [
    "x = np.array([0, 3, -1, 2])\n",
    "np.cumsum(x)"
   ]
  },
  {
   "cell_type": "code",
   "execution_count": 43,
   "metadata": {},
   "outputs": [
    {
     "name": "stdout",
     "output_type": "stream",
     "text": [
      "{'self': <__main__.SegmentArray object at 0x7fce10d85840>, 'idxes': array([0, 3, 4, 7]), 'values': array([ 0.5, -0.2,  0.4,  0.1]), 'root': 0, 'root_v': 0.0, 'root_beg': 0, 'root_end': 8}\n",
      "{'self': <__main__.SegmentArray object at 0x7fce10d85840>, 'idxes': array([0, 3]), 'values': array([ 0.5, -0.2]), 'root': 1, 'root_v': 0.0, 'root_beg': 0, 'root_end': 4}\n",
      "{'self': <__main__.SegmentArray object at 0x7fce10d85840>, 'idxes': array([0]), 'values': array([0.5]), 'root': 3, 'root_v': 0.0, 'root_beg': 0, 'root_end': 2}\n",
      "{'self': <__main__.SegmentArray object at 0x7fce10d85840>, 'idxes': array([0]), 'values': array([0.5]), 'root': 7, 'root_v': 0.0, 'root_beg': 0, 'root_end': 1}\n",
      "{'self': <__main__.SegmentArray object at 0x7fce10d85840>, 'idxes': array([3]), 'values': array([-0.2]), 'root': 4, 'root_v': 0.0, 'root_beg': 2, 'root_end': 4}\n",
      "{'self': <__main__.SegmentArray object at 0x7fce10d85840>, 'idxes': array([3]), 'values': array([-0.2]), 'root': 10, 'root_v': 0.0, 'root_beg': 3, 'root_end': 4}\n",
      "{'self': <__main__.SegmentArray object at 0x7fce10d85840>, 'idxes': array([4, 7]), 'values': array([0.4, 0.1]), 'root': 2, 'root_v': 0.0, 'root_beg': 4, 'root_end': 8}\n",
      "{'self': <__main__.SegmentArray object at 0x7fce10d85840>, 'idxes': array([4]), 'values': array([0.4]), 'root': 5, 'root_v': 0.0, 'root_beg': 4, 'root_end': 6}\n",
      "{'self': <__main__.SegmentArray object at 0x7fce10d85840>, 'idxes': array([4]), 'values': array([0.4]), 'root': 11, 'root_v': 0.0, 'root_beg': 4, 'root_end': 5}\n",
      "{'self': <__main__.SegmentArray object at 0x7fce10d85840>, 'idxes': array([7]), 'values': array([0.1]), 'root': 6, 'root_v': 0.0, 'root_beg': 6, 'root_end': 8}\n",
      "{'self': <__main__.SegmentArray object at 0x7fce10d85840>, 'idxes': array([7]), 'values': array([0.1]), 'root': 14, 'root_v': 0.0, 'root_beg': 7, 'root_end': 8}\n"
     ]
    },
    {
     "data": {
      "text/plain": [
       "array([ 0.5       ,  0.        ,  0.        , -0.19999999,  0.4       ,\n",
       "        0.        ,  0.        ,  0.09999999], dtype=float32)"
      ]
     },
     "execution_count": 43,
     "metadata": {},
     "output_type": "execute_result"
    }
   ],
   "source": [
    "s = SegmentArray(8)\n",
    "s.update([0, 3, 4, 7], [0.5, -0.2, 0.4, 0.1])\n",
    "s.numpy()"
   ]
  },
  {
   "cell_type": "code",
   "execution_count": 63,
   "metadata": {},
   "outputs": [],
   "source": [
    "class ProportionalSampler:\n",
    "    def __init__(self, size: int, dtype=None, eps=1e-8):\n",
    "        self.size = size\n",
    "        self.eps = eps\n",
    "        self._levels = int(np.ceil(np.log2(self.size)))\n",
    "        self._cap = 2 ** self._levels\n",
    "        self._off = self._cap - 1\n",
    "        self.buf = np.zeros(2 * self._cap - 1, dtype=dtype)\n",
    "    \n",
    "    def __getitem__(self, idx):\n",
    "        idx = self._resolve_idx(idx)\n",
    "        return self.buf[idx]\n",
    "\n",
    "    def _numpy(self):\n",
    "        return self.buf[self._off:self._off+self.size]\n",
    "    \n",
    "    def __setitem__(self, idx, val):\n",
    "        idx = self._resolve_idx(idx)\n",
    "        for i, v in zip(idx, val):\n",
    "            self.buf[i] = np.abs(v) + self.eps\n",
    "            while i > 0:\n",
    "                i = (i - 1) // 2\n",
    "                self.buf[i] = self.buf[2*i+1] + self.buf[2*i+2]\n",
    "\n",
    "    def _resolve_idx(self, idx):\n",
    "        if isinstance(idx, slice):\n",
    "            idx = range(self.size)[idx]\n",
    "            idx = range(idx.start + self._off, idx.stop + self._off, idx.step)\n",
    "        else:\n",
    "            idx = np.asarray(idx) + self._off\n",
    "        return idx\n",
    "    \n",
    "    def _sample(self, u: float):\n",
    "        node = 0\n",
    "        while node < self._off:\n",
    "            left, right = 2*node+1, 2*node+2\n",
    "            left_v = self.buf[left]\n",
    "            if left_v <= u:\n",
    "                node, u = left, u\n",
    "            else:\n",
    "                node, u = right, u - left_v\n",
    "        \n",
    "        idx = node - self._off\n",
    "        prob = u / self.buf[0]\n",
    "        return idx, prob\n",
    "        \n",
    "    def sample(self):\n",
    "        u = np.random.rand() * self.buf[0]\n",
    "        return self._sample(u)\n",
    "\n",
    "    def stratified_sample(self, k: int):\n",
    "        u_batch = (np.arange(k) + np.random.rand(k)) / k * self.buf[0]\n",
    "        return [self._sample(u) for u in u_batch]"
   ]
  },
  {
   "cell_type": "code",
   "execution_count": null,
   "metadata": {},
   "outputs": [],
   "source": []
  }
 ],
 "metadata": {
  "kernelspec": {
   "display_name": "rsrch",
   "language": "python",
   "name": "python3"
  },
  "language_info": {
   "codemirror_mode": {
    "name": "ipython",
    "version": 3
   },
   "file_extension": ".py",
   "mimetype": "text/x-python",
   "name": "python",
   "nbconvert_exporter": "python",
   "pygments_lexer": "ipython3",
   "version": "3.10.10"
  },
  "orig_nbformat": 4
 },
 "nbformat": 4,
 "nbformat_minor": 2
}
